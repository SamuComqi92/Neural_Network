{
 "cells": [
  {
   "cell_type": "markdown",
   "id": "85e6a142-64c7-4dc7-8cc7-bd5e2e564155",
   "metadata": {},
   "source": [
    "# **Neural Network from scratch**\n",
    "\n",
    ".\n",
    "\n",
    "."
   ]
  },
  {
   "cell_type": "code",
   "execution_count": 86,
   "id": "6d71c9cd-591a-450e-afc3-e7c3684dabfd",
   "metadata": {},
   "outputs": [],
   "source": [
    "#Import libraries\n",
    "import numpy as np\n",
    "import pandas as pd\n",
    "import matplotlib.pyplot as plt\n",
    "from sklearn.model_selection import train_test_split\n",
    "from sklearn.preprocessing import MinMaxScaler\n",
    "from sklearn.linear_model import LogisticRegression\n",
    "from sklearn.metrics import confusion_matrix\n",
    "from sklearn.metrics import precision_score,recall_score,f1_score, accuracy_score\n",
    "from sklearn.metrics import precision_recall_curve, roc_auc_score, roc_curve\n",
    "\n",
    "import tensorflow\n",
    "from tensorflow import keras\n",
    "from tensorflow.keras.models import Sequential\n",
    "from tensorflow.keras.layers import Dense, Activation\n",
    "\n",
    "import warnings\n",
    "warnings.filterwarnings(\"ignore\")"
   ]
  },
  {
   "cell_type": "markdown",
   "id": "e1bd6e7b-c838-428a-87eb-37fe70cb879d",
   "metadata": {},
   "source": [
    ".\n",
    "\n",
    "## **Define useful functions**\n",
    "\n",
    "Initializing the weights to zero is not recommended. Andrew Ng (in his the online course about Machine Learning on Coursera) suggests the following initialization:"
   ]
  },
  {
   "cell_type": "code",
   "execution_count": 87,
   "id": "e013be8f-0fd1-4bad-b011-da530ba8e52e",
   "metadata": {},
   "outputs": [],
   "source": [
    "#Random initialization of weights\n",
    "def randw(Lin,Lout) :\n",
    "    np.random.seed(0)\n",
    "    epsilon = (6 / (Lin+Lout))**0.5;\n",
    "    return np.random.rand(Lout,Lin+1)*2*epsilon - epsilon"
   ]
  },
  {
   "cell_type": "markdown",
   "id": "4706153a-cd9b-4d25-944a-1aa06e6fa931",
   "metadata": {},
   "source": [
    ".\n",
    "\n",
    "Different activation functions can be used in a Neural Network."
   ]
  },
  {
   "cell_type": "code",
   "execution_count": 88,
   "id": "2268cbe0-02a3-4bf3-b7f6-3a5c5d05425f",
   "metadata": {},
   "outputs": [],
   "source": [
    "#Activation function\n",
    "def act(a,x) :\n",
    "    if a==\"sigmoid\" :\n",
    "        return 1./(1.+np.exp(-x))\n",
    "    elif a==\"tanh\" :\n",
    "        return np.tanh(x)\n",
    "    elif a==\"relu\" :\n",
    "        return np.where(x>=0,x,0)"
   ]
  },
  {
   "cell_type": "markdown",
   "id": "6766f476-b97b-4599-aee7-b89dfbcc9d16",
   "metadata": {},
   "source": [
    ".\n",
    "\n",
    "The *forward propagation* is useful to fo from the input layer to the output layer."
   ]
  },
  {
   "cell_type": "code",
   "execution_count": 89,
   "id": "c8ecc8f7-4ced-4432-84e9-7e47a190f499",
   "metadata": {},
   "outputs": [],
   "source": [
    "#Forward propagation\n",
    "#Only one function will be applied to the whole net\n",
    "#The function in the last layer is always the Sigmoid (BINARY CLASSIFICATION)\n",
    "def Forward(X,theta1,theta2,function,theta3=None) :\n",
    "    m = X.shape[0]\n",
    "    a2 = act(function,np.dot(theta1,X.T))          #a1=X.T\n",
    "    if theta3 is None :\n",
    "        a3 = act(\"sigmoid\",np.dot(theta2,np.vstack([np.ones((1,m)),a2])))   \n",
    "        return a3.T\n",
    "    else :\n",
    "        a3 = act(function,np.dot(theta2,np.vstack([np.ones((1,m)),a2])))   \n",
    "        a4 = act(\"sigmoid\",np.dot(theta3,np.vstack([np.ones((1,m)),a3])))\n",
    "        return a4.T"
   ]
  },
  {
   "cell_type": "markdown",
   "id": "c5ca2d7a-ee11-42fd-b76a-86b684c66e17",
   "metadata": {},
   "source": [
    ".\n",
    "\n",
    "The Neural Network training requires the full *forward and back propagation* algorithm to optimize the weights by computing the gradient of the cost function."
   ]
  },
  {
   "cell_type": "code",
   "execution_count": 101,
   "id": "06725050-acdd-441c-bf45-48a21b1e5c80",
   "metadata": {},
   "outputs": [],
   "source": [
    "#Forward and Backpropagation\n",
    "#Only one function will be applied to the whole net\n",
    "#The function in the last layer is always the Sigmoid (BINARY CLASSIFICATION)\n",
    "def ForwBack(X,theta1,theta2, yy, function, theta3=None) :\n",
    "    m = X.shape[0]\n",
    "    a2 = act(function,np.dot(theta1,X.T))          #a1=X.T\n",
    "    if theta3 is None :\n",
    "        a3 = act(\"sigmoid\",np.dot(theta2,np.vstack([np.ones((1,m)),a2])))   \n",
    "        d3 = a3-yy.T\n",
    "        if function == \"sigmoid\" :              #Derivative Sigmoid: sigma' = sigma*(1-sigma)\n",
    "            d2 = np.dot(theta2.T,d3) * np.vstack([np.ones((1,m)),a2]) * (1 - np.vstack([np.ones((1,m)),a2]))\n",
    "        elif function == \"tanh\" :               #Derivative Tanh: sigma' = 1-sigma**2\n",
    "            d2 = np.dot(theta2.T,d3) * (1 - (np.vstack([np.ones((1,m)),a2]))**2)\n",
    "        else :                                  #Derivative relu: sigma'= 1 for x>0, 0 elsewhere\n",
    "            d2 = np.dot(theta2.T,d3) * (np.vstack([np.ones((1,m)),np.where(a2>=0,1,0)]))\n",
    "        a4, d4 = 0,0\n",
    "        return a2, a3, a4, d2, d3, d4\n",
    "    else :\n",
    "        a3 = act(function,np.dot(theta2,np.vstack([np.ones((1,m)),a2])))   \n",
    "        a4 = act(\"sigmoid\",np.dot(theta3,np.vstack([np.ones((1,m)),a3])))\n",
    "        d4 = a4-yy.T\n",
    "        if function == \"sigmoid\" :        \n",
    "            d3 = (np.dot(theta3.T,d4) * np.vstack([np.ones((1,m)),a3]) * (1 - np.vstack([np.ones((1,m)),a3])))[1:,:]\n",
    "            d2 = (np.dot(theta2.T,d3) * np.vstack([np.ones((1,m)),a2]) * (1 - np.vstack([np.ones((1,m)),a2])))[1:,:]\n",
    "        elif function == \"tanh\" :               \n",
    "            d3 = (np.dot(theta3.T,d4) * (1 - (np.vstack([np.ones((1,m)),a3]))**2 ))[1:,:]\n",
    "            d2 = (np.dot(theta2.T,d3) * (1 - (np.vstack([np.ones((1,m)),a2]))**2 ))[1:,:]\n",
    "        else :\n",
    "            d3 = (np.dot(theta3.T,d4) * (np.vstack([np.ones((1,m)),np.where(a3>=0,1,0)])))[1:,:]\n",
    "            d2 = (np.dot(theta2.T,d3) * (np.vstack([np.ones((1,m)),np.where(a2>=0,1,0)])))[1:,:]\n",
    "        return a2, a3, a4, d2, d3, d4"
   ]
  },
  {
   "cell_type": "markdown",
   "id": "2cdca62b-1029-49dd-9061-0fcde64813f7",
   "metadata": {},
   "source": [
    ".\n",
    "\n",
    "Finally, it is possible to create the Cost function and its gradient: in this function, the L2 regularization is added in the code."
   ]
  },
  {
   "cell_type": "code",
   "execution_count": 91,
   "id": "e656d10d-9597-45a2-a1d9-9c50297c3306",
   "metadata": {},
   "outputs": [],
   "source": [
    "#Cost function and Gradient\n",
    "def J_Grad(theta1, theta2, X, y, hid_layer1, labels, Lambda, function, theta3 = None, hid_layer2 = None) :\n",
    "    m = X.shape[0]\n",
    "    inputs = X.shape[1]\n",
    "    X = np.hstack([np.ones((X.shape[0],1)),X])\n",
    "    \n",
    "    #Create target array\n",
    "    yy = np.zeros((len(y),labels))\n",
    "    for i in np.arange(0,m) :\n",
    "        for k in np.arange(0,labels) :\n",
    "            if y[i] == k :\n",
    "                yy[i,k] = 1\n",
    "    \n",
    "    a2, a3, a4, d2, d3, d4 = ForwBack(X=X, theta1=theta1, theta2=theta2, theta3=theta3, yy=yy, function=function)\n",
    "    if hid_layer2 is None :\n",
    "        REG = (np.sum(theta1[:,1:]**2) + np.sum(theta2[:,1:]**2))*Lambda/(2*m)  \n",
    "        J = sum(sum(-np.log10(a3)*yy.T - np.log10(1-a3)*(1-yy).T))/m + REG\n",
    "        Delta1 = np.dot(d2,X)[1:,:]       #(d2,a1.T)\n",
    "        Delta2 = np.dot(d3,(np.vstack([np.ones((1,m)),a2])).T)\n",
    "        t1grad = (Delta1+(np.hstack([ np.zeros((theta1.shape[0],1)), theta1[:,1:]  ]))*Lambda)/m\n",
    "        t2grad = (Delta2+(np.hstack([ np.zeros((theta2.shape[0],1)), theta2[:,1:]  ]))*Lambda)/m\n",
    "        t3grad = 0    \n",
    "    else :\n",
    "        REG = (np.sum(theta1[:,1:]**2) + np.sum(theta2[:,1:]**2) + np.sum(theta3[:,1:]**2))*Lambda/(2*m)  \n",
    "        J = sum(sum(-np.log10(a4)*yy.T - np.log10(1-a4)*(1-yy).T))/m + REG\n",
    "        Delta1 = np.dot(d2,X)\n",
    "        Delta2 = np.dot(d3,(np.vstack([np.ones((1,m)),a2])).T)\n",
    "        Delta3 = np.dot(d4,(np.vstack([np.ones((1,m)),a3])).T)\n",
    "        t1grad = (Delta1+(np.hstack([ np.zeros((theta1.shape[0],1)), theta1[:,1:]  ]))*Lambda)/m\n",
    "        t2grad = (Delta2+(np.hstack([ np.zeros((theta2.shape[0],1)), theta2[:,1:]  ]))*Lambda)/m\n",
    "        t3grad = (Delta3+(np.hstack([ np.zeros((theta3.shape[0],1)), theta3[:,1:]  ]))*Lambda)/m\n",
    "    return J, t1grad, t2grad, t3grad"
   ]
  },
  {
   "cell_type": "markdown",
   "id": "5ce4b119-0a3e-41d6-9697-1d652558f3e3",
   "metadata": {},
   "source": [
    ".\n",
    "\n",
    "Once weights have been optimized, the following function returns the final probabilities, predictions, and accuracy."
   ]
  },
  {
   "cell_type": "code",
   "execution_count": 92,
   "id": "366d9899-5330-4e36-b3b5-0d88005ec053",
   "metadata": {},
   "outputs": [],
   "source": [
    "def Accuracy(theta1, theta2, X, y, function, theta3 = None) :\n",
    "    m = X.shape[0]\n",
    "    inputs = X.shape[1]\n",
    "    X = np.hstack([np.ones((X.shape[0],1)),X])\n",
    "    final = Forward(X,theta1,theta2,theta3=theta3,function=function)\n",
    "    Pred = []\n",
    "    for i in np.arange(0,len(final)) :\n",
    "        Pred.append(np.argmax(final[i,:]))\n",
    "    return final[:,1], Pred, (Pred == y).sum()/len(y)"
   ]
  },
  {
   "cell_type": "markdown",
   "id": "5c0627ff-5e82-44d9-a0fd-4ab3bc033930",
   "metadata": {},
   "source": [
    ".\n",
    "\n",
    "All the pieces are ready to write the Neural Network training function that implements the forward and back propagation algorithm up to a *Max_iter* iteration.\n",
    "\n",
    "The following code includes the *early stopping* part: once the cost function on the validation set reaches its minimum, the algorithm stops to avoid overfitting.\n",
    "\n",
    "The function return the last iteration epoch, the matrices of weights, the training and validation cost function values at the last iteration, and the corresponding accuracies."
   ]
  },
  {
   "cell_type": "code",
   "execution_count": 93,
   "id": "08964b33-a2c8-4ef0-835c-263166b5f224",
   "metadata": {},
   "outputs": [],
   "source": [
    "#Training Neural Network\n",
    "def Training(hid_layer1, X, y, X_test, y_test, alpha, Lambda, Max_iter, function, hid_layer2 = None, flag = True) :\n",
    "    inputs = X.shape[1]                     #Number of features\n",
    "    labels = len(pd.Series(y).unique())     #Number of labels (in the output)\n",
    "    Cost_te = 100\n",
    "    if hid_layer2 is None :\n",
    "        #Random initialization of weights\n",
    "        theta1 = randw(inputs, hid_layer1)\n",
    "        theta2 = randw(hid_layer1, labels)\n",
    "        theta3 = None\n",
    "    else :\n",
    "        theta1 = randw(inputs, hid_layer1)\n",
    "        theta2 = randw(hid_layer1, hid_layer2)\n",
    "        theta3 = randw(hid_layer2, labels)\n",
    "\n",
    "    #Iterative training (i: epoch)\n",
    "    Cost, Cost_t = [], []\n",
    "    for i in range(Max_iter) :\n",
    "        A, B, C, D = J_Grad(theta1=theta1, theta2=theta2, theta3=theta3, X=X, y=y, hid_layer1=hid_layer1, \n",
    "                            hid_layer2=hid_layer2, labels=labels, Lambda=Lambda, function=function)\n",
    "        A1, B1, C1, D1 = J_Grad(theta1=theta1, theta2=theta2, theta3=theta3, X=X_test, y=y_test, hid_layer1=hid_layer1, \n",
    "                                hid_layer2=hid_layer2, labels=labels, Lambda=0.0, function=function)\n",
    "        EE, E, F = Accuracy(theta1=theta1, theta2=theta2, theta3=theta3, X=X, y=y, function=function)\n",
    "        EE1, E1, F1 = Accuracy(theta1=theta1, theta2=theta2, theta3=theta3, X=X_test, y=y_test, function=function)\n",
    "        Cost.append(A)\n",
    "        Cost_t.append(A1)\n",
    "        \n",
    "        #Early stopping\n",
    "        broken = 0\n",
    "        if (flag == True) & (i>100) :        #To avoid initial flactuations\n",
    "            if A1<Cost_te :\n",
    "                Cost_te = A1\n",
    "            else :\n",
    "                broken = 1\n",
    "        if broken==1 :\n",
    "            break\n",
    "            \n",
    "        #Update weights\n",
    "        if hid_layer2 is None :\n",
    "            theta1 = theta1 - alpha*B\n",
    "            theta2 = theta2 - alpha*C\n",
    "        else :\n",
    "            theta1 = theta1 - alpha*B\n",
    "            theta2 = theta2 - alpha*C\n",
    "            theta3 = theta3 - alpha*D\n",
    "        i=i+1\n",
    "    return i, theta1, theta2, theta3, Cost, Cost_t, F, F1"
   ]
  },
  {
   "cell_type": "markdown",
   "id": "2c634242-e60d-47c7-9a3c-6ee26313d614",
   "metadata": {},
   "source": [
    ".\n",
    "\n",
    "## **Dataset**\n",
    "\n",
    "The dataset has been retrieved from https://raw.githubusercontent.com/jbrownlee/Datasets/master/pima-indians-diabetes.names : it is about the *Pima Indians Diabetes*."
   ]
  },
  {
   "cell_type": "code",
   "execution_count": 94,
   "id": "a1d983db-013f-4d53-90f3-c608aab8bd5d",
   "metadata": {},
   "outputs": [
    {
     "data": {
      "text/html": [
       "<div>\n",
       "<style scoped>\n",
       "    .dataframe tbody tr th:only-of-type {\n",
       "        vertical-align: middle;\n",
       "    }\n",
       "\n",
       "    .dataframe tbody tr th {\n",
       "        vertical-align: top;\n",
       "    }\n",
       "\n",
       "    .dataframe thead th {\n",
       "        text-align: right;\n",
       "    }\n",
       "</style>\n",
       "<table border=\"1\" class=\"dataframe\">\n",
       "  <thead>\n",
       "    <tr style=\"text-align: right;\">\n",
       "      <th></th>\n",
       "      <th>A</th>\n",
       "      <th>B</th>\n",
       "      <th>C</th>\n",
       "      <th>D</th>\n",
       "      <th>E</th>\n",
       "      <th>F</th>\n",
       "      <th>G</th>\n",
       "      <th>H</th>\n",
       "      <th>Class</th>\n",
       "    </tr>\n",
       "  </thead>\n",
       "  <tbody>\n",
       "    <tr>\n",
       "      <th>0</th>\n",
       "      <td>6</td>\n",
       "      <td>148</td>\n",
       "      <td>72</td>\n",
       "      <td>35</td>\n",
       "      <td>0</td>\n",
       "      <td>33.6</td>\n",
       "      <td>0.627</td>\n",
       "      <td>50</td>\n",
       "      <td>1</td>\n",
       "    </tr>\n",
       "    <tr>\n",
       "      <th>1</th>\n",
       "      <td>1</td>\n",
       "      <td>85</td>\n",
       "      <td>66</td>\n",
       "      <td>29</td>\n",
       "      <td>0</td>\n",
       "      <td>26.6</td>\n",
       "      <td>0.351</td>\n",
       "      <td>31</td>\n",
       "      <td>0</td>\n",
       "    </tr>\n",
       "    <tr>\n",
       "      <th>2</th>\n",
       "      <td>8</td>\n",
       "      <td>183</td>\n",
       "      <td>64</td>\n",
       "      <td>0</td>\n",
       "      <td>0</td>\n",
       "      <td>23.3</td>\n",
       "      <td>0.672</td>\n",
       "      <td>32</td>\n",
       "      <td>1</td>\n",
       "    </tr>\n",
       "    <tr>\n",
       "      <th>3</th>\n",
       "      <td>1</td>\n",
       "      <td>89</td>\n",
       "      <td>66</td>\n",
       "      <td>23</td>\n",
       "      <td>94</td>\n",
       "      <td>28.1</td>\n",
       "      <td>0.167</td>\n",
       "      <td>21</td>\n",
       "      <td>0</td>\n",
       "    </tr>\n",
       "    <tr>\n",
       "      <th>4</th>\n",
       "      <td>0</td>\n",
       "      <td>137</td>\n",
       "      <td>40</td>\n",
       "      <td>35</td>\n",
       "      <td>168</td>\n",
       "      <td>43.1</td>\n",
       "      <td>2.288</td>\n",
       "      <td>33</td>\n",
       "      <td>1</td>\n",
       "    </tr>\n",
       "    <tr>\n",
       "      <th>...</th>\n",
       "      <td>...</td>\n",
       "      <td>...</td>\n",
       "      <td>...</td>\n",
       "      <td>...</td>\n",
       "      <td>...</td>\n",
       "      <td>...</td>\n",
       "      <td>...</td>\n",
       "      <td>...</td>\n",
       "      <td>...</td>\n",
       "    </tr>\n",
       "    <tr>\n",
       "      <th>763</th>\n",
       "      <td>10</td>\n",
       "      <td>101</td>\n",
       "      <td>76</td>\n",
       "      <td>48</td>\n",
       "      <td>180</td>\n",
       "      <td>32.9</td>\n",
       "      <td>0.171</td>\n",
       "      <td>63</td>\n",
       "      <td>0</td>\n",
       "    </tr>\n",
       "    <tr>\n",
       "      <th>764</th>\n",
       "      <td>2</td>\n",
       "      <td>122</td>\n",
       "      <td>70</td>\n",
       "      <td>27</td>\n",
       "      <td>0</td>\n",
       "      <td>36.8</td>\n",
       "      <td>0.340</td>\n",
       "      <td>27</td>\n",
       "      <td>0</td>\n",
       "    </tr>\n",
       "    <tr>\n",
       "      <th>765</th>\n",
       "      <td>5</td>\n",
       "      <td>121</td>\n",
       "      <td>72</td>\n",
       "      <td>23</td>\n",
       "      <td>112</td>\n",
       "      <td>26.2</td>\n",
       "      <td>0.245</td>\n",
       "      <td>30</td>\n",
       "      <td>0</td>\n",
       "    </tr>\n",
       "    <tr>\n",
       "      <th>766</th>\n",
       "      <td>1</td>\n",
       "      <td>126</td>\n",
       "      <td>60</td>\n",
       "      <td>0</td>\n",
       "      <td>0</td>\n",
       "      <td>30.1</td>\n",
       "      <td>0.349</td>\n",
       "      <td>47</td>\n",
       "      <td>1</td>\n",
       "    </tr>\n",
       "    <tr>\n",
       "      <th>767</th>\n",
       "      <td>1</td>\n",
       "      <td>93</td>\n",
       "      <td>70</td>\n",
       "      <td>31</td>\n",
       "      <td>0</td>\n",
       "      <td>30.4</td>\n",
       "      <td>0.315</td>\n",
       "      <td>23</td>\n",
       "      <td>0</td>\n",
       "    </tr>\n",
       "  </tbody>\n",
       "</table>\n",
       "<p>768 rows × 9 columns</p>\n",
       "</div>"
      ],
      "text/plain": [
       "      A    B   C   D    E     F      G   H  Class\n",
       "0     6  148  72  35    0  33.6  0.627  50      1\n",
       "1     1   85  66  29    0  26.6  0.351  31      0\n",
       "2     8  183  64   0    0  23.3  0.672  32      1\n",
       "3     1   89  66  23   94  28.1  0.167  21      0\n",
       "4     0  137  40  35  168  43.1  2.288  33      1\n",
       "..   ..  ...  ..  ..  ...   ...    ...  ..    ...\n",
       "763  10  101  76  48  180  32.9  0.171  63      0\n",
       "764   2  122  70  27    0  36.8  0.340  27      0\n",
       "765   5  121  72  23  112  26.2  0.245  30      0\n",
       "766   1  126  60   0    0  30.1  0.349  47      1\n",
       "767   1   93  70  31    0  30.4  0.315  23      0\n",
       "\n",
       "[768 rows x 9 columns]"
      ]
     },
     "execution_count": 94,
     "metadata": {},
     "output_type": "execute_result"
    }
   ],
   "source": [
    "#Import the data\n",
    "data = pd.read_csv(\"dati2\")\n",
    "data"
   ]
  },
  {
   "cell_type": "markdown",
   "id": "1cf975c6-c88f-4216-a47b-abf8225ffc46",
   "metadata": {},
   "source": [
    ".\n",
    "\n",
    "The features are all numeric:\n",
    "   1. Number of times pregnant\n",
    "   2. Plasma glucose concentration a 2 hours in an oral glucose tolerance test\n",
    "   3. Diastolic blood pressure (mm Hg)\n",
    "   4. Triceps skin fold thickness (mm)\n",
    "   5. 2-Hour serum insulin (mu U/ml)\n",
    "   6. Body mass index (weight in kg/(height in m)^2)\n",
    "   7. Diabetes pedigree function\n",
    "   8. Age (years)\n",
    "   9. Class variable (0 or 1)"
   ]
  },
  {
   "cell_type": "code",
   "execution_count": 95,
   "id": "db4e0609-9501-4052-9c31-aa862e77173b",
   "metadata": {},
   "outputs": [
    {
     "name": "stdout",
     "output_type": "stream",
     "text": [
      "Number of missing values: 0\n"
     ]
    }
   ],
   "source": [
    "#Missing values\n",
    "print(\"Number of missing values: {}\".format(data.isna().sum().sum()))"
   ]
  },
  {
   "cell_type": "markdown",
   "id": "d3e9ecfa-00d2-41b5-896e-ad881da90d5b",
   "metadata": {},
   "source": [
    ".\n",
    "\n",
    "The dataset has no missing values. Let's take a look at the target variable:"
   ]
  },
  {
   "cell_type": "code",
   "execution_count": 96,
   "id": "70854c40-47f0-4b19-a789-7401c9890a91",
   "metadata": {},
   "outputs": [
    {
     "data": {
      "text/plain": [
       "0    500\n",
       "1    268\n",
       "Name: Class, dtype: int64"
      ]
     },
     "execution_count": 96,
     "metadata": {},
     "output_type": "execute_result"
    }
   ],
   "source": [
    "#Target variable\n",
    "data.Class.value_counts()"
   ]
  },
  {
   "cell_type": "markdown",
   "id": "f45bc97b-dd1a-4f3a-99d3-ae1439292161",
   "metadata": {},
   "source": [
    ".\n",
    "\n",
    "It is an unbalanced dataset. In this first part, let's work with a perfectly balanced dataset."
   ]
  },
  {
   "cell_type": "code",
   "execution_count": 97,
   "id": "1133d159-92af-455e-97f6-1a96dfe0d383",
   "metadata": {},
   "outputs": [],
   "source": [
    "#Create a balanced dataset (268 records for each class)\n",
    "data_bal = pd.concat([data[data.Class==0].sample(268, random_state=0),data[data.Class==1]])\n",
    "\n",
    "#Creation of X and y\n",
    "X = data_bal.drop([\"Class\"],axis=1)\n",
    "y = data_bal.Class\n",
    "X = np.array(X)\n",
    "y = np.array(y)"
   ]
  },
  {
   "cell_type": "code",
   "execution_count": 98,
   "id": "9fbdf48e-6b81-41bb-a2e0-4b6be2bae484",
   "metadata": {},
   "outputs": [],
   "source": [
    "#Training and test set\n",
    "X_train, X_test, y_train, y_test = train_test_split(X,y,test_size=0.3,random_state=0)"
   ]
  },
  {
   "cell_type": "markdown",
   "id": "c2bd6f6b-cbd8-4441-a24f-72f24dd7a838",
   "metadata": {},
   "source": [
    ".\n",
    "\n",
    "Before applying the algorithm, let's scale the features."
   ]
  },
  {
   "cell_type": "code",
   "execution_count": 99,
   "id": "45c26f82-536f-473b-b559-528921a1c434",
   "metadata": {},
   "outputs": [],
   "source": [
    "#Feature scaling\n",
    "scaler = MinMaxScaler()\n",
    "scaler.fit(X_train)\n",
    "X_train = scaler.transform(X_train)\n",
    "X_test = scaler.transform(X_test)"
   ]
  },
  {
   "cell_type": "markdown",
   "id": "3dbec1e1-1019-481a-b69e-2c831c850273",
   "metadata": {},
   "source": [
    ".\n",
    "\n",
    "## **Training (balanced dataset)**\n",
    "\n",
    "Let's search for the best set of hyperparameters with a grid search. The output will be:\n",
    " - Number of units in the hidden layer(s)\n",
    " - Learning rate\n",
    " - Activation function\n",
    " - Mean accuracy on the training set (standard deviation)\n",
    " - Mean accuracy on the test set (standard deviation)\n",
    " - Mean precision\n",
    " - Mean recall\n",
    " - Mean F1-score"
   ]
  },
  {
   "cell_type": "code",
   "execution_count": 103,
   "id": "7c585758-9130-4253-b4cc-9226c3976eb9",
   "metadata": {},
   "outputs": [
    {
     "name": "stdout",
     "output_type": "stream",
     "text": [
      "2 - None - 0.5 - sigmoid ----- 0.754 (0.007) - 0.712 (0.025) - 0.705 - 0.738 - 0.716\n",
      "2 - None - 0.5 - tanh ----- 0.758 (0.009) - 0.728 (0.026) - 0.716 - 0.764 - 0.735\n",
      "2 - None - 0.5 - relu ----- 0.743 (0.006) - 0.725 (0.025) - 0.760 - 0.668 - 0.706\n",
      "2 - None - 0.8 - sigmoid ----- 0.761 (0.009) - 0.725 (0.011) - 0.710 - 0.774 - 0.736\n",
      "2 - None - 0.8 - tanh ----- 0.749 (0.010) - 0.712 (0.025) - 0.711 - 0.727 - 0.713\n",
      "2 - None - 0.8 - relu ----- 0.739 (0.010) - 0.677 (0.023) - 0.717 - 0.592 - 0.645\n",
      "2 - None - 1.0 - sigmoid ----- 0.765 (0.012) - 0.749 (0.023) - 0.733 - 0.793 - 0.758\n",
      "2 - None - 1.0 - tanh ----- 0.731 (0.032) - 0.685 (0.040) - 0.682 - 0.736 - 0.689\n",
      "2 - None - 1.0 - relu ----- 0.679 (0.042) - 0.624 (0.061) - 0.796 - 0.366 - 0.473\n",
      "2 - 2 - 0.5 - sigmoid ----- 0.518 (0.017) - 0.483 (0.058) - 0.304 - 0.483 - 0.350\n",
      "2 - 2 - 0.5 - tanh ----- 0.741 (0.017) - 0.720 (0.019) - 0.702 - 0.811 - 0.740\n",
      "2 - 2 - 0.5 - relu ----- 0.567 (0.074) - 0.509 (0.094) - 0.429 - 0.704 - 0.514\n",
      "2 - 2 - 0.8 - sigmoid ----- 0.536 (0.051) - 0.491 (0.073) - 0.317 - 0.478 - 0.350\n",
      "2 - 2 - 0.8 - tanh ----- 0.678 (0.092) - 0.651 (0.099) - 0.655 - 0.830 - 0.705\n",
      "2 - 2 - 0.8 - relu ----- 0.567 (0.074) - 0.499 (0.075) - 0.419 - 0.689 - 0.500\n",
      "2 - 2 - 1.0 - sigmoid ----- 0.593 (0.096) - 0.523 (0.095) - 0.322 - 0.494 - 0.378\n",
      "2 - 2 - 1.0 - tanh ----- 0.679 (0.036) - 0.637 (0.047) - 0.659 - 0.748 - 0.650\n",
      "2 - 2 - 1.0 - relu ----- 0.582 (0.072) - 0.528 (0.091) - 0.468 - 0.563 - 0.466\n",
      "2 - 5 - 0.5 - sigmoid ----- 0.719 (0.014) - 0.672 (0.059) - 0.676 - 0.687 - 0.668\n",
      "2 - 5 - 0.5 - tanh ----- 0.684 (0.020) - 0.629 (0.044) - 0.647 - 0.725 - 0.630\n",
      "2 - 5 - 0.5 - relu ----- 0.709 (0.008) - 0.656 (0.059) - 0.749 - 0.485 - 0.579\n",
      "2 - 5 - 0.8 - sigmoid ----- 0.761 (0.008) - 0.728 (0.014) - 0.712 - 0.774 - 0.737\n",
      "2 - 5 - 0.8 - tanh ----- 0.667 (0.068) - 0.589 (0.074) - 0.639 - 0.674 - 0.599\n",
      "2 - 5 - 0.8 - relu ----- 0.714 (0.014) - 0.659 (0.047) - 0.735 - 0.509 - 0.595\n",
      "2 - 5 - 1.0 - sigmoid ----- 0.761 (0.008) - 0.715 (0.027) - 0.698 - 0.765 - 0.725\n",
      "2 - 5 - 1.0 - tanh ----- 0.710 (0.010) - 0.659 (0.043) - 0.702 - 0.615 - 0.627\n",
      "2 - 5 - 1.0 - relu ----- 0.703 (0.016) - 0.677 (0.054) - 0.808 - 0.467 - 0.592\n",
      "3 - None - 0.5 - sigmoid ----- 0.750 (0.008) - 0.720 (0.024) - 0.717 - 0.735 - 0.721\n",
      "3 - None - 0.5 - tanh ----- 0.761 (0.012) - 0.731 (0.016) - 0.722 - 0.758 - 0.735\n",
      "3 - None - 0.5 - relu ----- 0.746 (0.006) - 0.723 (0.023) - 0.759 - 0.662 - 0.702\n",
      "3 - None - 0.8 - sigmoid ----- 0.759 (0.009) - 0.736 (0.010) - 0.736 - 0.746 - 0.736\n",
      "3 - None - 0.8 - tanh ----- 0.757 (0.010) - 0.691 (0.013) - 0.698 - 0.690 - 0.688\n",
      "3 - None - 0.8 - relu ----- 0.727 (0.013) - 0.669 (0.057) - 0.746 - 0.546 - 0.610\n",
      "3 - None - 1.0 - sigmoid ----- 0.765 (0.009) - 0.752 (0.018) - 0.755 - 0.757 - 0.751\n",
      "3 - None - 1.0 - tanh ----- 0.714 (0.027) - 0.675 (0.055) - 0.692 - 0.748 - 0.678\n",
      "3 - None - 1.0 - relu ----- 0.705 (0.026) - 0.675 (0.064) - 0.802 - 0.526 - 0.598\n",
      "3 - 2 - 0.5 - sigmoid ----- 0.709 (0.013) - 0.669 (0.056) - 0.715 - 0.650 - 0.646\n",
      "3 - 2 - 0.5 - tanh ----- 0.745 (0.011) - 0.704 (0.033) - 0.713 - 0.708 - 0.699\n",
      "3 - 2 - 0.5 - relu ----- 0.651 (0.026) - 0.621 (0.040) - 0.874 - 0.295 - 0.433\n",
      "3 - 2 - 0.8 - sigmoid ----- 0.759 (0.006) - 0.720 (0.032) - 0.706 - 0.751 - 0.724\n",
      "3 - 2 - 0.8 - tanh ----- 0.661 (0.056) - 0.605 (0.082) - 0.621 - 0.833 - 0.649\n",
      "3 - 2 - 0.8 - relu ----- 0.663 (0.012) - 0.637 (0.049) - 0.856 - 0.335 - 0.476\n",
      "3 - 2 - 1.0 - sigmoid ----- 0.755 (0.003) - 0.704 (0.035) - 0.693 - 0.736 - 0.710\n",
      "3 - 2 - 1.0 - tanh ----- 0.673 (0.061) - 0.589 (0.079) - 0.667 - 0.572 - 0.546\n",
      "3 - 2 - 1.0 - relu ----- 0.589 (0.069) - 0.541 (0.067) - 0.621 - 0.335 - 0.339\n",
      "3 - 5 - 0.5 - sigmoid ----- 0.757 (0.009) - 0.725 (0.026) - 0.713 - 0.763 - 0.732\n",
      "3 - 5 - 0.5 - tanh ----- 0.694 (0.024) - 0.632 (0.045) - 0.659 - 0.709 - 0.625\n",
      "3 - 5 - 0.5 - relu ----- 0.651 (0.033) - 0.616 (0.075) - 0.854 - 0.297 - 0.425\n",
      "3 - 5 - 0.8 - sigmoid ----- 0.759 (0.005) - 0.723 (0.027) - 0.707 - 0.769 - 0.732\n",
      "3 - 5 - 0.8 - tanh ----- 0.726 (0.021) - 0.664 (0.047) - 0.714 - 0.632 - 0.634\n",
      "3 - 5 - 0.8 - relu ----- 0.665 (0.037) - 0.627 (0.057) - 0.790 - 0.500 - 0.541\n",
      "3 - 5 - 1.0 - sigmoid ----- 0.755 (0.014) - 0.707 (0.025) - 0.700 - 0.732 - 0.712\n",
      "3 - 5 - 1.0 - tanh ----- 0.634 (0.094) - 0.573 (0.094) - 0.615 - 0.803 - 0.635\n",
      "3 - 5 - 1.0 - relu ----- 0.634 (0.099) - 0.589 (0.115) - 0.428 - 0.320 - 0.364\n",
      "5 - None - 0.5 - sigmoid ----- 0.753 (0.005) - 0.712 (0.031) - 0.704 - 0.736 - 0.716\n",
      "5 - None - 0.5 - tanh ----- 0.749 (0.009) - 0.715 (0.032) - 0.712 - 0.730 - 0.716\n",
      "5 - None - 0.5 - relu ----- 0.746 (0.006) - 0.725 (0.020) - 0.765 - 0.656 - 0.703\n",
      "5 - None - 0.8 - sigmoid ----- 0.753 (0.011) - 0.715 (0.014) - 0.705 - 0.747 - 0.721\n",
      "5 - None - 0.8 - tanh ----- 0.660 (0.076) - 0.605 (0.095) - 0.646 - 0.800 - 0.647\n",
      "5 - None - 0.8 - relu ----- 0.723 (0.020) - 0.667 (0.049) - 0.730 - 0.550 - 0.616\n",
      "5 - None - 1.0 - sigmoid ----- 0.755 (0.009) - 0.720 (0.012) - 0.710 - 0.752 - 0.726\n",
      "5 - None - 1.0 - tanh ----- 0.718 (0.007) - 0.661 (0.063) - 0.675 - 0.719 - 0.650\n",
      "5 - None - 1.0 - relu ----- 0.701 (0.008) - 0.664 (0.069) - 0.796 - 0.452 - 0.568\n",
      "5 - 2 - 0.5 - sigmoid ----- 0.587 (0.069) - 0.520 (0.072) - 0.433 - 0.581 - 0.456\n",
      "5 - 2 - 0.5 - tanh ----- 0.739 (0.020) - 0.672 (0.036) - 0.678 - 0.683 - 0.666\n",
      "5 - 2 - 0.5 - relu ----- 0.696 (0.012) - 0.635 (0.065) - 0.688 - 0.493 - 0.571\n",
      "5 - 2 - 0.8 - sigmoid ----- 0.741 (0.009) - 0.680 (0.058) - 0.679 - 0.688 - 0.677\n",
      "5 - 2 - 0.8 - tanh ----- 0.671 (0.028) - 0.592 (0.027) - 0.665 - 0.488 - 0.517\n",
      "5 - 2 - 0.8 - relu ----- 0.651 (0.006) - 0.616 (0.042) - 0.830 - 0.296 - 0.433\n",
      "5 - 2 - 1.0 - sigmoid ----- 0.749 (0.006) - 0.712 (0.031) - 0.700 - 0.748 - 0.719\n",
      "5 - 2 - 1.0 - tanh ----- 0.668 (0.072) - 0.619 (0.106) - 0.523 - 0.565 - 0.524\n",
      "5 - 2 - 1.0 - relu ----- 0.635 (0.071) - 0.589 (0.087) - 0.735 - 0.515 - 0.517\n",
      "5 - 5 - 0.5 - sigmoid ----- 0.729 (0.005) - 0.653 (0.045) - 0.658 - 0.650 - 0.648\n",
      "5 - 5 - 0.5 - tanh ----- 0.710 (0.030) - 0.659 (0.066) - 0.674 - 0.720 - 0.649\n",
      "5 - 5 - 0.5 - relu ----- 0.679 (0.012) - 0.648 (0.056) - 0.834 - 0.379 - 0.515\n",
      "5 - 5 - 0.8 - sigmoid ----- 0.747 (0.007) - 0.707 (0.029) - 0.697 - 0.736 - 0.713\n",
      "5 - 5 - 0.8 - tanh ----- 0.683 (0.062) - 0.616 (0.066) - 0.653 - 0.687 - 0.621\n",
      "5 - 5 - 0.8 - relu ----- 0.696 (0.026) - 0.680 (0.045) - 0.832 - 0.456 - 0.587\n",
      "5 - 5 - 1.0 - sigmoid ----- 0.743 (0.007) - 0.693 (0.048) - 0.686 - 0.718 - 0.697\n",
      "5 - 5 - 1.0 - tanh ----- 0.683 (0.046) - 0.627 (0.066) - 0.640 - 0.803 - 0.666\n",
      "5 - 5 - 1.0 - relu ----- 0.641 (0.069) - 0.611 (0.078) - 0.693 - 0.279 - 0.390\n"
     ]
    }
   ],
   "source": [
    "#Grid search\n",
    "hid_layer1 = [2,3,5]\n",
    "hid_layer2 = [None, 2,5]\n",
    "learning_rate = [0.5,0.8,1.0]\n",
    "functions = [\"sigmoid\",\"tanh\",\"relu\"]\n",
    "for i in hid_layer1 :\n",
    "    for j in hid_layer2 :\n",
    "        for a in learning_rate :\n",
    "            for f in functions :\n",
    "                acc, acc_te, pre, rec, f1s = [], [], [], [], []\n",
    "                for k in range(5) :\n",
    "                    #Split Training set into training and validation sets (5 random sampling)\n",
    "                    X_train_t, X_test_t, y_train_t, y_test_t = train_test_split(X_train,y_train,test_size=0.2,random_state=k)\n",
    "                    q,w,e,r,t,yh,u,p = Training(hid_layer1 = i, hid_layer2 = j, alpha = a, \n",
    "                                                X = X_train_t, y = y_train_t, X_test = X_test_t, y_test = y_test_t, \n",
    "                                                Lambda=0.0, Max_iter = 1000, function=f)\n",
    "                    EE, y_pred, F = Accuracy(theta1=w, theta2=e, theta3=r, X=X_test_t, y=y_test_t, function=f)\n",
    "                    acc.append(u), acc_te.append(p)\n",
    "                    pre.append(precision_score(y_test_t, y_pred))\n",
    "                    rec.append(recall_score(y_test_t, y_pred))\n",
    "                    f1s.append(f1_score(y_test_t, y_pred))\n",
    "                print(\"{} - {} - {} - {} ----- {:.3f} ({:.3f}) - {:.3f} ({:.3f}) - {:.3f} - {:.3f} - {:.3f}\".format(i,j,a,f,np.mean(acc),np.std(acc),np.mean(acc_te),np.std(acc_te), \n",
    "                                                                                                           np.mean(pre), np.mean(rec),np.mean(f1s)))"
   ]
  },
  {
   "cell_type": "markdown",
   "id": "ada654af-e745-477e-8ca4-64975bc882d5",
   "metadata": {},
   "source": [
    ".\n",
    "\n",
    "The best model (i.e. high validation accuracy, small standard deviation) is:\n",
    "- Number of units in the first hidden layer: 3\n",
    "- No second hidden layer\n",
    "- Learning rate: 1.0\n",
    "- Activation function: Sigmoid\n",
    "\n",
    "Let's try some tuning."
   ]
  },
  {
   "cell_type": "code",
   "execution_count": 106,
   "id": "964f73f5-47e0-45dd-965b-c35e77bb0a3f",
   "metadata": {},
   "outputs": [
    {
     "name": "stdout",
     "output_type": "stream",
     "text": [
      "3 - None - 0.9 - sigmoid ----- 0.762 (0.008) - 0.739 (0.007) - 0.738 - 0.752 - 0.740\n",
      "3 - None - 1.0 - sigmoid ----- 0.765 (0.009) - 0.752 (0.018) - 0.755 - 0.757 - 0.751\n",
      "3 - None - 1.1 - sigmoid ----- 0.768 (0.009) - 0.757 (0.016) - 0.764 - 0.752 - 0.754\n",
      "3 - None - 1.2 - sigmoid ----- 0.769 (0.007) - 0.757 (0.013) - 0.761 - 0.757 - 0.756\n",
      "3 - None - 1.3 - sigmoid ----- 0.759 (0.010) - 0.747 (0.022) - 0.739 - 0.765 - 0.749\n",
      "3 - None - 1.4 - sigmoid ----- 0.756 (0.006) - 0.733 (0.024) - 0.727 - 0.763 - 0.739\n",
      "4 - None - 0.9 - sigmoid ----- 0.755 (0.009) - 0.720 (0.008) - 0.714 - 0.747 - 0.725\n",
      "4 - None - 1.0 - sigmoid ----- 0.756 (0.010) - 0.723 (0.010) - 0.715 - 0.752 - 0.728\n",
      "4 - None - 1.1 - sigmoid ----- 0.759 (0.010) - 0.725 (0.011) - 0.720 - 0.746 - 0.728\n",
      "4 - None - 1.2 - sigmoid ----- 0.762 (0.008) - 0.731 (0.013) - 0.725 - 0.751 - 0.733\n",
      "4 - None - 1.3 - sigmoid ----- 0.762 (0.012) - 0.725 (0.014) - 0.717 - 0.751 - 0.730\n",
      "4 - None - 1.4 - sigmoid ----- 0.757 (0.009) - 0.725 (0.026) - 0.719 - 0.747 - 0.728\n"
     ]
    }
   ],
   "source": [
    "#Grid search\n",
    "hid_layer1 = [3,4]\n",
    "hid_layer2 = [None]\n",
    "learning_rate = [0.9,1.0,1.1,1.2,1.3,1.4]\n",
    "functions = [\"sigmoid\"]\n",
    "for i in hid_layer1 :\n",
    "    for j in hid_layer2 :\n",
    "        for a in learning_rate :\n",
    "            for f in functions :\n",
    "                acc, acc_te, pre, rec, f1s = [], [], [], [], []\n",
    "                for k in range(5) :\n",
    "                    #Split Training set into training and validation sets (5 random sampling)\n",
    "                    X_train_t, X_test_t, y_train_t, y_test_t = train_test_split(X_train,y_train,test_size=0.2,random_state=k)\n",
    "                    q,w,e,r,t,yh,u,p = Training(hid_layer1 = i, hid_layer2 = j, alpha = a, \n",
    "                                                X = X_train_t, y = y_train_t, X_test = X_test_t, y_test = y_test_t, \n",
    "                                                Lambda=0.0, Max_iter = 1000, function=f)\n",
    "                    EE, y_pred, F = Accuracy(theta1=w, theta2=e, theta3=r, X=X_test_t, y=y_test_t, function=f)\n",
    "                    acc.append(u), acc_te.append(p)\n",
    "                    pre.append(precision_score(y_test_t, y_pred))\n",
    "                    rec.append(recall_score(y_test_t, y_pred))\n",
    "                    f1s.append(f1_score(y_test_t, y_pred))\n",
    "                print(\"{} - {} - {} - {} ----- {:.3f} ({:.3f}) - {:.3f} ({:.3f}) - {:.3f} - {:.3f} - {:.3f}\".format(i,j,a,f,np.mean(acc),np.std(acc),np.mean(acc_te),np.std(acc_te), \n",
    "                                                                                                           np.mean(pre), np.mean(rec),np.mean(f1s)))"
   ]
  },
  {
   "cell_type": "markdown",
   "id": "afbd27e1-8779-46fa-a67a-24dec2a4abcc",
   "metadata": {},
   "source": [
    ".\n",
    "\n",
    "The best model (i.e. high validation accuracy, small standard deviation) is:\n",
    "- Number of units in the first hidden layer: 3\n",
    "- No second hidden layer\n",
    "- Learning rate: 1.2\n",
    "- Activation function: Sigmoid\n",
    "\n",
    ".\n",
    "\n",
    "Let's take a look at the performance on the Test set: let's plot the cost function for the training and test set to see when early stopping can be applied (flag=False)."
   ]
  },
  {
   "cell_type": "code",
   "execution_count": 111,
   "id": "c5edae1d-9799-4a39-a7ce-50d36b0b391f",
   "metadata": {},
   "outputs": [
    {
     "data": {
      "text/plain": [
       "<matplotlib.legend.Legend at 0x7f9f2e751208>"
      ]
     },
     "execution_count": 111,
     "metadata": {},
     "output_type": "execute_result"
    },
    {
     "data": {
      "image/png": "[encoded data removed]",
      "text/plain": [
       "<Figure size 432x288 with 1 Axes>"
      ]
     },
     "metadata": {
      "needs_background": "light"
     },
     "output_type": "display_data"
    }
   ],
   "source": [
    "#Performance on the Test set\n",
    "q,w,e,r,t,yh,u,p = Training(hid_layer1 = 3, hid_layer2 = None, alpha = 1.2, function = \"sigmoid\", \n",
    "                            X = X_train, y = y_train, X_test = X_test, y_test = y_test, \n",
    "                            Lambda=0.0, Max_iter = 1000, flag=False)\n",
    "\n",
    "#Plot cost functions\n",
    "plt.plot(t,'blue')\n",
    "plt.plot(yh,'red')\n",
    "plt.plot([371,371],[0.3,0.6],'--r')\n",
    "plt.xlim([0,890])\n",
    "plt.ylim([0.42,0.48])\n",
    "plt.xlabel(\"Epoch\")\n",
    "plt.ylabel(\"Cost function\")\n",
    "plt.legend([\"Training\",\"Test\"])"
   ]
  },
  {
   "cell_type": "markdown",
   "id": "121bc505-d770-4da8-9315-07dd002a9c5c",
   "metadata": {},
   "source": [
    ".\n",
    "\n",
    "At epoch ~400, the Test cost function starts to increase. That is the point where overfit starts.\n",
    "\n",
    "Now, let's use early stopping in the training function (flag = True)."
   ]
  },
  {
   "cell_type": "code",
   "execution_count": 112,
   "id": "aa177bc7-24c9-4d63-a95d-5f96a6e9c74f",
   "metadata": {},
   "outputs": [
    {
     "name": "stdout",
     "output_type": "stream",
     "text": [
      "Last iteration: 371 --- Train accuracy: 76.0% - Test accuracy: 73.91304347826086%\n",
      "\n",
      "Precision:  0.7702702702702703\n",
      "Recall:  0.6951219512195121\n",
      "F1-score:  0.7307692307692307\n",
      "\n",
      "\n"
     ]
    },
    {
     "data": {
      "text/plain": [
       "<matplotlib.legend.Legend at 0x7f9f2e78f898>"
      ]
     },
     "execution_count": 112,
     "metadata": {},
     "output_type": "execute_result"
    },
    {
     "data": {
      "image/png": "[encoded data removed]",
      "text/plain": [
       "<Figure size 432x288 with 1 Axes>"
      ]
     },
     "metadata": {
      "needs_background": "light"
     },
     "output_type": "display_data"
    }
   ],
   "source": [
    "#Performance on the Test set\n",
    "q,w,e,r,t,yh,u,p = Training(hid_layer1 = 3, hid_layer2 = None, alpha = 1.2, function = \"sigmoid\",\n",
    "                            X = X_train, y = y_train, X_test = X_test, y_test = y_test,\n",
    "                            Lambda=0.0, Max_iter = 5000, flag=True)\n",
    "print(\"Last iteration: {} --- Train accuracy: {}% - Test accuracy: {}%\".format(q,100*u,100*p))\n",
    "\n",
    "\n",
    "#Confusion matrix\n",
    "EE, y_pred, F = Accuracy(theta1=w, theta2=e, X=X_test, y=y_test, function = \"sigmoid\")\n",
    "Conf_matrix = pd.DataFrame(confusion_matrix(y_test, y_pred))\n",
    "Conf_matrix.index=[\"Actual 0\", \"Actual 1\"]\n",
    "Conf_matrix.columns=[\"Predicted 0\", \"Predicted 1\"]\n",
    "print(\"\\nPrecision: \", precision_score(y_test, y_pred))\n",
    "print(\"Recall: \", recall_score(y_test, y_pred))\n",
    "print(\"F1-score: \", f1_score(y_test, y_pred))\n",
    "print(\"\\n\")\n",
    "Conf_matrix\n",
    "\n",
    "\n",
    "#ROC curves\n",
    "EE1, y_pred, F = Accuracy(theta1=w, theta2=e, X=X_train, y=y_train, function = \"sigmoid\")\n",
    "fpr1, tpr1, thresholds1 = roc_curve(y_train,EE1)\n",
    "fpr2, tpr2, thresholds2 = roc_curve(y_test,EE)\n",
    "plt.plot(fpr1, tpr1,'blue',lw=2)\n",
    "plt.plot(fpr2, tpr2,'red',lw=2)\n",
    "plt.plot([0,1],[0,1],'--b')\n",
    "plt.xlabel(\"False positive rate\")\n",
    "plt.ylabel(\"True positive rate\")\n",
    "plt.legend([\"Training set (AUC: {:.2f})\".format(roc_auc_score(y_train,EE1)),\"Test set (AUC: {:.2f})\".format(roc_auc_score(y_test,EE))], loc=\"lower right\")"
   ]
  },
  {
   "cell_type": "markdown",
   "id": "82c43661-4d2b-4467-8bca-538438c7fbb0",
   "metadata": {},
   "source": [
    ".\n",
    "\n",
    "For comparison, let's use the Logistic Regression model on the same dataset."
   ]
  },
  {
   "cell_type": "code",
   "execution_count": 113,
   "id": "6e9bc735-375d-4e93-9bc5-df88ef3339e4",
   "metadata": {},
   "outputs": [
    {
     "name": "stdout",
     "output_type": "stream",
     "text": [
      "\n",
      "Logistic training accuracy:  0.7546666666666667\n",
      "Logistic test accuracy:  0.7391304347826086\n",
      "\n",
      "Precision:  0.7941176470588235\n",
      "Recall:  0.6585365853658537\n",
      "F1-score:  0.72\n",
      "\n",
      "\n"
     ]
    },
    {
     "data": {
      "text/plain": [
       "<matplotlib.legend.Legend at 0x7f9f2e7026d8>"
      ]
     },
     "execution_count": 113,
     "metadata": {},
     "output_type": "execute_result"
    },
    {
     "data": {
      "image/png": "[encoded data removed]",
      "text/plain": [
       "<Figure size 432x288 with 1 Axes>"
      ]
     },
     "metadata": {
      "needs_background": "light"
     },
     "output_type": "display_data"
    }
   ],
   "source": [
    "#For comparison: Logistic regression\n",
    "Model_log = LogisticRegression(penalty=\"none\").fit(X_train,y_train)\n",
    "print(\"\\nLogistic training accuracy: \", Model_log.score(X_train,y_train))\n",
    "print(\"Logistic test accuracy: \", Model_log.score(X_test,y_test))\n",
    "\n",
    "#Confusion matrix\n",
    "y_pred_log = Model_log.predict(X_test)\n",
    "Conf_matrix_log = pd.DataFrame(confusion_matrix(y_test, y_pred_log))\n",
    "Conf_matrix_log.index=[\"Actual 0\", \"Actual 1\"]\n",
    "Conf_matrix_log.columns=[\"Predicted 0\", \"Predicted 1\"]\n",
    "print(\"\\nPrecision: \", precision_score(y_test, y_pred_log))\n",
    "print(\"Recall: \", recall_score(y_test, y_pred_log))\n",
    "print(\"F1-score: \", f1_score(y_test, y_pred_log))\n",
    "print(\"\\n\")\n",
    "Conf_matrix_log\n",
    "\n",
    "\n",
    "#ROC curves\n",
    "fpr1, tpr1, thresholds1 = roc_curve(y_train,Model_log.predict_proba(X_train)[:,1])\n",
    "fpr2, tpr2, thresholds2 = roc_curve(y_test,Model_log.predict_proba(X_test)[:,1])\n",
    "plt.plot(fpr1, tpr1,'blue',lw=2)\n",
    "plt.plot(fpr2, tpr2,'red',lw=2)\n",
    "plt.plot([0,1],[0,1],'--b')\n",
    "plt.xlabel(\"False positive rate\")\n",
    "plt.ylabel(\"True positive rate\")\n",
    "plt.legend([\"Training set (AUC: {:.2f})\".format(roc_auc_score(y_train,Model_log.predict_proba(X_train)[:,1])),\n",
    "            \"Test set (AUC: {:.2f})\".format(roc_auc_score(y_test,Model_log.predict_proba(X_test)[:,1]))], loc=\"lower right\")"
   ]
  },
  {
   "cell_type": "markdown",
   "id": "a2638e49-54d1-4974-bc0b-1e04130ba4ab",
   "metadata": {},
   "source": [
    ".\n",
    "\n",
    "Only one small difference between the two models."
   ]
  },
  {
   "cell_type": "markdown",
   "id": "c494c76d-da4f-4859-9489-04fec5c877a5",
   "metadata": {},
   "source": [
    ".\n",
    "\n",
    ".\n",
    "\n",
    ".\n",
    "\n",
    "## **Training (unbalanced dataset)**\n",
    "\n",
    "Now, let's use the whole unbalanced dataset."
   ]
  },
  {
   "cell_type": "code",
   "execution_count": 114,
   "id": "fea19d10-124f-4d99-b701-4d430c799740",
   "metadata": {},
   "outputs": [],
   "source": [
    "#Creation of X and y (from the unbalanced dataset)\n",
    "X = data.drop([\"Class\"],axis=1)\n",
    "y = data.Class\n",
    "X = np.array(X)\n",
    "y = np.array(y)\n",
    "\n",
    "#Training and test set (70-30%)\n",
    "X_train, X_test, y_train, y_test = train_test_split(X,y,test_size=0.3,random_state=0)\n",
    "\n",
    "#Feature scaling\n",
    "scaler = MinMaxScaler()\n",
    "scaler.fit(X_train)\n",
    "X_train = scaler.transform(X_train)\n",
    "X_test = scaler.transform(X_test)"
   ]
  },
  {
   "cell_type": "markdown",
   "id": "2f09b91a-8e57-4f06-8d05-e0f2f8f7278f",
   "metadata": {},
   "source": [
    ".\n",
    "\n",
    "Let's search for the best set of hyperparameters with a grid search. The output will be:\n",
    " - Number of units in the hidden layer(s)\n",
    " - Learning rate\n",
    " - Activation function\n",
    " - Mean accuracy on the training set (standard deviation)\n",
    " - Mean accuracy on the test set (standard deviation)\n",
    " - Mean precision\n",
    " - Mean recall\n",
    " - Mean F1-score\n",
    " - Mean training AUC\n",
    " - Mean test AUC"
   ]
  },
  {
   "cell_type": "code",
   "execution_count": 115,
   "id": "89878578-482a-433d-b6ef-8f6793173b87",
   "metadata": {},
   "outputs": [
    {
     "name": "stdout",
     "output_type": "stream",
     "text": [
      "2 - None - 0.5 - sigmoid ----- 0.753 (0.009) - 0.772 (0.033) - 0.710 - 0.617 - 0.658 --- 0.830 - 0.836\n",
      "2 - None - 0.5 - tanh ----- 0.766 (0.005) - 0.776 (0.020) - 0.708 - 0.631 - 0.666 --- 0.835 - 0.837\n",
      "2 - None - 0.5 - relu ----- 0.764 (0.002) - 0.787 (0.021) - 0.759 - 0.589 - 0.662 --- 0.832 - 0.832\n",
      "2 - None - 0.8 - sigmoid ----- 0.766 (0.007) - 0.772 (0.015) - 0.704 - 0.626 - 0.661 --- 0.838 - 0.838\n",
      "2 - None - 0.8 - tanh ----- 0.760 (0.003) - 0.769 (0.030) - 0.697 - 0.626 - 0.657 --- 0.831 - 0.837\n",
      "2 - None - 0.8 - relu ----- 0.747 (0.007) - 0.761 (0.031) - 0.725 - 0.540 - 0.612 --- 0.824 - 0.834\n",
      "2 - None - 1.0 - sigmoid ----- 0.770 (0.009) - 0.770 (0.009) - 0.698 - 0.626 - 0.658 --- 0.841 - 0.841\n",
      "2 - None - 1.0 - tanh ----- 0.755 (0.008) - 0.770 (0.030) - 0.704 - 0.622 - 0.657 --- 0.828 - 0.836\n",
      "2 - None - 1.0 - relu ----- 0.697 (0.027) - 0.698 (0.041) - 0.816 - 0.204 - 0.319 --- 0.808 - 0.814\n",
      "2 - 2 - 0.5 - sigmoid ----- 0.637 (0.005) - 0.644 (0.019) - 0.000 - 0.000 - 0.000 --- 0.750 - 0.748\n",
      "2 - 2 - 0.5 - tanh ----- 0.744 (0.049) - 0.739 (0.067) - 0.546 - 0.525 - 0.528 --- 0.764 - 0.756\n",
      "2 - 2 - 0.5 - relu ----- 0.637 (0.005) - 0.644 (0.019) - 0.000 - 0.000 - 0.000 --- 0.719 - 0.746\n",
      "2 - 2 - 0.8 - sigmoid ----- 0.668 (0.027) - 0.656 (0.023) - 0.341 - 0.097 - 0.149 --- 0.803 - 0.818\n",
      "2 - 2 - 0.8 - tanh ----- 0.685 (0.049) - 0.681 (0.072) - 0.518 - 0.511 - 0.441 --- 0.768 - 0.762\n",
      "2 - 2 - 0.8 - relu ----- 0.669 (0.042) - 0.670 (0.036) - 0.259 - 0.158 - 0.196 --- 0.663 - 0.642\n",
      "2 - 2 - 1.0 - sigmoid ----- 0.772 (0.005) - 0.776 (0.022) - 0.703 - 0.647 - 0.672 --- 0.837 - 0.840\n",
      "2 - 2 - 1.0 - tanh ----- 0.681 (0.056) - 0.650 (0.040) - 0.615 - 0.636 - 0.500 --- 0.819 - 0.819\n",
      "2 - 2 - 1.0 - relu ----- 0.712 (0.011) - 0.731 (0.053) - 0.687 - 0.498 - 0.536 --- 0.799 - 0.810\n",
      "2 - 5 - 0.5 - sigmoid ----- 0.637 (0.005) - 0.644 (0.019) - 0.000 - 0.000 - 0.000 --- 0.752 - 0.753\n",
      "2 - 5 - 0.5 - tanh ----- 0.723 (0.031) - 0.706 (0.051) - 0.689 - 0.542 - 0.499 --- 0.828 - 0.836\n",
      "2 - 5 - 0.5 - relu ----- 0.723 (0.038) - 0.726 (0.064) - 0.706 - 0.391 - 0.462 --- 0.759 - 0.740\n",
      "2 - 5 - 0.8 - sigmoid ----- 0.734 (0.028) - 0.748 (0.051) - 0.702 - 0.531 - 0.591 --- 0.818 - 0.827\n",
      "2 - 5 - 0.8 - tanh ----- 0.719 (0.011) - 0.707 (0.013) - 0.690 - 0.545 - 0.525 --- 0.822 - 0.833\n",
      "2 - 5 - 0.8 - relu ----- 0.726 (0.011) - 0.733 (0.046) - 0.807 - 0.326 - 0.461 --- 0.770 - 0.784\n",
      "2 - 5 - 1.0 - sigmoid ----- 0.768 (0.008) - 0.778 (0.021) - 0.708 - 0.647 - 0.673 --- 0.836 - 0.837\n",
      "2 - 5 - 1.0 - tanh ----- 0.706 (0.013) - 0.694 (0.037) - 0.657 - 0.523 - 0.490 --- 0.820 - 0.824\n",
      "2 - 5 - 1.0 - relu ----- 0.731 (0.015) - 0.739 (0.047) - 0.784 - 0.358 - 0.484 --- 0.760 - 0.784\n",
      "3 - None - 0.5 - sigmoid ----- 0.767 (0.006) - 0.776 (0.015) - 0.713 - 0.620 - 0.663 --- 0.837 - 0.839\n",
      "3 - None - 0.5 - tanh ----- 0.772 (0.003) - 0.780 (0.018) - 0.717 - 0.631 - 0.670 --- 0.846 - 0.847\n",
      "3 - None - 0.5 - relu ----- 0.764 (0.004) - 0.787 (0.020) - 0.764 - 0.584 - 0.660 --- 0.832 - 0.833\n",
      "3 - None - 0.8 - sigmoid ----- 0.767 (0.007) - 0.783 (0.019) - 0.731 - 0.620 - 0.671 --- 0.839 - 0.841\n",
      "3 - None - 0.8 - tanh ----- 0.766 (0.010) - 0.770 (0.026) - 0.706 - 0.616 - 0.655 --- 0.836 - 0.841\n",
      "3 - None - 0.8 - relu ----- 0.756 (0.011) - 0.776 (0.040) - 0.787 - 0.518 - 0.621 --- 0.820 - 0.826\n",
      "3 - None - 1.0 - sigmoid ----- 0.766 (0.006) - 0.780 (0.020) - 0.724 - 0.615 - 0.665 --- 0.840 - 0.842\n",
      "3 - None - 1.0 - tanh ----- 0.761 (0.005) - 0.765 (0.030) - 0.692 - 0.634 - 0.654 --- 0.834 - 0.843\n",
      "3 - None - 1.0 - relu ----- 0.711 (0.013) - 0.730 (0.049) - 0.836 - 0.294 - 0.433 --- 0.812 - 0.817\n",
      "3 - 2 - 0.5 - sigmoid ----- 0.637 (0.005) - 0.644 (0.019) - 0.000 - 0.000 - 0.000 --- 0.753 - 0.769\n",
      "3 - 2 - 0.5 - tanh ----- 0.768 (0.012) - 0.767 (0.035) - 0.689 - 0.638 - 0.658 --- 0.828 - 0.831\n",
      "3 - 2 - 0.5 - relu ----- 0.736 (0.005) - 0.744 (0.041) - 0.713 - 0.479 - 0.561 --- 0.805 - 0.815\n",
      "3 - 2 - 0.8 - sigmoid ----- 0.746 (0.025) - 0.765 (0.042) - 0.743 - 0.535 - 0.615 --- 0.821 - 0.827\n",
      "3 - 2 - 0.8 - tanh ----- 0.737 (0.029) - 0.743 (0.041) - 0.718 - 0.525 - 0.567 --- 0.820 - 0.822\n",
      "3 - 2 - 0.8 - relu ----- 0.683 (0.028) - 0.698 (0.084) - 0.671 - 0.180 - 0.257 --- 0.743 - 0.764\n",
      "3 - 2 - 1.0 - sigmoid ----- 0.767 (0.008) - 0.770 (0.021) - 0.701 - 0.627 - 0.659 --- 0.835 - 0.837\n",
      "3 - 2 - 1.0 - tanh ----- 0.670 (0.034) - 0.680 (0.050) - 0.485 - 0.239 - 0.254 --- 0.779 - 0.794\n",
      "3 - 2 - 1.0 - relu ----- 0.664 (0.023) - 0.674 (0.040) - 0.486 - 0.121 - 0.185 --- 0.666 - 0.688\n",
      "3 - 5 - 0.5 - sigmoid ----- 0.767 (0.010) - 0.776 (0.018) - 0.710 - 0.631 - 0.667 --- 0.836 - 0.839\n",
      "3 - 5 - 0.5 - tanh ----- 0.710 (0.017) - 0.687 (0.037) - 0.626 - 0.635 - 0.544 --- 0.830 - 0.836\n",
      "3 - 5 - 0.5 - relu ----- 0.733 (0.031) - 0.737 (0.056) - 0.720 - 0.510 - 0.519 --- 0.828 - 0.835\n",
      "3 - 5 - 0.8 - sigmoid ----- 0.770 (0.006) - 0.780 (0.021) - 0.712 - 0.642 - 0.674 --- 0.840 - 0.840\n",
      "3 - 5 - 0.8 - tanh ----- 0.722 (0.013) - 0.709 (0.033) - 0.695 - 0.567 - 0.542 --- 0.830 - 0.837\n",
      "3 - 5 - 0.8 - relu ----- 0.689 (0.047) - 0.663 (0.035) - 0.333 - 0.211 - 0.207 --- 0.705 - 0.695\n",
      "3 - 5 - 1.0 - sigmoid ----- 0.767 (0.008) - 0.767 (0.018) - 0.696 - 0.621 - 0.653 --- 0.835 - 0.838\n",
      "3 - 5 - 1.0 - tanh ----- 0.718 (0.007) - 0.719 (0.031) - 0.720 - 0.557 - 0.544 --- 0.829 - 0.838\n",
      "3 - 5 - 1.0 - relu ----- 0.729 (0.013) - 0.748 (0.033) - 0.752 - 0.509 - 0.572 --- 0.803 - 0.811\n",
      "5 - None - 0.5 - sigmoid ----- 0.765 (0.008) - 0.772 (0.009) - 0.710 - 0.609 - 0.655 --- 0.837 - 0.840\n",
      "5 - None - 0.5 - tanh ----- 0.770 (0.007) - 0.774 (0.014) - 0.714 - 0.610 - 0.657 --- 0.838 - 0.839\n",
      "5 - None - 0.5 - relu ----- 0.757 (0.003) - 0.780 (0.018) - 0.738 - 0.594 - 0.656 --- 0.833 - 0.838\n",
      "5 - None - 0.8 - sigmoid ----- 0.768 (0.008) - 0.783 (0.019) - 0.737 - 0.611 - 0.666 --- 0.840 - 0.841\n",
      "5 - None - 0.8 - tanh ----- 0.731 (0.034) - 0.735 (0.051) - 0.777 - 0.434 - 0.491 --- 0.831 - 0.835\n",
      "5 - None - 0.8 - relu ----- 0.710 (0.012) - 0.711 (0.056) - 0.773 - 0.259 - 0.380 --- 0.823 - 0.837\n",
      "5 - None - 1.0 - sigmoid ----- 0.768 (0.010) - 0.783 (0.017) - 0.733 - 0.615 - 0.668 --- 0.841 - 0.844\n",
      "5 - None - 1.0 - tanh ----- 0.723 (0.030) - 0.717 (0.047) - 0.655 - 0.573 - 0.530 --- 0.830 - 0.834\n",
      "5 - None - 1.0 - relu ----- 0.719 (0.022) - 0.724 (0.058) - 0.773 - 0.345 - 0.447 --- 0.828 - 0.837\n",
      "5 - 2 - 0.5 - sigmoid ----- 0.637 (0.005) - 0.644 (0.019) - 0.000 - 0.000 - 0.000 --- 0.760 - 0.749\n",
      "5 - 2 - 0.5 - tanh ----- 0.750 (0.010) - 0.757 (0.048) - 0.674 - 0.630 - 0.643 --- 0.820 - 0.831\n",
      "5 - 2 - 0.5 - relu ----- 0.703 (0.035) - 0.724 (0.064) - 0.625 - 0.321 - 0.422 --- 0.797 - 0.804\n",
      "5 - 2 - 0.8 - sigmoid ----- 0.653 (0.019) - 0.654 (0.031) - 0.260 - 0.054 - 0.087 --- 0.804 - 0.822\n",
      "5 - 2 - 0.8 - tanh ----- 0.675 (0.032) - 0.669 (0.026) - 0.528 - 0.265 - 0.260 --- 0.814 - 0.822\n",
      "5 - 2 - 0.8 - relu ----- 0.681 (0.040) - 0.680 (0.052) - 0.402 - 0.347 - 0.336 --- 0.787 - 0.787\n",
      "5 - 2 - 1.0 - sigmoid ----- 0.755 (0.023) - 0.765 (0.031) - 0.705 - 0.601 - 0.646 --- 0.828 - 0.835\n",
      "5 - 2 - 1.0 - tanh ----- 0.714 (0.021) - 0.709 (0.039) - 0.648 - 0.529 - 0.523 --- 0.814 - 0.823\n",
      "5 - 2 - 1.0 - relu ----- 0.682 (0.042) - 0.698 (0.086) - 0.412 - 0.246 - 0.285 --- 0.704 - 0.720\n",
      "5 - 5 - 0.5 - sigmoid ----- 0.666 (0.030) - 0.680 (0.024) - 0.740 - 0.167 - 0.252 --- 0.788 - 0.802\n",
      "5 - 5 - 0.5 - tanh ----- 0.723 (0.019) - 0.696 (0.026) - 0.652 - 0.608 - 0.534 --- 0.827 - 0.835\n",
      "5 - 5 - 0.5 - relu ----- 0.689 (0.048) - 0.706 (0.082) - 0.443 - 0.270 - 0.317 --- 0.626 - 0.640\n",
      "5 - 5 - 0.8 - sigmoid ----- 0.762 (0.007) - 0.774 (0.027) - 0.699 - 0.646 - 0.670 --- 0.832 - 0.837\n",
      "5 - 5 - 0.8 - tanh ----- 0.717 (0.005) - 0.707 (0.033) - 0.687 - 0.549 - 0.524 --- 0.824 - 0.831\n",
      "5 - 5 - 0.8 - relu ----- 0.708 (0.010) - 0.702 (0.040) - 0.797 - 0.215 - 0.338 --- 0.768 - 0.795\n",
      "5 - 5 - 1.0 - sigmoid ----- 0.750 (0.003) - 0.772 (0.029) - 0.706 - 0.632 - 0.663 --- 0.827 - 0.835\n",
      "5 - 5 - 1.0 - tanh ----- 0.710 (0.036) - 0.698 (0.055) - 0.652 - 0.621 - 0.563 --- 0.824 - 0.829\n",
      "5 - 5 - 1.0 - relu ----- 0.711 (0.020) - 0.713 (0.057) - 0.776 - 0.300 - 0.382 --- 0.762 - 0.787\n"
     ]
    }
   ],
   "source": [
    "#Grid search\n",
    "hid_layer1 = [2,3,5]\n",
    "hid_layer2 = [None, 2,5]\n",
    "learning_rate = [0.5,0.8,1.0]\n",
    "functions = [\"sigmoid\",\"tanh\",\"relu\"]\n",
    "for i in hid_layer1 :\n",
    "    for j in hid_layer2 :\n",
    "        for a in learning_rate :\n",
    "            for f in functions :\n",
    "                acc, acc_te, pre, rec, f1s, auc, auc_te = [], [], [], [], [], [], []\n",
    "                for k in range(5) :\n",
    "                    #Split Training set into training and validation sets (5 random sampling)\n",
    "                    X_train_t, X_test_t, y_train_t, y_test_t = train_test_split(X_train,y_train,test_size=0.2,random_state=k)\n",
    "                    q,w,e,r,t,yh,u,p = Training(hid_layer1 = i, hid_layer2 = j, alpha = a, \n",
    "                                                X = X_train_t, y = y_train_t, X_test = X_test_t, y_test = y_test_t, \n",
    "                                                Lambda=0.0, Max_iter = 1000, function=f)\n",
    "                    EE1, y_pred1, F1 = Accuracy(theta1=w, theta2=e, theta3=r, X=X_train_t, y=y_train_t, function=f)\n",
    "                    EE, y_pred, F = Accuracy(theta1=w, theta2=e, theta3=r, X=X_test_t, y=y_test_t, function=f)\n",
    "                    acc.append(u), acc_te.append(p)\n",
    "                    pre.append(precision_score(y_test_t, y_pred))\n",
    "                    rec.append(recall_score(y_test_t, y_pred))\n",
    "                    f1s.append(f1_score(y_test_t, y_pred))\n",
    "                    auc.append(roc_auc_score(y_train_t,EE1))\n",
    "                    auc_te.append(roc_auc_score(y_test_t,EE))\n",
    "                    \n",
    "                    \n",
    "                print(\"{} - {} - {} - {} ----- {:.3f} ({:.3f}) - {:.3f} ({:.3f}) - {:.3f} - {:.3f} - {:.3f} --- {:.3f} - {:.3f}\".format(i,j,a,f,\n",
    "                                                                    np.mean(acc),np.std(acc),np.mean(acc_te),np.std(acc_te), \n",
    "                                                                    np.mean(pre), np.mean(rec),np.mean(f1s),\n",
    "                                                                    np.mean(auc),np.mean(auc_te)))"
   ]
  },
  {
   "cell_type": "markdown",
   "id": "8b35688f-0d1d-4195-acec-ae6304c662b2",
   "metadata": {},
   "source": [
    ".\n",
    "\n",
    "The best model (i.e. high validation AUC, high validation accuracy, high f1-score, precision and recall, small std on accuracies) is\n",
    "- Number of units in the first hidden layer: 3\n",
    "- Number of units in the second hidden layer: None\n",
    "- Learning rate: 0.5\n",
    "- Activation function: tanh\n",
    "\n",
    "Let's try some tuning."
   ]
  },
  {
   "cell_type": "code",
   "execution_count": 119,
   "id": "4de00117-ac03-47d6-885c-182b838e4827",
   "metadata": {},
   "outputs": [
    {
     "name": "stdout",
     "output_type": "stream",
     "text": [
      "3 - None - 0.1 - tanh ----- 0.767 (0.010) - 0.778 (0.029) - 0.717 - 0.627 - 0.667 --- 0.835 - 0.841\n",
      "3 - None - 0.2 - tanh ----- 0.773 (0.004) - 0.787 (0.013) - 0.736 - 0.631 - 0.677 --- 0.849 - 0.850\n",
      "3 - None - 0.3 - tanh ----- 0.773 (0.005) - 0.781 (0.016) - 0.731 - 0.615 - 0.665 --- 0.852 - 0.855\n",
      "3 - None - 0.4 - tanh ----- 0.777 (0.005) - 0.783 (0.019) - 0.731 - 0.621 - 0.669 --- 0.854 - 0.856\n",
      "3 - None - 0.5 - tanh ----- 0.772 (0.003) - 0.780 (0.018) - 0.717 - 0.631 - 0.670 --- 0.846 - 0.847\n",
      "3 - None - 0.6 - tanh ----- 0.769 (0.005) - 0.776 (0.022) - 0.712 - 0.626 - 0.665 --- 0.842 - 0.843\n",
      "3 - None - 0.7 - tanh ----- 0.766 (0.006) - 0.778 (0.024) - 0.717 - 0.626 - 0.667 --- 0.839 - 0.842\n",
      "4 - None - 0.1 - tanh ----- 0.770 (0.005) - 0.778 (0.019) - 0.731 - 0.600 - 0.657 --- 0.840 - 0.842\n",
      "4 - None - 0.2 - tanh ----- 0.772 (0.004) - 0.783 (0.022) - 0.728 - 0.627 - 0.672 --- 0.849 - 0.846\n",
      "4 - None - 0.3 - tanh ----- 0.774 (0.005) - 0.791 (0.017) - 0.740 - 0.637 - 0.683 --- 0.852 - 0.849\n",
      "4 - None - 0.4 - tanh ----- 0.772 (0.005) - 0.783 (0.022) - 0.730 - 0.621 - 0.669 --- 0.850 - 0.847\n",
      "4 - None - 0.5 - tanh ----- 0.772 (0.004) - 0.778 (0.020) - 0.726 - 0.605 - 0.659 --- 0.843 - 0.842\n",
      "4 - None - 0.6 - tanh ----- 0.767 (0.005) - 0.783 (0.020) - 0.739 - 0.610 - 0.667 --- 0.839 - 0.841\n",
      "4 - None - 0.7 - tanh ----- 0.766 (0.005) - 0.783 (0.020) - 0.739 - 0.610 - 0.667 --- 0.836 - 0.842\n"
     ]
    }
   ],
   "source": [
    "#Grid search\n",
    "hid_layer1 = [3,4]\n",
    "hid_layer2 = [None]\n",
    "learning_rate = [0.1,0.2,0.3,0.4,0.5,0.6,0.7]\n",
    "functions = [\"tanh\"]\n",
    "for i in hid_layer1 :\n",
    "    for j in hid_layer2 :\n",
    "        for a in learning_rate :\n",
    "            for f in functions :\n",
    "                acc, acc_te, pre, rec, f1s, auc, auc_te = [], [], [], [], [], [], []\n",
    "                for k in range(5) :\n",
    "                    #Split Training set into training and validation sets (5 random sampling)\n",
    "                    X_train_t, X_test_t, y_train_t, y_test_t = train_test_split(X_train,y_train,test_size=0.2,random_state=k)\n",
    "                    q,w,e,r,t,yh,u,p = Training(hid_layer1 = i, hid_layer2 = j, alpha = a, \n",
    "                                                X = X_train_t, y = y_train_t, X_test = X_test_t, y_test = y_test_t, \n",
    "                                                Lambda=0.0, Max_iter = 1000, function=f)\n",
    "                    EE1, y_pred1, F1 = Accuracy(theta1=w, theta2=e, theta3=r, X=X_train_t, y=y_train_t, function=f)\n",
    "                    EE, y_pred, F = Accuracy(theta1=w, theta2=e, theta3=r, X=X_test_t, y=y_test_t, function=f)\n",
    "                    acc.append(u), acc_te.append(p)\n",
    "                    pre.append(precision_score(y_test_t, y_pred))\n",
    "                    rec.append(recall_score(y_test_t, y_pred))\n",
    "                    f1s.append(f1_score(y_test_t, y_pred))\n",
    "                    auc.append(roc_auc_score(y_train_t,EE1))\n",
    "                    auc_te.append(roc_auc_score(y_test_t,EE))\n",
    "                    \n",
    "                print(\"{} - {} - {} - {} ----- {:.3f} ({:.3f}) - {:.3f} ({:.3f}) - {:.3f} - {:.3f} - {:.3f} --- {:.3f} - {:.3f}\".format(i,j,a,f,\n",
    "                                                                    np.mean(acc),np.std(acc),np.mean(acc_te),np.std(acc_te), \n",
    "                                                                    np.mean(pre), np.mean(rec),np.mean(f1s),\n",
    "                                                                    np.mean(auc),np.mean(auc_te)))"
   ]
  },
  {
   "cell_type": "markdown",
   "id": "f5a4e6cb-2b18-44aa-b3b6-9baf00afaf8f",
   "metadata": {},
   "source": [
    ".\n",
    "\n",
    "The best model (i.e. high validation AUC, high validation accuracy, high f1-score, precision and recall, small std on accuracies) is\n",
    "- Number of units in the first hidden layer: 3\n",
    "- Number of units in the second hidden layer: None\n",
    "- Learning rate: 0.4\n",
    "- Activation function: tanh\n",
    "\n",
    ".\n",
    "\n",
    "\n",
    "Now, it is possible to try to find the threshold that maximizes the f1-score."
   ]
  },
  {
   "cell_type": "code",
   "execution_count": 120,
   "id": "aaf4bf6f-2292-45f6-9a3c-0c6ae869d38f",
   "metadata": {},
   "outputs": [
    {
     "name": "stdout",
     "output_type": "stream",
     "text": [
      "Best threshold: 0.44\n",
      "Largest f1-score: 0.7115324453494044\n"
     ]
    },
    {
     "data": {
      "text/plain": [
       "<matplotlib.legend.Legend at 0x7f9f2de17dd8>"
      ]
     },
     "execution_count": 120,
     "metadata": {},
     "output_type": "execute_result"
    },
    {
     "data": {
      "image/png": "[encoded data removed]",
      "text/plain": [
       "<Figure size 432x288 with 1 Axes>"
      ]
     },
     "metadata": {
      "needs_background": "light"
     },
     "output_type": "display_data"
    }
   ],
   "source": [
    "#Repeated random sampling (iterations: 5)\n",
    "for k in range(5) :\n",
    "    #Split Training set into training and validation sets (5 random sampling)\n",
    "    X_train_t, X_test_t, y_train_t, y_test_t = train_test_split(X_train,y_train,test_size=0.2,random_state=k)\n",
    "    q,w,e,r,t,yh,u,p = Training(hid_layer1 = 3, hid_layer2 = None, alpha = 0.4, function = \"tanh\",\n",
    "                                X = X_train_t, y = y_train_t, X_test = X_test_t, y_test = y_test_t, \n",
    "                                Lambda=0.0, Max_iter = 5000, flag=True)\n",
    "    EE, y_pred, F = Accuracy(theta1=w, theta2=e, theta3=r, X=X_test_t, y=y_test_t,function = \"tanh\")\n",
    "    \n",
    "    Thresh = np.arange(0.02,1.02,0.02)\n",
    "    exec(f\"Pre_{k}, Rec_{k} = [],[]\")\n",
    "    Rec = []\n",
    "    for j in Thresh:\n",
    "        A = EE.copy()\n",
    "        A = np.where(A>=j,1,0)\n",
    "        tn,fp,fn,tp = confusion_matrix(y_test_t,A).ravel()\n",
    "        precision = tp/(tp + fp)\n",
    "        recall = tp/(tp + fn)\n",
    "        exec(f\"Pre_{k}.append(precision); Rec_{k}.append(recall)\")\n",
    "\n",
    "#Mean Precision and Recall (for different thresholds)\n",
    "Prec = np.array(Pre_0)\n",
    "Reca = np.array(Rec_0)\n",
    "for k in range(4):\n",
    "    exec(f\"AA = np.array(Pre_{k+1}); BB = np.array(Rec_{k+1})\")\n",
    "    Prec = np.vstack([Prec,AA])\n",
    "    Reca = np.vstack([Reca,BB])\n",
    "    \n",
    "#Threshold that maximizes the F1-score\n",
    "Index = np.nanargmax(2*(Reca.T.mean(axis=1)*Prec.T.mean(axis=1))/(Reca.T.mean(axis=1)+Prec.T.mean(axis=1)))\n",
    "print(\"Best threshold: {}\".format(Thresh[Index]))\n",
    "print(\"Largest f1-score: {}\".format((2*(Reca.T.mean(axis=1)*Prec.T.mean(axis=1))/(Reca.T.mean(axis=1)+Prec.T.mean(axis=1)))[Index]))\n",
    "\n",
    "#Precision, Recall, and F1-score plot\n",
    "plt.plot(Thresh, Prec.T.mean(axis=1),'-b')\n",
    "plt.fill_between(Thresh,Prec.T.min(axis=1),Prec.T.max(axis=1),color='blue',alpha=0.1, label=\"_nolegend_\")\n",
    "plt.plot(Thresh, Reca.T.mean(axis=1),'-r')\n",
    "plt.fill_between(Thresh,Reca.T.min(axis=1),Reca.T.max(axis=1),color='red',alpha=0.1, label=\"_nolegend_\")\n",
    "plt.plot(Thresh, 2*(Reca.T.mean(axis=1)*Prec.T.mean(axis=1))/(Reca.T.mean(axis=1)+Prec.T.mean(axis=1)),'-g')\n",
    "plt.fill_between(Thresh, 2*(Reca.T.min(axis=1)*Prec.T.min(axis=1))/(Reca.T.min(axis=1)+Prec.T.min(axis=1)),\n",
    "                 2*(Reca.T.max(axis=1)*Prec.T.max(axis=1))/(Reca.T.max(axis=1)+Prec.T.max(axis=1)), color=\"green\",alpha=0.1)\n",
    "plt.ylim([0.1,1.05])\n",
    "plt.xlim([-0.05,0.95])\n",
    "plt.plot(Thresh[Index], (2*(Reca.T.mean(axis=1)*Prec.T.mean(axis=1))/(Reca.T.mean(axis=1)+Prec.T.mean(axis=1)))[Index],'og',markersize=15)\n",
    "plt.legend([\"Precision\",\"Recall\",\"F1-score\"])\n",
    "plt.xlabel(\"Threshold\")\n",
    "plt.ylabel(\"Metric\")"
   ]
  },
  {
   "cell_type": "markdown",
   "id": "9bde4ded-aa41-4c87-8ef8-8fbd5ee97769",
   "metadata": {},
   "source": [
    ".\n",
    "\n",
    "Let's use the model found above with the new threshold."
   ]
  },
  {
   "cell_type": "code",
   "execution_count": 122,
   "id": "b4bb7fea-ad1c-4d9b-b66e-ded6281d3d59",
   "metadata": {},
   "outputs": [
    {
     "name": "stdout",
     "output_type": "stream",
     "text": [
      "Accuracy:  0.7705627705627706\n",
      "\n",
      "Precision:  0.647887323943662\n",
      "Recall:  0.6216216216216216\n",
      "F1-score:  0.6344827586206897\n",
      "\n",
      "\n",
      "          Predicted 0  Predicted 1\n",
      "Actual 0          132           25\n",
      "Actual 1           28           46\n"
     ]
    },
    {
     "data": {
      "text/plain": [
       "<matplotlib.legend.Legend at 0x7f9f2dda9240>"
      ]
     },
     "execution_count": 122,
     "metadata": {},
     "output_type": "execute_result"
    },
    {
     "data": {
      "image/png": "[encoded data removed]",
      "text/plain": [
       "<Figure size 432x288 with 1 Axes>"
      ]
     },
     "metadata": {
      "needs_background": "light"
     },
     "output_type": "display_data"
    }
   ],
   "source": [
    "#Model + new threshold\n",
    "q,w,e,r,t,yh,u,p = Training(hid_layer1 = 3, hid_layer2 = None, alpha = 0.4, function = \"tanh\",\n",
    "                                X = X_train, y = y_train, X_test = X_test, y_test = y_test, \n",
    "                                Lambda=0.0, Max_iter = 5000, flag=True)\n",
    "EE, y_pred, F = Accuracy(theta1=w, theta2=e, theta3=r, X=X_test, y=y_test,function = \"tanh\")\n",
    "    \n",
    "\n",
    "#New prediction (based on the new threshold)\n",
    "Newpred = EE.copy()\n",
    "Newpred = np.where(Newpred>=Thresh[Index],1,0)\n",
    "    \n",
    "    \n",
    "#Confusion matrix\n",
    "Conf_matrix = pd.DataFrame(confusion_matrix(y_test, Newpred))\n",
    "Conf_matrix.index=[\"Actual 0\", \"Actual 1\"]\n",
    "Conf_matrix.columns=[\"Predicted 0\", \"Predicted 1\"]\n",
    "print(\"Accuracy: \", accuracy_score(y_test, Newpred))\n",
    "print(\"\\nPrecision: \", precision_score(y_test, Newpred))\n",
    "print(\"Recall: \", recall_score(y_test, Newpred))\n",
    "print(\"F1-score: \", f1_score(y_test, Newpred))\n",
    "print(\"\\n\")\n",
    "print(Conf_matrix)\n",
    "\n",
    "\n",
    "#ROC curves\n",
    "EE1, y_pred2, F = Accuracy(theta1=w, theta2=e, X=X_train, y=y_train, function = \"tanh\")\n",
    "fpr1, tpr1, thresholds1 = roc_curve(y_train,EE1)\n",
    "fpr2, tpr2, thresholds2 = roc_curve(y_test,EE)\n",
    "plt.plot(fpr1, tpr1,'blue',lw=2)\n",
    "plt.plot(fpr2, tpr2,'red',lw=2)\n",
    "plt.plot([0,1],[0,1],'--b')\n",
    "plt.xlabel(\"False positive rate\")\n",
    "plt.ylabel(\"True positive rate\")\n",
    "plt.legend([\"Training set (AUC: {:.2f})\".format(roc_auc_score(y_train,EE1)),\"Test set (AUC: {:.2f})\".format(roc_auc_score(y_test,EE))], loc=\"lower right\")"
   ]
  },
  {
   "cell_type": "code",
   "execution_count": 123,
   "id": "c8697443-f8b2-4c75-bb98-5f7fa5b4f4e4",
   "metadata": {},
   "outputs": [
    {
     "name": "stdout",
     "output_type": "stream",
     "text": [
      "Accuracy:  0.7748917748917749\n",
      "\n",
      "Precision:  0.6896551724137931\n",
      "Recall:  0.5405405405405406\n",
      "F1-score:  0.6060606060606061\n",
      "\n",
      "\n",
      "          Predicted 0  Predicted 1\n",
      "Actual 0          139           18\n",
      "Actual 1           34           40\n"
     ]
    },
    {
     "data": {
      "text/plain": [
       "<matplotlib.legend.Legend at 0x7f9f2dd8a1d0>"
      ]
     },
     "execution_count": 123,
     "metadata": {},
     "output_type": "execute_result"
    },
    {
     "data": {
      "image/png": "[encoded data removed]",
      "text/plain": [
       "<Figure size 432x288 with 1 Axes>"
      ]
     },
     "metadata": {
      "needs_background": "light"
     },
     "output_type": "display_data"
    }
   ],
   "source": [
    "#Confusion matrix (no threshold modification)\n",
    "Conf_matrix = pd.DataFrame(confusion_matrix(y_test, y_pred))\n",
    "Conf_matrix.index=[\"Actual 0\", \"Actual 1\"]\n",
    "Conf_matrix.columns=[\"Predicted 0\", \"Predicted 1\"]\n",
    "print(\"Accuracy: \", accuracy_score(y_test, y_pred))\n",
    "print(\"\\nPrecision: \", precision_score(y_test, y_pred))\n",
    "print(\"Recall: \", recall_score(y_test, y_pred))\n",
    "print(\"F1-score: \", f1_score(y_test, y_pred))\n",
    "print(\"\\n\")\n",
    "print(Conf_matrix)\n",
    "\n",
    "#ROC curves (no threshold modification)\n",
    "EE1, y_pred2, F = Accuracy(theta1=w, theta2=e, X=X_train, y=y_train, function = \"tanh\")\n",
    "fpr1, tpr1, thresholds1 = roc_curve(y_train,EE1)\n",
    "fpr2, tpr2, thresholds2 = roc_curve(y_test,EE)\n",
    "plt.plot(fpr1, tpr1,'blue',lw=2)\n",
    "plt.plot(fpr2, tpr2,'red',lw=2)\n",
    "plt.plot([0,1],[0,1],'--b')\n",
    "plt.xlabel(\"False positive rate\")\n",
    "plt.ylabel(\"True positive rate\")\n",
    "plt.legend([\"Training set (AUC: {:.2f})\".format(roc_auc_score(y_train,EE1)),\"Test set (AUC: {:.2f})\".format(roc_auc_score(y_test,EE))], loc=\"lower right\")"
   ]
  },
  {
   "cell_type": "markdown",
   "id": "ea3607c1-7d19-4915-9a6e-5b15ce6b99a3",
   "metadata": {},
   "source": [
    ".\n",
    "\n",
    "Without the threshold modification, the accuracy on the test set is higher. However, the number of true positives is lower.\n",
    "\n",
    ".\n",
    "\n",
    "For comparison, let's use the Logistic regression model (no threshold modification)."
   ]
  },
  {
   "cell_type": "code",
   "execution_count": 124,
   "id": "3255a880-cfed-46c7-bb05-8c989d991828",
   "metadata": {},
   "outputs": [
    {
     "name": "stdout",
     "output_type": "stream",
     "text": [
      "\n",
      "\n",
      "Logistic training accuracy:  0.7653631284916201\n",
      "Logistic test accuracy:  0.7792207792207793\n",
      "\n",
      "Precision:  0.7090909090909091\n",
      "Recall:  0.527027027027027\n",
      "F1-score:  0.6046511627906976\n",
      "\n",
      "\n"
     ]
    },
    {
     "data": {
      "text/plain": [
       "<matplotlib.legend.Legend at 0x7f9f2dc6b710>"
      ]
     },
     "execution_count": 124,
     "metadata": {},
     "output_type": "execute_result"
    },
    {
     "data": {
      "image/png": "[encoded data removed]",
      "text/plain": [
       "<Figure size 432x288 with 1 Axes>"
      ]
     },
     "metadata": {
      "needs_background": "light"
     },
     "output_type": "display_data"
    }
   ],
   "source": [
    "#Logistic regression\n",
    "Model_log = LogisticRegression(penalty=\"none\").fit(X_train,y_train)\n",
    "print(\"\\n\\nLogistic training accuracy: \", Model_log.score(X_train,y_train))\n",
    "print(\"Logistic test accuracy: \", Model_log.score(X_test,y_test))\n",
    "y_pred_log = Model_log.predict(X_test)\n",
    "\n",
    "#Confusion matrix\n",
    "Conf_matrix_log = pd.DataFrame(confusion_matrix(y_test, y_pred_log))\n",
    "Conf_matrix_log.index=[\"Actual 0\", \"Actual 1\"]\n",
    "Conf_matrix_log.columns=[\"Predicted 0\", \"Predicted 1\"]\n",
    "print(\"\\nPrecision: \", precision_score(y_test, y_pred_log))\n",
    "print(\"Recall: \", recall_score(y_test, y_pred_log))\n",
    "print(\"F1-score: \", f1_score(y_test, y_pred_log))\n",
    "print(\"\\n\")\n",
    "Conf_matrix_log\n",
    "\n",
    "#ROC curves\n",
    "fpr1, tpr1, thresholds1 = roc_curve(y_train,Model_log.predict_proba(X_train)[:,1])\n",
    "fpr2, tpr2, thresholds2 = roc_curve(y_test,Model_log.predict_proba(X_test)[:,1])\n",
    "plt.plot(fpr1, tpr1,'blue',lw=2)\n",
    "plt.plot(fpr2, tpr2,'red',lw=2)\n",
    "plt.plot([0,1],[0,1],'--b')\n",
    "plt.xlabel(\"False positive rate\")\n",
    "plt.ylabel(\"True positive rate\")\n",
    "plt.legend([\"Training set (AUC: {:.2f})\".format(roc_auc_score(y_train,Model_log.predict_proba(X_train)[:,1])),\n",
    "            \"Test set (AUC: {:.2f})\".format(roc_auc_score(y_test,Model_log.predict_proba(X_test)[:,1]))], loc=\"lower right\")"
   ]
  },
  {
   "cell_type": "markdown",
   "id": "cc6f0fca-781c-4f68-843b-5ecd7c28b7a7",
   "metadata": {},
   "source": [
    ".\n",
    "\n",
    ".\n",
    "\n",
    ".\n",
    "\n",
    "# **Neural Network with KERAS**\n",
    "\n",
    "Now, let's try to use Keras to build different Neural Networks."
   ]
  },
  {
   "cell_type": "code",
   "execution_count": 125,
   "id": "19c583cd-73b0-4af6-bf1b-f380c881a03e",
   "metadata": {},
   "outputs": [
    {
     "name": "stderr",
     "output_type": "stream",
     "text": [
      "2022-04-20 18:49:10.074078: W tensorflow/stream_executor/platform/default/dso_loader.cc:64] Could not load dynamic library 'libcuda.so.1'; dlerror: libcuda.so.1: cannot open shared object file: No such file or directory\n",
      "2022-04-20 18:49:10.074159: W tensorflow/stream_executor/cuda/cuda_driver.cc:269] failed call to cuInit: UNKNOWN ERROR (303)\n",
      "2022-04-20 18:49:10.074212: I tensorflow/stream_executor/cuda/cuda_diagnostics.cc:156] kernel driver does not appear to be running on this host (samuele-300E5EV-300E4EV-270E5EV-270E4EV): /proc/driver/nvidia/version does not exist\n"
     ]
    },
    {
     "name": "stdout",
     "output_type": "stream",
     "text": [
      "Model: \"sequential\"\n",
      "_________________________________________________________________\n",
      " Layer (type)                Output Shape              Param #   \n",
      "=================================================================\n",
      " dense (Dense)               (None, 3)                 27        \n",
      "                                                                 \n",
      " activation (Activation)     (None, 3)                 0         \n",
      "                                                                 \n",
      " dense_1 (Dense)             (None, 1)                 4         \n",
      "                                                                 \n",
      "=================================================================\n",
      "Total params: 31\n",
      "Trainable params: 31\n",
      "Non-trainable params: 0\n",
      "_________________________________________________________________\n",
      "\n",
      "Last iteration:  317\n",
      "Training accuracy:  0.7552447319030762\n",
      "Validation accuracy:  0.7592592835426331\n"
     ]
    },
    {
     "data": {
      "text/plain": [
       "<matplotlib.legend.Legend at 0x7f9f2c072ac8>"
      ]
     },
     "execution_count": 125,
     "metadata": {},
     "output_type": "execute_result"
    },
    {
     "data": {
      "image/png": "[encoded data removed]",
      "text/plain": [
       "<Figure size 576x360 with 1 Axes>"
      ]
     },
     "metadata": {
      "needs_background": "light"
     },
     "output_type": "display_data"
    }
   ],
   "source": [
    "#Creation of X and y (from the unbalanced dataset)\n",
    "X = data.drop([\"Class\"],axis=1)\n",
    "y = data.Class\n",
    "X = np.array(X)\n",
    "y = np.array(y)\n",
    "\n",
    "#Training and test set (70-30%)\n",
    "X_train, X_test, y_train, y_test = train_test_split(X,y,test_size=0.3,random_state=0)\n",
    "\n",
    "#Feature scaling\n",
    "scaler = MinMaxScaler()\n",
    "scaler.fit(X_train)\n",
    "X_train = scaler.transform(X_train)\n",
    "X_test = scaler.transform(X_test)\n",
    "\n",
    "\n",
    "#EXAMPLE\n",
    "#Neural Network model with one hidden layer (of 3 units)\n",
    "Model = Sequential()\n",
    "Model.add(Dense(units=3, input_shape=X_train.shape[1:]))\n",
    "Model.add(Activation(\"sigmoid\"))\n",
    "Model.add(Dense(units=1, activation=\"sigmoid\"))             #One output (0 or 1)\n",
    "Model.summary()\n",
    "\n",
    "#Training\n",
    "callback = keras.callbacks.EarlyStopping(monitor='loss', patience=5)          #Early stopping\n",
    "Epochs = 500\n",
    "Model.compile(optimizer=keras.optimizers.SGD(lr=0.1),loss=\"binary_crossentropy\",metrics=[\"accuracy\"])\n",
    "Run = Model.fit(X_train, y_train, validation_split=0.2, epochs=Epochs, verbose=0, callbacks=[callback],shuffle=True)\n",
    "\n",
    "#Results\n",
    "print(\"\\nLast iteration: \", len(Run.history[\"loss\"]))\n",
    "print(\"Training accuracy: \", Run.history[\"accuracy\"][-1])\n",
    "print(\"Validation accuracy: \", Run.history[\"val_accuracy\"][-1])\n",
    "\n",
    "#Plot: accuracy curves\n",
    "plt.figure(figsize=(8,5))\n",
    "plt.plot(Run.history[\"loss\"],'-r')\n",
    "plt.plot(Run.history[\"val_loss\"],\"-b\")\n",
    "plt.plot(Run.history[\"accuracy\"],'--r')\n",
    "plt.plot(Run.history[\"val_accuracy\"],\"--b\")\n",
    "plt.xlim([50,400])\n",
    "plt.ylim([0.45,0.80])\n",
    "plt.xlabel(\"Epoch\")\n",
    "plt.ylabel(\"Cost function / Accuracy\")\n",
    "plt.legend([\"Training cost function\",\"Validation cost function\",\"Training accuracy\",\"Validation accuracy\"])"
   ]
  },
  {
   "cell_type": "markdown",
   "id": "0fabadb0-363e-42b0-837f-142586fa53f0",
   "metadata": {},
   "source": [
    ".\n",
    "\n",
    "Let's search for the best set of hyperparameters with a grid search. The output will be:\n",
    " - Number of units in the hidden layer(s)\n",
    " - Learning rate\n",
    " - Activation function\n",
    " - Mean accuracy on the training set (standard deviation)\n",
    " - Mean accuracy on the test set (standard deviation)\n",
    " - Mean precision\n",
    " - Mean recall\n",
    " - Mean F1-score\n",
    " - Mean training AUC\n",
    " - Mean test AUC"
   ]
  },
  {
   "cell_type": "code",
   "execution_count": 126,
   "id": "d3d20ae1-236e-416c-bddc-3f4fac21a22c",
   "metadata": {},
   "outputs": [
    {
     "name": "stdout",
     "output_type": "stream",
     "text": [
      "2 - None - 0.5 - sigmoid ----- 0.769 (0.006) - 0.781 (0.009) --- 0.752 - 0.517 - 0.612 --- 0.834 - 0.824\n",
      "2 - None - 0.5 - tanh ----- 0.772 (0.014) - 0.798 (0.016) --- 0.800 - 0.556 - 0.656 --- 0.843 - 0.840\n",
      "2 - None - 0.5 - relu ----- 0.761 (0.005) - 0.781 (0.014) --- 0.782 - 0.483 - 0.597 --- 0.824 - 0.831\n",
      "2 - None - 0.8 - sigmoid ----- 0.763 (0.003) - 0.778 (0.006) --- 0.694 - 0.600 - 0.644 --- 0.830 - 0.828\n",
      "2 - None - 0.8 - tanh ----- 0.756 (0.013) - 0.741 (0.048) --- 0.624 - 0.678 - 0.650 --- 0.815 - 0.822\n",
      "2 - None - 0.8 - relu ----- 0.763 (0.013) - 0.752 (0.038) --- 0.832 - 0.417 - 0.555 --- 0.836 - 0.819\n",
      "2 - None - 1.0 - sigmoid ----- 0.752 (0.017) - 0.737 (0.031) --- 0.697 - 0.500 - 0.582 --- 0.822 - 0.824\n",
      "2 - None - 1.0 - tanh ----- 0.768 (0.008) - 0.752 (0.026) --- 0.769 - 0.461 - 0.577 --- 0.832 - 0.835\n",
      "2 - None - 1.0 - relu ----- 0.766 (0.005) - 0.693 (0.120) --- 0.668 - 0.678 - 0.673 --- 0.830 - 0.812\n",
      "2 - 2 - 0.5 - sigmoid ----- 0.735 (0.052) - 0.761 (0.048) --- 0.559 - 0.500 - 0.528 --- 0.770 - 0.802\n",
      "2 - 2 - 0.5 - tanh ----- 0.749 (0.008) - 0.717 (0.040) --- 0.594 - 0.661 - 0.626 --- 0.813 - 0.819\n",
      "2 - 2 - 0.5 - relu ----- 0.745 (0.016) - 0.757 (0.031) --- 0.810 - 0.389 - 0.525 --- 0.801 - 0.811\n",
      "2 - 2 - 0.8 - sigmoid ----- 0.763 (0.008) - 0.772 (0.035) --- 0.736 - 0.572 - 0.644 --- 0.824 - 0.820\n",
      "2 - 2 - 0.8 - tanh ----- 0.750 (0.007) - 0.748 (0.031) --- 0.772 - 0.428 - 0.551 --- 0.828 - 0.833\n",
      "2 - 2 - 0.8 - relu ----- 0.632 (0.000) - 0.667 (0.000) --- 0.000 - 0.000 - nan --- 0.479 - 0.490\n",
      "2 - 2 - 1.0 - sigmoid ----- 0.727 (0.046) - 0.724 (0.034) --- 0.495 - 0.511 - 0.503 --- 0.752 - 0.795\n",
      "2 - 2 - 1.0 - tanh ----- 0.758 (0.023) - 0.744 (0.041) --- 0.726 - 0.528 - 0.611 --- 0.825 - 0.800\n",
      "2 - 2 - 1.0 - relu ----- 0.632 (0.000) - 0.667 (0.000) --- 0.000 - 0.000 - nan --- 0.450 - 0.500\n",
      "2 - 5 - 0.5 - sigmoid ----- 0.762 (0.007) - 0.772 (0.021) --- 0.738 - 0.511 - 0.604 --- 0.830 - 0.827\n",
      "2 - 5 - 0.5 - tanh ----- 0.754 (0.013) - 0.778 (0.013) --- 0.711 - 0.561 - 0.627 --- 0.818 - 0.822\n",
      "2 - 5 - 0.5 - relu ----- 0.632 (0.000) - 0.667 (0.000) --- 0.000 - 0.000 - nan --- 0.454 - 0.500\n",
      "2 - 5 - 0.8 - sigmoid ----- 0.731 (0.050) - 0.757 (0.048) --- 0.608 - 0.406 - 0.487 --- 0.775 - 0.816\n",
      "2 - 5 - 0.8 - tanh ----- 0.753 (0.012) - 0.720 (0.102) --- 0.681 - 0.583 - 0.628 --- 0.817 - 0.820\n",
      "2 - 5 - 0.8 - relu ----- 0.761 (0.007) - 0.713 (0.047) --- 0.597 - 0.678 - 0.635 --- 0.803 - 0.786\n",
      "2 - 5 - 1.0 - sigmoid ----- 0.740 (0.009) - 0.765 (0.034) --- 0.695 - 0.589 - 0.637 --- 0.804 - 0.819\n",
      "2 - 5 - 1.0 - tanh ----- 0.762 (0.015) - 0.770 (0.009) --- 0.732 - 0.517 - 0.606 --- 0.825 - 0.815\n",
      "2 - 5 - 1.0 - relu ----- 0.632 (0.000) - 0.667 (0.000) --- 0.000 - 0.000 - nan --- 0.457 - 0.500\n",
      "3 - None - 0.5 - sigmoid ----- 0.758 (0.005) - 0.778 (0.012) --- 0.720 - 0.556 - 0.627 --- 0.835 - 0.827\n",
      "3 - None - 0.5 - tanh ----- 0.759 (0.008) - 0.774 (0.017) --- 0.795 - 0.439 - 0.566 --- 0.828 - 0.831\n",
      "3 - None - 0.5 - relu ----- 0.761 (0.007) - 0.757 (0.011) --- 0.835 - 0.350 - 0.493 --- 0.828 - 0.821\n",
      "3 - None - 0.8 - sigmoid ----- 0.766 (0.006) - 0.780 (0.022) --- 0.794 - 0.472 - 0.592 --- 0.835 - 0.831\n",
      "3 - None - 0.8 - tanh ----- 0.751 (0.017) - 0.746 (0.045) --- 0.708 - 0.539 - 0.612 --- 0.817 - 0.821\n",
      "3 - None - 0.8 - relu ----- 0.754 (0.011) - 0.756 (0.032) --- 0.710 - 0.533 - 0.609 --- 0.827 - 0.830\n",
      "3 - None - 1.0 - sigmoid ----- 0.753 (0.015) - 0.754 (0.032) --- 0.816 - 0.389 - 0.527 --- 0.821 - 0.821\n",
      "3 - None - 1.0 - tanh ----- 0.758 (0.023) - 0.754 (0.022) --- 0.702 - 0.578 - 0.634 --- 0.829 - 0.834\n",
      "3 - None - 1.0 - relu ----- 0.758 (0.011) - 0.778 (0.010) --- 0.793 - 0.461 - 0.583 --- 0.831 - 0.831\n",
      "3 - 2 - 0.5 - sigmoid ----- 0.717 (0.070) - 0.726 (0.052) --- 0.489 - 0.244 - 0.326 --- 0.700 - 0.744\n",
      "3 - 2 - 0.5 - tanh ----- 0.766 (0.015) - 0.752 (0.030) --- 0.669 - 0.583 - 0.623 --- 0.821 - 0.815\n",
      "3 - 2 - 0.5 - relu ----- 0.632 (0.000) - 0.667 (0.000) --- 0.000 - 0.000 - nan --- 0.477 - 0.504\n",
      "3 - 2 - 0.8 - sigmoid ----- 0.727 (0.048) - 0.711 (0.029) --- 0.548 - 0.372 - 0.443 --- 0.758 - 0.796\n",
      "3 - 2 - 0.8 - tanh ----- 0.746 (0.028) - 0.715 (0.039) --- 0.685 - 0.528 - 0.596 --- 0.799 - 0.766\n",
      "3 - 2 - 0.8 - relu ----- 0.680 (0.059) - 0.696 (0.036) --- 0.295 - 0.156 - 0.204 --- 0.613 - 0.616\n",
      "3 - 2 - 1.0 - sigmoid ----- 0.734 (0.051) - 0.731 (0.037) --- 0.552 - 0.422 - 0.479 --- 0.756 - 0.801\n",
      "3 - 2 - 1.0 - tanh ----- 0.779 (0.005) - 0.767 (0.024) --- 0.809 - 0.450 - 0.578 --- 0.839 - 0.821\n",
      "3 - 2 - 1.0 - relu ----- 0.632 (0.000) - 0.667 (0.000) --- 0.000 - 0.000 - nan --- 0.476 - 0.500\n",
      "3 - 5 - 0.5 - sigmoid ----- 0.632 (0.000) - 0.667 (0.000) --- 0.000 - 0.000 - nan --- 0.515 - 0.669\n",
      "3 - 5 - 0.5 - tanh ----- 0.742 (0.014) - 0.731 (0.039) --- 0.632 - 0.633 - 0.633 --- 0.807 - 0.816\n",
      "3 - 5 - 0.5 - relu ----- 0.753 (0.018) - 0.722 (0.057) --- 0.763 - 0.461 - 0.575 --- 0.801 - 0.817\n",
      "3 - 5 - 0.8 - sigmoid ----- 0.632 (0.000) - 0.667 (0.000) --- 0.000 - 0.000 - nan --- 0.474 - 0.523\n",
      "3 - 5 - 0.8 - tanh ----- 0.754 (0.025) - 0.743 (0.043) --- 0.763 - 0.472 - 0.583 --- 0.824 - 0.822\n",
      "3 - 5 - 0.8 - relu ----- 0.720 (0.046) - 0.737 (0.040) --- 0.591 - 0.333 - 0.426 --- 0.767 - 0.779\n",
      "3 - 5 - 1.0 - sigmoid ----- 0.735 (0.053) - 0.733 (0.047) --- 0.584 - 0.417 - 0.486 --- 0.760 - 0.803\n",
      "3 - 5 - 1.0 - tanh ----- 0.756 (0.012) - 0.778 (0.023) --- 0.724 - 0.556 - 0.629 --- 0.821 - 0.834\n",
      "3 - 5 - 1.0 - relu ----- 0.724 (0.042) - 0.663 (0.170) --- 0.488 - 0.533 - 0.510 --- 0.771 - 0.811\n",
      "5 - None - 0.5 - sigmoid ----- 0.757 (0.006) - 0.774 (0.013) --- 0.722 - 0.533 - 0.613 --- 0.831 - 0.826\n",
      "5 - None - 0.5 - tanh ----- 0.765 (0.016) - 0.770 (0.023) --- 0.743 - 0.506 - 0.602 --- 0.834 - 0.825\n",
      "5 - None - 0.5 - relu ----- 0.758 (0.014) - 0.780 (0.009) --- 0.740 - 0.550 - 0.631 --- 0.828 - 0.828\n",
      "5 - None - 0.8 - sigmoid ----- 0.758 (0.013) - 0.765 (0.015) --- 0.740 - 0.472 - 0.577 --- 0.832 - 0.829\n",
      "5 - None - 0.8 - tanh ----- 0.755 (0.017) - 0.759 (0.029) --- 0.752 - 0.494 - 0.597 --- 0.828 - 0.824\n",
      "5 - None - 0.8 - relu ----- 0.769 (0.013) - 0.778 (0.021) --- 0.798 - 0.483 - 0.602 --- 0.843 - 0.834\n",
      "5 - None - 1.0 - sigmoid ----- 0.756 (0.007) - 0.785 (0.004) --- 0.722 - 0.583 - 0.645 --- 0.822 - 0.829\n",
      "5 - None - 1.0 - tanh ----- 0.751 (0.009) - 0.754 (0.030) --- 0.892 - 0.322 - 0.473 --- 0.822 - 0.837\n",
      "5 - None - 1.0 - relu ----- 0.752 (0.013) - 0.772 (0.018) --- 0.758 - 0.500 - 0.603 --- 0.808 - 0.821\n",
      "5 - 2 - 0.5 - sigmoid ----- 0.732 (0.051) - 0.756 (0.046) --- 0.551 - 0.489 - 0.518 --- 0.756 - 0.790\n",
      "5 - 2 - 0.5 - tanh ----- 0.751 (0.022) - 0.769 (0.008) --- 0.799 - 0.428 - 0.557 --- 0.816 - 0.809\n",
      "5 - 2 - 0.5 - relu ----- 0.777 (0.004) - 0.759 (0.012) --- 0.705 - 0.544 - 0.614 --- 0.833 - 0.813\n",
      "5 - 2 - 0.8 - sigmoid ----- 0.710 (0.064) - 0.715 (0.045) --- 0.419 - 0.317 - 0.361 --- 0.685 - 0.715\n",
      "5 - 2 - 0.8 - tanh ----- 0.756 (0.017) - 0.722 (0.044) --- 0.775 - 0.406 - 0.533 --- 0.818 - 0.814\n",
      "5 - 2 - 0.8 - relu ----- 0.668 (0.044) - 0.683 (0.029) --- 0.223 - 0.289 - 0.252 --- 0.624 - 0.680\n",
      "5 - 2 - 1.0 - sigmoid ----- 0.751 (0.011) - 0.754 (0.026) --- 0.745 - 0.428 - 0.543 --- 0.818 - 0.820\n",
      "5 - 2 - 1.0 - tanh ----- 0.760 (0.014) - 0.743 (0.038) --- 0.805 - 0.411 - 0.544 --- 0.826 - 0.822\n",
      "5 - 2 - 1.0 - relu ----- 0.744 (0.013) - 0.707 (0.084) --- 0.579 - 0.733 - 0.647 --- 0.814 - 0.823\n",
      "5 - 5 - 0.5 - sigmoid ----- 0.681 (0.061) - 0.696 (0.036) --- 0.307 - 0.128 - 0.180 --- 0.647 - 0.663\n",
      "5 - 5 - 0.5 - tanh ----- 0.769 (0.010) - 0.746 (0.036) --- 0.740 - 0.472 - 0.576 --- 0.834 - 0.822\n",
      "5 - 5 - 0.5 - relu ----- 0.778 (0.020) - 0.757 (0.018) --- 0.785 - 0.456 - 0.577 --- 0.842 - 0.816\n",
      "5 - 5 - 0.8 - sigmoid ----- 0.732 (0.051) - 0.741 (0.048) --- 0.548 - 0.506 - 0.526 --- 0.767 - 0.806\n",
      "5 - 5 - 0.8 - tanh ----- 0.762 (0.016) - 0.780 (0.011) --- 0.746 - 0.544 - 0.629 --- 0.836 - 0.825\n",
      "5 - 5 - 0.8 - relu ----- 0.726 (0.038) - 0.769 (0.021) --- 0.824 - 0.422 - 0.558 --- 0.783 - 0.829\n",
      "5 - 5 - 1.0 - sigmoid ----- 0.758 (0.016) - 0.752 (0.042) --- 0.816 - 0.372 - 0.511 --- 0.819 - 0.822\n",
      "5 - 5 - 1.0 - tanh ----- 0.752 (0.027) - 0.696 (0.106) --- 0.767 - 0.461 - 0.576 --- 0.822 - 0.816\n",
      "5 - 5 - 1.0 - relu ----- 0.753 (0.024) - 0.733 (0.058) --- 0.611 - 0.683 - 0.645 --- 0.801 - 0.783\n"
     ]
    }
   ],
   "source": [
    "#Grid search\n",
    "hid_layer1 = [2,3,5]\n",
    "hid_layer2 = [None, 2,5]\n",
    "learning_rate = [0.5,0.8,1.0]\n",
    "functions = [\"sigmoid\",\"tanh\",\"relu\"]\n",
    "for i in hid_layer1 :\n",
    "    for j in hid_layer2 :\n",
    "        for a in learning_rate :\n",
    "            for f in functions :\n",
    "            #Model structure\n",
    "                if j == None :\n",
    "                    Model = Sequential()\n",
    "                    Model.add(Dense(units=i, input_shape=X_train.shape[1:]))\n",
    "                    Model.add(Activation(f))\n",
    "                    Model.add(Dense(units=1, activation=\"sigmoid\"))             #One output (0 or 1)\n",
    "                else :\n",
    "                    Model = Sequential()\n",
    "                    Model.add(Dense(units=i, input_shape=X_train.shape[1:]))\n",
    "                    Model.add(Activation(f))\n",
    "                    Model.add(Dense(units=j))\n",
    "                    Model.add(Activation(f))\n",
    "                    Model.add(Dense(units=1, activation=\"sigmoid\"))             #One output (0 or 1)\n",
    "                #Training\n",
    "                callback = keras.callbacks.EarlyStopping(monitor='loss', patience=5)       #Early stopping\n",
    "                Epochs = 1000\n",
    "                Model.compile(optimizer=keras.optimizers.SGD(lr=a),loss=\"binary_crossentropy\",metrics=[\"accuracy\", keras.metrics.Precision(), keras.metrics.Recall(),keras.metrics.AUC()])\n",
    "                acc, acc_te, pre, rec, auc, auc_te = [], [], [], [], [], []\n",
    "                for k in range(5) :\n",
    "                    Run = Model.fit(X_train, y_train, validation_split=0.2, epochs=Epochs, verbose=0, callbacks=[callback], shuffle = True)\n",
    "                    acc.append(Run.history[\"accuracy\"][-1]), acc_te.append(Run.history[\"val_accuracy\"][-1])\n",
    "                    pre.append(Run.history[list(Run.history)[7]][-1]),rec.append(Run.history[list(Run.history)[8]][-1])\n",
    "                    auc.append(Run.history[list(Run.history)[4]][-1])\n",
    "                    auc_te.append(Run.history[list(Run.history)[9]][-1])\n",
    "                    \n",
    "                print(\"{} - {} - {} - {} ----- {:.3f} ({:.3f}) - {:.3f} ({:.3f}) --- {:.3f} - {:.3f} - {:.3f} --- {:.3f} - {:.3f}\".format(i,j,a,f,\n",
    "                                                                                                    np.mean(acc),np.std(acc),np.mean(acc_te),np.std(acc_te),\n",
    "                                                                                                    np.mean(pre), np.mean(rec),\n",
    "                                                                                                    2*(np.mean(pre)*np.mean(rec))/(np.mean(pre)+np.mean(rec)),\n",
    "                                                                                                    np.mean(auc), np.mean(auc_te)))"
   ]
  },
  {
   "cell_type": "markdown",
   "id": "99be3f53-4da6-415b-b4dc-faf15806ccc7",
   "metadata": {},
   "source": [
    ".\n",
    "\n",
    "The best model (i.e. high validation AUC, high validation accuracy, high f1-score, precision and recall, small std on accuracies) is\n",
    "- Number of units in the first hidden layer: 2\n",
    "- Number of units in the second hidden layer: None\n",
    "- Learning rate: 0.5\n",
    "- Activation function: tanh\n",
    "\n",
    ".\n",
    "\n",
    "Let's take a look at the performance on the Test set"
   ]
  },
  {
   "cell_type": "code",
   "execution_count": 127,
   "id": "7fc45c25-b07a-48a9-8b30-25054aeebb0e",
   "metadata": {},
   "outputs": [
    {
     "name": "stdout",
     "output_type": "stream",
     "text": [
      "\n",
      "Last iteration:  22\n",
      "Training accuracy:  0.7653631567955017\n",
      "Test accuracy:  0.7705627679824829\n",
      "\n",
      "Test precision:  0.7142857313156128\n",
      "Test recall:  0.47297295928001404\n",
      "Test f1-score:  0.5691056865498235\n",
      "\n",
      "           Predicted 0  Predicted 1\n",
      "Actual 0          143           14\n",
      "Actual 1           39           35\n"
     ]
    },
    {
     "data": {
      "text/plain": [
       "<matplotlib.legend.Legend at 0x7f9f188389e8>"
      ]
     },
     "execution_count": 127,
     "metadata": {},
     "output_type": "execute_result"
    },
    {
     "data": {
      "image/png": "[encoded data removed]",
      "text/plain": [
       "<Figure size 432x288 with 1 Axes>"
      ]
     },
     "metadata": {
      "needs_background": "light"
     },
     "output_type": "display_data"
    }
   ],
   "source": [
    "#Best model\n",
    "Model1 = Sequential()\n",
    "Model1.add(Dense(units=2, input_shape=X_train.shape[1:]))\n",
    "Model1.add(Activation(\"tanh\"))\n",
    "Model1.add(Dense(units=1, activation=\"sigmoid\"))             #One output (0 or 1)\n",
    "\n",
    "#Training\n",
    "Model1.compile(optimizer=keras.optimizers.SGD(lr=0.5),loss=\"binary_crossentropy\",metrics=[\"accuracy\", keras.metrics.Precision(), keras.metrics.Recall()])\n",
    "Run = Model1.fit(X_train, y_train, validation_data=(X_test,y_test), epochs=Epochs, verbose=0, callbacks=[callback])\n",
    "\n",
    "#Results\n",
    "print(\"\\nLast iteration: \", len(Run.history[\"loss\"]))\n",
    "print(\"Training accuracy: \", Run.history[\"accuracy\"][-1])\n",
    "print(\"Test accuracy: \", Run.history[\"val_accuracy\"][-1])\n",
    "print(\"\\nTest precision: \", Run.history[list(Run.history)[6]][-1])\n",
    "print(\"Test recall: \", Run.history[list(Run.history)[7]][-1])\n",
    "print(\"Test f1-score: \", 2*((Run.history[list(Run.history)[6]][-1])*(Run.history[list(Run.history)[7]][-1]))/((Run.history[list(Run.history)[6]][-1])+(Run.history[list(Run.history)[7]][-1])))\n",
    "\n",
    "#Confusion matrix (the function \"predict_classes\" does not exist anymore)\n",
    "Pred = Model1.predict(X_test)\n",
    "Newpred = Pred.copy()\n",
    "Newpred = np.where(Newpred>=0.5,1,0)    \n",
    "Conf_matrix = pd.DataFrame(confusion_matrix(y_test, Newpred))\n",
    "Conf_matrix.index=[\"Actual 0\", \"Actual 1\"]\n",
    "Conf_matrix.columns=[\"Predicted 0\", \"Predicted 1\"]\n",
    "print(\"\\n\",Conf_matrix)\n",
    "\n",
    "#ROC curves\n",
    "fpr1, tpr1, thresholds1 = roc_curve(y_train,Model1.predict(X_train))\n",
    "fpr2, tpr2, thresholds2 = roc_curve(y_test,Model1.predict(X_test))\n",
    "plt.plot(fpr1, tpr1,'blue',lw=2)\n",
    "plt.plot(fpr2, tpr2,'red',lw=2)\n",
    "plt.plot([0,1],[0,1],'--b')\n",
    "plt.xlabel(\"False positive rate\")\n",
    "plt.ylabel(\"True positive rate\")\n",
    "plt.legend([\"Training set (AUC: {:.2f})\".format(roc_auc_score(y_train,Model1.predict(X_train))),\"Test set (AUC: {:.2f})\".format(roc_auc_score(y_test,Model1.predict(X_test)))], loc=\"lower right\")"
   ]
  }
 ],
 "metadata": {
  "kernelspec": {
   "display_name": "Python 3 (ipykernel)",
   "language": "python",
   "name": "python3"
  },
  "language_info": {
   "codemirror_mode": {
    "name": "ipython",
    "version": 3
   },
   "file_extension": ".py",
   "mimetype": "text/x-python",
   "name": "python",
   "nbconvert_exporter": "python",
   "pygments_lexer": "ipython3",
   "version": "3.7.3"
  }
 },
 "nbformat": 4,
 "nbformat_minor": 5
}
