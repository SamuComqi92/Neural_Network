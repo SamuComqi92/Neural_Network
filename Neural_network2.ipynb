{
 "cells": [
  {
   "cell_type": "markdown",
   "id": "85e6a142-64c7-4dc7-8cc7-bd5e2e564155",
   "metadata": {},
   "source": [
    "# **Neural Network from scratch**\n",
    "\n",
    ".\n",
    "\n",
    "."
   ]
  },
  {
   "cell_type": "code",
   "execution_count": 101,
   "id": "6d71c9cd-591a-450e-afc3-e7c3684dabfd",
   "metadata": {},
   "outputs": [],
   "source": [
    "#Import libraries\n",
    "import numpy as np\n",
    "import pandas as pd\n",
    "import matplotlib.pyplot as plt\n",
    "from sklearn.model_selection import train_test_split\n",
    "from sklearn.preprocessing import MinMaxScaler\n",
    "from sklearn.linear_model import LogisticRegression\n",
    "from sklearn.metrics import confusion_matrix,precision_score,recall_score,f1_score, accuracy_score, precision_recall_curve, roc_auc_score, roc_curve\n",
    "\n",
    "import tensorflow\n",
    "from tensorflow import keras\n",
    "from keras.models import Sequential\n",
    "from keras.layers import Dense, Activation\n",
    "\n",
    "import warnings\n",
    "warnings.filterwarnings(\"ignore\")"
   ]
  },
  {
   "cell_type": "markdown",
   "id": "e1bd6e7b-c838-428a-87eb-37fe70cb879d",
   "metadata": {},
   "source": [
    ".\n",
    "\n",
    "## **Define useful functions**\n",
    "\n",
    "Initializing the weights to zero is not recommended. Andrew Ng (in his the online course about Machine Learning on Coursera) suggests the following initialization:"
   ]
  },
  {
   "cell_type": "code",
   "execution_count": 2,
   "id": "e013be8f-0fd1-4bad-b011-da530ba8e52e",
   "metadata": {},
   "outputs": [],
   "source": [
    "#Random initialization of weights\n",
    "def randw(Lin,Lout) :\n",
    "    np.random.seed(0)\n",
    "    epsilon = (6 / (Lin+Lout))**0.5;\n",
    "    return np.random.rand(Lout,Lin+1)*2*epsilon - epsilon"
   ]
  },
  {
   "cell_type": "markdown",
   "id": "6766f476-b97b-4599-aee7-b89dfbcc9d16",
   "metadata": {},
   "source": [
    ".\n",
    "\n",
    "The *forward propagation* is useful to fo from the input layer to the output layer."
   ]
  },
  {
   "cell_type": "code",
   "execution_count": 3,
   "id": "c8ecc8f7-4ced-4432-84e9-7e47a190f499",
   "metadata": {},
   "outputs": [],
   "source": [
    "#Forward propagation\n",
    "def Forward(X,theta1,theta2,theta3=None) :\n",
    "    m = X.shape[0]\n",
    "    a2 = 1./(1.+np.exp(-np.dot(theta1,X.T)))      #a1=X.T\n",
    "    a3 = 1./(1.+np.exp(-np.dot(theta2,np.vstack([np.ones((1,m)),a2]))))\n",
    "    if theta3 is None :\n",
    "        return a3.T\n",
    "    else :\n",
    "        a4 = 1./(1.+np.exp(-np.dot(theta3,np.vstack([np.ones((1,m)),a3]))))\n",
    "        return a4.T"
   ]
  },
  {
   "cell_type": "markdown",
   "id": "c5ca2d7a-ee11-42fd-b76a-86b684c66e17",
   "metadata": {},
   "source": [
    ".\n",
    "\n",
    "The Neural Network training requires the full *forward and back propagation* algorithm to optimize the weights by computing the gradient of the cost function."
   ]
  },
  {
   "cell_type": "code",
   "execution_count": 4,
   "id": "06725050-acdd-441c-bf45-48a21b1e5c80",
   "metadata": {},
   "outputs": [],
   "source": [
    "#Forward and Backpropagation\n",
    "def ForwBack(X,theta1,theta2, yy, theta3=None) :\n",
    "    m = X.shape[0]\n",
    "    a2 = 1./(1.+np.exp(-np.dot(theta1,X.T)))\n",
    "    a3 = 1./(1.+np.exp(-np.dot(theta2,np.vstack([np.ones((1,m)),a2]))))\n",
    "    if theta3 is None :\n",
    "        d3 = a3-yy.T\n",
    "        d2 = np.dot(theta2.T,d3) * np.vstack([np.ones((1,m)),a2]) * (1 - np.vstack([np.ones((1,m)),a2]))\n",
    "        a4, d4 = 0,0\n",
    "        return a2, a3, a4, d2, d3, d4\n",
    "    else :\n",
    "        a4 = 1./(1.+np.exp(-np.dot(theta3,np.vstack([np.ones((1,m)),a3]))))\n",
    "        d4 = a4-yy.T\n",
    "        d3 = (np.dot(theta3.T,d4) * np.vstack([np.ones((1,m)),a3]) * (1 - np.vstack([np.ones((1,m)),a3])))[1:,:]\n",
    "        d2 = (np.dot(theta2.T,d3) * np.vstack([np.ones((1,m)),a2]) * (1 - np.vstack([np.ones((1,m)),a2])))[1:,:]\n",
    "        return a2, a3, a4, d2, d3, d4"
   ]
  },
  {
   "cell_type": "markdown",
   "id": "2cdca62b-1029-49dd-9061-0fcde64813f7",
   "metadata": {},
   "source": [
    ".\n",
    "\n",
    "Finally, it is possible to create the Cost function and its gradient: in this function, the L2 regularization is added in the code."
   ]
  },
  {
   "cell_type": "code",
   "execution_count": 5,
   "id": "e656d10d-9597-45a2-a1d9-9c50297c3306",
   "metadata": {},
   "outputs": [],
   "source": [
    "#Cost function and Gradient\n",
    "def J_Grad(theta1, theta2, X, y, hid_layer1, labels, Lambda, theta3 = None, hid_layer2 = None) :\n",
    "    m = X.shape[0]\n",
    "    inputs = X.shape[1]\n",
    "    X = np.hstack([np.ones((X.shape[0],1)),X])\n",
    "    \n",
    "    #Create target array\n",
    "    yy = np.zeros((len(y),labels))\n",
    "    for i in np.arange(0,m) :\n",
    "        for k in np.arange(0,labels) :\n",
    "            if y[i] == k :\n",
    "                yy[i,k] = 1\n",
    "    \n",
    "    a2, a3, a4, d2, d3, d4 = ForwBack(X=X, theta1=theta1, theta2=theta2, theta3=theta3, yy=yy)\n",
    "    if hid_layer2 is None :\n",
    "        REG = (np.sum(theta1[:,1:]**2) + np.sum(theta2[:,1:]**2))*Lambda/(2*m)  \n",
    "        J = sum(sum(-np.log10(a3)*yy.T - np.log10(1-a3)*(1-yy).T))/m + REG\n",
    "        Delta1 = np.dot(d2,X)[1:,:]       #(d2,a1.T)\n",
    "        Delta2 = np.dot(d3,(np.vstack([np.ones((1,m)),a2])).T)\n",
    "        t1grad = (Delta1+(np.hstack([ np.zeros((theta1.shape[0],1)), theta1[:,1:]  ]))*Lambda)/m\n",
    "        t2grad = (Delta2+(np.hstack([ np.zeros((theta2.shape[0],1)), theta2[:,1:]  ]))*Lambda)/m\n",
    "        t3grad = 0    \n",
    "    else :\n",
    "        REG = (np.sum(theta1[:,1:]**2) + np.sum(theta2[:,1:]**2) + np.sum(theta3[:,1:]**2))*Lambda/(2*m)  \n",
    "        J = sum(sum(-np.log10(a4)*yy.T - np.log10(1-a4)*(1-yy).T))/m + REG\n",
    "        Delta1 = np.dot(d2,X)\n",
    "        Delta2 = np.dot(d3,(np.vstack([np.ones((1,m)),a2])).T)\n",
    "        Delta3 = np.dot(d4,(np.vstack([np.ones((1,m)),a3])).T)\n",
    "        t1grad = (Delta1+(np.hstack([ np.zeros((theta1.shape[0],1)), theta1[:,1:]  ]))*Lambda)/m\n",
    "        t2grad = (Delta2+(np.hstack([ np.zeros((theta2.shape[0],1)), theta2[:,1:]  ]))*Lambda)/m\n",
    "        t3grad = (Delta3+(np.hstack([ np.zeros((theta3.shape[0],1)), theta3[:,1:]  ]))*Lambda)/m\n",
    "    return J, t1grad, t2grad, t3grad"
   ]
  },
  {
   "cell_type": "markdown",
   "id": "5ce4b119-0a3e-41d6-9697-1d652558f3e3",
   "metadata": {},
   "source": [
    ".\n",
    "\n",
    "Once weights have been optimized, the following function returns the final probabilities, predictions, and accuracy."
   ]
  },
  {
   "cell_type": "code",
   "execution_count": 6,
   "id": "366d9899-5330-4e36-b3b5-0d88005ec053",
   "metadata": {},
   "outputs": [],
   "source": [
    "def Accuracy(theta1, theta2, X, y, theta3 = None) :\n",
    "    m = X.shape[0]\n",
    "    inputs = X.shape[1]\n",
    "    X = np.hstack([np.ones((X.shape[0],1)),X])\n",
    "    final = Forward(X,theta1,theta2,theta3=theta3)\n",
    "    Pred = []\n",
    "    for i in np.arange(0,len(final)) :\n",
    "        Pred.append(np.argmax(final[i,:]))\n",
    "    return final[:,1], Pred, (Pred == y).sum()/len(y)"
   ]
  },
  {
   "cell_type": "markdown",
   "id": "5c0627ff-5e82-44d9-a0fd-4ab3bc033930",
   "metadata": {},
   "source": [
    ".\n",
    "\n",
    "All the pieces are ready to write the Neural Network training function that implements the forward and back propagation algorithm up to a *Max_iter* iteration.\n",
    "\n",
    "The following code includes the *early stopping* part: once the cost function on the validation set reaches its minimum, the algorithm stops to avoid overfitting.\n",
    "\n",
    "The function return the last iteration epoch, the matrices of weights, the training and validation cost function values at the last iteration, and the corresponding accuracies."
   ]
  },
  {
   "cell_type": "code",
   "execution_count": 7,
   "id": "08964b33-a2c8-4ef0-835c-263166b5f224",
   "metadata": {},
   "outputs": [],
   "source": [
    "#Training Neural Network\n",
    "def Training(hid_layer1, X, y, X_test, y_test, alpha, Lambda, Max_iter, hid_layer2 = None, flag = True) :\n",
    "    inputs = X.shape[1]                     #Number of features\n",
    "    labels = len(pd.Series(y).unique())     #Number of labels (in the output)\n",
    "    Cost_te = 100\n",
    "    if hid_layer2 is None :\n",
    "        #Random initialization of weights\n",
    "        theta1 = randw(inputs, hid_layer1)\n",
    "        theta2 = randw(hid_layer1, labels)\n",
    "        theta3 = None\n",
    "    else :\n",
    "        theta1 = randw(inputs, hid_layer1)\n",
    "        theta2 = randw(hid_layer1, hid_layer2)\n",
    "        theta3 = randw(hid_layer2, labels)\n",
    "\n",
    "    #Iterative training (i: epoch)\n",
    "    Cost, Cost_t = [], []\n",
    "    for i in range(Max_iter) :\n",
    "        A, B, C, D = J_Grad(theta1=theta1, theta2=theta2, theta3=theta3, X=X, y=y, hid_layer1=hid_layer1, hid_layer2=hid_layer2, labels=labels, Lambda=Lambda)\n",
    "        A1, B1, C1, D1 = J_Grad(theta1=theta1, theta2=theta2, theta3=theta3, X=X_test, y=y_test, hid_layer1=hid_layer1, hid_layer2=hid_layer2, labels=labels, Lambda=0.0)\n",
    "        EE, E, F = Accuracy(theta1=theta1, theta2=theta2, theta3=theta3, X=X, y=y)\n",
    "        EE1, E1, F1 = Accuracy(theta1=theta1, theta2=theta2, theta3=theta3, X=X_test, y=y_test)\n",
    "        Cost.append(A)\n",
    "        Cost_t.append(A1)\n",
    "        \n",
    "        #Early stopping\n",
    "        broken = 0\n",
    "        if (flag == True) & (i>100) :        #To avoid initial flactuations\n",
    "            if A1<Cost_te :\n",
    "                Cost_te = A1\n",
    "            else :\n",
    "                broken = 1\n",
    "        if broken==1 :\n",
    "            break\n",
    "            \n",
    "        #Update weights\n",
    "        if hid_layer2 is None :\n",
    "            theta1 = theta1 - alpha*B\n",
    "            theta2 = theta2 - alpha*C\n",
    "        else :\n",
    "            theta1 = theta1 - alpha*B\n",
    "            theta2 = theta2 - alpha*C\n",
    "            theta3 = theta3 - alpha*D\n",
    "        i=i+1\n",
    "    return i, theta1, theta2, theta3, Cost, Cost_t, F, F1"
   ]
  },
  {
   "cell_type": "markdown",
   "id": "2c634242-e60d-47c7-9a3c-6ee26313d614",
   "metadata": {},
   "source": [
    ".\n",
    "\n",
    "## **Dataset**\n",
    "\n",
    "The dataset has been retrieved from https://raw.githubusercontent.com/jbrownlee/Datasets/master/pima-indians-diabetes.names : it is about the *Pima Indians Diabetes*."
   ]
  },
  {
   "cell_type": "code",
   "execution_count": 9,
   "id": "a1d983db-013f-4d53-90f3-c608aab8bd5d",
   "metadata": {},
   "outputs": [
    {
     "data": {
      "text/html": [
       "<div>\n",
       "<style scoped>\n",
       "    .dataframe tbody tr th:only-of-type {\n",
       "        vertical-align: middle;\n",
       "    }\n",
       "\n",
       "    .dataframe tbody tr th {\n",
       "        vertical-align: top;\n",
       "    }\n",
       "\n",
       "    .dataframe thead th {\n",
       "        text-align: right;\n",
       "    }\n",
       "</style>\n",
       "<table border=\"1\" class=\"dataframe\">\n",
       "  <thead>\n",
       "    <tr style=\"text-align: right;\">\n",
       "      <th></th>\n",
       "      <th>A</th>\n",
       "      <th>B</th>\n",
       "      <th>C</th>\n",
       "      <th>D</th>\n",
       "      <th>E</th>\n",
       "      <th>F</th>\n",
       "      <th>G</th>\n",
       "      <th>H</th>\n",
       "      <th>Class</th>\n",
       "    </tr>\n",
       "  </thead>\n",
       "  <tbody>\n",
       "    <tr>\n",
       "      <th>0</th>\n",
       "      <td>6</td>\n",
       "      <td>148</td>\n",
       "      <td>72</td>\n",
       "      <td>35</td>\n",
       "      <td>0</td>\n",
       "      <td>33.6</td>\n",
       "      <td>0.627</td>\n",
       "      <td>50</td>\n",
       "      <td>1</td>\n",
       "    </tr>\n",
       "    <tr>\n",
       "      <th>1</th>\n",
       "      <td>1</td>\n",
       "      <td>85</td>\n",
       "      <td>66</td>\n",
       "      <td>29</td>\n",
       "      <td>0</td>\n",
       "      <td>26.6</td>\n",
       "      <td>0.351</td>\n",
       "      <td>31</td>\n",
       "      <td>0</td>\n",
       "    </tr>\n",
       "    <tr>\n",
       "      <th>2</th>\n",
       "      <td>8</td>\n",
       "      <td>183</td>\n",
       "      <td>64</td>\n",
       "      <td>0</td>\n",
       "      <td>0</td>\n",
       "      <td>23.3</td>\n",
       "      <td>0.672</td>\n",
       "      <td>32</td>\n",
       "      <td>1</td>\n",
       "    </tr>\n",
       "    <tr>\n",
       "      <th>3</th>\n",
       "      <td>1</td>\n",
       "      <td>89</td>\n",
       "      <td>66</td>\n",
       "      <td>23</td>\n",
       "      <td>94</td>\n",
       "      <td>28.1</td>\n",
       "      <td>0.167</td>\n",
       "      <td>21</td>\n",
       "      <td>0</td>\n",
       "    </tr>\n",
       "    <tr>\n",
       "      <th>4</th>\n",
       "      <td>0</td>\n",
       "      <td>137</td>\n",
       "      <td>40</td>\n",
       "      <td>35</td>\n",
       "      <td>168</td>\n",
       "      <td>43.1</td>\n",
       "      <td>2.288</td>\n",
       "      <td>33</td>\n",
       "      <td>1</td>\n",
       "    </tr>\n",
       "    <tr>\n",
       "      <th>...</th>\n",
       "      <td>...</td>\n",
       "      <td>...</td>\n",
       "      <td>...</td>\n",
       "      <td>...</td>\n",
       "      <td>...</td>\n",
       "      <td>...</td>\n",
       "      <td>...</td>\n",
       "      <td>...</td>\n",
       "      <td>...</td>\n",
       "    </tr>\n",
       "    <tr>\n",
       "      <th>763</th>\n",
       "      <td>10</td>\n",
       "      <td>101</td>\n",
       "      <td>76</td>\n",
       "      <td>48</td>\n",
       "      <td>180</td>\n",
       "      <td>32.9</td>\n",
       "      <td>0.171</td>\n",
       "      <td>63</td>\n",
       "      <td>0</td>\n",
       "    </tr>\n",
       "    <tr>\n",
       "      <th>764</th>\n",
       "      <td>2</td>\n",
       "      <td>122</td>\n",
       "      <td>70</td>\n",
       "      <td>27</td>\n",
       "      <td>0</td>\n",
       "      <td>36.8</td>\n",
       "      <td>0.340</td>\n",
       "      <td>27</td>\n",
       "      <td>0</td>\n",
       "    </tr>\n",
       "    <tr>\n",
       "      <th>765</th>\n",
       "      <td>5</td>\n",
       "      <td>121</td>\n",
       "      <td>72</td>\n",
       "      <td>23</td>\n",
       "      <td>112</td>\n",
       "      <td>26.2</td>\n",
       "      <td>0.245</td>\n",
       "      <td>30</td>\n",
       "      <td>0</td>\n",
       "    </tr>\n",
       "    <tr>\n",
       "      <th>766</th>\n",
       "      <td>1</td>\n",
       "      <td>126</td>\n",
       "      <td>60</td>\n",
       "      <td>0</td>\n",
       "      <td>0</td>\n",
       "      <td>30.1</td>\n",
       "      <td>0.349</td>\n",
       "      <td>47</td>\n",
       "      <td>1</td>\n",
       "    </tr>\n",
       "    <tr>\n",
       "      <th>767</th>\n",
       "      <td>1</td>\n",
       "      <td>93</td>\n",
       "      <td>70</td>\n",
       "      <td>31</td>\n",
       "      <td>0</td>\n",
       "      <td>30.4</td>\n",
       "      <td>0.315</td>\n",
       "      <td>23</td>\n",
       "      <td>0</td>\n",
       "    </tr>\n",
       "  </tbody>\n",
       "</table>\n",
       "<p>768 rows × 9 columns</p>\n",
       "</div>"
      ],
      "text/plain": [
       "      A    B   C   D    E     F      G   H  Class\n",
       "0     6  148  72  35    0  33.6  0.627  50      1\n",
       "1     1   85  66  29    0  26.6  0.351  31      0\n",
       "2     8  183  64   0    0  23.3  0.672  32      1\n",
       "3     1   89  66  23   94  28.1  0.167  21      0\n",
       "4     0  137  40  35  168  43.1  2.288  33      1\n",
       "..   ..  ...  ..  ..  ...   ...    ...  ..    ...\n",
       "763  10  101  76  48  180  32.9  0.171  63      0\n",
       "764   2  122  70  27    0  36.8  0.340  27      0\n",
       "765   5  121  72  23  112  26.2  0.245  30      0\n",
       "766   1  126  60   0    0  30.1  0.349  47      1\n",
       "767   1   93  70  31    0  30.4  0.315  23      0\n",
       "\n",
       "[768 rows x 9 columns]"
      ]
     },
     "execution_count": 9,
     "metadata": {},
     "output_type": "execute_result"
    }
   ],
   "source": [
    "#Import the data\n",
    "data = pd.read_csv(\"dati2\")\n",
    "data"
   ]
  },
  {
   "cell_type": "markdown",
   "id": "1cf975c6-c88f-4216-a47b-abf8225ffc46",
   "metadata": {},
   "source": [
    ".\n",
    "\n",
    "The features are all numeric:\n",
    "   1. Number of times pregnant\n",
    "   2. Plasma glucose concentration a 2 hours in an oral glucose tolerance test\n",
    "   3. Diastolic blood pressure (mm Hg)\n",
    "   4. Triceps skin fold thickness (mm)\n",
    "   5. 2-Hour serum insulin (mu U/ml)\n",
    "   6. Body mass index (weight in kg/(height in m)^2)\n",
    "   7. Diabetes pedigree function\n",
    "   8. Age (years)\n",
    "   9. Class variable (0 or 1)"
   ]
  },
  {
   "cell_type": "code",
   "execution_count": 10,
   "id": "db4e0609-9501-4052-9c31-aa862e77173b",
   "metadata": {},
   "outputs": [
    {
     "name": "stdout",
     "output_type": "stream",
     "text": [
      "Number of missing values: 0\n"
     ]
    }
   ],
   "source": [
    "#Missing values\n",
    "print(\"Number of missing values: {}\".format(data.isna().sum().sum()))"
   ]
  },
  {
   "cell_type": "markdown",
   "id": "d3e9ecfa-00d2-41b5-896e-ad881da90d5b",
   "metadata": {},
   "source": [
    ".\n",
    "\n",
    "The dataset has no missing values. Let's take a look at the target variable:"
   ]
  },
  {
   "cell_type": "code",
   "execution_count": 11,
   "id": "70854c40-47f0-4b19-a789-7401c9890a91",
   "metadata": {},
   "outputs": [
    {
     "data": {
      "text/plain": [
       "0    500\n",
       "1    268\n",
       "Name: Class, dtype: int64"
      ]
     },
     "execution_count": 11,
     "metadata": {},
     "output_type": "execute_result"
    }
   ],
   "source": [
    "#Target variable\n",
    "data.Class.value_counts()"
   ]
  },
  {
   "cell_type": "markdown",
   "id": "f45bc97b-dd1a-4f3a-99d3-ae1439292161",
   "metadata": {},
   "source": [
    ".\n",
    "\n",
    "It is an unbalanced dataset. In this first part, let's work with a perfectly balanced dataset."
   ]
  },
  {
   "cell_type": "code",
   "execution_count": 12,
   "id": "1133d159-92af-455e-97f6-1a96dfe0d383",
   "metadata": {},
   "outputs": [],
   "source": [
    "#Create a balanced dataset (268 records for each class)\n",
    "data_bal = pd.concat([data[data.Class==0].sample(268, random_state=0),data[data.Class==1]])\n",
    "\n",
    "#Creation of X and y\n",
    "X = data_bal.drop([\"Class\"],axis=1)\n",
    "y = data_bal.Class\n",
    "X = np.array(X)\n",
    "y = np.array(y)"
   ]
  },
  {
   "cell_type": "markdown",
   "id": "c2bd6f6b-cbd8-4441-a24f-72f24dd7a838",
   "metadata": {},
   "source": [
    ".\n",
    "\n",
    "Before applying the algorithm, let's scale the features."
   ]
  },
  {
   "cell_type": "code",
   "execution_count": 13,
   "id": "45c26f82-536f-473b-b559-528921a1c434",
   "metadata": {},
   "outputs": [],
   "source": [
    "#Feature scaling\n",
    "scaler = MinMaxScaler()\n",
    "scaler.fit(X)\n",
    "X = scaler.transform(X)"
   ]
  },
  {
   "cell_type": "markdown",
   "id": "3dbec1e1-1019-481a-b69e-2c831c850273",
   "metadata": {},
   "source": [
    ".\n",
    "\n",
    "## **Training (balanced dataset)**\n",
    "\n",
    "Let's split the dataset into a training and test set (70-30%)."
   ]
  },
  {
   "cell_type": "code",
   "execution_count": 14,
   "id": "6d7f24f2-86f0-4a5c-af46-86fefb833d34",
   "metadata": {},
   "outputs": [],
   "source": [
    "#Training and test set\n",
    "X_train, X_test, y_train, y_test = train_test_split(X,y,test_size=0.3,random_state=0)"
   ]
  },
  {
   "cell_type": "markdown",
   "id": "8cf813ba-0a09-4eb8-869f-82113608cb33",
   "metadata": {},
   "source": [
    ".\n",
    "\n",
    "Let's search for the best set of hyperparameters with a grid search. The output will be:\n",
    " - Number of units in the hidden layer(s)\n",
    " - Learning rate\n",
    " - Mean accuracy on the training set (standard deviation)\n",
    " - Mean accuracy on the test set (standard deviation)\n",
    " - Mean precision\n",
    " - Mean recall\n",
    " - Mean F1-score"
   ]
  },
  {
   "cell_type": "code",
   "execution_count": 14,
   "id": "7c585758-9130-4253-b4cc-9226c3976eb9",
   "metadata": {},
   "outputs": [
    {
     "name": "stdout",
     "output_type": "stream",
     "text": [
      "2 - None - 0.5 ----- 0.754 (0.005) - 0.712 (0.025) - 0.705 - 0.738 - 0.716\n",
      "2 - None - 0.8 ----- 0.762 (0.009) - 0.723 (0.013) - 0.705 - 0.774 - 0.734\n",
      "2 - None - 1.0 ----- 0.765 (0.008) - 0.744 (0.023) - 0.728 - 0.788 - 0.753\n",
      "2 - 2 - 0.5 ----- 0.518 (0.017) - 0.483 (0.058) - 0.304 - 0.483 - 0.350\n",
      "2 - 2 - 0.8 ----- 0.535 (0.050) - 0.488 (0.068) - 0.321 - 0.472 - 0.347\n",
      "2 - 2 - 1.0 ----- 0.582 (0.086) - 0.507 (0.071) - 0.313 - 0.494 - 0.371\n",
      "2 - 3 - 0.5 ----- 0.744 (0.004) - 0.704 (0.030) - 0.693 - 0.738 - 0.711\n",
      "2 - 3 - 0.8 ----- 0.757 (0.008) - 0.723 (0.027) - 0.711 - 0.758 - 0.730\n",
      "2 - 3 - 1.0 ----- 0.754 (0.007) - 0.717 (0.032) - 0.702 - 0.758 - 0.726\n",
      "2 - 5 - 0.5 ----- 0.718 (0.012) - 0.672 (0.055) - 0.679 - 0.687 - 0.668\n",
      "2 - 5 - 0.8 ----- 0.762 (0.008) - 0.731 (0.018) - 0.712 - 0.774 - 0.737\n",
      "2 - 5 - 1.0 ----- 0.760 (0.011) - 0.715 (0.027) - 0.698 - 0.765 - 0.725\n",
      "3 - None - 0.5 ----- 0.750 (0.008) - 0.717 (0.026) - 0.715 - 0.729 - 0.718\n",
      "3 - None - 0.8 ----- 0.759 (0.009) - 0.736 (0.010) - 0.736 - 0.746 - 0.736\n",
      "3 - None - 1.0 ----- 0.764 (0.009) - 0.752 (0.018) - 0.755 - 0.757 - 0.751\n",
      "3 - 2 - 0.5 ----- 0.713 (0.016) - 0.667 (0.055) - 0.712 - 0.650 - 0.644\n",
      "3 - 2 - 0.8 ----- 0.758 (0.006) - 0.720 (0.032) - 0.708 - 0.756 - 0.727\n",
      "3 - 2 - 1.0 ----- 0.749 (0.012) - 0.704 (0.035) - 0.701 - 0.720 - 0.707\n",
      "3 - 3 - 0.5 ----- 0.535 (0.048) - 0.469 (0.036) - 0.284 - 0.556 - 0.374\n",
      "3 - 3 - 0.8 ----- 0.617 (0.075) - 0.581 (0.105) - 0.487 - 0.594 - 0.512\n",
      "3 - 3 - 1.0 ----- 0.728 (0.009) - 0.659 (0.043) - 0.658 - 0.672 - 0.659\n",
      "3 - 5 - 0.5 ----- 0.756 (0.006) - 0.725 (0.027) - 0.712 - 0.763 - 0.732\n",
      "3 - 5 - 0.8 ----- 0.757 (0.005) - 0.717 (0.024) - 0.703 - 0.765 - 0.727\n",
      "3 - 5 - 1.0 ----- 0.757 (0.011) - 0.704 (0.021) - 0.697 - 0.732 - 0.710\n",
      "5 - None - 0.5 ----- 0.752 (0.005) - 0.712 (0.031) - 0.704 - 0.736 - 0.716\n",
      "5 - None - 0.8 ----- 0.753 (0.011) - 0.715 (0.014) - 0.705 - 0.747 - 0.721\n",
      "5 - None - 1.0 ----- 0.753 (0.008) - 0.720 (0.012) - 0.710 - 0.752 - 0.726\n",
      "5 - 2 - 0.5 ----- 0.587 (0.070) - 0.523 (0.074) - 0.436 - 0.581 - 0.459\n",
      "5 - 2 - 0.8 ----- 0.741 (0.008) - 0.677 (0.062) - 0.679 - 0.688 - 0.677\n",
      "5 - 2 - 1.0 ----- 0.749 (0.008) - 0.712 (0.032) - 0.702 - 0.743 - 0.718\n",
      "5 - 3 - 0.5 ----- 0.760 (0.008) - 0.723 (0.027) - 0.713 - 0.752 - 0.728\n",
      "5 - 3 - 0.8 ----- 0.757 (0.005) - 0.720 (0.030) - 0.707 - 0.758 - 0.727\n",
      "5 - 3 - 1.0 ----- 0.756 (0.012) - 0.709 (0.030) - 0.709 - 0.722 - 0.711\n",
      "5 - 5 - 0.5 ----- 0.729 (0.003) - 0.653 (0.045) - 0.658 - 0.650 - 0.648\n",
      "5 - 5 - 0.8 ----- 0.747 (0.006) - 0.707 (0.029) - 0.697 - 0.736 - 0.713\n",
      "5 - 5 - 1.0 ----- 0.746 (0.008) - 0.693 (0.048) - 0.686 - 0.718 - 0.697\n"
     ]
    }
   ],
   "source": [
    "#Grid search\n",
    "hid_layer1 = [2,3,5]\n",
    "hid_layer2 = [None, 2,3,5]\n",
    "learning_rate = [0.5,0.8,1.0]\n",
    "for i in hid_layer1 :\n",
    "    for j in hid_layer2 :\n",
    "        for a in learning_rate :\n",
    "            acc, acc_te, pre, rec, f1s = [], [], [], [], []\n",
    "            for k in range(5) :\n",
    "                #Split Training set into training and validation sets (5 random sampling - bootstrap)\n",
    "                X_train_t, X_test_t, y_train_t, y_test_t = train_test_split(X_train,y_train,test_size=0.2,random_state=k)\n",
    "                q,w,e,r,t,yh,u,p = Training(hid_layer1 = i, hid_layer2 = j, alpha = a, X = X_train_t, y = y_train_t, X_test = X_test_t, y_test = y_test_t, Lambda=0.0, Max_iter = 1000)\n",
    "                EE, y_pred, F = Accuracy(theta1=w, theta2=e, theta3=r, X=X_test_t, y=y_test_t)\n",
    "                acc.append(u), acc_te.append(p), pre.append(precision_score(y_test_t, y_pred)), rec.append(recall_score(y_test_t, y_pred)), f1s.append(f1_score(y_test_t, y_pred))\n",
    "            print(\"{} - {} - {} ----- {:.3f} ({:.3f}) - {:.3f} ({:.3f}) - {:.3f} - {:.3f} - {:.3f}\".format(i,j,a,np.mean(acc),np.std(acc),np.mean(acc_te),np.std(acc_te), \n",
    "                                                                                                           np.mean(pre), np.mean(rec),np.mean(f1s)))"
   ]
  },
  {
   "cell_type": "markdown",
   "id": "ada654af-e745-477e-8ca4-64975bc882d5",
   "metadata": {},
   "source": [
    ".\n",
    "\n",
    "The best model (i.e. high validation accuracy, small standard deviation) is:\n",
    "- Number of units in the first hidden layer: 3\n",
    "- No second hidden layer\n",
    "- Learning rate: 1.0\n",
    "\n",
    ".\n",
    "\n",
    "Let's take a look at the performance on the Test set: let's plot the cost function for the training and test set to see when early stopping can be applied (flag=False)."
   ]
  },
  {
   "cell_type": "code",
   "execution_count": 15,
   "id": "c5edae1d-9799-4a39-a7ce-50d36b0b391f",
   "metadata": {},
   "outputs": [
    {
     "data": {
      "text/plain": [
       "<matplotlib.legend.Legend at 0x7f6bff800588>"
      ]
     },
     "execution_count": 15,
     "metadata": {},
     "output_type": "execute_result"
    },
    {
     "data": {
      "image/png": "[encoded data removed]",
      "text/plain": [
       "<Figure size 432x288 with 1 Axes>"
      ]
     },
     "metadata": {
      "needs_background": "light"
     },
     "output_type": "display_data"
    }
   ],
   "source": [
    "#Performance on the Test set\n",
    "q,w,e,r,t,yh,u,p = Training(hid_layer1 = 3, hid_layer2 = None, alpha = 1.0, X = X_train, y = y_train, X_test = X_test, y_test = y_test, Lambda=0.0, Max_iter = 1000, flag=False)\n",
    "\n",
    "#Plot cost functions\n",
    "plt.plot(t,'blue')\n",
    "plt.plot(yh,'red')\n",
    "plt.plot([445,445],[0.3,0.6],'--r')\n",
    "plt.xlim([0,890])\n",
    "plt.ylim([0.42,0.48])\n",
    "plt.xlabel(\"Epoch\")\n",
    "plt.ylabel(\"Cost function\")\n",
    "plt.legend([\"Training\",\"Test\"])"
   ]
  },
  {
   "cell_type": "markdown",
   "id": "121bc505-d770-4da8-9315-07dd002a9c5c",
   "metadata": {},
   "source": [
    ".\n",
    "\n",
    "At epoch ~450, the Test cost function starts to increase. That is the point where overfit starts.\n",
    "\n",
    "Now, let's use early stopping in the training function (flag = True)."
   ]
  },
  {
   "cell_type": "code",
   "execution_count": 15,
   "id": "aa177bc7-24c9-4d63-a95d-5f96a6e9c74f",
   "metadata": {},
   "outputs": [
    {
     "name": "stdout",
     "output_type": "stream",
     "text": [
      "Last iteration: 445 --- Train accuracy: 76.0% - Test accuracy: 73.91304347826086%\n",
      "\n",
      "Precision:  0.7702702702702703\n",
      "Recall:  0.6951219512195121\n",
      "F1-score:  0.7307692307692307\n",
      "\n",
      "\n"
     ]
    },
    {
     "data": {
      "text/plain": [
       "<matplotlib.legend.Legend at 0x7f6a9d5df978>"
      ]
     },
     "execution_count": 15,
     "metadata": {},
     "output_type": "execute_result"
    },
    {
     "data": {
      "image/png": "[encoded data removed]",
      "text/plain": [
       "<Figure size 432x288 with 1 Axes>"
      ]
     },
     "metadata": {
      "needs_background": "light"
     },
     "output_type": "display_data"
    }
   ],
   "source": [
    "#Performance on the Test set\n",
    "q,w,e,r,t,yh,u,p = Training(hid_layer1 = 3, hid_layer2 = None, alpha = 1.0, X = X_train, y = y_train, X_test = X_test, y_test = y_test, Lambda=0.0, Max_iter = 5000, flag=True)\n",
    "print(\"Last iteration: {} --- Train accuracy: {}% - Test accuracy: {}%\".format(q,100*u,100*p))\n",
    "\n",
    "#Confusion matrix\n",
    "EE, y_pred, F = Accuracy(theta1=w, theta2=e, X=X_test, y=y_test)\n",
    "Conf_matrix = pd.DataFrame(confusion_matrix(y_test, y_pred))\n",
    "Conf_matrix.index=[\"Actual 0\", \"Actual 1\"]\n",
    "Conf_matrix.columns=[\"Predicted 0\", \"Predicted 1\"]\n",
    "print(\"\\nPrecision: \", precision_score(y_test, y_pred))\n",
    "print(\"Recall: \", recall_score(y_test, y_pred))\n",
    "print(\"F1-score: \", f1_score(y_test, y_pred))\n",
    "print(\"\\n\")\n",
    "Conf_matrix\n",
    "\n",
    "#ROC curves\n",
    "EE1, y_pred, F = Accuracy(theta1=w, theta2=e, X=X_train, y=y_train)\n",
    "fpr1, tpr1, thresholds1 = roc_curve(y_train,EE1)\n",
    "fpr2, tpr2, thresholds2 = roc_curve(y_test,EE)\n",
    "plt.plot(fpr1, tpr1,'blue',lw=2)\n",
    "plt.plot(fpr2, tpr2,'red',lw=2)\n",
    "plt.plot([0,1],[0,1],'--b')\n",
    "plt.xlabel(\"False positive rate\")\n",
    "plt.ylabel(\"True positive rate\")\n",
    "plt.legend([\"Training set (AUC: {:.2f})\".format(roc_auc_score(y_train,EE1)),\"Test set (AUC: {:.2f})\".format(roc_auc_score(y_test,EE))], loc=\"lower right\")"
   ]
  },
  {
   "cell_type": "markdown",
   "id": "82c43661-4d2b-4467-8bca-538438c7fbb0",
   "metadata": {},
   "source": [
    ".\n",
    "\n",
    "For comparison, let's use the Logistic Regression model on the same dataset."
   ]
  },
  {
   "cell_type": "code",
   "execution_count": 16,
   "id": "6e9bc735-375d-4e93-9bc5-df88ef3339e4",
   "metadata": {},
   "outputs": [
    {
     "name": "stdout",
     "output_type": "stream",
     "text": [
      "\n",
      "\n",
      "Logistic training accuracy:  0.7546666666666667\n",
      "Logistic test accuracy:  0.7391304347826086\n",
      "\n",
      "Precision:  0.7941176470588235\n",
      "Recall:  0.6585365853658537\n",
      "F1-score:  0.72\n",
      "\n",
      "\n"
     ]
    },
    {
     "data": {
      "text/plain": [
       "<matplotlib.legend.Legend at 0x7f6a9ccf47b8>"
      ]
     },
     "execution_count": 16,
     "metadata": {},
     "output_type": "execute_result"
    },
    {
     "data": {
      "image/png": "[encoded data removed]",
      "text/plain": [
       "<Figure size 432x288 with 1 Axes>"
      ]
     },
     "metadata": {
      "needs_background": "light"
     },
     "output_type": "display_data"
    }
   ],
   "source": [
    "#For comparison: Logistic regression\n",
    "Model_log = LogisticRegression(penalty=\"none\").fit(X_train,y_train)\n",
    "print(\"\\n\\nLogistic training accuracy: \", Model_log.score(X_train,y_train))\n",
    "print(\"Logistic test accuracy: \", Model_log.score(X_test,y_test))\n",
    "y_pred_log = Model_log.predict(X_test)\n",
    "\n",
    "#Confusion matrix\n",
    "Conf_matrix_log = pd.DataFrame(confusion_matrix(y_test, y_pred_log))\n",
    "Conf_matrix_log.index=[\"Actual 0\", \"Actual 1\"]\n",
    "Conf_matrix_log.columns=[\"Predicted 0\", \"Predicted 1\"]\n",
    "print(\"\\nPrecision: \", precision_score(y_test, y_pred_log))\n",
    "print(\"Recall: \", recall_score(y_test, y_pred_log))\n",
    "print(\"F1-score: \", f1_score(y_test, y_pred_log))\n",
    "print(\"\\n\")\n",
    "Conf_matrix_log\n",
    "\n",
    "#ROC curves\n",
    "EE1, y_pred, F = Accuracy(theta1=w, theta2=e, X=X_train, y=y_train)\n",
    "fpr1, tpr1, thresholds1 = roc_curve(y_train,Model_log.predict_proba(X_train)[:,1])\n",
    "fpr2, tpr2, thresholds2 = roc_curve(y_test,Model_log.predict_proba(X_test)[:,1])\n",
    "plt.plot(fpr1, tpr1,'blue',lw=2)\n",
    "plt.plot(fpr2, tpr2,'red',lw=2)\n",
    "plt.plot([0,1],[0,1],'--b')\n",
    "plt.xlabel(\"False positive rate\")\n",
    "plt.ylabel(\"True positive rate\")\n",
    "plt.legend([\"Training set (AUC: {:.2f})\".format(roc_auc_score(y_train,Model_log.predict_proba(X_train)[:,1])),\n",
    "            \"Test set (AUC: {:.2f})\".format(roc_auc_score(y_test,Model_log.predict_proba(X_test)[:,1]))], loc=\"lower right\")"
   ]
  },
  {
   "cell_type": "markdown",
   "id": "a2638e49-54d1-4974-bc0b-1e04130ba4ab",
   "metadata": {},
   "source": [
    ".\n",
    "\n",
    "Only one small difference between the two models. Finalizing the model:"
   ]
  },
  {
   "cell_type": "code",
   "execution_count": 17,
   "id": "bb1e6a36-b51e-4080-bd3e-68d78249d387",
   "metadata": {},
   "outputs": [
    {
     "name": "stdout",
     "output_type": "stream",
     "text": [
      "\n",
      "Logistic training accuracy:  0.7406716417910447\n"
     ]
    }
   ],
   "source": [
    "#For comparison: Logistic regression\n",
    "Model_log = LogisticRegression(penalty=\"none\").fit(X,y)\n",
    "print(\"\\nLogistic training accuracy: \", Model_log.score(X,y))"
   ]
  },
  {
   "cell_type": "markdown",
   "id": "c494c76d-da4f-4859-9489-04fec5c877a5",
   "metadata": {},
   "source": [
    ".\n",
    "\n",
    "On the whole dataset, the Logistic regression model accuracy is slighlty lower compared to the Neural Network accuracy on the training set (75%).\n",
    "\n",
    ".\n",
    "\n",
    ".\n",
    "\n",
    "## **Training (unbalanced dataset)**\n",
    "\n",
    "Now, let's use the whole unbalanced dataset."
   ]
  },
  {
   "cell_type": "code",
   "execution_count": 19,
   "id": "fea19d10-124f-4d99-b701-4d430c799740",
   "metadata": {},
   "outputs": [],
   "source": [
    "#Creation of X and y (from the unbalanced dataset)\n",
    "X = data.drop([\"Class\"],axis=1)\n",
    "y = data.Class\n",
    "X = np.array(X)\n",
    "y = np.array(y)\n",
    "\n",
    "#Feature scaling\n",
    "scaler = MinMaxScaler()\n",
    "scaler.fit(X)\n",
    "X = scaler.transform(X)\n",
    "\n",
    "#Training and test set (70-30%)\n",
    "X_train, X_test, y_train, y_test = train_test_split(X,y,test_size=0.3,random_state=0)"
   ]
  },
  {
   "cell_type": "code",
   "execution_count": 18,
   "id": "89878578-482a-433d-b6ef-8f6793173b87",
   "metadata": {},
   "outputs": [
    {
     "name": "stdout",
     "output_type": "stream",
     "text": [
      "2 - None - 0.5 ----- 0.754 (0.009) - 0.772 (0.033) - 0.710 - 0.617 - 0.658\n"
     ]
    },
    {
     "ename": "KeyboardInterrupt",
     "evalue": "",
     "output_type": "error",
     "traceback": [
      "\u001b[0;31m---------------------------------------------------------------------------\u001b[0m",
      "\u001b[0;31mKeyboardInterrupt\u001b[0m                         Traceback (most recent call last)",
      "\u001b[0;32m/tmp/ipykernel_33699/1745192253.py\u001b[0m in \u001b[0;36m<module>\u001b[0;34m\u001b[0m\n\u001b[1;32m     24\u001b[0m                 \u001b[0;31m#Split Training set into training and validation sets (5 random sampling - bootstrap)\u001b[0m\u001b[0;34m\u001b[0m\u001b[0;34m\u001b[0m\u001b[0;34m\u001b[0m\u001b[0m\n\u001b[1;32m     25\u001b[0m                 \u001b[0mX_train_t\u001b[0m\u001b[0;34m,\u001b[0m \u001b[0mX_test_t\u001b[0m\u001b[0;34m,\u001b[0m \u001b[0my_train_t\u001b[0m\u001b[0;34m,\u001b[0m \u001b[0my_test_t\u001b[0m \u001b[0;34m=\u001b[0m \u001b[0mtrain_test_split\u001b[0m\u001b[0;34m(\u001b[0m\u001b[0mX_train\u001b[0m\u001b[0;34m,\u001b[0m\u001b[0my_train\u001b[0m\u001b[0;34m,\u001b[0m\u001b[0mtest_size\u001b[0m\u001b[0;34m=\u001b[0m\u001b[0;36m0.2\u001b[0m\u001b[0;34m,\u001b[0m\u001b[0mrandom_state\u001b[0m\u001b[0;34m=\u001b[0m\u001b[0mk\u001b[0m\u001b[0;34m)\u001b[0m\u001b[0;34m\u001b[0m\u001b[0;34m\u001b[0m\u001b[0m\n\u001b[0;32m---> 26\u001b[0;31m                 \u001b[0mq\u001b[0m\u001b[0;34m,\u001b[0m\u001b[0mw\u001b[0m\u001b[0;34m,\u001b[0m\u001b[0me\u001b[0m\u001b[0;34m,\u001b[0m\u001b[0mr\u001b[0m\u001b[0;34m,\u001b[0m\u001b[0mt\u001b[0m\u001b[0;34m,\u001b[0m\u001b[0myh\u001b[0m\u001b[0;34m,\u001b[0m\u001b[0mu\u001b[0m\u001b[0;34m,\u001b[0m \u001b[0mp\u001b[0m \u001b[0;34m=\u001b[0m \u001b[0mTraining\u001b[0m\u001b[0;34m(\u001b[0m\u001b[0mhid_layer1\u001b[0m \u001b[0;34m=\u001b[0m \u001b[0mi\u001b[0m\u001b[0;34m,\u001b[0m \u001b[0mhid_layer2\u001b[0m \u001b[0;34m=\u001b[0m \u001b[0mj\u001b[0m\u001b[0;34m,\u001b[0m \u001b[0malpha\u001b[0m \u001b[0;34m=\u001b[0m \u001b[0ma\u001b[0m\u001b[0;34m,\u001b[0m \u001b[0mX\u001b[0m \u001b[0;34m=\u001b[0m \u001b[0mX_train_t\u001b[0m\u001b[0;34m,\u001b[0m \u001b[0my\u001b[0m \u001b[0;34m=\u001b[0m \u001b[0my_train_t\u001b[0m\u001b[0;34m,\u001b[0m \u001b[0mX_test\u001b[0m \u001b[0;34m=\u001b[0m \u001b[0mX_test_t\u001b[0m\u001b[0;34m,\u001b[0m \u001b[0my_test\u001b[0m \u001b[0;34m=\u001b[0m \u001b[0my_test_t\u001b[0m\u001b[0;34m,\u001b[0m \u001b[0mLambda\u001b[0m\u001b[0;34m=\u001b[0m\u001b[0;36m0.0\u001b[0m\u001b[0;34m,\u001b[0m \u001b[0mMax_iter\u001b[0m \u001b[0;34m=\u001b[0m \u001b[0;36m1000\u001b[0m\u001b[0;34m)\u001b[0m\u001b[0;34m\u001b[0m\u001b[0;34m\u001b[0m\u001b[0m\n\u001b[0m\u001b[1;32m     27\u001b[0m                 \u001b[0mEE\u001b[0m\u001b[0;34m,\u001b[0m \u001b[0my_pred\u001b[0m\u001b[0;34m,\u001b[0m \u001b[0mF\u001b[0m \u001b[0;34m=\u001b[0m \u001b[0mAccuracy\u001b[0m\u001b[0;34m(\u001b[0m\u001b[0mtheta1\u001b[0m\u001b[0;34m=\u001b[0m\u001b[0mw\u001b[0m\u001b[0;34m,\u001b[0m \u001b[0mtheta2\u001b[0m\u001b[0;34m=\u001b[0m\u001b[0me\u001b[0m\u001b[0;34m,\u001b[0m \u001b[0mtheta3\u001b[0m\u001b[0;34m=\u001b[0m\u001b[0mr\u001b[0m\u001b[0;34m,\u001b[0m \u001b[0mX\u001b[0m\u001b[0;34m=\u001b[0m\u001b[0mX_test_t\u001b[0m\u001b[0;34m,\u001b[0m \u001b[0my\u001b[0m\u001b[0;34m=\u001b[0m\u001b[0my_test_t\u001b[0m\u001b[0;34m)\u001b[0m\u001b[0;34m\u001b[0m\u001b[0;34m\u001b[0m\u001b[0m\n\u001b[1;32m     28\u001b[0m                 \u001b[0macc\u001b[0m\u001b[0;34m.\u001b[0m\u001b[0mappend\u001b[0m\u001b[0;34m(\u001b[0m\u001b[0mu\u001b[0m\u001b[0;34m)\u001b[0m\u001b[0;34m,\u001b[0m \u001b[0macc_te\u001b[0m\u001b[0;34m.\u001b[0m\u001b[0mappend\u001b[0m\u001b[0;34m(\u001b[0m\u001b[0mp\u001b[0m\u001b[0;34m)\u001b[0m\u001b[0;34m,\u001b[0m \u001b[0mpre\u001b[0m\u001b[0;34m.\u001b[0m\u001b[0mappend\u001b[0m\u001b[0;34m(\u001b[0m\u001b[0mprecision_score\u001b[0m\u001b[0;34m(\u001b[0m\u001b[0my_test_t\u001b[0m\u001b[0;34m,\u001b[0m \u001b[0my_pred\u001b[0m\u001b[0;34m)\u001b[0m\u001b[0;34m)\u001b[0m\u001b[0;34m,\u001b[0m \u001b[0mrec\u001b[0m\u001b[0;34m.\u001b[0m\u001b[0mappend\u001b[0m\u001b[0;34m(\u001b[0m\u001b[0mrecall_score\u001b[0m\u001b[0;34m(\u001b[0m\u001b[0my_test_t\u001b[0m\u001b[0;34m,\u001b[0m \u001b[0my_pred\u001b[0m\u001b[0;34m)\u001b[0m\u001b[0;34m)\u001b[0m\u001b[0;34m,\u001b[0m \u001b[0mf1s\u001b[0m\u001b[0;34m.\u001b[0m\u001b[0mappend\u001b[0m\u001b[0;34m(\u001b[0m\u001b[0mf1_score\u001b[0m\u001b[0;34m(\u001b[0m\u001b[0my_test_t\u001b[0m\u001b[0;34m,\u001b[0m \u001b[0my_pred\u001b[0m\u001b[0;34m)\u001b[0m\u001b[0;34m)\u001b[0m\u001b[0;34m\u001b[0m\u001b[0;34m\u001b[0m\u001b[0m\n",
      "\u001b[0;32m/tmp/ipykernel_33699/3556167343.py\u001b[0m in \u001b[0;36mTraining\u001b[0;34m(hid_layer1, X, y, X_test, y_test, alpha, Lambda, Max_iter, hid_layer2, flag)\u001b[0m\n\u001b[1;32m     20\u001b[0m         \u001b[0mA1\u001b[0m\u001b[0;34m,\u001b[0m \u001b[0mB1\u001b[0m\u001b[0;34m,\u001b[0m \u001b[0mC1\u001b[0m\u001b[0;34m,\u001b[0m \u001b[0mD1\u001b[0m \u001b[0;34m=\u001b[0m \u001b[0mJ_Grad\u001b[0m\u001b[0;34m(\u001b[0m\u001b[0mtheta1\u001b[0m\u001b[0;34m=\u001b[0m\u001b[0mtheta1\u001b[0m\u001b[0;34m,\u001b[0m \u001b[0mtheta2\u001b[0m\u001b[0;34m=\u001b[0m\u001b[0mtheta2\u001b[0m\u001b[0;34m,\u001b[0m \u001b[0mtheta3\u001b[0m\u001b[0;34m=\u001b[0m\u001b[0mtheta3\u001b[0m\u001b[0;34m,\u001b[0m \u001b[0mX\u001b[0m\u001b[0;34m=\u001b[0m\u001b[0mX_test\u001b[0m\u001b[0;34m,\u001b[0m \u001b[0my\u001b[0m\u001b[0;34m=\u001b[0m\u001b[0my_test\u001b[0m\u001b[0;34m,\u001b[0m \u001b[0mhid_layer1\u001b[0m\u001b[0;34m=\u001b[0m\u001b[0mhid_layer1\u001b[0m\u001b[0;34m,\u001b[0m \u001b[0mhid_layer2\u001b[0m\u001b[0;34m=\u001b[0m\u001b[0mhid_layer2\u001b[0m\u001b[0;34m,\u001b[0m \u001b[0mlabels\u001b[0m\u001b[0;34m=\u001b[0m\u001b[0mlabels\u001b[0m\u001b[0;34m,\u001b[0m \u001b[0mLambda\u001b[0m\u001b[0;34m=\u001b[0m\u001b[0;36m0.0\u001b[0m\u001b[0;34m)\u001b[0m\u001b[0;34m\u001b[0m\u001b[0;34m\u001b[0m\u001b[0m\n\u001b[1;32m     21\u001b[0m         \u001b[0mEE\u001b[0m\u001b[0;34m,\u001b[0m \u001b[0mE\u001b[0m\u001b[0;34m,\u001b[0m \u001b[0mF\u001b[0m \u001b[0;34m=\u001b[0m \u001b[0mAccuracy\u001b[0m\u001b[0;34m(\u001b[0m\u001b[0mtheta1\u001b[0m\u001b[0;34m=\u001b[0m\u001b[0mtheta1\u001b[0m\u001b[0;34m,\u001b[0m \u001b[0mtheta2\u001b[0m\u001b[0;34m=\u001b[0m\u001b[0mtheta2\u001b[0m\u001b[0;34m,\u001b[0m \u001b[0mtheta3\u001b[0m\u001b[0;34m=\u001b[0m\u001b[0mtheta3\u001b[0m\u001b[0;34m,\u001b[0m \u001b[0mX\u001b[0m\u001b[0;34m=\u001b[0m\u001b[0mX\u001b[0m\u001b[0;34m,\u001b[0m \u001b[0my\u001b[0m\u001b[0;34m=\u001b[0m\u001b[0my\u001b[0m\u001b[0;34m)\u001b[0m\u001b[0;34m\u001b[0m\u001b[0;34m\u001b[0m\u001b[0m\n\u001b[0;32m---> 22\u001b[0;31m         \u001b[0mEE1\u001b[0m\u001b[0;34m,\u001b[0m \u001b[0mE1\u001b[0m\u001b[0;34m,\u001b[0m \u001b[0mF1\u001b[0m \u001b[0;34m=\u001b[0m \u001b[0mAccuracy\u001b[0m\u001b[0;34m(\u001b[0m\u001b[0mtheta1\u001b[0m\u001b[0;34m=\u001b[0m\u001b[0mtheta1\u001b[0m\u001b[0;34m,\u001b[0m \u001b[0mtheta2\u001b[0m\u001b[0;34m=\u001b[0m\u001b[0mtheta2\u001b[0m\u001b[0;34m,\u001b[0m \u001b[0mtheta3\u001b[0m\u001b[0;34m=\u001b[0m\u001b[0mtheta3\u001b[0m\u001b[0;34m,\u001b[0m \u001b[0mX\u001b[0m\u001b[0;34m=\u001b[0m\u001b[0mX_test\u001b[0m\u001b[0;34m,\u001b[0m \u001b[0my\u001b[0m\u001b[0;34m=\u001b[0m\u001b[0my_test\u001b[0m\u001b[0;34m)\u001b[0m\u001b[0;34m\u001b[0m\u001b[0;34m\u001b[0m\u001b[0m\n\u001b[0m\u001b[1;32m     23\u001b[0m         \u001b[0mCost\u001b[0m\u001b[0;34m.\u001b[0m\u001b[0mappend\u001b[0m\u001b[0;34m(\u001b[0m\u001b[0mA\u001b[0m\u001b[0;34m)\u001b[0m\u001b[0;34m\u001b[0m\u001b[0;34m\u001b[0m\u001b[0m\n\u001b[1;32m     24\u001b[0m         \u001b[0mCost_t\u001b[0m\u001b[0;34m.\u001b[0m\u001b[0mappend\u001b[0m\u001b[0;34m(\u001b[0m\u001b[0mA1\u001b[0m\u001b[0;34m)\u001b[0m\u001b[0;34m\u001b[0m\u001b[0;34m\u001b[0m\u001b[0m\n",
      "\u001b[0;32m/tmp/ipykernel_33699/321108133.py\u001b[0m in \u001b[0;36mAccuracy\u001b[0;34m(theta1, theta2, X, y, theta3)\u001b[0m\n\u001b[1;32m      6\u001b[0m     \u001b[0mPred\u001b[0m \u001b[0;34m=\u001b[0m \u001b[0;34m[\u001b[0m\u001b[0;34m]\u001b[0m\u001b[0;34m\u001b[0m\u001b[0;34m\u001b[0m\u001b[0m\n\u001b[1;32m      7\u001b[0m     \u001b[0;32mfor\u001b[0m \u001b[0mi\u001b[0m \u001b[0;32min\u001b[0m \u001b[0mnp\u001b[0m\u001b[0;34m.\u001b[0m\u001b[0marange\u001b[0m\u001b[0;34m(\u001b[0m\u001b[0;36m0\u001b[0m\u001b[0;34m,\u001b[0m\u001b[0mlen\u001b[0m\u001b[0;34m(\u001b[0m\u001b[0mfinal\u001b[0m\u001b[0;34m)\u001b[0m\u001b[0;34m)\u001b[0m \u001b[0;34m:\u001b[0m\u001b[0;34m\u001b[0m\u001b[0;34m\u001b[0m\u001b[0m\n\u001b[0;32m----> 8\u001b[0;31m         \u001b[0mPred\u001b[0m\u001b[0;34m.\u001b[0m\u001b[0mappend\u001b[0m\u001b[0;34m(\u001b[0m\u001b[0mnp\u001b[0m\u001b[0;34m.\u001b[0m\u001b[0margmax\u001b[0m\u001b[0;34m(\u001b[0m\u001b[0mfinal\u001b[0m\u001b[0;34m[\u001b[0m\u001b[0mi\u001b[0m\u001b[0;34m,\u001b[0m\u001b[0;34m:\u001b[0m\u001b[0;34m]\u001b[0m\u001b[0;34m)\u001b[0m\u001b[0;34m)\u001b[0m\u001b[0;34m\u001b[0m\u001b[0;34m\u001b[0m\u001b[0m\n\u001b[0m\u001b[1;32m      9\u001b[0m     \u001b[0;32mreturn\u001b[0m \u001b[0mfinal\u001b[0m\u001b[0;34m[\u001b[0m\u001b[0;34m:\u001b[0m\u001b[0;34m,\u001b[0m\u001b[0;36m1\u001b[0m\u001b[0;34m]\u001b[0m\u001b[0;34m,\u001b[0m \u001b[0mPred\u001b[0m\u001b[0;34m,\u001b[0m \u001b[0;34m(\u001b[0m\u001b[0mPred\u001b[0m \u001b[0;34m==\u001b[0m \u001b[0my\u001b[0m\u001b[0;34m)\u001b[0m\u001b[0;34m.\u001b[0m\u001b[0msum\u001b[0m\u001b[0;34m(\u001b[0m\u001b[0;34m)\u001b[0m\u001b[0;34m/\u001b[0m\u001b[0mlen\u001b[0m\u001b[0;34m(\u001b[0m\u001b[0my\u001b[0m\u001b[0;34m)\u001b[0m\u001b[0;34m\u001b[0m\u001b[0;34m\u001b[0m\u001b[0m\n",
      "\u001b[0;31mKeyboardInterrupt\u001b[0m: "
     ]
    }
   ],
   "source": [
    "#Grid search\n",
    "hid_layer1 = [2,3,5]\n",
    "hid_layer2 = [None, 2,3,5]\n",
    "learning_rate = [0.5,0.8,1.0]\n",
    "for i in hid_layer1 :\n",
    "    for j in hid_layer2 :\n",
    "        for a in learning_rate :\n",
    "            acc, acc_te, pre, rec, f1s = [], [], [], [], []\n",
    "            for k in range(5) :\n",
    "                #Split Training set into training and validation sets (5 random sampling - bootstrap)\n",
    "                X_train_t, X_test_t, y_train_t, y_test_t = train_test_split(X_train,y_train,test_size=0.2,random_state=k)\n",
    "                q,w,e,r,t,yh,u, p = Training(hid_layer1 = i, hid_layer2 = j, alpha = a, X = X_train_t, y = y_train_t, X_test = X_test_t, y_test = y_test_t, Lambda=0.0, Max_iter = 1000)\n",
    "                EE, y_pred, F = Accuracy(theta1=w, theta2=e, theta3=r, X=X_test_t, y=y_test_t)\n",
    "                acc.append(u), acc_te.append(p), pre.append(precision_score(y_test_t, y_pred)), rec.append(recall_score(y_test_t, y_pred)), f1s.append(f1_score(y_test_t, y_pred))\n",
    "            print(\"{} - {} - {} ----- {:.3f} ({:.3f}) - {:.3f} ({:.3f}) - {:.3f} - {:.3f} - {:.3f}\".format(i,j,a,np.mean(acc),np.std(acc),np.mean(acc_te),np.std(acc_te), \n",
    "                                                                                                           np.mean(pre), np.mean(rec),np.mean(f1s)))"
   ]
  },
  {
   "cell_type": "markdown",
   "id": "8b35688f-0d1d-4195-acec-ae6304c662b2",
   "metadata": {},
   "source": [
    ".\n",
    "\n",
    "The best model (i.e. best f1-score) is\n",
    "- Number of units in the first hidden layer: 3\n",
    "- Number of units in the second hidden layer: 5\n",
    "- Learning rate: 0.8\n",
    "\n",
    ".\n",
    "\n",
    "Now, it is possible to try to find the threshold that maximizes the f1-score."
   ]
  },
  {
   "cell_type": "code",
   "execution_count": 21,
   "id": "aaf4bf6f-2292-45f6-9a3c-0c6ae869d38f",
   "metadata": {},
   "outputs": [
    {
     "name": "stdout",
     "output_type": "stream",
     "text": [
      "Best threshold: 0.36000000000000004\n",
      "Largest f1-score: 0.7041016286681616\n"
     ]
    },
    {
     "data": {
      "text/plain": [
       "<matplotlib.legend.Legend at 0x7f6bfedbc9e8>"
      ]
     },
     "execution_count": 21,
     "metadata": {},
     "output_type": "execute_result"
    },
    {
     "data": {
      "image/png": "[encoded data removed]",
      "text/plain": [
       "<Figure size 432x288 with 1 Axes>"
      ]
     },
     "metadata": {
      "needs_background": "light"
     },
     "output_type": "display_data"
    }
   ],
   "source": [
    "#Repeated random sampling (iterations: 5)\n",
    "for k in range(5) :\n",
    "    #Split Training set into training and validation sets (5 random sampling - bootstrap)\n",
    "    X_train_t, X_test_t, y_train_t, y_test_t = train_test_split(X_train,y_train,test_size=0.2,random_state=k)\n",
    "    q,w,e,r,t,yh,u,p = Training(hid_layer1 = 3, hid_layer2 = 5, alpha = 0.8, X = X_train_t, y = y_train_t, X_test = X_test_t, y_test = y_test_t, Lambda=0.0, Max_iter = 3000)\n",
    "    EE, y_pred, F = Accuracy(theta1=w, theta2=e, theta3=r, X=X_test_t, y=y_test_t)\n",
    "    \n",
    "    Thresh = np.arange(0.02,1.02,0.02)\n",
    "    exec(f\"Pre_{k}, Rec_{k} = [],[]\")\n",
    "    Rec = []\n",
    "    for j in Thresh:\n",
    "        A = EE.copy()\n",
    "        i=0\n",
    "        while i<len(EE) :\n",
    "            if A[i]>=j :\n",
    "                A[i] = 1\n",
    "            else :\n",
    "                A[i] = 0\n",
    "            i=i+1\n",
    "        tn,fp,fn,tp = confusion_matrix(y_test_t,A).ravel()\n",
    "        precision = tp/(tp + fp)\n",
    "        recall = tp/(tp + fn)\n",
    "        exec(f\"Pre_{k}.append(precision); Rec_{k}.append(recall)\")\n",
    "\n",
    "#Mean Precision and Recall (for different thresholds)\n",
    "Prec = np.array(Pre_0)\n",
    "Reca = np.array(Rec_0)\n",
    "for k in range(4):\n",
    "    exec(f\"AA = np.array(Pre_{k+1}); BB = np.array(Rec_{k+1})\")\n",
    "    Prec = np.vstack([Prec,AA])\n",
    "    Reca = np.vstack([Reca,BB])\n",
    "    \n",
    "#Threshold that maximizes the F1-score\n",
    "Index = np.nanargmax(2*(Reca.T.mean(axis=1)*Prec.T.mean(axis=1))/(Reca.T.mean(axis=1)+Prec.T.mean(axis=1)))\n",
    "print(\"Best threshold: {}\".format(Thresh[Index]))\n",
    "print(\"Largest f1-score: {}\".format((2*(Reca.T.mean(axis=1)*Prec.T.mean(axis=1))/(Reca.T.mean(axis=1)+Prec.T.mean(axis=1)))[Index]))\n",
    "\n",
    "#Precision, Recall, and F1-score plot\n",
    "plt.plot(Thresh, Prec.T.mean(axis=1),'-b')\n",
    "plt.fill_between(Thresh,Prec.T.min(axis=1),Prec.T.max(axis=1),color='blue',alpha=0.1, label=\"_nolegend_\")\n",
    "plt.plot(Thresh, Reca.T.mean(axis=1),'-r')\n",
    "plt.fill_between(Thresh,Reca.T.min(axis=1),Reca.T.max(axis=1),color='red',alpha=0.1, label=\"_nolegend_\")\n",
    "plt.plot(Thresh, 2*(Reca.T.mean(axis=1)*Prec.T.mean(axis=1))/(Reca.T.mean(axis=1)+Prec.T.mean(axis=1)),'-g')\n",
    "plt.fill_between(Thresh, 2*(Reca.T.min(axis=1)*Prec.T.min(axis=1))/(Reca.T.min(axis=1)+Prec.T.min(axis=1)),\n",
    "                 2*(Reca.T.max(axis=1)*Prec.T.max(axis=1))/(Reca.T.max(axis=1)+Prec.T.max(axis=1)), color=\"green\",alpha=0.1)\n",
    "plt.ylim([0.1,1.05])\n",
    "plt.xlim([-0.05,0.95])\n",
    "plt.plot(Thresh[Index], (2*(Reca.T.mean(axis=1)*Prec.T.mean(axis=1))/(Reca.T.mean(axis=1)+Prec.T.mean(axis=1)))[Index],'og',markersize=15)\n",
    "plt.legend([\"Precision\",\"Recall\",\"F1-score\"])"
   ]
  },
  {
   "cell_type": "markdown",
   "id": "9bde4ded-aa41-4c87-8ef8-8fbd5ee97769",
   "metadata": {},
   "source": [
    ".\n",
    "\n",
    "Let's use the model found above with the new threshold."
   ]
  },
  {
   "cell_type": "code",
   "execution_count": 22,
   "id": "b4bb7fea-ad1c-4d9b-b66e-ded6281d3d59",
   "metadata": {},
   "outputs": [
    {
     "name": "stdout",
     "output_type": "stream",
     "text": [
      "Accuracy:  0.7316017316017316\n",
      "\n",
      "Precision:  0.5697674418604651\n",
      "Recall:  0.6621621621621622\n",
      "F1-score:  0.6125\n",
      "\n",
      "\n"
     ]
    },
    {
     "data": {
      "text/plain": [
       "<matplotlib.legend.Legend at 0x7f6bfed47588>"
      ]
     },
     "execution_count": 22,
     "metadata": {},
     "output_type": "execute_result"
    },
    {
     "data": {
      "image/png": "[encoded data removed]",
      "text/plain": [
       "<Figure size 432x288 with 1 Axes>"
      ]
     },
     "metadata": {
      "needs_background": "light"
     },
     "output_type": "display_data"
    }
   ],
   "source": [
    "#Model + new threshold\n",
    "q,w,e,r,t,yh,u,p = Training(hid_layer1 = 3, hid_layer2 = 5, alpha = 0.8, X = X_train, y = y_train, X_test = X_test, y_test = y_test, Lambda=0.0, Max_iter = 5000)\n",
    "EE, y_pred, F = Accuracy(theta1=w, theta2=e, theta3=r, X=X_test, y=y_test)\n",
    "\n",
    "#New prediction (based on the new threshold)\n",
    "Newpred = []\n",
    "i=0\n",
    "while i<len(EE) :\n",
    "    if EE[i]>=Thresh[Index] :\n",
    "        Newpred.append(1)\n",
    "    else :\n",
    "        Newpred.append(0)\n",
    "    i=i+1\n",
    "    \n",
    "#Confusion matrix\n",
    "Conf_matrix = pd.DataFrame(confusion_matrix(y_test, Newpred))\n",
    "Conf_matrix.index=[\"Actual 0\", \"Actual 1\"]\n",
    "Conf_matrix.columns=[\"Predicted 0\", \"Predicted 1\"]\n",
    "print(\"Accuracy: \", accuracy_score(y_test, Newpred))\n",
    "print(\"\\nPrecision: \", precision_score(y_test, Newpred))\n",
    "print(\"Recall: \", recall_score(y_test, Newpred))\n",
    "print(\"F1-score: \", f1_score(y_test, Newpred))\n",
    "print(\"\\n\")\n",
    "Conf_matrix\n",
    "\n",
    "\n",
    "#ROC curves\n",
    "EE1, y_pred2, F = Accuracy(theta1=w, theta2=e, X=X_train, y=y_train)\n",
    "fpr1, tpr1, thresholds1 = roc_curve(y_train,EE1)\n",
    "fpr2, tpr2, thresholds2 = roc_curve(y_test,EE)\n",
    "plt.plot(fpr1, tpr1,'blue',lw=2)\n",
    "plt.plot(fpr2, tpr2,'red',lw=2)\n",
    "plt.plot([0,1],[0,1],'--b')\n",
    "plt.xlabel(\"False positive rate\")\n",
    "plt.ylabel(\"True positive rate\")\n",
    "plt.legend([\"Training set (AUC: {:.2f})\".format(roc_auc_score(y_train,EE1)),\"Test set (AUC: {:.2f})\".format(roc_auc_score(y_test,EE))], loc=\"lower right\")"
   ]
  },
  {
   "cell_type": "code",
   "execution_count": 21,
   "id": "c8697443-f8b2-4c75-bb98-5f7fa5b4f4e4",
   "metadata": {},
   "outputs": [
    {
     "name": "stdout",
     "output_type": "stream",
     "text": [
      "Accuracy:  0.7662337662337663\n",
      "\n",
      "Precision:  0.6612903225806451\n",
      "Recall:  0.5540540540540541\n",
      "F1-score:  0.6029411764705883\n",
      "\n",
      "\n"
     ]
    },
    {
     "data": {
      "text/html": [
       "<div>\n",
       "<style scoped>\n",
       "    .dataframe tbody tr th:only-of-type {\n",
       "        vertical-align: middle;\n",
       "    }\n",
       "\n",
       "    .dataframe tbody tr th {\n",
       "        vertical-align: top;\n",
       "    }\n",
       "\n",
       "    .dataframe thead th {\n",
       "        text-align: right;\n",
       "    }\n",
       "</style>\n",
       "<table border=\"1\" class=\"dataframe\">\n",
       "  <thead>\n",
       "    <tr style=\"text-align: right;\">\n",
       "      <th></th>\n",
       "      <th>Predicted 0</th>\n",
       "      <th>Predicted 1</th>\n",
       "    </tr>\n",
       "  </thead>\n",
       "  <tbody>\n",
       "    <tr>\n",
       "      <th>Actual 0</th>\n",
       "      <td>136</td>\n",
       "      <td>21</td>\n",
       "    </tr>\n",
       "    <tr>\n",
       "      <th>Actual 1</th>\n",
       "      <td>33</td>\n",
       "      <td>41</td>\n",
       "    </tr>\n",
       "  </tbody>\n",
       "</table>\n",
       "</div>"
      ],
      "text/plain": [
       "          Predicted 0  Predicted 1\n",
       "Actual 0          136           21\n",
       "Actual 1           33           41"
      ]
     },
     "execution_count": 21,
     "metadata": {},
     "output_type": "execute_result"
    }
   ],
   "source": [
    "#Confusion matrix (no threshold modification)\n",
    "Conf_matrix = pd.DataFrame(confusion_matrix(y_test, y_pred))\n",
    "Conf_matrix.index=[\"Actual 0\", \"Actual 1\"]\n",
    "Conf_matrix.columns=[\"Predicted 0\", \"Predicted 1\"]\n",
    "print(\"Accuracy: \", accuracy_score(y_test, y_pred))\n",
    "print(\"\\nPrecision: \", precision_score(y_test, y_pred))\n",
    "print(\"Recall: \", recall_score(y_test, y_pred))\n",
    "print(\"F1-score: \", f1_score(y_test, y_pred))\n",
    "print(\"\\n\")\n",
    "Conf_matrix"
   ]
  },
  {
   "cell_type": "markdown",
   "id": "ea3607c1-7d19-4915-9a6e-5b15ce6b99a3",
   "metadata": {},
   "source": [
    ".\n",
    "\n",
    "Without the threshold modification, the accuracy on the test set is higher. However, the number of true positives is lower.\n",
    "\n",
    ".\n",
    "\n",
    "For comparison, let's use the Logistic regression model (no threshold modification)."
   ]
  },
  {
   "cell_type": "code",
   "execution_count": 23,
   "id": "3255a880-cfed-46c7-bb05-8c989d991828",
   "metadata": {},
   "outputs": [
    {
     "name": "stdout",
     "output_type": "stream",
     "text": [
      "\n",
      "\n",
      "Logistic training accuracy:  0.7653631284916201\n",
      "Logistic test accuracy:  0.7792207792207793\n",
      "\n",
      "Precision:  0.7090909090909091\n",
      "Recall:  0.527027027027027\n",
      "F1-score:  0.6046511627906976\n",
      "\n",
      "\n"
     ]
    },
    {
     "data": {
      "text/plain": [
       "<matplotlib.legend.Legend at 0x7f6a9ca22438>"
      ]
     },
     "execution_count": 23,
     "metadata": {},
     "output_type": "execute_result"
    },
    {
     "data": {
      "image/png": "[encoded data removed]",
      "text/plain": [
       "<Figure size 432x288 with 1 Axes>"
      ]
     },
     "metadata": {
      "needs_background": "light"
     },
     "output_type": "display_data"
    }
   ],
   "source": [
    "#Logistic regression\n",
    "Model_log = LogisticRegression(penalty=\"none\").fit(X_train,y_train)\n",
    "print(\"\\n\\nLogistic training accuracy: \", Model_log.score(X_train,y_train))\n",
    "print(\"Logistic test accuracy: \", Model_log.score(X_test,y_test))\n",
    "y_pred_log = Model_log.predict(X_test)\n",
    "\n",
    "#Confusion matrix\n",
    "Conf_matrix_log = pd.DataFrame(confusion_matrix(y_test, y_pred_log))\n",
    "Conf_matrix_log.index=[\"Actual 0\", \"Actual 1\"]\n",
    "Conf_matrix_log.columns=[\"Predicted 0\", \"Predicted 1\"]\n",
    "print(\"\\nPrecision: \", precision_score(y_test, y_pred_log))\n",
    "print(\"Recall: \", recall_score(y_test, y_pred_log))\n",
    "print(\"F1-score: \", f1_score(y_test, y_pred_log))\n",
    "print(\"\\n\")\n",
    "Conf_matrix_log\n",
    "\n",
    "#ROC curves\n",
    "EE1, y_pred, F = Accuracy(theta1=w, theta2=e, X=X_train, y=y_train)\n",
    "fpr1, tpr1, thresholds1 = roc_curve(y_train,Model_log.predict_proba(X_train)[:,1])\n",
    "fpr2, tpr2, thresholds2 = roc_curve(y_test,Model_log.predict_proba(X_test)[:,1])\n",
    "plt.plot(fpr1, tpr1,'blue',lw=2)\n",
    "plt.plot(fpr2, tpr2,'red',lw=2)\n",
    "plt.plot([0,1],[0,1],'--b')\n",
    "plt.xlabel(\"False positive rate\")\n",
    "plt.ylabel(\"True positive rate\")\n",
    "plt.legend([\"Training set (AUC: {:.2f})\".format(roc_auc_score(y_train,Model_log.predict_proba(X_train)[:,1])),\n",
    "            \"Test set (AUC: {:.2f})\".format(roc_auc_score(y_test,Model_log.predict_proba(X_test)[:,1]))], loc=\"lower right\")"
   ]
  },
  {
   "cell_type": "code",
   "execution_count": 161,
   "id": "19c583cd-73b0-4af6-bf1b-f380c881a03e",
   "metadata": {},
   "outputs": [
    {
     "name": "stdout",
     "output_type": "stream",
     "text": [
      "Model: \"sequential_153\"\n",
      "_________________________________________________________________\n",
      " Layer (type)                Output Shape              Param #   \n",
      "=================================================================\n",
      " dense_407 (Dense)           (None, 3)                 27        \n",
      "                                                                 \n",
      " activation_254 (Activation)  (None, 3)                0         \n",
      "                                                                 \n",
      " dense_408 (Dense)           (None, 1)                 4         \n",
      "                                                                 \n",
      "=================================================================\n",
      "Total params: 31\n",
      "Trainable params: 31\n",
      "Non-trainable params: 0\n",
      "_________________________________________________________________\n",
      "\n",
      "Last iteration:  377\n",
      "Training accuracy:  0.7692307829856873\n",
      "Validation accuracy:  0.75\n"
     ]
    }
   ],
   "source": [
    "######################################################################\n",
    "############################# KERAS ##################################\n",
    "######################################################################\n",
    "\n",
    "#Creation of X and y (from the unbalanced dataset)\n",
    "X = data.drop([\"Class\"],axis=1)\n",
    "y = data.Class\n",
    "X = np.array(X)\n",
    "y = np.array(y)\n",
    "\n",
    "#Feature scaling\n",
    "scaler = MinMaxScaler()\n",
    "scaler.fit(X)\n",
    "X = scaler.transform(X)\n",
    "\n",
    "#Training and test set (70-30%)\n",
    "X_train, X_test, y_train, y_test = train_test_split(X,y,test_size=0.3,random_state=0)\n",
    "\n",
    "#Model structure\n",
    "Model = Sequential()\n",
    "Model.add(Dense(units=3, input_shape=X_train.shape[1:]))\n",
    "Model.add(Activation(\"sigmoid\"))\n",
    "Model.add(Dense(units=1, activation=\"sigmoid\"))             #One output (0 or 1)\n",
    "Model.summary()\n",
    "\n",
    "#Training\n",
    "Epochs = 500\n",
    "callback = keras.callbacks.EarlyStopping(monitor='loss', patience=5)\n",
    "Model.compile(optimizer=keras.optimizers.SGD(lr=0.1),loss=\"binary_crossentropy\",metrics=[\"accuracy\"])\n",
    "Run = Model.fit(X_train, y_train, validation_split=0.2, epochs=Epochs, verbose=0, callbacks=[callback],shuffle=True)\n",
    "\n",
    "#Last epoch\n",
    "print(\"\\nLast iteration: \", len(Run.history[\"loss\"]))\n",
    "print(\"Training accuracy: \", Run.history[\"accuracy\"][-1])\n",
    "print(\"Validation accuracy: \", Run.history[\"val_accuracy\"][-1])"
   ]
  },
  {
   "cell_type": "code",
   "execution_count": 168,
   "id": "a4776dbc-d108-4157-929e-80a14d7e5a68",
   "metadata": {},
   "outputs": [
    {
     "data": {
      "text/plain": [
       "<matplotlib.legend.Legend at 0x7f6ba042a1d0>"
      ]
     },
     "execution_count": 168,
     "metadata": {},
     "output_type": "execute_result"
    },
    {
     "data": {
      "image/png": "[encoded data removed]",
      "text/plain": [
       "<Figure size 576x360 with 1 Axes>"
      ]
     },
     "metadata": {
      "needs_background": "light"
     },
     "output_type": "display_data"
    }
   ],
   "source": [
    "#Plot\n",
    "plt.figure(figsize=(8,5))\n",
    "plt.plot(Run.history[\"loss\"],'-r')\n",
    "plt.plot(Run.history[\"val_loss\"],\"-b\")\n",
    "plt.plot(Run.history[\"accuracy\"],'--r')\n",
    "plt.plot(Run.history[\"val_accuracy\"],\"--b\")\n",
    "plt.xlim([50,400])\n",
    "plt.ylim([0.45,0.80])\n",
    "plt.xlabel(\"Epoch\")\n",
    "plt.ylabel(\"Cost function / Accuracy\")\n",
    "plt.legend([\"Training cost function\",\"Validation cost function\",\"Training accuracy\",\"Validation accuracy\"])"
   ]
  },
  {
   "cell_type": "code",
   "execution_count": 169,
   "id": "d3d20ae1-236e-416c-bddc-3f4fac21a22c",
   "metadata": {},
   "outputs": [
    {
     "name": "stdout",
     "output_type": "stream",
     "text": [
      "2 - None - 0.5 ----- 0.760 (0.008) - 0.783 (0.017) --- 0.761 - 0.528 - 0.623\n",
      "2 - None - 0.8 ----- 0.759 (0.007) - 0.789 (0.015) --- 0.773 - 0.533 - 0.631\n",
      "2 - None - 1.0 ----- 0.759 (0.012) - 0.787 (0.008) --- 0.714 - 0.606 - 0.655\n",
      "2 - 2 - 0.5 ----- 0.632 (0.000) - 0.667 (0.000) --- 0.000 - 0.000 - nan\n",
      "2 - 2 - 0.8 ----- 0.758 (0.006) - 0.765 (0.019) --- 0.677 - 0.572 - 0.620\n",
      "2 - 2 - 1.0 ----- 0.678 (0.057) - 0.663 (0.065) --- 0.248 - 0.272 - 0.260\n",
      "2 - 3 - 0.5 ----- 0.766 (0.011) - 0.765 (0.021) --- 0.759 - 0.483 - 0.591\n",
      "2 - 3 - 0.8 ----- 0.750 (0.008) - 0.759 (0.035) --- 0.658 - 0.639 - 0.648\n",
      "2 - 3 - 1.0 ----- 0.745 (0.012) - 0.776 (0.012) --- 0.697 - 0.589 - 0.639\n",
      "2 - 5 - 0.5 ----- 0.684 (0.064) - 0.702 (0.051) --- 0.257 - 0.267 - 0.262\n",
      "2 - 5 - 0.8 ----- 0.741 (0.027) - 0.763 (0.022) --- 0.745 - 0.450 - 0.561\n",
      "2 - 5 - 1.0 ----- 0.754 (0.025) - 0.743 (0.031) --- 0.767 - 0.422 - 0.545\n",
      "3 - None - 0.5 ----- 0.762 (0.006) - 0.785 (0.018) --- 0.732 - 0.567 - 0.639\n",
      "3 - None - 0.8 ----- 0.761 (0.006) - 0.781 (0.014) --- 0.713 - 0.578 - 0.638\n",
      "3 - None - 1.0 ----- 0.758 (0.009) - 0.787 (0.013) --- 0.721 - 0.606 - 0.658\n",
      "3 - 2 - 0.5 ----- 0.770 (0.009) - 0.781 (0.015) --- 0.721 - 0.589 - 0.648\n",
      "3 - 2 - 0.8 ----- 0.721 (0.049) - 0.741 (0.040) --- 0.560 - 0.428 - 0.485\n",
      "3 - 2 - 1.0 ----- 0.731 (0.051) - 0.743 (0.042) --- 0.566 - 0.417 - 0.480\n",
      "3 - 3 - 0.5 ----- 0.735 (0.052) - 0.756 (0.047) --- 0.557 - 0.483 - 0.517\n",
      "3 - 3 - 0.8 ----- 0.703 (0.059) - 0.719 (0.046) --- 0.468 - 0.239 - 0.316\n",
      "3 - 3 - 1.0 ----- 0.726 (0.048) - 0.737 (0.046) --- 0.530 - 0.494 - 0.511\n",
      "3 - 5 - 0.5 ----- 0.632 (0.000) - 0.667 (0.000) --- 0.000 - 0.000 - nan\n",
      "3 - 5 - 0.8 ----- 0.731 (0.049) - 0.754 (0.047) --- 0.610 - 0.394 - 0.479\n",
      "3 - 5 - 1.0 ----- 0.750 (0.019) - 0.772 (0.022) --- 0.769 - 0.467 - 0.581\n",
      "5 - None - 0.5 ----- 0.759 (0.010) - 0.778 (0.012) --- 0.716 - 0.561 - 0.629\n",
      "5 - None - 0.8 ----- 0.756 (0.011) - 0.763 (0.025) --- 0.727 - 0.511 - 0.600\n",
      "5 - None - 1.0 ----- 0.761 (0.009) - 0.776 (0.016) --- 0.738 - 0.539 - 0.623\n",
      "5 - 2 - 0.5 ----- 0.656 (0.049) - 0.691 (0.048) --- 0.148 - 0.111 - 0.127\n",
      "5 - 2 - 0.8 ----- 0.722 (0.046) - 0.746 (0.040) --- 0.552 - 0.444 - 0.493\n",
      "5 - 2 - 1.0 ----- 0.683 (0.063) - 0.711 (0.055) --- 0.307 - 0.200 - 0.242\n",
      "5 - 3 - 0.5 ----- 0.756 (0.004) - 0.781 (0.011) --- 0.739 - 0.544 - 0.627\n",
      "5 - 3 - 0.8 ----- 0.682 (0.062) - 0.704 (0.049) --- 0.261 - 0.256 - 0.258\n",
      "5 - 3 - 1.0 ----- 0.709 (0.063) - 0.733 (0.056) --- 0.443 - 0.311 - 0.365\n",
      "5 - 5 - 0.5 ----- 0.733 (0.051) - 0.754 (0.052) --- 0.608 - 0.411 - 0.490\n",
      "5 - 5 - 0.8 ----- 0.703 (0.059) - 0.722 (0.050) --- 0.464 - 0.256 - 0.330\n",
      "5 - 5 - 1.0 ----- 0.756 (0.009) - 0.770 (0.019) --- 0.713 - 0.544 - 0.617\n"
     ]
    }
   ],
   "source": [
    "#Grid search\n",
    "hid_layer1 = [2,3,5]\n",
    "hid_layer2 = [None, 2,3,5]\n",
    "learning_rate = [0.5,0.8,1.0]\n",
    "#Last, Acc, Acc_va = [], [], []\n",
    "for i in hid_layer1 :\n",
    "    for j in hid_layer2 :\n",
    "        for a in learning_rate :\n",
    "            #Model structure\n",
    "            if j == None :\n",
    "                Model = Sequential()\n",
    "                Model.add(Dense(units=i, input_shape=X_train.shape[1:]))\n",
    "                Model.add(Activation(\"sigmoid\"))\n",
    "                Model.add(Dense(units=1, activation=\"sigmoid\"))             #One output (0 or 1)\n",
    "            else :\n",
    "                Model = Sequential()\n",
    "                Model.add(Dense(units=i, input_shape=X_train.shape[1:]))\n",
    "                Model.add(Activation(\"sigmoid\"))\n",
    "                Model.add(Dense(units=j))\n",
    "                Model.add(Activation(\"sigmoid\"))\n",
    "                Model.add(Dense(units=1, activation=\"sigmoid\"))             #One output (0 or 1)\n",
    "            #Training\n",
    "            Epochs = 1000\n",
    "            callback = keras.callbacks.EarlyStopping(monitor='loss', patience=5)\n",
    "            Model.compile(optimizer=keras.optimizers.SGD(lr=a),loss=\"binary_crossentropy\",metrics=[\"accuracy\", keras.metrics.Precision(), keras.metrics.Recall()])\n",
    "            acc, acc_te, pre, rec = [], [], [], []\n",
    "            for k in range(5) :\n",
    "                Run = Model.fit(X_train, y_train, validation_split=0.2, epochs=Epochs, verbose=0, callbacks=[callback], shuffle = True)\n",
    "                acc.append(Run.history[\"accuracy\"][-1]), acc_te.append(Run.history[\"val_accuracy\"][-1])\n",
    "                pre.append(Run.history[list(Run.history)[6]][-1]),rec.append(Run.history[list(Run.history)[7]][-1])\n",
    "            print(\"{} - {} - {} ----- {:.3f} ({:.3f}) - {:.3f} ({:.3f}) --- {:.3f} - {:.3f} - {:.3f}\".format(i,j,a,np.mean(acc),np.std(acc),np.mean(acc_te),np.std(acc_te),\n",
    "                                                                                                            np.mean(pre), np.mean(rec),\n",
    "                                                                                                            2*(np.mean(pre)*np.mean(rec))/(np.mean(pre)+np.mean(rec))))"
   ]
  },
  {
   "cell_type": "code",
   "execution_count": 193,
   "id": "7fc45c25-b07a-48a9-8b30-25054aeebb0e",
   "metadata": {},
   "outputs": [
    {
     "name": "stdout",
     "output_type": "stream",
     "text": [
      "\n",
      "Last iteration:  48\n",
      "Training accuracy:  0.769087553024292\n",
      "Test accuracy:  0.7662337422370911\n",
      "\n",
      "Test precision:  0.65625\n",
      "Test recall:  0.5675675868988037\n",
      "Test f1-score:  0.6086956632910993\n",
      "\n",
      "           Predicted 0  Predicted 1\n",
      "Actual 0          135           22\n",
      "Actual 1           32           42\n"
     ]
    },
    {
     "data": {
      "text/plain": [
       "<matplotlib.legend.Legend at 0x7f6bdfeb80b8>"
      ]
     },
     "execution_count": 193,
     "metadata": {},
     "output_type": "execute_result"
    },
    {
     "data": {
      "image/png": "[encoded data removed]",
      "text/plain": [
       "<Figure size 432x288 with 1 Axes>"
      ]
     },
     "metadata": {
      "needs_background": "light"
     },
     "output_type": "display_data"
    }
   ],
   "source": [
    "#In terms of f1-score, the best model is 3-None-1.0\n",
    "Model1 = Sequential()\n",
    "Model1.add(Dense(units=3, input_shape=X_train.shape[1:]))\n",
    "Model1.add(Activation(\"sigmoid\"))\n",
    "Model1.add(Dense(units=1, activation=\"sigmoid\"))             #One output (0 or 1)\n",
    "\n",
    "#Training\n",
    "Model1.compile(optimizer=keras.optimizers.SGD(lr=1.0),loss=\"binary_crossentropy\",metrics=[\"accuracy\", keras.metrics.Precision(), keras.metrics.Recall()])\n",
    "Run = Model1.fit(X_train, y_train, validation_data=(X_test,y_test), epochs=Epochs, verbose=0, callbacks=[callback])\n",
    "\n",
    "#Results\n",
    "print(\"\\nLast iteration: \", len(Run.history[\"loss\"]))\n",
    "print(\"Training accuracy: \", Run.history[\"accuracy\"][-1])\n",
    "print(\"Test accuracy: \", Run.history[\"val_accuracy\"][-1])\n",
    "print(\"\\nTest precision: \", Run.history[list(Run.history)[6]][-1])\n",
    "print(\"Test recall: \", Run.history[list(Run.history)[7]][-1])\n",
    "print(\"Test f1-score: \", 2*((Run.history[list(Run.history)[6]][-1])*(Run.history[list(Run.history)[7]][-1]))/((Run.history[list(Run.history)[6]][-1])+(Run.history[list(Run.history)[7]][-1])))\n",
    "\n",
    "#Confusion matrix\n",
    "Pred = Model1.predict(X_test)\n",
    "Newpred = []\n",
    "i=0\n",
    "while i<len(Pred) :\n",
    "    if Pred[i]>=0.5 :\n",
    "        Newpred.append(1)\n",
    "    else :\n",
    "        Newpred.append(0)\n",
    "    i=i+1\n",
    "    \n",
    "Conf_matrix = pd.DataFrame(confusion_matrix(y_test, Newpred))\n",
    "Conf_matrix.index=[\"Actual 0\", \"Actual 1\"]\n",
    "Conf_matrix.columns=[\"Predicted 0\", \"Predicted 1\"]\n",
    "print(\"\\n\",Conf_matrix)\n",
    "\n",
    "#ROC curves\n",
    "fpr1, tpr1, thresholds1 = roc_curve(y_train,Model1.predict(X_train))\n",
    "fpr2, tpr2, thresholds2 = roc_curve(y_test,Model1.predict(X_test))\n",
    "plt.plot(fpr1, tpr1,'blue',lw=2)\n",
    "plt.plot(fpr2, tpr2,'red',lw=2)\n",
    "plt.plot([0,1],[0,1],'--b')\n",
    "plt.xlabel(\"False positive rate\")\n",
    "plt.ylabel(\"True positive rate\")\n",
    "plt.legend([\"Training set (AUC: {:.2f})\".format(roc_auc_score(y_train,Model1.predict(X_train))),\"Test set (AUC: {:.2f})\".format(roc_auc_score(y_test,Model1.predict(X_test)))], loc=\"lower right\")"
   ]
  }
 ],
 "metadata": {
  "kernelspec": {
   "display_name": "Python 3 (ipykernel)",
   "language": "python",
   "name": "python3"
  },
  "language_info": {
   "codemirror_mode": {
    "name": "ipython",
    "version": 3
   },
   "file_extension": ".py",
   "mimetype": "text/x-python",
   "name": "python",
   "nbconvert_exporter": "python",
   "pygments_lexer": "ipython3",
   "version": "3.7.3"
  }
 },
 "nbformat": 4,
 "nbformat_minor": 5
}
