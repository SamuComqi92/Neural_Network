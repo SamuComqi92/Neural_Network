{
 "cells": [
  {
   "cell_type": "markdown",
   "id": "85e6a142-64c7-4dc7-8cc7-bd5e2e564155",
   "metadata": {},
   "source": [
    "# **Neural Network from scratch**\n",
    "\n",
    ".\n",
    "\n",
    "."
   ]
  },
  {
   "cell_type": "code",
   "execution_count": 1,
   "id": "6d71c9cd-591a-450e-afc3-e7c3684dabfd",
   "metadata": {},
   "outputs": [
    {
     "name": "stderr",
     "output_type": "stream",
    }
   ],
   "source": [
    "#Import libraries\n",
    "import numpy as np\n",
    "import pandas as pd\n",
    "import matplotlib.pyplot as plt\n",
    "from sklearn.model_selection import train_test_split\n",
    "from sklearn.preprocessing import MinMaxScaler\n",
    "from sklearn.linear_model import LogisticRegression\n",
    "from sklearn.metrics import confusion_matrix\n",
    "from sklearn.metrics import precision_score,recall_score,f1_score, accuracy_score\n",
    "from sklearn.metrics import precision_recall_curve, roc_auc_score, roc_curve\n",
    "\n",
    "import tensorflow\n",
    "from tensorflow import keras\n",
    "from keras.models import Sequential\n",
    "from keras.layers import Dense, Activation\n",
    "\n",
    "import warnings\n",
    "warnings.filterwarnings(\"ignore\")"
   ]
  },
  {
   "cell_type": "markdown",
   "id": "e1bd6e7b-c838-428a-87eb-37fe70cb879d",
   "metadata": {},
   "source": [
    ".\n",
    "\n",
    "## **Define useful functions**\n",
    "\n",
    "Initializing the weights to zero is not recommended. Andrew Ng (in his the online course about Machine Learning on Coursera) suggests the following initialization:"
   ]
  },
  {
   "cell_type": "code",
   "execution_count": 2,
   "id": "e013be8f-0fd1-4bad-b011-da530ba8e52e",
   "metadata": {},
   "outputs": [],
   "source": [
    "#Random initialization of weights\n",
    "def randw(Lin,Lout) :\n",
    "    np.random.seed(0)\n",
    "    epsilon = (6 / (Lin+Lout))**0.5;\n",
    "    return np.random.rand(Lout,Lin+1)*2*epsilon - epsilon"
   ]
  },
  {
   "cell_type": "markdown",
   "id": "4706153a-cd9b-4d25-944a-1aa06e6fa931",
   "metadata": {},
   "source": [
    ".\n",
    "\n",
    "Different activation functions can be used in a Neural Network."
   ]
  },
  {
   "cell_type": "code",
   "execution_count": 3,
   "id": "2268cbe0-02a3-4bf3-b7f6-3a5c5d05425f",
   "metadata": {},
   "outputs": [],
   "source": [
    "#Activation function\n",
    "def act(a,x) :\n",
    "    if a==\"sigmoid\" :\n",
    "        return 1./(1.+np.exp(-x))\n",
    "    elif a==\"tanh\" :\n",
    "        return np.tanh(x)\n",
    "    elif a==\"relu\" :\n",
    "        return np.where(x>0,x,0)"
   ]
  },
  {
   "cell_type": "markdown",
   "id": "6766f476-b97b-4599-aee7-b89dfbcc9d16",
   "metadata": {},
   "source": [
    ".\n",
    "\n",
    "The *forward propagation* is useful to fo from the input layer to the output layer."
   ]
  },
  {
   "cell_type": "code",
   "execution_count": 4,
   "id": "c8ecc8f7-4ced-4432-84e9-7e47a190f499",
   "metadata": {},
   "outputs": [],
   "source": [
    "#Forward propagation\n",
    "#Only one function will be applied to the whole net\n",
    "#The function in the last layer is always the Sigmoid (BINARY CLASSIFICATION)\n",
    "def Forward(X,theta1,theta2,function,theta3=None) :\n",
    "    m = X.shape[0]\n",
    "    a2 = act(function,np.dot(theta1,X.T))          #a1=X.T\n",
    "    if theta3 is None :\n",
    "        a3 = act(\"sigmoid\",np.dot(theta2,np.vstack([np.ones((1,m)),a2])))   \n",
    "        return a3.T\n",
    "    else :\n",
    "        a3 = act(function,np.dot(theta2,np.vstack([np.ones((1,m)),a2])))   \n",
    "        a4 = act(\"sigmoid\",np.dot(theta3,np.vstack([np.ones((1,m)),a3])))\n",
    "        return a4.T"
   ]
  },
  {
   "cell_type": "markdown",
   "id": "c5ca2d7a-ee11-42fd-b76a-86b684c66e17",
   "metadata": {},
   "source": [
    ".\n",
    "\n",
    "The Neural Network training requires the full *forward and back propagation* algorithm to optimize the weights by computing the gradient of the cost function."
   ]
  },
  {
   "cell_type": "code",
   "execution_count": 5,
   "id": "06725050-acdd-441c-bf45-48a21b1e5c80",
   "metadata": {},
   "outputs": [],
   "source": [
    "#Forward and Backpropagation\n",
    "#Only one function will be applied to the whole net\n",
    "#The function in the last layer is always the Sigmoid (BINARY CLASSIFICATION)\n",
    "def ForwBack(X,theta1,theta2, yy, function, theta3=None) :\n",
    "    m = X.shape[0]\n",
    "    a2 = act(function,np.dot(theta1,X.T))          #a1=X.T\n",
    "    if theta3 is None :\n",
    "        a3 = act(\"sigmoid\",np.dot(theta2,np.vstack([np.ones((1,m)),a2])))   \n",
    "        d3 = a3-yy.T\n",
    "        d2 = np.dot(theta2.T,d3) * np.vstack([np.ones((1,m)),a2]) * (1 - np.vstack([np.ones((1,m)),a2]))\n",
    "        a4, d4 = 0,0\n",
    "        return a2, a3, a4, d2, d3, d4\n",
    "    else :\n",
    "        a3 = act(function,np.dot(theta2,np.vstack([np.ones((1,m)),a2])))   \n",
    "        a4 = act(\"sigmoid\",np.dot(theta3,np.vstack([np.ones((1,m)),a3])))\n",
    "        d4 = a4-yy.T\n",
    "        d3 = (np.dot(theta3.T,d4) * np.vstack([np.ones((1,m)),a3]) * (1 - np.vstack([np.ones((1,m)),a3])))[1:,:]\n",
    "        d2 = (np.dot(theta2.T,d3) * np.vstack([np.ones((1,m)),a2]) * (1 - np.vstack([np.ones((1,m)),a2])))[1:,:]\n",
    "        return a2, a3, a4, d2, d3, d4"
   ]
  },
  {
   "cell_type": "markdown",
   "id": "2cdca62b-1029-49dd-9061-0fcde64813f7",
   "metadata": {},
   "source": [
    ".\n",
    "\n",
    "Finally, it is possible to create the Cost function and its gradient: in this function, the L2 regularization is added in the code."
   ]
  },
  {
   "cell_type": "code",
   "execution_count": 6,
   "id": "e656d10d-9597-45a2-a1d9-9c50297c3306",
   "metadata": {},
   "outputs": [],
   "source": [
    "#Cost function and Gradient\n",
    "def J_Grad(theta1, theta2, X, y, hid_layer1, labels, Lambda, function, theta3 = None, hid_layer2 = None) :\n",
    "    m = X.shape[0]\n",
    "    inputs = X.shape[1]\n",
    "    X = np.hstack([np.ones((X.shape[0],1)),X])\n",
    "    \n",
    "    #Create target array\n",
    "    yy = np.zeros((len(y),labels))\n",
    "    for i in np.arange(0,m) :\n",
    "        for k in np.arange(0,labels) :\n",
    "            if y[i] == k :\n",
    "                yy[i,k] = 1\n",
    "    \n",
    "    a2, a3, a4, d2, d3, d4 = ForwBack(X=X, theta1=theta1, theta2=theta2, theta3=theta3, yy=yy, function=function)\n",
    "    if hid_layer2 is None :\n",
    "        REG = (np.sum(theta1[:,1:]**2) + np.sum(theta2[:,1:]**2))*Lambda/(2*m)  \n",
    "        J = sum(sum(-np.log10(a3)*yy.T - np.log10(1-a3)*(1-yy).T))/m + REG\n",
    "        Delta1 = np.dot(d2,X)[1:,:]       #(d2,a1.T)\n",
    "        Delta2 = np.dot(d3,(np.vstack([np.ones((1,m)),a2])).T)\n",
    "        t1grad = (Delta1+(np.hstack([ np.zeros((theta1.shape[0],1)), theta1[:,1:]  ]))*Lambda)/m\n",
    "        t2grad = (Delta2+(np.hstack([ np.zeros((theta2.shape[0],1)), theta2[:,1:]  ]))*Lambda)/m\n",
    "        t3grad = 0    \n",
    "    else :\n",
    "        REG = (np.sum(theta1[:,1:]**2) + np.sum(theta2[:,1:]**2) + np.sum(theta3[:,1:]**2))*Lambda/(2*m)  \n",
    "        J = sum(sum(-np.log10(a4)*yy.T - np.log10(1-a4)*(1-yy).T))/m + REG\n",
    "        Delta1 = np.dot(d2,X)\n",
    "        Delta2 = np.dot(d3,(np.vstack([np.ones((1,m)),a2])).T)\n",
    "        Delta3 = np.dot(d4,(np.vstack([np.ones((1,m)),a3])).T)\n",
    "        t1grad = (Delta1+(np.hstack([ np.zeros((theta1.shape[0],1)), theta1[:,1:]  ]))*Lambda)/m\n",
    "        t2grad = (Delta2+(np.hstack([ np.zeros((theta2.shape[0],1)), theta2[:,1:]  ]))*Lambda)/m\n",
    "        t3grad = (Delta3+(np.hstack([ np.zeros((theta3.shape[0],1)), theta3[:,1:]  ]))*Lambda)/m\n",
    "    return J, t1grad, t2grad, t3grad"
   ]
  },
  {
   "cell_type": "markdown",
   "id": "5ce4b119-0a3e-41d6-9697-1d652558f3e3",
   "metadata": {},
   "source": [
    ".\n",
    "\n",
    "Once weights have been optimized, the following function returns the final probabilities, predictions, and accuracy."
   ]
  },
  {
   "cell_type": "code",
   "execution_count": 7,
   "id": "366d9899-5330-4e36-b3b5-0d88005ec053",
   "metadata": {},
   "outputs": [],
   "source": [
    "def Accuracy(theta1, theta2, X, y, function, theta3 = None) :\n",
    "    m = X.shape[0]\n",
    "    inputs = X.shape[1]\n",
    "    X = np.hstack([np.ones((X.shape[0],1)),X])\n",
    "    final = Forward(X,theta1,theta2,theta3=theta3,function=function)\n",
    "    Pred = []\n",
    "    for i in np.arange(0,len(final)) :\n",
    "        Pred.append(np.argmax(final[i,:]))\n",
    "    return final[:,1], Pred, (Pred == y).sum()/len(y)"
   ]
  },
  {
   "cell_type": "markdown",
   "id": "5c0627ff-5e82-44d9-a0fd-4ab3bc033930",
   "metadata": {},
   "source": [
    ".\n",
    "\n",
    "All the pieces are ready to write the Neural Network training function that implements the forward and back propagation algorithm up to a *Max_iter* iteration.\n",
    "\n",
    "The following code includes the *early stopping* part: once the cost function on the validation set reaches its minimum, the algorithm stops to avoid overfitting.\n",
    "\n",
    "The function return the last iteration epoch, the matrices of weights, the training and validation cost function values at the last iteration, and the corresponding accuracies."
   ]
  },
  {
   "cell_type": "code",
   "execution_count": 8,
   "id": "08964b33-a2c8-4ef0-835c-263166b5f224",
   "metadata": {},
   "outputs": [],
   "source": [
    "#Training Neural Network\n",
    "def Training(hid_layer1, X, y, X_test, y_test, alpha, Lambda, Max_iter, function, hid_layer2 = None, flag = True) :\n",
    "    inputs = X.shape[1]                     #Number of features\n",
    "    labels = len(pd.Series(y).unique())     #Number of labels (in the output)\n",
    "    Cost_te = 100\n",
    "    if hid_layer2 is None :\n",
    "        #Random initialization of weights\n",
    "        theta1 = randw(inputs, hid_layer1)\n",
    "        theta2 = randw(hid_layer1, labels)\n",
    "        theta3 = None\n",
    "    else :\n",
    "        theta1 = randw(inputs, hid_layer1)\n",
    "        theta2 = randw(hid_layer1, hid_layer2)\n",
    "        theta3 = randw(hid_layer2, labels)\n",
    "\n",
    "    #Iterative training (i: epoch)\n",
    "    Cost, Cost_t = [], []\n",
    "    for i in range(Max_iter) :\n",
    "        A, B, C, D = J_Grad(theta1=theta1, theta2=theta2, theta3=theta3, X=X, y=y, hid_layer1=hid_layer1, \n",
    "                            hid_layer2=hid_layer2, labels=labels, Lambda=Lambda, function=function)\n",
    "        A1, B1, C1, D1 = J_Grad(theta1=theta1, theta2=theta2, theta3=theta3, X=X_test, y=y_test, hid_layer1=hid_layer1, \n",
    "                                hid_layer2=hid_layer2, labels=labels, Lambda=0.0, function=function)\n",
    "        EE, E, F = Accuracy(theta1=theta1, theta2=theta2, theta3=theta3, X=X, y=y, function=function)\n",
    "        EE1, E1, F1 = Accuracy(theta1=theta1, theta2=theta2, theta3=theta3, X=X_test, y=y_test, function=function)\n",
    "        Cost.append(A)\n",
    "        Cost_t.append(A1)\n",
    "        \n",
    "        #Early stopping\n",
    "        broken = 0\n",
    "        if (flag == True) & (i>100) :        #To avoid initial flactuations\n",
    "            if A1<Cost_te :\n",
    "                Cost_te = A1\n",
    "            else :\n",
    "                broken = 1\n",
    "        if broken==1 :\n",
    "            break\n",
    "            \n",
    "        #Update weights\n",
    "        if hid_layer2 is None :\n",
    "            theta1 = theta1 - alpha*B\n",
    "            theta2 = theta2 - alpha*C\n",
    "        else :\n",
    "            theta1 = theta1 - alpha*B\n",
    "            theta2 = theta2 - alpha*C\n",
    "            theta3 = theta3 - alpha*D\n",
    "        i=i+1\n",
    "    return i, theta1, theta2, theta3, Cost, Cost_t, F, F1"
   ]
  },
  {
   "cell_type": "markdown",
   "id": "2c634242-e60d-47c7-9a3c-6ee26313d614",
   "metadata": {},
   "source": [
    ".\n",
    "\n",
    "## **Dataset**\n",
    "\n",
    "The dataset has been retrieved from https://raw.githubusercontent.com/jbrownlee/Datasets/master/pima-indians-diabetes.names : it is about the *Pima Indians Diabetes*."
   ]
  },
  {
   "cell_type": "code",
   "execution_count": 9,
   "id": "a1d983db-013f-4d53-90f3-c608aab8bd5d",
   "metadata": {},
   "outputs": [
    {
     "data": {
      "text/html": [
       "<div>\n",
       "<style scoped>\n",
       "    .dataframe tbody tr th:only-of-type {\n",
       "        vertical-align: middle;\n",
       "    }\n",
       "\n",
       "    .dataframe tbody tr th {\n",
       "        vertical-align: top;\n",
       "    }\n",
       "\n",
       "    .dataframe thead th {\n",
       "        text-align: right;\n",
       "    }\n",
       "</style>\n",
       "<table border=\"1\" class=\"dataframe\">\n",
       "  <thead>\n",
       "    <tr style=\"text-align: right;\">\n",
       "      <th></th>\n",
       "      <th>A</th>\n",
       "      <th>B</th>\n",
       "      <th>C</th>\n",
       "      <th>D</th>\n",
       "      <th>E</th>\n",
       "      <th>F</th>\n",
       "      <th>G</th>\n",
       "      <th>H</th>\n",
       "      <th>Class</th>\n",
       "    </tr>\n",
       "  </thead>\n",
       "  <tbody>\n",
       "    <tr>\n",
       "      <th>0</th>\n",
       "      <td>6</td>\n",
       "      <td>148</td>\n",
       "      <td>72</td>\n",
       "      <td>35</td>\n",
       "      <td>0</td>\n",
       "      <td>33.6</td>\n",
       "      <td>0.627</td>\n",
       "      <td>50</td>\n",
       "      <td>1</td>\n",
       "    </tr>\n",
       "    <tr>\n",
       "      <th>1</th>\n",
       "      <td>1</td>\n",
       "      <td>85</td>\n",
       "      <td>66</td>\n",
       "      <td>29</td>\n",
       "      <td>0</td>\n",
       "      <td>26.6</td>\n",
       "      <td>0.351</td>\n",
       "      <td>31</td>\n",
       "      <td>0</td>\n",
       "    </tr>\n",
       "    <tr>\n",
       "      <th>2</th>\n",
       "      <td>8</td>\n",
       "      <td>183</td>\n",
       "      <td>64</td>\n",
       "      <td>0</td>\n",
       "      <td>0</td>\n",
       "      <td>23.3</td>\n",
       "      <td>0.672</td>\n",
       "      <td>32</td>\n",
       "      <td>1</td>\n",
       "    </tr>\n",
       "    <tr>\n",
       "      <th>3</th>\n",
       "      <td>1</td>\n",
       "      <td>89</td>\n",
       "      <td>66</td>\n",
       "      <td>23</td>\n",
       "      <td>94</td>\n",
       "      <td>28.1</td>\n",
       "      <td>0.167</td>\n",
       "      <td>21</td>\n",
       "      <td>0</td>\n",
       "    </tr>\n",
       "    <tr>\n",
       "      <th>4</th>\n",
       "      <td>0</td>\n",
       "      <td>137</td>\n",
       "      <td>40</td>\n",
       "      <td>35</td>\n",
       "      <td>168</td>\n",
       "      <td>43.1</td>\n",
       "      <td>2.288</td>\n",
       "      <td>33</td>\n",
       "      <td>1</td>\n",
       "    </tr>\n",
       "    <tr>\n",
       "      <th>...</th>\n",
       "      <td>...</td>\n",
       "      <td>...</td>\n",
       "      <td>...</td>\n",
       "      <td>...</td>\n",
       "      <td>...</td>\n",
       "      <td>...</td>\n",
       "      <td>...</td>\n",
       "      <td>...</td>\n",
       "      <td>...</td>\n",
       "    </tr>\n",
       "    <tr>\n",
       "      <th>763</th>\n",
       "      <td>10</td>\n",
       "      <td>101</td>\n",
       "      <td>76</td>\n",
       "      <td>48</td>\n",
       "      <td>180</td>\n",
       "      <td>32.9</td>\n",
       "      <td>0.171</td>\n",
       "      <td>63</td>\n",
       "      <td>0</td>\n",
       "    </tr>\n",
       "    <tr>\n",
       "      <th>764</th>\n",
       "      <td>2</td>\n",
       "      <td>122</td>\n",
       "      <td>70</td>\n",
       "      <td>27</td>\n",
       "      <td>0</td>\n",
       "      <td>36.8</td>\n",
       "      <td>0.340</td>\n",
       "      <td>27</td>\n",
       "      <td>0</td>\n",
       "    </tr>\n",
       "    <tr>\n",
       "      <th>765</th>\n",
       "      <td>5</td>\n",
       "      <td>121</td>\n",
       "      <td>72</td>\n",
       "      <td>23</td>\n",
       "      <td>112</td>\n",
       "      <td>26.2</td>\n",
       "      <td>0.245</td>\n",
       "      <td>30</td>\n",
       "      <td>0</td>\n",
       "    </tr>\n",
       "    <tr>\n",
       "      <th>766</th>\n",
       "      <td>1</td>\n",
       "      <td>126</td>\n",
       "      <td>60</td>\n",
       "      <td>0</td>\n",
       "      <td>0</td>\n",
       "      <td>30.1</td>\n",
       "      <td>0.349</td>\n",
       "      <td>47</td>\n",
       "      <td>1</td>\n",
       "    </tr>\n",
       "    <tr>\n",
       "      <th>767</th>\n",
       "      <td>1</td>\n",
       "      <td>93</td>\n",
       "      <td>70</td>\n",
       "      <td>31</td>\n",
       "      <td>0</td>\n",
       "      <td>30.4</td>\n",
       "      <td>0.315</td>\n",
       "      <td>23</td>\n",
       "      <td>0</td>\n",
       "    </tr>\n",
       "  </tbody>\n",
       "</table>\n",
       "<p>768 rows × 9 columns</p>\n",
       "</div>"
      ],
      "text/plain": [
       "      A    B   C   D    E     F      G   H  Class\n",
       "0     6  148  72  35    0  33.6  0.627  50      1\n",
       "1     1   85  66  29    0  26.6  0.351  31      0\n",
       "2     8  183  64   0    0  23.3  0.672  32      1\n",
       "3     1   89  66  23   94  28.1  0.167  21      0\n",
       "4     0  137  40  35  168  43.1  2.288  33      1\n",
       "..   ..  ...  ..  ..  ...   ...    ...  ..    ...\n",
       "763  10  101  76  48  180  32.9  0.171  63      0\n",
       "764   2  122  70  27    0  36.8  0.340  27      0\n",
       "765   5  121  72  23  112  26.2  0.245  30      0\n",
       "766   1  126  60   0    0  30.1  0.349  47      1\n",
       "767   1   93  70  31    0  30.4  0.315  23      0\n",
       "\n",
       "[768 rows x 9 columns]"
      ]
     },
     "execution_count": 9,
     "metadata": {},
     "output_type": "execute_result"
    }
   ],
   "source": [
    "#Import the data\n",
    "data = pd.read_csv(\"dati2\")\n",
    "data"
   ]
  },
  {
   "cell_type": "markdown",
   "id": "1cf975c6-c88f-4216-a47b-abf8225ffc46",
   "metadata": {},
   "source": [
    ".\n",
    "\n",
    "The features are all numeric:\n",
    "   1. Number of times pregnant\n",
    "   2. Plasma glucose concentration a 2 hours in an oral glucose tolerance test\n",
    "   3. Diastolic blood pressure (mm Hg)\n",
    "   4. Triceps skin fold thickness (mm)\n",
    "   5. 2-Hour serum insulin (mu U/ml)\n",
    "   6. Body mass index (weight in kg/(height in m)^2)\n",
    "   7. Diabetes pedigree function\n",
    "   8. Age (years)\n",
    "   9. Class variable (0 or 1)"
   ]
  },
  {
   "cell_type": "code",
   "execution_count": 10,
   "id": "db4e0609-9501-4052-9c31-aa862e77173b",
   "metadata": {},
   "outputs": [
    {
     "name": "stdout",
     "output_type": "stream",
     "text": [
      "Number of missing values: 0\n"
     ]
    }
   ],
   "source": [
    "#Missing values\n",
    "print(\"Number of missing values: {}\".format(data.isna().sum().sum()))"
   ]
  },
  {
   "cell_type": "markdown",
   "id": "d3e9ecfa-00d2-41b5-896e-ad881da90d5b",
   "metadata": {},
   "source": [
    ".\n",
    "\n",
    "The dataset has no missing values. Let's take a look at the target variable:"
   ]
  },
  {
   "cell_type": "code",
   "execution_count": 11,
   "id": "70854c40-47f0-4b19-a789-7401c9890a91",
   "metadata": {},
   "outputs": [
    {
     "data": {
      "text/plain": [
       "0    500\n",
       "1    268\n",
       "Name: Class, dtype: int64"
      ]
     },
     "execution_count": 11,
     "metadata": {},
     "output_type": "execute_result"
    }
   ],
   "source": [
    "#Target variable\n",
    "data.Class.value_counts()"
   ]
  },
  {
   "cell_type": "markdown",
   "id": "f45bc97b-dd1a-4f3a-99d3-ae1439292161",
   "metadata": {},
   "source": [
    ".\n",
    "\n",
    "It is an unbalanced dataset. In this first part, let's work with a perfectly balanced dataset."
   ]
  },
  {
   "cell_type": "code",
   "execution_count": 12,
   "id": "1133d159-92af-455e-97f6-1a96dfe0d383",
   "metadata": {},
   "outputs": [],
   "source": [
    "#Create a balanced dataset (268 records for each class)\n",
    "data_bal = pd.concat([data[data.Class==0].sample(268, random_state=0),data[data.Class==1]])\n",
    "\n",
    "#Creation of X and y\n",
    "X = data_bal.drop([\"Class\"],axis=1)\n",
    "y = data_bal.Class\n",
    "X = np.array(X)\n",
    "y = np.array(y)"
   ]
  },
  {
   "cell_type": "code",
   "execution_count": 13,
   "id": "9fbdf48e-6b81-41bb-a2e0-4b6be2bae484",
   "metadata": {},
   "outputs": [],
   "source": [
    "#Training and test set\n",
    "X_train, X_test, y_train, y_test = train_test_split(X,y,test_size=0.3,random_state=0)"
   ]
  },
  {
   "cell_type": "markdown",
   "id": "c2bd6f6b-cbd8-4441-a24f-72f24dd7a838",
   "metadata": {},
   "source": [
    ".\n",
    "\n",
    "Before applying the algorithm, let's scale the features."
   ]
  },
  {
   "cell_type": "code",
   "execution_count": 14,
   "id": "45c26f82-536f-473b-b559-528921a1c434",
   "metadata": {},
   "outputs": [],
   "source": [
    "#Feature scaling\n",
    "scaler = MinMaxScaler()\n",
    "scaler.fit(X_train)\n",
    "X_train = scaler.transform(X_train)\n",
    "X_test = scaler.transform(X_test)"
   ]
  },
  {
   "cell_type": "markdown",
   "id": "3dbec1e1-1019-481a-b69e-2c831c850273",
   "metadata": {},
   "source": [
    ".\n",
    "\n",
    "## **Training (balanced dataset)**\n",
    "\n",
    "Let's search for the best set of hyperparameters with a grid search. The output will be:\n",
    " - Number of units in the hidden layer(s)\n",
    " - Learning rate\n",
    " - Activation function\n",
    " - Mean accuracy on the training set (standard deviation)\n",
    " - Mean accuracy on the test set (standard deviation)\n",
    " - Mean precision\n",
    " - Mean recall\n",
    " - Mean F1-score"
   ]
  },
  {
   "cell_type": "code",
   "execution_count": 15,
   "id": "7c585758-9130-4253-b4cc-9226c3976eb9",
   "metadata": {},
   "outputs": [
    {
     "name": "stdout",
     "output_type": "stream",
     "text": [
      "2 - None - 0.5 - sigmoid ----- 0.754 (0.007) - 0.712 (0.025) - 0.705 - 0.738 - 0.716\n",
      "2 - None - 0.5 - tanh ----- 0.734 (0.004) - 0.723 (0.042) - 0.743 - 0.687 - 0.712\n",
      "2 - None - 0.5 - relu ----- 0.697 (0.021) - 0.659 (0.037) - 0.626 - 0.772 - 0.690\n",
      "2 - None - 0.8 - sigmoid ----- 0.761 (0.009) - 0.725 (0.011) - 0.710 - 0.774 - 0.736\n",
      "2 - None - 0.8 - tanh ----- 0.733 (0.005) - 0.723 (0.042) - 0.743 - 0.687 - 0.712\n",
      "2 - None - 0.8 - relu ----- 0.691 (0.043) - 0.667 (0.037) - 0.629 - 0.797 - 0.701\n",
      "2 - None - 1.0 - sigmoid ----- 0.765 (0.012) - 0.749 (0.023) - 0.733 - 0.793 - 0.758\n",
      "2 - None - 1.0 - tanh ----- 0.733 (0.004) - 0.725 (0.043) - 0.752 - 0.682 - 0.713\n",
      "2 - None - 1.0 - relu ----- 0.505 (0.012) - 0.485 (0.045) - 0.192 - 0.400 - 0.259\n",
      "2 - 2 - 0.5 - sigmoid ----- 0.518 (0.017) - 0.483 (0.058) - 0.304 - 0.483 - 0.350\n",
      "2 - 2 - 0.5 - tanh ----- 0.747 (0.019) - 0.709 (0.026) - 0.672 - 0.811 - 0.734\n",
      "2 - 2 - 0.5 - relu ----- 0.672 (0.007) - 0.589 (0.023) - 0.577 - 0.635 - 0.602\n",
      "2 - 2 - 0.8 - sigmoid ----- 0.536 (0.051) - 0.491 (0.073) - 0.317 - 0.478 - 0.350\n",
      "2 - 2 - 0.8 - tanh ----- 0.744 (0.026) - 0.707 (0.024) - 0.668 - 0.815 - 0.733\n",
      "2 - 2 - 0.8 - relu ----- 0.661 (0.016) - 0.595 (0.027) - 0.580 - 0.644 - 0.607\n",
      "2 - 2 - 1.0 - sigmoid ----- 0.593 (0.096) - 0.523 (0.095) - 0.322 - 0.494 - 0.378\n",
      "2 - 2 - 1.0 - tanh ----- 0.755 (0.005) - 0.704 (0.031) - 0.685 - 0.765 - 0.719\n",
      "2 - 2 - 1.0 - relu ----- 0.671 (0.009) - 0.600 (0.025) - 0.588 - 0.630 - 0.607\n",
      "2 - 5 - 0.5 - sigmoid ----- 0.719 (0.014) - 0.672 (0.059) - 0.676 - 0.687 - 0.668\n",
      "2 - 5 - 0.5 - tanh ----- 0.761 (0.007) - 0.731 (0.037) - 0.731 - 0.736 - 0.731\n",
      "2 - 5 - 0.5 - relu ----- 0.697 (0.012) - 0.619 (0.020) - 0.620 - 0.624 - 0.618\n",
      "2 - 5 - 0.8 - sigmoid ----- 0.761 (0.008) - 0.728 (0.014) - 0.712 - 0.774 - 0.737\n",
      "2 - 5 - 0.8 - tanh ----- 0.761 (0.006) - 0.728 (0.040) - 0.728 - 0.736 - 0.729\n",
      "2 - 5 - 0.8 - relu ----- 0.697 (0.012) - 0.616 (0.026) - 0.616 - 0.628 - 0.618\n",
      "2 - 5 - 1.0 - sigmoid ----- 0.761 (0.008) - 0.715 (0.027) - 0.698 - 0.765 - 0.725\n",
      "2 - 5 - 1.0 - tanh ----- 0.760 (0.005) - 0.717 (0.028) - 0.699 - 0.776 - 0.730\n",
      "2 - 5 - 1.0 - relu ----- 0.630 (0.096) - 0.568 (0.091) - 0.365 - 0.403 - 0.382\n",
      "3 - None - 0.5 - sigmoid ----- 0.750 (0.008) - 0.720 (0.024) - 0.717 - 0.735 - 0.721\n",
      "3 - None - 0.5 - tanh ----- 0.738 (0.005) - 0.704 (0.028) - 0.707 - 0.704 - 0.702\n",
      "3 - None - 0.5 - relu ----- 0.723 (0.010) - 0.664 (0.044) - 0.650 - 0.716 - 0.679\n",
      "3 - None - 0.8 - sigmoid ----- 0.759 (0.009) - 0.736 (0.010) - 0.736 - 0.746 - 0.736\n",
      "3 - None - 0.8 - tanh ----- 0.738 (0.005) - 0.704 (0.028) - 0.707 - 0.704 - 0.702\n",
      "3 - None - 0.8 - relu ----- 0.719 (0.014) - 0.661 (0.051) - 0.682 - 0.673 - 0.654\n",
      "3 - None - 1.0 - sigmoid ----- 0.765 (0.009) - 0.752 (0.018) - 0.755 - 0.757 - 0.751\n",
      "3 - None - 1.0 - tanh ----- 0.737 (0.003) - 0.709 (0.031) - 0.714 - 0.704 - 0.706\n",
      "3 - None - 1.0 - relu ----- 0.551 (0.071) - 0.573 (0.064) - 0.271 - 0.290 - 0.266\n",
      "3 - 2 - 0.5 - sigmoid ----- 0.709 (0.013) - 0.669 (0.056) - 0.715 - 0.650 - 0.646\n",
      "3 - 2 - 0.5 - tanh ----- 0.737 (0.008) - 0.704 (0.042) - 0.729 - 0.655 - 0.687\n",
      "3 - 2 - 0.5 - relu ----- 0.693 (0.007) - 0.608 (0.049) - 0.621 - 0.570 - 0.586\n",
      "3 - 2 - 0.8 - sigmoid ----- 0.759 (0.006) - 0.720 (0.032) - 0.706 - 0.751 - 0.724\n",
      "3 - 2 - 0.8 - tanh ----- 0.737 (0.008) - 0.709 (0.043) - 0.743 - 0.649 - 0.689\n",
      "3 - 2 - 0.8 - relu ----- 0.696 (0.007) - 0.603 (0.046) - 0.610 - 0.579 - 0.588\n",
      "3 - 2 - 1.0 - sigmoid ----- 0.755 (0.003) - 0.704 (0.035) - 0.693 - 0.736 - 0.710\n",
      "3 - 2 - 1.0 - tanh ----- 0.735 (0.007) - 0.704 (0.042) - 0.732 - 0.649 - 0.685\n",
      "3 - 2 - 1.0 - relu ----- 0.571 (0.097) - 0.573 (0.072) - 0.463 - 0.655 - 0.529\n",
      "3 - 5 - 0.5 - sigmoid ----- 0.757 (0.009) - 0.725 (0.026) - 0.713 - 0.763 - 0.732\n",
      "3 - 5 - 0.5 - tanh ----- 0.734 (0.038) - 0.712 (0.041) - 0.671 - 0.829 - 0.740\n",
      "3 - 5 - 0.5 - relu ----- 0.717 (0.017) - 0.627 (0.064) - 0.630 - 0.619 - 0.618\n",
      "3 - 5 - 0.8 - sigmoid ----- 0.759 (0.005) - 0.723 (0.027) - 0.707 - 0.769 - 0.732\n",
      "3 - 5 - 0.8 - tanh ----- 0.742 (0.023) - 0.709 (0.044) - 0.669 - 0.825 - 0.738\n",
      "3 - 5 - 0.8 - relu ----- 0.707 (0.037) - 0.648 (0.029) - 0.632 - 0.705 - 0.663\n",
      "3 - 5 - 1.0 - sigmoid ----- 0.755 (0.014) - 0.707 (0.025) - 0.700 - 0.732 - 0.712\n",
      "3 - 5 - 1.0 - tanh ----- 0.747 (0.008) - 0.704 (0.034) - 0.691 - 0.751 - 0.714\n",
      "3 - 5 - 1.0 - relu ----- 0.708 (0.040) - 0.645 (0.023) - 0.629 - 0.710 - 0.662\n",
      "5 - None - 0.5 - sigmoid ----- 0.753 (0.005) - 0.712 (0.031) - 0.704 - 0.736 - 0.716\n",
      "5 - None - 0.5 - tanh ----- 0.743 (0.007) - 0.725 (0.045) - 0.759 - 0.669 - 0.709\n",
      "5 - None - 0.5 - relu ----- 0.714 (0.013) - 0.661 (0.027) - 0.633 - 0.757 - 0.688\n",
      "5 - None - 0.8 - sigmoid ----- 0.753 (0.011) - 0.715 (0.014) - 0.705 - 0.747 - 0.721\n",
      "5 - None - 0.8 - tanh ----- 0.739 (0.006) - 0.725 (0.043) - 0.769 - 0.658 - 0.706\n",
      "5 - None - 0.8 - relu ----- 0.660 (0.085) - 0.637 (0.081) - 0.608 - 0.855 - 0.702\n",
      "5 - None - 1.0 - sigmoid ----- 0.755 (0.009) - 0.720 (0.012) - 0.710 - 0.752 - 0.726\n",
      "5 - None - 1.0 - tanh ----- 0.738 (0.006) - 0.731 (0.049) - 0.782 - 0.658 - 0.710\n",
      "5 - None - 1.0 - relu ----- 0.675 (0.014) - 0.613 (0.058) - 0.663 - 0.489 - 0.553\n",
      "5 - 2 - 0.5 - sigmoid ----- 0.587 (0.069) - 0.520 (0.072) - 0.433 - 0.581 - 0.456\n",
      "5 - 2 - 0.5 - tanh ----- 0.745 (0.010) - 0.712 (0.034) - 0.731 - 0.675 - 0.699\n",
      "5 - 2 - 0.5 - relu ----- 0.673 (0.016) - 0.579 (0.064) - 0.580 - 0.568 - 0.566\n",
      "5 - 2 - 0.8 - sigmoid ----- 0.741 (0.009) - 0.680 (0.058) - 0.679 - 0.688 - 0.677\n",
      "5 - 2 - 0.8 - tanh ----- 0.749 (0.003) - 0.709 (0.033) - 0.694 - 0.762 - 0.720\n",
      "5 - 2 - 0.8 - relu ----- 0.497 (0.012) - 0.509 (0.046) - 0.304 - 0.600 - 0.402\n",
      "5 - 2 - 1.0 - sigmoid ----- 0.749 (0.006) - 0.712 (0.031) - 0.700 - 0.748 - 0.719\n",
      "5 - 2 - 1.0 - tanh ----- 0.759 (0.010) - 0.693 (0.030) - 0.670 - 0.771 - 0.713\n",
      "5 - 2 - 1.0 - relu ----- 0.505 (0.012) - 0.501 (0.047) - 0.000 - 0.000 - 0.000\n",
      "5 - 5 - 0.5 - sigmoid ----- 0.729 (0.005) - 0.653 (0.045) - 0.658 - 0.650 - 0.648\n",
      "5 - 5 - 0.5 - tanh ----- 0.754 (0.002) - 0.731 (0.042) - 0.773 - 0.666 - 0.712\n",
      "5 - 5 - 0.5 - relu ----- 0.706 (0.002) - 0.621 (0.041) - 0.626 - 0.618 - 0.615\n",
      "5 - 5 - 0.8 - sigmoid ----- 0.747 (0.007) - 0.707 (0.029) - 0.697 - 0.736 - 0.713\n",
      "5 - 5 - 0.8 - tanh ----- 0.758 (0.010) - 0.723 (0.035) - 0.738 - 0.711 - 0.716\n",
      "5 - 5 - 0.8 - relu ----- 0.709 (0.007) - 0.621 (0.045) - 0.626 - 0.622 - 0.618\n",
      "5 - 5 - 1.0 - sigmoid ----- 0.743 (0.007) - 0.693 (0.048) - 0.686 - 0.718 - 0.697\n",
      "5 - 5 - 1.0 - tanh ----- 0.759 (0.005) - 0.712 (0.036) - 0.700 - 0.762 - 0.721\n",
      "5 - 5 - 1.0 - relu ----- 0.613 (0.087) - 0.557 (0.059) - 0.474 - 0.510 - 0.465\n"
     ]
    }
   ],
   "source": [
    "#Grid search\n",
    "hid_layer1 = [2,3,5]\n",
    "hid_layer2 = [None, 2,5]\n",
    "learning_rate = [0.5,0.8,1.0]\n",
    "functions = [\"sigmoid\",\"tanh\",\"relu\"]\n",
    "for i in hid_layer1 :\n",
    "    for j in hid_layer2 :\n",
    "        for a in learning_rate :\n",
    "            for f in functions :\n",
    "                acc, acc_te, pre, rec, f1s = [], [], [], [], []\n",
    "                for k in range(5) :\n",
    "                    #Split Training set into training and validation sets (5 random sampling - bootstrap)\n",
    "                    X_train_t, X_test_t, y_train_t, y_test_t = train_test_split(X_train,y_train,test_size=0.2,random_state=k)\n",
    "                    q,w,e,r,t,yh,u,p = Training(hid_layer1 = i, hid_layer2 = j, alpha = a, \n",
    "                                                X = X_train_t, y = y_train_t, X_test = X_test_t, y_test = y_test_t, \n",
    "                                                Lambda=0.0, Max_iter = 1000, function=f)\n",
    "                    EE, y_pred, F = Accuracy(theta1=w, theta2=e, theta3=r, X=X_test_t, y=y_test_t, function=f)\n",
    "                    acc.append(u), acc_te.append(p)\n",
    "                    pre.append(precision_score(y_test_t, y_pred))\n",
    "                    rec.append(recall_score(y_test_t, y_pred))\n",
    "                    f1s.append(f1_score(y_test_t, y_pred))\n",
    "                print(\"{} - {} - {} - {} ----- {:.3f} ({:.3f}) - {:.3f} ({:.3f}) - {:.3f} - {:.3f} - {:.3f}\".format(i,j,a,f,np.mean(acc),np.std(acc),np.mean(acc_te),np.std(acc_te), \n",
    "                                                                                                           np.mean(pre), np.mean(rec),np.mean(f1s)))"
   ]
  },
  {
   "cell_type": "markdown",
   "id": "ada654af-e745-477e-8ca4-64975bc882d5",
   "metadata": {},
   "source": [
    ".\n",
    "\n",
    "The best model (i.e. high validation accuracy, small standard deviation) is:\n",
    "- Number of units in the first hidden layer: 3\n",
    "- No second hidden layer\n",
    "- Learning rate: 1.0\n",
    "- Activation function: Sigmoid\n",
    "\n",
    ".\n",
    "\n",
    "Let's take a look at the performance on the Test set: let's plot the cost function for the training and test set to see when early stopping can be applied (flag=False)."
   ]
  },
  {
   "cell_type": "code",
   "execution_count": 16,
   "id": "c5edae1d-9799-4a39-a7ce-50d36b0b391f",
   "metadata": {},
   "outputs": [
    {
     "data": {
      "text/plain": [
       "<matplotlib.legend.Legend at 0x7f7d6584ff60>"
      ]
     },
     "execution_count": 16,
     "metadata": {},
     "output_type": "execute_result"
    },
    {
     "data": {
      "image/png": "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\n",
      "text/plain": [
       "<Figure size 432x288 with 1 Axes>"
      ]
     },
     "metadata": {
      "needs_background": "light"
     },
     "output_type": "display_data"
    }
   ],
   "source": [
    "#Performance on the Test set\n",
    "q,w,e,r,t,yh,u,p = Training(hid_layer1 = 3, hid_layer2 = None, alpha = 1.0, function = \"sigmoid\", \n",
    "                            X = X_train, y = y_train, X_test = X_test, y_test = y_test, \n",
    "                            Lambda=0.0, Max_iter = 1000, flag=False)\n",
    "\n",
    "#Plot cost functions\n",
    "plt.plot(t,'blue')\n",
    "plt.plot(yh,'red')\n",
    "plt.plot([445,445],[0.3,0.6],'--r')\n",
    "plt.xlim([0,890])\n",
    "plt.ylim([0.42,0.48])\n",
    "plt.xlabel(\"Epoch\")\n",
    "plt.ylabel(\"Cost function\")\n",
    "plt.legend([\"Training\",\"Test\"])"
   ]
  },
  {
   "cell_type": "markdown",
   "id": "121bc505-d770-4da8-9315-07dd002a9c5c",
   "metadata": {},
   "source": [
    ".\n",
    "\n",
    "At epoch ~450, the Test cost function starts to increase. That is the point where overfit starts.\n",
    "\n",
    "Now, let's use early stopping in the training function (flag = True)."
   ]
  },
  {
   "cell_type": "code",
   "execution_count": 17,
   "id": "aa177bc7-24c9-4d63-a95d-5f96a6e9c74f",
   "metadata": {},
   "outputs": [
    {
     "name": "stdout",
     "output_type": "stream",
     "text": [
      "Last iteration: 445 --- Train accuracy: 76.0% - Test accuracy: 73.91304347826086%\n",
      "\n",
      "Precision:  0.7702702702702703\n",
      "Recall:  0.6951219512195121\n",
      "F1-score:  0.7307692307692307\n",
      "\n",
      "\n"
     ]
    },
    {
     "data": {
      "text/plain": [
       "<matplotlib.legend.Legend at 0x7f7d657011d0>"
      ]
     },
     "execution_count": 17,
     "metadata": {},
     "output_type": "execute_result"
    },
    {
     "data": {
      "image/png": "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\n",
      "text/plain": [
       "<Figure size 432x288 with 1 Axes>"
      ]
     },
     "metadata": {
      "needs_background": "light"
     },
     "output_type": "display_data"
    }
   ],
   "source": [
    "#Performance on the Test set\n",
    "q,w,e,r,t,yh,u,p = Training(hid_layer1 = 3, hid_layer2 = None, alpha = 1.0, function = \"sigmoid\",\n",
    "                            X = X_train, y = y_train, X_test = X_test, y_test = y_test,\n",
    "                            Lambda=0.0, Max_iter = 5000, flag=True)\n",
    "print(\"Last iteration: {} --- Train accuracy: {}% - Test accuracy: {}%\".format(q,100*u,100*p))\n",
    "\n",
    "\n",
    "#Confusion matrix\n",
    "EE, y_pred, F = Accuracy(theta1=w, theta2=e, X=X_test, y=y_test, function = \"sigmoid\")\n",
    "Conf_matrix = pd.DataFrame(confusion_matrix(y_test, y_pred))\n",
    "Conf_matrix.index=[\"Actual 0\", \"Actual 1\"]\n",
    "Conf_matrix.columns=[\"Predicted 0\", \"Predicted 1\"]\n",
    "print(\"\\nPrecision: \", precision_score(y_test, y_pred))\n",
    "print(\"Recall: \", recall_score(y_test, y_pred))\n",
    "print(\"F1-score: \", f1_score(y_test, y_pred))\n",
    "print(\"\\n\")\n",
    "Conf_matrix\n",
    "\n",
    "\n",
    "#ROC curves\n",
    "EE1, y_pred, F = Accuracy(theta1=w, theta2=e, X=X_train, y=y_train, function = \"sigmoid\")\n",
    "fpr1, tpr1, thresholds1 = roc_curve(y_train,EE1)\n",
    "fpr2, tpr2, thresholds2 = roc_curve(y_test,EE)\n",
    "plt.plot(fpr1, tpr1,'blue',lw=2)\n",
    "plt.plot(fpr2, tpr2,'red',lw=2)\n",
    "plt.plot([0,1],[0,1],'--b')\n",
    "plt.xlabel(\"False positive rate\")\n",
    "plt.ylabel(\"True positive rate\")\n",
    "plt.legend([\"Training set (AUC: {:.2f})\".format(roc_auc_score(y_train,EE1)),\"Test set (AUC: {:.2f})\".format(roc_auc_score(y_test,EE))], loc=\"lower right\")"
   ]
  },
  {
   "cell_type": "markdown",
   "id": "82c43661-4d2b-4467-8bca-538438c7fbb0",
   "metadata": {},
   "source": [
    ".\n",
    "\n",
    "For comparison, let's use the Logistic Regression model on the same dataset."
   ]
  },
  {
   "cell_type": "code",
   "execution_count": 18,
   "id": "6e9bc735-375d-4e93-9bc5-df88ef3339e4",
   "metadata": {},
   "outputs": [
    {
     "name": "stdout",
     "output_type": "stream",
     "text": [
      "\n",
      "Logistic training accuracy:  0.7546666666666667\n",
      "Logistic test accuracy:  0.7391304347826086\n",
      "\n",
      "Precision:  0.7941176470588235\n",
      "Recall:  0.6585365853658537\n",
      "F1-score:  0.72\n",
      "\n",
      "\n"
     ]
    },
    {
     "data": {
      "text/plain": [
       "<matplotlib.legend.Legend at 0x7f7d65686dd8>"
      ]
     },
     "execution_count": 18,
     "metadata": {},
     "output_type": "execute_result"
    },
    {
     "data": {
      "image/png": "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\n",
      "text/plain": [
       "<Figure size 432x288 with 1 Axes>"
      ]
     },
     "metadata": {
      "needs_background": "light"
     },
     "output_type": "display_data"
    }
   ],
   "source": [
    "#For comparison: Logistic regression\n",
    "Model_log = LogisticRegression(penalty=\"none\").fit(X_train,y_train)\n",
    "print(\"\\nLogistic training accuracy: \", Model_log.score(X_train,y_train))\n",
    "print(\"Logistic test accuracy: \", Model_log.score(X_test,y_test))\n",
    "\n",
    "#Confusion matrix\n",
    "y_pred_log = Model_log.predict(X_test)\n",
    "Conf_matrix_log = pd.DataFrame(confusion_matrix(y_test, y_pred_log))\n",
    "Conf_matrix_log.index=[\"Actual 0\", \"Actual 1\"]\n",
    "Conf_matrix_log.columns=[\"Predicted 0\", \"Predicted 1\"]\n",
    "print(\"\\nPrecision: \", precision_score(y_test, y_pred_log))\n",
    "print(\"Recall: \", recall_score(y_test, y_pred_log))\n",
    "print(\"F1-score: \", f1_score(y_test, y_pred_log))\n",
    "print(\"\\n\")\n",
    "Conf_matrix_log\n",
    "\n",
    "\n",
    "#ROC curves\n",
    "fpr1, tpr1, thresholds1 = roc_curve(y_train,Model_log.predict_proba(X_train)[:,1])\n",
    "fpr2, tpr2, thresholds2 = roc_curve(y_test,Model_log.predict_proba(X_test)[:,1])\n",
    "plt.plot(fpr1, tpr1,'blue',lw=2)\n",
    "plt.plot(fpr2, tpr2,'red',lw=2)\n",
    "plt.plot([0,1],[0,1],'--b')\n",
    "plt.xlabel(\"False positive rate\")\n",
    "plt.ylabel(\"True positive rate\")\n",
    "plt.legend([\"Training set (AUC: {:.2f})\".format(roc_auc_score(y_train,Model_log.predict_proba(X_train)[:,1])),\n",
    "            \"Test set (AUC: {:.2f})\".format(roc_auc_score(y_test,Model_log.predict_proba(X_test)[:,1]))], loc=\"lower right\")"
   ]
  },
  {
   "cell_type": "markdown",
   "id": "a2638e49-54d1-4974-bc0b-1e04130ba4ab",
   "metadata": {},
   "source": [
    ".\n",
    "\n",
    "Only one small difference between the two models."
   ]
  },
  {
   "cell_type": "markdown",
   "id": "c494c76d-da4f-4859-9489-04fec5c877a5",
   "metadata": {},
   "source": [
    ".\n",
    "\n",
    ".\n",
    "\n",
    ".\n",
    "\n",
    "## **Training (unbalanced dataset)**\n",
    "\n",
    "Now, let's use the whole unbalanced dataset."
   ]
  },
  {
   "cell_type": "code",
   "execution_count": 19,
   "id": "fea19d10-124f-4d99-b701-4d430c799740",
   "metadata": {},
   "outputs": [],
   "source": [
    "#Creation of X and y (from the unbalanced dataset)\n",
    "X = data.drop([\"Class\"],axis=1)\n",
    "y = data.Class\n",
    "X = np.array(X)\n",
    "y = np.array(y)\n",
    "\n",
    "#Training and test set (70-30%)\n",
    "X_train, X_test, y_train, y_test = train_test_split(X,y,test_size=0.3,random_state=0)\n",
    "\n",
    "#Feature scaling\n",
    "scaler = MinMaxScaler()\n",
    "scaler.fit(X_train)\n",
    "X_train = scaler.transform(X_train)\n",
    "X_test = scaler.transform(X_test)"
   ]
  },
  {
   "cell_type": "markdown",
   "id": "2f09b91a-8e57-4f06-8d05-e0f2f8f7278f",
   "metadata": {},
   "source": [
    ".\n",
    "\n",
    "Let's search for the best set of hyperparameters with a grid search. The output will be:\n",
    " - Number of units in the hidden layer(s)\n",
    " - Learning rate\n",
    " - Activation function\n",
    " - Mean accuracy on the training set (standard deviation)\n",
    " - Mean accuracy on the test set (standard deviation)\n",
    " - Mean precision\n",
    " - Mean recall\n",
    " - Mean F1-score\n",
    " - Mean training AUC\n",
    " - Mean test AUC"
   ]
  },
  {
   "cell_type": "code",
   "execution_count": 20,
   "id": "89878578-482a-433d-b6ef-8f6793173b87",
   "metadata": {},
   "outputs": [
    {
     "name": "stdout",
     "output_type": "stream",
     "text": [
      "2 - None - 0.5 - sigmoid ----- 0.753 (0.009) - 0.772 (0.033) - 0.710 - 0.617 - 0.658 --- 0.830 - 0.836\n",
      "2 - None - 0.5 - tanh ----- 0.764 (0.009) - 0.772 (0.017) - 0.718 - 0.599 - 0.652 --- 0.825 - 0.831\n",
      "2 - None - 0.5 - relu ----- 0.705 (0.012) - 0.724 (0.040) - 0.680 - 0.430 - 0.523 --- 0.774 - 0.792\n",
      "2 - None - 0.8 - sigmoid ----- 0.766 (0.007) - 0.772 (0.015) - 0.704 - 0.626 - 0.661 --- 0.838 - 0.838\n",
      "2 - None - 0.8 - tanh ----- 0.764 (0.010) - 0.772 (0.017) - 0.718 - 0.599 - 0.652 --- 0.825 - 0.830\n",
      "2 - None - 0.8 - relu ----- 0.704 (0.011) - 0.728 (0.039) - 0.679 - 0.451 - 0.538 --- 0.774 - 0.792\n",
      "2 - None - 1.0 - sigmoid ----- 0.770 (0.009) - 0.770 (0.009) - 0.698 - 0.626 - 0.658 --- 0.841 - 0.841\n",
      "2 - None - 1.0 - tanh ----- 0.764 (0.010) - 0.770 (0.020) - 0.716 - 0.594 - 0.648 --- 0.825 - 0.830\n",
      "2 - None - 1.0 - relu ----- 0.711 (0.008) - 0.724 (0.048) - 0.654 - 0.524 - 0.572 --- 0.774 - 0.791\n",
      "2 - 2 - 0.5 - sigmoid ----- 0.637 (0.005) - 0.644 (0.019) - 0.000 - 0.000 - 0.000 --- 0.750 - 0.748\n",
      "2 - 2 - 0.5 - tanh ----- 0.763 (0.011) - 0.767 (0.034) - 0.724 - 0.583 - 0.639 --- 0.827 - 0.836\n",
      "2 - 2 - 0.5 - relu ----- 0.678 (0.010) - 0.698 (0.041) - 0.633 - 0.357 - 0.451 --- 0.737 - 0.756\n",
      "2 - 2 - 0.8 - sigmoid ----- 0.668 (0.027) - 0.656 (0.023) - 0.341 - 0.097 - 0.149 --- 0.803 - 0.818\n",
      "2 - 2 - 0.8 - tanh ----- 0.764 (0.010) - 0.772 (0.042) - 0.722 - 0.605 - 0.654 --- 0.827 - 0.836\n",
      "2 - 2 - 0.8 - relu ----- 0.677 (0.007) - 0.706 (0.044) - 0.645 - 0.379 - 0.471 --- 0.737 - 0.755\n",
      "2 - 2 - 1.0 - sigmoid ----- 0.772 (0.005) - 0.776 (0.022) - 0.703 - 0.647 - 0.672 --- 0.837 - 0.840\n",
      "2 - 2 - 1.0 - tanh ----- 0.762 (0.010) - 0.767 (0.039) - 0.703 - 0.614 - 0.651 --- 0.826 - 0.833\n",
      "2 - 2 - 1.0 - relu ----- 0.676 (0.008) - 0.706 (0.043) - 0.638 - 0.389 - 0.478 --- 0.737 - 0.755\n",
      "2 - 5 - 0.5 - sigmoid ----- 0.637 (0.005) - 0.644 (0.019) - 0.000 - 0.000 - 0.000 --- 0.752 - 0.753\n",
      "2 - 5 - 0.5 - tanh ----- 0.766 (0.004) - 0.772 (0.034) - 0.700 - 0.638 - 0.662 --- 0.828 - 0.834\n",
      "2 - 5 - 0.5 - relu ----- 0.682 (0.009) - 0.700 (0.040) - 0.638 - 0.363 - 0.457 --- 0.753 - 0.771\n",
      "2 - 5 - 0.8 - sigmoid ----- 0.734 (0.028) - 0.748 (0.051) - 0.702 - 0.531 - 0.591 --- 0.818 - 0.827\n",
      "2 - 5 - 0.8 - tanh ----- 0.767 (0.004) - 0.772 (0.034) - 0.700 - 0.638 - 0.662 --- 0.828 - 0.834\n",
      "2 - 5 - 0.8 - relu ----- 0.682 (0.011) - 0.698 (0.039) - 0.635 - 0.358 - 0.452 --- 0.753 - 0.770\n",
      "2 - 5 - 1.0 - sigmoid ----- 0.768 (0.008) - 0.778 (0.021) - 0.708 - 0.647 - 0.673 --- 0.836 - 0.837\n",
      "2 - 5 - 1.0 - tanh ----- 0.766 (0.004) - 0.761 (0.035) - 0.683 - 0.623 - 0.647 --- 0.827 - 0.832\n",
      "2 - 5 - 1.0 - relu ----- 0.685 (0.009) - 0.698 (0.028) - 0.630 - 0.373 - 0.462 --- 0.747 - 0.762\n",
      "3 - None - 0.5 - sigmoid ----- 0.767 (0.006) - 0.776 (0.015) - 0.713 - 0.620 - 0.663 --- 0.837 - 0.839\n",
      "3 - None - 0.5 - tanh ----- 0.767 (0.005) - 0.769 (0.012) - 0.705 - 0.610 - 0.652 --- 0.827 - 0.830\n",
      "3 - None - 0.5 - relu ----- 0.711 (0.014) - 0.728 (0.041) - 0.672 - 0.472 - 0.551 --- 0.781 - 0.793\n",
      "3 - None - 0.8 - sigmoid ----- 0.767 (0.007) - 0.783 (0.019) - 0.731 - 0.620 - 0.671 --- 0.839 - 0.841\n",
      "3 - None - 0.8 - tanh ----- 0.768 (0.005) - 0.769 (0.012) - 0.705 - 0.610 - 0.652 --- 0.827 - 0.830\n",
      "3 - None - 0.8 - relu ----- 0.713 (0.012) - 0.730 (0.042) - 0.674 - 0.477 - 0.555 --- 0.781 - 0.793\n",
      "3 - None - 1.0 - sigmoid ----- 0.766 (0.006) - 0.780 (0.020) - 0.724 - 0.615 - 0.665 --- 0.840 - 0.842\n",
      "3 - None - 1.0 - tanh ----- 0.768 (0.005) - 0.769 (0.012) - 0.705 - 0.610 - 0.652 --- 0.827 - 0.830\n",
      "3 - None - 1.0 - relu ----- 0.578 (0.177) - 0.593 (0.191) - 0.559 - 0.711 - 0.566 --- 0.672 - 0.682\n",
      "3 - 2 - 0.5 - sigmoid ----- 0.637 (0.005) - 0.644 (0.019) - 0.000 - 0.000 - 0.000 --- 0.753 - 0.769\n",
      "3 - 2 - 0.5 - tanh ----- 0.764 (0.016) - 0.769 (0.037) - 0.735 - 0.577 - 0.641 --- 0.827 - 0.834\n",
      "3 - 2 - 0.5 - relu ----- 0.709 (0.016) - 0.713 (0.043) - 0.640 - 0.451 - 0.526 --- 0.752 - 0.769\n",
      "3 - 2 - 0.8 - sigmoid ----- 0.746 (0.025) - 0.765 (0.042) - 0.743 - 0.535 - 0.615 --- 0.821 - 0.827\n",
      "3 - 2 - 0.8 - tanh ----- 0.768 (0.007) - 0.769 (0.037) - 0.722 - 0.588 - 0.645 --- 0.826 - 0.834\n",
      "3 - 2 - 0.8 - relu ----- 0.707 (0.015) - 0.717 (0.043) - 0.645 - 0.461 - 0.536 --- 0.752 - 0.769\n",
      "3 - 2 - 1.0 - sigmoid ----- 0.767 (0.008) - 0.770 (0.021) - 0.701 - 0.627 - 0.659 --- 0.835 - 0.837\n",
      "3 - 2 - 1.0 - tanh ----- 0.762 (0.019) - 0.765 (0.033) - 0.736 - 0.571 - 0.633 --- 0.826 - 0.833\n",
      "3 - 2 - 1.0 - relu ----- 0.706 (0.015) - 0.720 (0.044) - 0.650 - 0.472 - 0.545 --- 0.752 - 0.769\n",
      "3 - 5 - 0.5 - sigmoid ----- 0.767 (0.010) - 0.776 (0.018) - 0.710 - 0.631 - 0.667 --- 0.836 - 0.839\n",
      "3 - 5 - 0.5 - tanh ----- 0.771 (0.011) - 0.780 (0.041) - 0.719 - 0.636 - 0.674 --- 0.833 - 0.833\n",
      "3 - 5 - 0.5 - relu ----- 0.716 (0.011) - 0.741 (0.038) - 0.698 - 0.489 - 0.567 --- 0.780 - 0.797\n",
      "3 - 5 - 0.8 - sigmoid ----- 0.770 (0.006) - 0.780 (0.021) - 0.712 - 0.642 - 0.674 --- 0.840 - 0.840\n",
      "3 - 5 - 0.8 - tanh ----- 0.769 (0.009) - 0.763 (0.027) - 0.686 - 0.633 - 0.653 --- 0.831 - 0.833\n",
      "3 - 5 - 0.8 - relu ----- 0.717 (0.012) - 0.741 (0.038) - 0.698 - 0.489 - 0.567 --- 0.780 - 0.797\n",
      "3 - 5 - 1.0 - sigmoid ----- 0.767 (0.008) - 0.767 (0.018) - 0.696 - 0.621 - 0.653 --- 0.835 - 0.838\n",
      "3 - 5 - 1.0 - tanh ----- 0.761 (0.008) - 0.767 (0.042) - 0.696 - 0.624 - 0.652 --- 0.825 - 0.832\n",
      "3 - 5 - 1.0 - relu ----- 0.716 (0.012) - 0.743 (0.039) - 0.700 - 0.494 - 0.571 --- 0.781 - 0.797\n",
      "5 - None - 0.5 - sigmoid ----- 0.765 (0.008) - 0.772 (0.009) - 0.710 - 0.609 - 0.655 --- 0.837 - 0.840\n",
      "5 - None - 0.5 - tanh ----- 0.765 (0.010) - 0.785 (0.025) - 0.741 - 0.615 - 0.671 --- 0.828 - 0.833\n",
      "5 - None - 0.5 - relu ----- 0.714 (0.014) - 0.739 (0.041) - 0.698 - 0.473 - 0.557 --- 0.789 - 0.801\n",
      "5 - None - 0.8 - sigmoid ----- 0.768 (0.008) - 0.783 (0.019) - 0.737 - 0.611 - 0.666 --- 0.840 - 0.841\n",
      "5 - None - 0.8 - tanh ----- 0.765 (0.011) - 0.785 (0.025) - 0.741 - 0.615 - 0.671 --- 0.828 - 0.832\n",
      "5 - None - 0.8 - relu ----- 0.685 (0.044) - 0.696 (0.060) - 0.591 - 0.291 - 0.337 --- 0.778 - 0.778\n",
      "5 - None - 1.0 - sigmoid ----- 0.768 (0.010) - 0.783 (0.017) - 0.733 - 0.615 - 0.668 --- 0.841 - 0.844\n",
      "5 - None - 1.0 - tanh ----- 0.763 (0.013) - 0.783 (0.022) - 0.740 - 0.610 - 0.667 --- 0.828 - 0.832\n",
      "5 - None - 1.0 - relu ----- 0.565 (0.164) - 0.589 (0.180) - 0.427 - 0.629 - 0.469 --- 0.675 - 0.691\n",
      "5 - 2 - 0.5 - sigmoid ----- 0.637 (0.005) - 0.644 (0.019) - 0.000 - 0.000 - 0.000 --- 0.760 - 0.749\n",
      "5 - 2 - 0.5 - tanh ----- 0.762 (0.009) - 0.770 (0.033) - 0.718 - 0.599 - 0.651 --- 0.827 - 0.840\n",
      "5 - 2 - 0.5 - relu ----- 0.655 (0.013) - 0.683 (0.035) - 0.613 - 0.289 - 0.390 --- 0.733 - 0.741\n",
      "5 - 2 - 0.8 - sigmoid ----- 0.653 (0.019) - 0.654 (0.031) - 0.260 - 0.054 - 0.087 --- 0.804 - 0.822\n",
      "5 - 2 - 0.8 - tanh ----- 0.759 (0.008) - 0.757 (0.024) - 0.671 - 0.637 - 0.650 --- 0.826 - 0.835\n",
      "5 - 2 - 0.8 - relu ----- 0.540 (0.146) - 0.556 (0.162) - 0.402 - 0.544 - 0.396 --- 0.592 - 0.611\n",
      "5 - 2 - 1.0 - sigmoid ----- 0.755 (0.023) - 0.765 (0.031) - 0.705 - 0.601 - 0.646 --- 0.828 - 0.835\n",
      "5 - 2 - 1.0 - tanh ----- 0.747 (0.007) - 0.761 (0.042) - 0.677 - 0.649 - 0.656 --- 0.818 - 0.832\n",
      "5 - 2 - 1.0 - relu ----- 0.584 (0.109) - 0.581 (0.121) - 0.069 - 0.200 - 0.102 --- 0.500 - 0.500\n",
      "5 - 5 - 0.5 - sigmoid ----- 0.666 (0.030) - 0.680 (0.024) - 0.740 - 0.167 - 0.252 --- 0.788 - 0.802\n",
      "5 - 5 - 0.5 - tanh ----- 0.764 (0.011) - 0.787 (0.028) - 0.742 - 0.626 - 0.677 --- 0.834 - 0.840\n",
      "5 - 5 - 0.5 - relu ----- 0.679 (0.013) - 0.700 (0.032) - 0.639 - 0.368 - 0.463 --- 0.752 - 0.769\n",
      "5 - 5 - 0.8 - sigmoid ----- 0.762 (0.007) - 0.774 (0.027) - 0.699 - 0.646 - 0.670 --- 0.832 - 0.837\n",
      "5 - 5 - 0.8 - tanh ----- 0.765 (0.010) - 0.789 (0.039) - 0.737 - 0.642 - 0.685 --- 0.834 - 0.840\n",
      "5 - 5 - 0.8 - relu ----- 0.683 (0.011) - 0.700 (0.038) - 0.624 - 0.414 - 0.491 --- 0.749 - 0.765\n",
      "5 - 5 - 1.0 - sigmoid ----- 0.750 (0.003) - 0.772 (0.029) - 0.706 - 0.632 - 0.663 --- 0.827 - 0.835\n",
      "5 - 5 - 1.0 - tanh ----- 0.764 (0.009) - 0.778 (0.027) - 0.703 - 0.664 - 0.679 --- 0.832 - 0.842\n",
      "5 - 5 - 1.0 - relu ----- 0.595 (0.118) - 0.593 (0.124) - 0.187 - 0.276 - 0.196 --- 0.554 - 0.551\n"
     ]
    }
   ],
   "source": [
    "#Grid search\n",
    "hid_layer1 = [2,3,5]\n",
    "hid_layer2 = [None, 2,5]\n",
    "learning_rate = [0.5,0.8,1.0]\n",
    "functions = [\"sigmoid\",\"tanh\",\"relu\"]\n",
    "for i in hid_layer1 :\n",
    "    for j in hid_layer2 :\n",
    "        for a in learning_rate :\n",
    "            for f in functions :\n",
    "                acc, acc_te, pre, rec, f1s, auc, auc_te = [], [], [], [], [], [], []\n",
    "                for k in range(5) :\n",
    "                    #Split Training set into training and validation sets (5 random sampling - bootstrap)\n",
    "                    X_train_t, X_test_t, y_train_t, y_test_t = train_test_split(X_train,y_train,test_size=0.2,random_state=k)\n",
    "                    q,w,e,r,t,yh,u,p = Training(hid_layer1 = i, hid_layer2 = j, alpha = a, \n",
    "                                                X = X_train_t, y = y_train_t, X_test = X_test_t, y_test = y_test_t, \n",
    "                                                Lambda=0.0, Max_iter = 1000, function=f)\n",
    "                    EE1, y_pred1, F1 = Accuracy(theta1=w, theta2=e, theta3=r, X=X_train_t, y=y_train_t, function=f)\n",
    "                    EE, y_pred, F = Accuracy(theta1=w, theta2=e, theta3=r, X=X_test_t, y=y_test_t, function=f)\n",
    "                    acc.append(u), acc_te.append(p)\n",
    "                    pre.append(precision_score(y_test_t, y_pred))\n",
    "                    rec.append(recall_score(y_test_t, y_pred))\n",
    "                    f1s.append(f1_score(y_test_t, y_pred))\n",
    "                    auc.append(roc_auc_score(y_train_t,EE1))\n",
    "                    auc_te.append(roc_auc_score(y_test_t,EE))\n",
    "                    \n",
    "                    \n",
    "                print(\"{} - {} - {} - {} ----- {:.3f} ({:.3f}) - {:.3f} ({:.3f}) - {:.3f} - {:.3f} - {:.3f} --- {:.3f} - {:.3f}\".format(i,j,a,f,\n",
    "                                                                    np.mean(acc),np.std(acc),np.mean(acc_te),np.std(acc_te), \n",
    "                                                                    np.mean(pre), np.mean(rec),np.mean(f1s),\n",
    "                                                                    np.mean(auc),np.mean(auc_te)))"
   ]
  },
  {
   "cell_type": "markdown",
   "id": "8b35688f-0d1d-4195-acec-ae6304c662b2",
   "metadata": {},
   "source": [
    ".\n",
    "\n",
    "The best model (i.e. high validation AUC, high validation accuracy, high f1-score, precision and recall, small std on accuracies) is\n",
    "- Number of units in the first hidden layer: 5\n",
    "- Number of units in the second hidden layer: None\n",
    "- Learning rate: 1.0\n",
    "- Activation function: Sigmoid\n",
    "\n",
    ".\n",
    "\n",
    "Now, it is possible to try to find the threshold that maximizes the f1-score."
   ]
  },
  {
   "cell_type": "code",
   "execution_count": 21,
   "id": "aaf4bf6f-2292-45f6-9a3c-0c6ae869d38f",
   "metadata": {},
   "outputs": [
    {
     "name": "stdout",
     "output_type": "stream",
     "text": [
      "Best threshold: 0.4\n",
      "Largest f1-score: 0.7153360174182655\n"
     ]
    },
    {
     "data": {
      "text/plain": [
       "<matplotlib.legend.Legend at 0x7f7d64dc1898>"
      ]
     },
     "execution_count": 21,
     "metadata": {},
     "output_type": "execute_result"
    },
    {
     "data": {
      "image/png": "iVBORw0KGgoAAAANSUhEUgAAAXQAAAD4CAYAAAD8Zh1EAAAAOXRFWHRTb2Z0d2FyZQBNYXRwbG90bGliIHZlcnNpb24zLjUuMSwgaHR0cHM6Ly9tYXRwbG90bGliLm9yZy/YYfK9AAAACXBIWXMAAAsTAAALEwEAmpwYAABx/UlEQVR4nO2dd5gUVdaH39u5pycnGOIAYgRRwbgGjCgGjN+a82KOq66uq7u66uqqaxZ3VTDrmhXzGjCLiiIKGBAJQxiY3DnV/f440wxhQndP90wz1Ps8/Uzo6urb1VWnzj33nN9RWmtMTExMTDZ+LL09ABMTExOTzGAadBMTE5M+gmnQTUxMTPoIpkE3MTEx6SOYBt3ExMSkj2DrrTcuLy/X1dXVvfX2JiYmJhsls2bNqtNaV7T3XK8Z9Orqar7++uveensTExOTjRKl1OKOnjNDLiYmJiZ9BNOgm5iYmPQRTINuYmJi0kcwDbqJiYlJH8E06CYmJiZ9BNOgm5iYmPQRTINuYmJi0kfo0qArpaYqpVYppX7o4HmllLpbKbVAKTVHKbVD5odpYmJiYtIVyXjojwAHdvL8QcDI1sdkYEr3h9VNgsHeHoGJiYlJj9NlpajW+iOlVHUnm0wCHtPSKeMLpVSxUqpKa70iU4NMifp6GDIE9toLjjwSDjkEysp6ZShpY7OBUr09ChOTXkNriMV6exTZwW7P3r4zUfo/EFi61t81rf/bwKArpSYjXjxDhgzJwFu3QzQKkyfDc8/Bm2+C1Qo77wwHHAD77w/l5dl530zidsOAATJ2E5NNkGAQli7tm35NdTU4HNnZt0qmBV2rh/6a1npUO8+9DvxDa/1J69/vAVdorWd1ts9x48bprGq5rFwJX3wB770Hr78Ov/0mZ8fYsTBqFGy5ZdujoCB740iHYFCM+cCB2b2dm5jkKPX10NgIeXm9PZLM4vPB0KHgdKa/D6XULK31uPaey4SHXgMMXuvvQcDyDOy3e5SXi+EeOxauvBJ+/BHeeAM+/BCef16ObIJBg8Sw77knHH+8eMi9idstRn3JEhlbd759E5ONEK83e15sXyYTaYuvAie3ZrvsAjT3Wvx8bWw2qKwEv1888622gj/+EV59VYz7F1/AtGnwpz/BuHFiPK+9FnbfHZ54QkI3vYnbDRaLjMtc5DXZhIjHIRyWS9gkNbo8ZEqpp4HxQLlSqgb4K2AH0Fo/ALwBTAQWAAHgtGwNNmUKCsDjgVAIXK62/ysFgwfL44AD2v7/2Wdw881i5KdMgcsug0mTxLD2Bk5nm1EfOBDy83tnHCYmPUg43Ddj5z1BUjH0bJD1GHqCcFji5wUFyZ0lWkvc/ZZbYN488ewvvxx26CC93m6H4uKMDnkD4nGZaVRVyQ2qI5Ra92FishHSV+PnsHHE0HMbp1Pi6Q0NyXm4SsF++8E++8D06XDrrXD66Z2/pqxs3UXWLbeELbbo3PimgtUqY1+5svNxJ9BaXmOxyP/TmWHY7RKyMue9Jj2MGT9Pn03jai0theZmSWxN1kBZLBJuOfhgeOstcRvaIxiEBQskLv/UU+vGu7faCg4/HI44QkIm3cFiSS0bR+t1H6kSCEje2KBBZqaNSY+RiJ/nWuLZxkLfD7kk8PvFQBUWZu89DEPe48cfYf58mDEDvvpKntt1VzjqKJg4EYqKsjeGTBIMioc/aJDpMpn0CIn88766XJTtkMumY9ABli2TBdKeTEtcvBhefFEeCxfKN7nffnDmmbDTTj03jnQJhcTDN9MnTXqAvhw/h+wb9E1LbbGyUsIuoVD7j3A48+85dChccgl89JEUOJ14oqRMHnGExOYXLMj8e2YSl6st0yYU6u3RmPRxfD5zMtgdNi2DbrdLLNvjaf9htcqKTDZmLUrBdtvB9dfDzJmSGvnpp7L4euWVsHp15t8zUzidcuzMnHiTLGLmn3efTSvk0hVay5yvrq7NwGeT+nq44w54/HExmuecA2edlbvzzWhUrrj+/TtOi3S7zSvSJC0SxdF9eUHUjKH3Bl4vrFghc7+emP/9+qsUNL3xhqRY7rabyBZss438zCVBsUTIqqPzxm6Xgi0zM8YkRRoa5JGr/kwmMPPQe4OCAjHky5aJ25DtRdQRI+DBByUj5j//gW++EYmCBP37w9Zbwy67wMkn964LY7N1noIQCrWlO5rBUJMU8HpNP6C7mB56Z8Ri4qkHgxKC6cnqy6YmmDsXfvhBfs6dK+mQpaVw0UVw0km5m3USDktAdPDg3B2jSU4Rj8tENZfSFQMBucn065e5fZohl95Ga4mpNzZ2vg2I95p4ZMP4z54NN90ki6kDB4rWzFFH5aZueiQiMffBg9fV0TExaYdci5/PnAkXXih+1VtvwbBhmdmvmbbY2ygFFRUwfHjHj+pqMbCFhbJ9ICDfnNcrrkem2G47ePZZePppkRu45BJp2vHOO9nJzOkOifUHMzPGJAkSLQB6m0gE/vEP8ZMSvtn558v/NwZMg54sa3vf6z+cTpkrVlRI+7vNNpNbev/+UqGa6V5ae+4pOe0PPCBn2mmnwb77wj33QE1NZt+rO9jtcmyWLpWbnIlJB2Qifr5okTQqmzULWlpSf/0vv8Chh8K998Jxx4mfdOutMjG+9dbuja2nMEMu2SZRy5wwbpkmGoUXXhCvPXE8d9pJCpcOOURi7r1NLCYGfdCg3AqSmuQEmYifL18OBx64ruRS//4wciRsvrn4WNXVcgoOGLBuFFBrePRR+PvfJcPm1ltlXwmuvFIyi596SloVdwczht4XCIclY0br7GbMLFkCL78ML70EP/8ss4d99oG//EUyaXqThATwgAHZ1dMx2ejobvw8EpEQyU8/wdSp4jv88otcAgsWyM/1J4iVlRIlHTxYavo+/1wuldtvl+fWH9/BB0tK5bvvdi+L2DTofYVYTIx6NJr9RFutJSvmpZfgmWfkfw89JAJhvUk8Lmf0gAEbj0CZSdbpbv751VfDI49IBPLQQzd8Xmvx4JcskYjk+g+fT5ajTjml41yG+fPFqP/ud+LNp9vzxsxD7yvYbDLfW7lSAobZXM5XSgqSRo2SvPWTT5ag4K23wjHHZO99u8Jqlc+9fLkoU5aU9N5YTNIiEpGvMZMLmN2Jnz//vBjzs85q35iDXA4DB3ZPwXqrraRD5dVXw8MPwx/+kP6+som5KNqTWK3inRYXy1ns90shTiYzYdZn6FApUtppJ7j4YjHqvZkRY7FIyKW2tmONeZOcpKVFBEN//VV+Llsm2bx+vxj6eLzjR0ck9FvSMehz54ok0q67wp//nP7nSpZTToEJE+DGG+H777P/fulghlx6A63lLI5EJEAXCEgoJvFddDSfU0pi8OnkuEcicNVVEoI5/HAJFvZmfrjWclMrK5OgpNkyL6cJhUQJOi9P/BLDkFM2Hpffte78K3S55KvOy1t3u3Tj501N0logHJY88YqKtD5WyjQ0SKZwXp68b6pNycyQS19EKTnDXa62BcLEFZK4StojFJLOS+mkAzgccNttkjd/003iXj38sFxlvYFSchXX18tnLy/PjURkkw1ILP84nW1fkcWSmlGKRCRebbNJ4lVBgfweCqUejzYMKZZetkxCLj1lzEHGfs898H//J4b9wAOlz/y4cbmhSWd66BsT8bg0vF77ykqH116TK6K4GE44AY48UnK6egu/vy0cZVaV5hSGIYYzEslMglY8LkbcMGRdPNGCIJWQy513SuTwhhukBKM3eOMNePJJKdqORuVS2mcfMe7jx3c84zCzXEzWpblZFla7u6j67bfiqX/+ucyXx44Vw37YYb2Tux6JyNVdUSGLpWYIJidYvVri5JkuH9BaDHsslvypHAqJdt0//yllFnff3funic8HH34oRUjvvSfHymaTfIQddoDtt5efQ4fKWE2DbrIuhiElcYkq1e6yfDm88ooUJ82fL/vce2847zzYccfu7z8VtJYz3uWCqipTrbGXaWmR06OgoHcNp9bw9tvSG2bxYglz3HNP7snsxmJSpfr++/Lzu+/a8t9LS8W4jxol2TLd8ZlMg97X8HplHpzpAp1586T36QsviDv07rvdy/VKl1BI5rH9+7fp45j0KIlFUI8n/ZzrTPDTT/DXv8LHH0vF53XXifLFxkAsJuP/9ltRxP7mG7lB1tamvpi6NqZB72toLVcbZMeLXbxYGlmPHSv1zr1xRRtGW2w9P18ePdVwZBMnFpNTwGbrPX3yxkZJxHrsMfnqL7tMyilyYeGxO6xeDVtuaaotmqyNUlKfnK2mzUOHyrzw44/liuoNLBaZ67tcMm9dvlxCTQsWyBqCzydG3ySjGIa0AIDeM+bz5snC4qOPSk/1Tz6RfuobuzGH7PfK6QOHaBMlL0/mbaFQdjJDTjxRApd//7vMcYcPz/x7JIPFsu7nMwwx8M3N4ub0729mxmSQ+nrJDe8tDbUff4Tf/16+2rfeki6MJsljeugbMxUV2RNqVkry1l0uSXHMtARwuiQMfCI1YvFiaUBieuvdxusVg96d+G53+Plnye92OEQG1zTmqWMa9I0Zl0uSebPVQKJ/f6lz/uYbmDIlO+/RHRwOcSUbGiQcYzbSSJtwWKJaPd1pMcGCBWLMbTbp4ZKpDkGbGqZB39gpKxPvOVuL25MmierR7beLeEauoZQYdatVvPXa2uxq4/RB4nFJmnI4Mlus6/eLTP+110ocvKNJ1IIFbZpxzz7b+0rPGzNmlktfINHztKMVF6W653Y1NEhHpLIy6ZSUq42ftZb4utYSkkksqvaB1bRwWAxiphfVtJY1Zr8/M3ndWkv+9VNPiTS/3y+HPxaTQuAjjxTt8s03l+0XLoSjj5abynPPtf2/r2JquZh0TXFxm+Rde0SjclWlaw1KS6XW+pRT4F//EpGvXEQpiRloLeGXRB8yt1tCU273Rpn2GAqJgJVhyP2pomJDkat0aWqS9eWuShq0lkrIJUvkUCYeJSXy02IRUc+nnpIsFZdLio6PP16Kad55R3RXpkyRFm/bbisTv4cfltNzUzDmPYHpoW8KRCISiki4Yel6rJdfLmqNl18ublZvFB2lQzTapu/ar99GpcMeiYgRtdnkXpRQSHA4RM8sPz99wx4IyL7z8zsvNVi5Uu7h77zT9T5HjRIjfsQR7d8kVq8Wz/2FF0SCtqREjPlWW6X3GTY2zNJ/k8zh97fFmN3u1AuGfD5RQ/rsM/l7xx1FiveQQ7rXl6unMAxxd4cP793yxySJxcTgwoaZmdGofBS7XSJhqeaMay355g5Hx/d3rSWm/be/yY3k8sslPNLc3PZIePh+v2S3jh6d/Bh++UX8i43FL8gEpkE3ySyGIVdhXZ2sgKUThlm0SPRfXnlFaputVth9dwmQTprUexUpyeD1Sueo3srNS5J4XORmY7HOv6JYLP36ss76ltfUwBVXiPDUzju3KS+bdA/ToJtkh0hE5r8+X/fm7fPnyxz61VfFnayuFktw6KG56QVHIjKuIUN6eyQdYhiSQhgK9bwAlWFIh/sbbxQP/eqrpeQ+F7/KjZFsG/Skvial1IFKqZ+UUguUUle283yRUmq6Uuo7pdRcpVQvqRSbJI3DIWkHZWXitaZbmLPVVhJg/ewzae7odsO558JBB8GMGb3b7q49HA4JHieEuHMMrSUqFgz2rDFvapI+4nvvLe3cdthBVANPPdU05hsTXX5VSikrcB9wELA1cJxSauv1NjsPmKe1HgOMB25XSm186QSbGkpJ7Lt/f3EdupO/rZS0cHn7bRGqbm6W5hnHHCNaormEzSY3sRykrk6Sc3oqIjR7Nlx6qeiw/fWvspB5332SPz54cM+MwSRzJJPusBOwQGu9EEAp9QwwCZi31jYaKFBKKSAfaABypFbcpEuKi8XILV8uc8HuxMCtVsmAOeQQaely552Sv7b33m19u7KtUNQVLpfk7ZeU5FTbu/p6eXS3d0lXNDdLOcHjj8OcOTITOOooCa2MGpXd9zbJLskY9IHA0rX+rgF2Xm+be4FXgeVAAfB7rbUprrExkZ8vceWaGvHUuyt45XSKRN7//Z/M5R9/HM45R6zVoYdKusSOO/bOfN5iaZPnzbSmfJo0NMiSRraaSTQ2Strha6+JiGY0KjKuN94oxjzbN5GeItHeLlU6y/bZmEjmI7R3eq0fGJ0AzAb2AUYA/1NKfay1bllnR0pNBiYDDMnhRalNFperzagHg5nxpPPz4eKL4YILJM7+/POyiPrUUzKnP/JIjCOPwLLZyJR2q7VGdcfyuVxiRXPAoDc0SNw80708GhokAvbaa1J6H4vJIT/jDJlAbbdd3+odYhjii6SaQau13PCi0d6fPHaXLrNclFK7An/TWk9o/fsqAK31P9ba5nXgZq31x61/vw9cqbX+sqP9mlkuOUyiw0GmxT0AQxtEfc0Yb7yB5cUXcXz2JcowiGyzFcakw7AcfjiOge3f7CPxCKFYGG/Mhz8aIN/uocRZhMvqSs+4e72SctCL8ruNjWLMM+WZr1wpsrNvvintYuNx+YgHHyxGfNtt+5YRX5tgUG6KFRWpvzYWk7z8QKB7SV9d0etpi0opG/AzsC+wDPgKOF5rPXetbaYAtVrrvyml+gHfAGO01nUd7dc06DlOXZ2kPmQg1SISj+CPBfBF/QRjITRywdiUDdfqJvLe/B/u6W/h/GE+WilCO+1AbNKhWA85DIoK8UX9+CJ+YjoGCuzKjsNiJ2xEiBox7BY75c4SPPY8rJYUbkAJ4e9+/br9GdOhsbGt33d3Ik9LlkgX+jfflPVnrUXgauJEMeSjRmXfiHu9be+hlCzD2O09e/PwemWCma6XnfDUV63qXkF1Z/S6QW/dwUTgTsAKTNVa36iUOhtAa/2AUmoA8AhQhYRobtZaP9HZPk2DnuMEg2Ip0gyuGtogEAvSEGokGAthsVhwWOzYlK1Db9q6cBF5r72Na/qb2BcvxbDb8e++E4GJ+xHdZ28sHYwlZsQIxcMopShyFFJoz8dusWNRls49d60ljj5iRI8vjjY3i0fYVdk9iMd9000yVMMQbzLxMx5vUw3eZhsx4hMn9pwuitZiSEtKJAM2UcHq97fppCklBjKbyyWJr3Kzzbr/PokGWUplPgSTEwY9G5gGPcfRWnRNU5AI0FoTjodpifpojrSgtcZhceCwpl6Xbv9hPu7pb+J+439YV63GcDkJ770nwYkHENprt3bDJFprgvEQBhq0RqGwWe24LA4cFjsOqwO3zYXNspbr5fOJh15UlNoYu0EqxvzRR+Evf4EttoAxY+S+Y7WK92ixyM9+/WDCBDEUPUnCmJeVSdx6/Xun1lLHFQhIWCmZz5suoZCcqlVVmdlfNCqzp0x3bzINuklWMbRBzIgRM2JE41HC8TDhWJhoPIpRL5WkhjP5kgIN2JQl/bj2BgM0cMyajfv1d3C99S7WhkYMj4fQ/uMJTDqYyC7jOvSutdby+XQcQ8eJY2C3OBjiGdAWmonF5DFsWNbjA7GYZLI0N3dt3LSGW26Be+6RTM8pU3Jrwc4wxDhVVooYZ1dkeq1gfXw+0YTJZP6+1rB0qXzWTIl0mvK5JhklZsQIx8IEogG8YS8xQ8oFNJI1YlVWbBYbDpsDVVgGvhDY8jJjnNPBYiGy4w5EdtyB5r9chnPm17hefwf32++R9/LrxPtVEjjsIIKTJhLbfLN1Xpr4PFbaDH4gFqQ2uJqqvH7ymWw2ccMSLl6W8HrFoEHXiTXRqHS5f/55qc266abMx3MTHQXT2W/CmKciXFlSIu/Z0JC9FMlMr20n1JibmjK732xieuh9GEMbxI04USNKMBqkJdxC1IiCBqvFisPq6HwR0TDgt98yJ76dScJhXO9/RN7Lr+P8+DNULE5k6y0IHn4IgSMOQRd1bDW9ET8V7lJKXa3WKNFoe8CAjA8z4ZW3tMj9oisD6vPBWWeJasJll0nGZyYPfaIHSGJ2YBipfb3xuMSqBwxIPeMz0UzD681sGCMclgXYQYMyt88EPp90c8rUTcj00E06xdAG4ViYUCxEJB4hZsTW/NRar6kisCgLDqsDpy2FM8likSsvFMq9LkVOJ6GD9id00P5Y6htwv/427pffoOim28l/6DEab7+ByM7tnvPk2/NYFarHYXGQ7/DIZ/N6xTJk6HMm4su1tWIskzEIq1ZJtea8eaJueNxxGRnKGqJRmYyUlLTlatfXi9fsdndeIKy1nAaxmIQ20jFwSolXH4/LTSVTWjWRiMTxs4HNlnu+TGeYHvpGSCQeIRQN4Y148Uf9oFvDCxYrFmXBqqxdZ3gkSyAgK3g5LjebwD5nLsWXX4Nt0RJ855yO9/zJ7brFcSNO0AhRnT8Yh9UhxjwaFdezm+6jYYghb26Ww9ZVAk0oJE0e7rpLpvcPPAD77detIaxDwiu3WkW2Z31DGgzKVxyLbdgkem153uJiWTvu7j0vHpfYdEKWv7t4vSLtmw3V5ngcfv01czMK00M3AcQANYWaaA41EzWiKBR2qx2P3ZPd+HbizEvkn+U40W23oe7FJyi64VYK7n8Yxxdf03T7jcQHrpv+YLVYsWs7ywK1skjqdIrhr6mRlb6SkrQ+bzwuKW+JIpfO8PngiSfg3/8W73z77aUl25gxKb9th0QiYpDLymTxsr2bi9stqscNDVJ+4HLJ54jFxEj269fWhzsTWK0SHlmypPuTomi0+/JDnWG1tilFbAyqk6ZBz3G01vgiPmp9tWg0LpsLl70HKxsTTTCi0Zzux6m15uu6Ocyun4sv6if/lJHsvPNk9r/uCSomHUfTjdcQmrDvOq9xWh3rLpJarRJLWLVKLE2/fildxbGYxFuj0c49uoYGMdyPPCIe+e67SzbL736X+j0kEUbpaJg2m3iEXXnCFouEYTwemV14POKNu1zZuY/bbJkx6pFIepWhqeB0ynebw6f/GkyDnsOEYiFW+VcRjAbJS7UKMpMUFclqVg6e0VEjyjO/vsL98x6jLtwg6ZdGDLvFhs1io/wvhVz+uYWzLroC5/8dRfPVf1zHeuTZ3HgjflzWJlkkVUpca59PLM3AgUm5f9GohBG07jg2HApJWOXBB8UIH3QQnH++aKqkQzgsnnR1dccGMVVjnPDWewKHQ7Rlamra1qVTxTCyn86Zl7fxZLqYBj0HiRkxGoINNAYbcVgdFDh7WQov1xZEW/FHA5w44wK+b/iRYHzdPmwRI0rEiLIkFuSKHV08tU0l79z+AiWNTTTe+Y914gf59jxqg3U0hVtw2Zy4bS4cDge2SBD7bwuxDBrc6QpeOCxGqbPKwq++gj/+UeKxRxwBF17YvWrOYFDeb8iQnLzPJo3T2WbUU9WDi8c7b6OXKZzO7rUK6ElMg55j+MI+VvhWoFDkO/J7L/97bWw2cZ+i0ZzoFxoKw+r6KOd8ewFzvfOIGJFOtw/GQ8xyxzngyoF8eMN7FF1/C81/u2qN+yqSAQWSMRSPEIgFMbSBBqLBGMaXSyguH0hh1WDc+fnYbGrN/SAUEs/cZmvfsAQCcPPNMHWqOPtPPy3NlLuD3y9GfODAviH5mvDUly5NzaiHw8nnwXcHmy33Gm91RB84HfoOoViIZd5luO3udcvTc4GCAkmo7kWDbhjQ3CLT3+mrXmG+98cujXmCiBFltr2e+87bhYvveYF4RTm+8yevs41FWXBaxd0NhiR3PBAAgzirFy6HX5agCsvILx2Kx12E2+EgGlW4XO0flo8/lvaqS5bAaadJp77uJAtpLZGgggLJVtkYFumSxW5PXbk5Hu+Z5KuNKXUxx6zGpkskHmFp81Jc62uN5ApuNxvK4PccwRDU10EsDm635olljxEyUmt3H4yHuHXAUo7ffyKVd/+bUGE5geOOxNFqjA1DPO7GJllss9sSBsMKnlLQGiPkJ7x6Ng0FJeApId9dQDRmw2bYsCgLFmXB77fwjxvs/PdpG8OGwYsvws5rtYRJx9sLxcIE/VYqy21UVGw8BiYVbLa28EtXeeqGIVGznogGJnRzNoZErxy0HJseMSNGTXMNNosNe6pCVj2F3Q6O1mBiDyoTxg1oaoQWr1y8eU6Y3TSHhkhDWvtrjDXw+nmHc0RzMxU3/YOfrMXU7rkPbrd4hrG4vE+7np9SWNz5uI08lD9IPLCCUEmQgDsPrQ00mqYGK5efNZBffrRy4hktXPOnPPI9bZdZMCgZE8kcQkMbBGMBGsN1RIwwZSU2CksHolTv6bdnm0RK4/LlbRWl7RnRcDjzDUE6I5HpkgMRx04xDXovY2iDZS3L1qQk5jQFBZJzl8F29NGYhBE68lp9PvmZMLBaa96vfZ9IPLlQy/rEjBjzgz8x9qZbGHHh2Wz+j6tZUH4fTdvsgM0OzmS+AosFnefBEouTV9eIUWFH5xeycoWFC04tY+VyG/+a0sC4PRqpj1mwxQbgsrnw+cQwDBnSuWGIxqN4I14aAg24dJxqmxOHtYBoPMqipkVU5VdR5Oo5dciexmqV9YHGRsmLt1o3POXi8czKB3SFyyUhONOgm3SI1poV3hVE4hE8jo2gEtPthgy2io1EYVWteOGWDjwtu10u6NpQLW+seJPXVrzOQv/CtN8zqqP4o34Mt5uFt93FyHPOYMRVl/DL/Q8RGpFaGzxsVnReHpa6Vfy60Ma5F1Tj81q4b2o92+8YAfKIxiPUeJeQF69iUGUBlZXtx7611oRiIRpDjXjDXqzKisvuwqLaNrZb7VgtVlb4VhCKhajwVKzzfF/CYpFiqMJCkSdoapKbodPZFvroyUZTbrfcYHKdvnk2bCSs8q/CF/FtHMYc5Gqy2cHofg5XOALLVsT40Tufn8NzWBL9hTq9DL+lAcMexOHUxGx+Xq+dzlmzzuagjw/m7gX3UGArYP9++2FX6btKLy1/ma8bviZeVMyv/7qXuMvNiEvOx7F8Weo7s1j4YXE5Z54xhFhY8+ATda3GvPVp5SAWchP3LMOaX4dS605FYkaM5lAzvzX+xpLmJYRiIQqcBeQ58to11hZlodBZSEu4haXNS4nGo6mPeSPCbpcF4OpqubEnFqo9np5dFN5YsolMLZdeoiHYwCr/KgocBbmRmpgsjY3iLqVRzaG15peW3/ig5ks+WPol3zbPwhf3tbutQmFRFuI6ziD3QA6pOoSJVQcxOG8ws5u+49xvziMYD6Y8Bruyk2/LpzHayG5lu3HhyAsYs9rCZuf+gXhBAb9MeZhYefKlh1/NyufiP42guDjGAzd9x6Ct89DFUqAUiUimp+inSMVvviOffvn9iBkxmoJNtISlj7rLnvpieDAaRGvNwMKBokeTIhnT++khEpo0tbVSxNuT8kKxmNQQdFd10Wxw0YeIxqMEogEag41rPLGN6YIC2qpoEtonXVAXauCD5Z/x0cov+LT2K2qD0mZ2oGsgO5ftxLiScRTZCwnEgwTiAYLxIIFYgEA8gKEN9qjYgzFF265znLTWHPrpJJYFU/eoB7kH8uwu/+XZmueY+ts0vDEvB/U/kEuNvRn/x78SGTCQBff+h3hh5zFqreG9GcX8+bpqhgwKc/8dC6gsj6ACfoyiEoKuUpRF0b//uhdvMBpco0Fvs9hw2brXCCQajxKMBVMOvWitKXQW0i+/30YXtumtbJNEA6/uvLdp0Ddy4kacYCxIQ7CBYDSIQqXljeUUwaCkITgcG6wSGdpgTsN83lv2Ce8v/5TvGuah0ZS7StmlfEe2ce7IbpU7MSR/YLeG8NzS5/nXz3eklLrosrj44+aXcvTgowDwRr1MW/QITy95mqiOcbBtB/52/7dsXrwVv941BWO9WUhzi5Uvvy7g8y8L+eKrAlasdDJ6az/33L6AosLWMJTWaL+foL2IQWPKsdk3vPq11jlxI/dFfHjsHqoKqjY6o94bJLoXdWdh1DToGyHReJRQTORtfWEfKHBYHWlNi3uSuBHn18ZfmVM7h0g8wqDCQQwqHMTAgoEb6qiHwwSX/saS4AoWhWv5zbuUeY2/MGPFZ9SHG1EodigfzT4Dfse+A35HtWML6uosuFyZyXqMGlHOmnU2PzTPJaq7jiM7lINRRdvwwNgp2C3rXpGrQqt5fPHjvLjsJQLxABMWwLmrt0Sd+CSLawv57nsPX3xVyNz5eWityPfE2XGsl112auHQAxtwu9ddKA4EoNTuo3CzytS7QPQwvrCs4ZhGvWvWblSSLqZB3wiIG3HC8TCBSKCtKxBtRrw3vLFIPMK81fOYu2ouFmUhz5FHvj0fj8ODx+4hz5FHNB7l+1Xf833t98ypncPc1XMJRAPt7q+fpx8DCwdSlV9FQ7CBRU2LWOFbsc42pc5i9uq/C/sM+B3jq3Zd0xEoEIDaVWTMmCcIxAKc/+2FzG+Z36mn7rK4GMhodvrxGSxxDw67xuHQ2O0GDofGYTeIRi0sXBlglu1J6gbdScDTwrDlxSz69D7UT8cweqswu+7Uws47ehm1lb/DaFM8DvEYDOgfxxKNSI5iD+btp4M/4sdtdzOgYIBp1DvB621r7p0upkHPYbTW1AfqaQg2gAKrSqKtW5ZY4V3BrBWz+GbFN3yz4hu+r/2eUDy5cITb5mZU5Si27bcto/uNZky/MeTZ86hpqWFpy1JqWmqoaa6hxlvDcu9ySt2lVBdXU11czbCCIQyNeah2D6CksHKDfQdDItSYaWOeIGpEeWXZqzyy+FEaIqK2GNMxbMoGhh1rqJL4h1cQ/fJM7FYrNpsmGrEQi294k83PjzFkUJgBg5sZnn82MwZO5+dy8FjzGVM8mjHFY9iueAyji0bjtrbvpvn9UFnRumDn90vuXXFx5j94hvFH/LhsLgYUDOg9Vc8cJxQSGQfToLfDxm7QtdbUBeqoD9RnfXFTa82MRTP4YNEHNIWa8Ea8tIRaaIm00BJuewA4rU5G9xvNDlU7sEPVDozpNwarsuKP+vFH/PijfgLRAP6IH4BtKrdhRMmI7l3E8TjUrhTVrLUqQEJh8WiyZczXRmvNp8t+4OVvfmP+ojgrlpShl+5MWXAHxu/ewvg9mtlxBy9Op5zvhgHRqCISVUSjFqxWTWFBfJ0Fr8oH7+frzx/mxf2q+XSohV8Dv6HRWJWVLQq2YLviMYwrGcvYkrEU2guJtkZ+BlS1LpwltASGDNko8t4CkQBOm9M06h0Qi8HChaZBb5eN2aBrrVnlX0VTqCmriohaaz5e8jG3fXYbs1bMIs+eR6m7lEJnIUXOIgqcBRQ6Cyl0FDK0eChjq8ayTeU2vROrT/RdC0jIJtxaNGS1iSZKtojHYeY3xbz8dn8++KyMaNTCiKF+xu/Zwvg9m9l6y0D6+cpa0/8/99P/samEhlbz/V+uYmZlmNlNs5nd9B1zm38gZIRRKLYs2JLtCsaxX/WO7DFwezz21htbICAeemlpGm+v+WHVD0z/eTq/NPzCH3f9I6MqR6X5YZIjEAlgt9oZVDjINOrrobVkunSnZ7pp0HOMtY15NnXKv6j5gls/vZUvln1BVX4VF+1yEb/f5vc5v7CK1kQi0rnHZsteqfSypVZefTGP6S/lUbvCRlGxwUGHBph0tJ8t+tVi8XvRrsx0Psj/+kuG3PBX7A31rDzjLGpPOAVsNiJGhB+a5/JVw1fMrP+aH1rmENVRbMrKdmWj2K3fOH5XOY6xnhG4h22e1MHQWjN39Vym/zyd1356jUXNi7BZbOTb8wnFQ9y2/20csdURGflcHRGMBnFYHQwsHGjG1Ndj8WL5me55bRr0HCJhzBtDjRQ6s5O98PXyr7n1s1v5ZMkn9PP044KdLuD40cdvmGWSoyTasEF2lPCiUbj170W88IwHpTS77B7msKMCjN8v1NboIR7DWrNYDHqGygmtLS0Muv1mSt59G9/oMSz5y3VEBg0G2gpeSiqDzGmZw6crv+LT2q+Y0zCfuI7jtDgYWzmG3w0fz++G/I7BhYNpDDbSGGqkKdS05vdV/lW8/9v7/Nb0G1ZlZfchu3Po5ocyYbMJxI04Z712FjOXzeSssWfx5z3+nNXUV3/ET549z8x+WY/uZrqYBj1H0FpT66+lOdScFc98mXcZf//w70z/eTrleeWct+N5nLTtSbjtWe6vlSJad9y9JRF1icezo7PhbVFccUEpX37u5LhTfJxwmp+qAe0PRjU3YmlqQOdltpyw+J03GXz7zRA3WHbRH2k4ZBKhsCLfs2FUxRv1MXPVt2LgV85kbvOCTvfttDrZaeBOHLr5oRw08iBK3evuMBqPct2H1zFt9jR2H7I7Uw6essE2mcQf8ZPvyKd/fv+cyJvPBbxeWeRPt0rVNOg5QNyIs8q/ipZwS8aNeTgW5t+z/s3dM+9Ga815O53H2ePOJs+eOUXDTGAYUk/U0CBa4e2hAZs1O8Z82VIrF00uZekSG1f/vYnDjuyi7N+IY122BG13ZHxF1l67kiE3/JWCb75mxSln8tuJ5zBokHz2DgmFaFAhPg//Sn2wnhJ3CSWuEopdxWt+d9vcSRnO//7wX65870r6efrx8KSH2aZim8x9uPXwhr0Uu4qp9FSaRh25BpYsSV8CwDTovYShDYLRIM3hZnxhHxaLJeNG9r2F73HtjGtZ1LSIiZtN5Nq9rmVw0eCMvkd3iccl+66hQbTCXclV/GeU72fbueTsUmIxxW33NTBu5+Skc5WvBUv9KnReFnRWDYPBN/+dstdfpeYf/8By1AFdv8bnkw4OGYhFfbviW86cfiZNoSbO3/F8Cp2FKKVQtLXVA5EXsFvs2Cw2bFYbDosDm9VGsauYcVXjkjLS3rCXUncpFZ7kNW76KtEo/PZb+pku2TbouZ9L1YMkJEy9ES9NoSa01titdjwOT0a9kwUNC7jhoxv438L/MaJkBE8d+RR7Ve+Vsf1ngmhUppdNTRJmcbnB1Quh1HffcnHt5SWUV8a5+8E6qocnr/So8/KlO0Ys3oX7nAYWC4svuQrH4sUMuO5v1G85mOg2W3X+GptN7oxVVd1+++2rtufNE97knNfO4bbPb0trH5fscgmX7XZZl9vlO/KpD9ZjURbK8srSeq++QqIdXa52LzI99FbiRpwlzUuIxCMZEU1KoLVmYdNCZtbMZOaymcysmcnSlqV47B4u3fVSTt/+9F7PXInFxIBHo7K4FwqJZ26xiCfRG70rvS2K557ycN+/ChmzQ4Tb72+gpDR1LXYV8GNZvSKjXrrWolEG0N/SwKATTkIZmtUvPIZRUd75i30+6d7QnfrxdcaixflYqz2g1hqNRmtNXMeJxqNEjSgxIyY/4zGmzp7K8/Oe54FDHuDQzQ9N6n28YS8VngpcNtcapUaFQilRxrQq6yYRllm8WIx5OjNVM+TSQ9T6avGGveQ5uh9WMbTBG7+8wfSfpzOzZiarA6sBKM8rZ6eBO7HzwJ05dPND6Zffr9vvlQ5ai9H2esWAx1qdXkvrSZroodgT1K228NM8O4sW2lj8m41FC+VRXyce9YSDA/z15qZOLwCtNVEjIpoumjXFP25bHmiNZUWNbNhBrplhyLqARYHd0bnnFY3KtoUFUFwCVgvY5v1E+XGnE9tiJHWP/7vzqzUSkYObjsaLy0VbKk/3CMfC/N/z/8cPq37glWNfSSq/3dAGgUgATau4mAYUa4650+pkQOGAXndQsk1trRjmdO7JpkHvAfwRP0tblnY7FdHQBm/+8iZ3fHEH8+vm0z+/P7sN3o1dBu7CzoN2ZkTJiF7zYBJeZSAgYRRDSxTC4egdDzwagWn/yWfqlAKiUTkmRcUG1cNjVA+PMnRYnJFbRNll93C74xNvM9LayxPy7B7ybQU4W2dWjaF6WiJNOC0u7NE41tplG3jpiUJOpcS+JmYoWoPDLsY9gdayIGazQlk5uNdb+HW9/T6lF1xO4PCDabrlus7vCqGQvHkqaC1f1IABGcsHXe1fzUFPHoRSijeOf6PbMfJQLEQsHqOqoCqrNRq9TUuLZLqkE0c3Y+hZJm7EWelb2a0FT601by14i9s/v535dfMZUTKCew+6l8O2OKzXqu20llBKLCb2o6VF+ncmslB6w4gnmPOtnRv+Usyvv9iZcHCAY04IUD081mlIxdAGkXiYuI6hkRS/YmcpLpsbp9W5Qa50ZV5/ChxF1AVX4rfG8DhdWMJhcDqJx+XmZrFAcbHGkRdFEyPfaqeszE44JE2pW4tesVpkFlNSIp55e8cuNGEfWi48i8K7/010i83wn3Fyxwcg3TSgaFSS/AcMyEgqUYWngmmTpnH4fw/nD9P/wLPHPNst79plcxG3xFnWsozSvFLK88r7ZA57LvcV3eQNel2gDq11WkUaWmv+t/B/3P757fyw6geqi6u5+8C7OXzLw3vUkBuGGKhoVH6GQvK70Tr5sihpfux0yg0sYkSIG3HJh9CglAWbxb6BrGym8fsU991RwLNPeKjsH+fOf9fzu/FBInEJSIdi626vAYM4WksIJd9RgMeWj8PqTOr7ctvcDMqvpjnSRH1BFMuyZcQjJWhLjPyiGHl5YLNYcNvdeGxF1IcaMYiS53aTl6eIxeVYhoJQUAjOLmyd77w/YP/lVwr/eTfBYUOIjN89s8U/drt4/stqYEBm4vCj+43mjgl3cM7r5/Dn9/7Mrfvf2q1ZpNVipcBZQFOwiWA0SFVBVZ8LwdhsHTc17202aYPuj/hpDDZS6Eo91BKKhfjTu3/i+XnPU11UzR0T7uDIrY7sscYViRCKzyfed2LV3WqVEy7RWSVmxAjHQ4TjYMQ1DosdjyMftzUPu9WBoeOEYiH8UR/+qK81UqCwKzv2DF6In8xwctNfi1i10sr/nejnnIubsboDhOJQ6Chak263LgqHxYHT5sJusadlaJRSFNhKMJz5+D1xClhJRXEBBfYCHK03MaUVRKHAXUV93EtDqBGX1YXDaiffA/kdFJFI7D5GXMeIawOUwn/DFQxZtITKP17Lqvv/SfO4UYDCqizYW1MIu4XNBsoNy5dlzKgftsVh/Fj3I3fNvIutyrfijB3O6Nb+lFLkO/MJxUIsalzU50IwiTWmXMx02WRj6HEjzm+Nv+GwOVI2wqv9qznj1TOYtWIWf9z1j1y484U9ZsijUckLb25uC6E4nRueWIY2CMYCWJWVUlc5dqsDh6VzaV8Ja0SIxMM0RxqIGwYuW/cMht+nuOX6Il5/OY/hm0X5yw1NbL5tMwYGpc5yCh1FWZvNxOMS97ZaoaIC8t1xLJEOJIUNQ6QhnU6CKsaKwGpiOorHmrfOjSRuxAkbEeLaQAF5NjduqwunzYndYsOmbFhrV8Hxx8OiRRi33074sIMIxcN4Iz5CRhhoXVBMEZvFisvqXPfD9e/fPfm/xMfXBme+eib/W/g/njzySfYcume39wlyvPxRP4MLB288zdCTIN1Ml5xYFFVKHQjcBViBh7TWN7ezzXjgTsAO1GmtO02s7m2DvsK7QvQqUsxq+WHVD5z2ymk0BBu468C7OGTzQ7I0wnXRGlatAq+vNYTibL8AUmtNMC7B31KXGMx04phRI0qNd3G3QjE/zrNx1cWl1CyxcvrZXo6fvAqb3aDYWUqRszhrN0HDkPi3xQLl5bLgmdSaQSgkfcZsNgyHnYZQI3WhBuwWO3HioMGmbBQ68vHY89qN3a+hqQnOPBM+/xz+/Gc491xQas1NM1U0mtpgHXEdx21tjZ8bcQgEpWNyOjH1RFJ1K76Ij0lPT2JJyxKuH389x446NiOL+NF4lLiOM6x4WJ9Ja6ytFccq1cPe6wZdKWUFfgb2B2qAr4DjtNbz1tqmGPgMOFBrvUQpVam1XtXZfnvToPsjfpY2L0051PLmL29ywZsXUOQq4pFJjzC63+gsjXBdtIa6Omhu6Xj6DxCMBYnrGCXOsowYzFAsRI1vMXk2T0o3Ba3hv497uPOWQopLDK69dQXbjvNT7CyhyFmStVh9Qp4A2gx5ylX/kYgYdaXA5SIUC9EUacFtdeG2uVKLB4fDcMkl8MorcPLJcMMN3ZIhiBtxlgdWEoqH8dhaHZHE3StVQ6m1iM+sJ0CzwruCC9+6kM+WfsYBIw7g1v1vpTyvi9z6JPCFffTP759WeDMXaW4Wo57q5CgXslx2AhZorRe27uwZYBIwb61tjgde1FovAejKmPcmMSPGCu+KlDxzrTX3fHkPt3x6C9v3356HD3u4R3PIGxvlBMrzGETjMQwMDK0lZU9pMKSspMBZSImzLGOLUC6bi37uKmoDy/HYk2vi0dykuP7Pxcx4181ue/n5040rGNqvgCLnsKwtjq1t08rKoKioG3bT4ZCGFDU1EAzicrvpb0szo8TphHvvlayUKVMk1+3++9OOe1stVgZ6qljhr8UX9ZNv98jUI52Qi9bQ2CCiJGulbVQVVPHfo//LQ988xM2f3Mw+j+7DbQfcxgEjkpA26AS33c0q/yo8Dk+f0FnPUDlAxknG7RoILF3r75rW/63N5kCJUmqGUmqWUqrdnC2l1GSl1NdKqa9Xr16d3ojTRGuNP+KnprkGpVTS3mswGuTCNy/klk9v4Ygtj+C5Y57rUWPe1ASr6mIoh49IPIzVYiPP7qHIUUy5u5L+eQMYUDCYIYXD6JeX+YyCAmchJa4yAjFfl9vOnuXguEkVfDLDxbmXr+L+h/xsO2QIFXn9smLMDUM8nmBQPPLhw8Xh7LYWl90umis2W1vuYrpYLPCXv4h3/r//wTHHiAZrurtTFqo8/Shw5OON+El7DUwpsFiluqyd95g8djJvnvAm/fP7c9orp3HZO5fhi3R9DnSE1WLF0AbN4ea095FL5GoDqmSG1Z5btv5ZZAPGAvsCbuBzpdQXWuuf13mR1v8B/gMSckl9uKmjtcYf9VPnryMUD+GyuXAnudC3oGEBZ00/i5/qf+JPv/sTF+x0QY/GAOubItSsCFNcYKfMXUWePbXQR6YodZUTjocJxYO41uulGY/Dl587eeV5N++/7abfgCiPPtvC73bMbmgl4ZFXVKQZWukKmw0GDYLlyyWNqKMr2G5PLjH5tNNkAfP882H77aG6GrbaCrbeWh5bbSXvl0Sw36Is9HdXYlM2GsJN5NvykjovpRhLeq6Cwma34G7HS0+wRfkWvHb8a9z++e3c/9X9fLr0U+496F7GDhjb9edthzxHHnX+OgqdhT2WRJAtEpkuhtG7NR3rk8xRrQHWlgAcBCxvZ5s6rbUf8CulPgLGILH3XsHQBv6In9X+1UTiEdx2d0qVoK/+9CqXvXMZTpuTJ498skfFs8KxMI3eCI2rnIyoGITHkdwFmy2UUvTLq6LGu5hIPIzD6qRmiZXpL7rXdAwqKIxz3EkhrrjcRllxdjS6E4kdFksWDfnaWK2iu+L1tl/ZqbXEwwwjuaDoQQfBa6/Bm2/C/Pkwb578nvCyPZ6OdVlLSiRcs/nmgHwn5a5SLEqxOtiApYPzQ7fW5yvAYXVQ6CjAbXNhVRaW+JahlQXl9XbYIs9hdXDV7lex37D9uPCtC/m/5/6PKYdMSSsEY1EWLBYLDcEGKj0bNhTfmEhUF3u9GZPlyQjJLIraEMO8L7AMWRQ9Xms9d61ttgLuBSYADuBL4Fit9Q8d7Tebi6LReJSlzUuJGlHcdndK3kAkHuHvH/6dqbOnMm7AOKYcPIUBBQOyMs71icajBKNBrIaHQF05JQUubLbcyQrwh8M8/nwDr79QzDcz3Ws6Bh17rOLgCQ7c7uyMNRZrLbu3SWiloINqzV4hEhGBbJstvcCq3w8//SQG/qef2lZ11+edd8Tgv/baBsY3EAsSNzpo9KHUmvz39Wd3tYHV+CI+3JE4DBna5UyjPlDPyS+dzPervufW/W/l96N+n/znbEVrjTfiZVjxsA67cGmtaQ43E4vHKPd0f0E2WwQCstSSyhJGry+Kaq1jSqnzgbeRtMWpWuu5SqmzW59/QGs9Xyn1FjAHMJDUxg6NebZJqMqlWsxQ01LD2a+dzbcrv2Xy2Mn8efc/Y7dmv87X0AaBaACbstHPPYTVy/MoKcidOF00Ci++CHff7WTRoioGDo5y0aUhjvu9ncGDuleCnhAK64hYTOzMgAFiz3LGkCdwOCTevmSJuG2p1oV7PLDDDvLojGOPlfj75Mnw9NPrvE9emrUCxc5CmiLNEktvaZEV5U4oyyvj2WOe5czpZ3LpO5dSF6jj3B3PTWn2KDcYO3WBOgYWrr8U19ZMpjnUDAoKXYU5W2maMMq5VGDUJwuLgtEgS5qXpGTQZyyawXlvnEfciPOvCf9i4siJWRnb+gSjQWJGjEpPJfn2IpYusaBUdvpxpko0Cs8/D3ffLfZq9GjJwtt//8wY1kTzjJKSjm9eLlf3uqz3GKGQHCSnM3tiH88/DxddBCedBDdvUAqSFkt9y4jFYzjD0aS8dJBZ7CVvXcLLP73MH3b4A9fudW3Kazst4RaGFg1dp8ViOBZmWcsyDG2Q58gjGA3isXvoX9A/5c/VU9TUiNOR7OSs1z30TYGp307lrzP+yhZlW/DgoQ8yrGRYRvab0KUG1iltV0qtCa8UugqpyKvAbrWv6ceZbr/CTBGJwLPPwj33yAk7Zgxcfz3st1/mDGssJlPWgQPTb+eVU7hc4qknctizMb06+mgJy9x/P2y5JZx6ard3WeYqZalvOc4kvXSQuPo9E++hLK+MB795kPpgPf864F8pzWZdNher/KsYUjQEpRTNoWZW+lbitDlxtRZOuWwumsPNlLhLcrZJemGhZKPmShrjJm3QY0aMv37wVx757hEmjJjAPQfdk7Hy5EA0sEZUCsBAFtWM1sU1m9XGkOIha1QevV5ZX0tHJjtTrFwJTz0FTz4pv2+/Pdx0E+yzT2Y95ISQ2NChubWg1G3cbslUWbpUfs+GUb/ySvj5Z7j2WhgxAvbYo1u7c1tFJyfmUNiaWk/AJLx0i7Jw3fjrKM8r55ZPb6Ex2Mi9E++l2FWc1Ps6rA68YS8t4RaCsSBNoSbyHfnrePqJ9OKGYANVBd3v8pQNXK7cEuraZEMu3rCXc14/hw8WfcDZY8/mz3v8OSMFD4Y28EV8FDoKqcyvTGpBNhqFRYvk5Mhq1kY7aA1ffAGPPAJvvSWe8957wxlnwPjxmQ91JNb8Bg3KjbBSVvD7xah7PNn5Qr1emDRJShWnT5cE/G7QEvayMriK/Fhr440kvPS1eer7p/jTu3+iwFHA+Tudz2nbnbZOKKUjYkYMf8SPzWLr1JHyhr1UF1fnrJe+cKHcA5P5qrMdcsm1JaYeoaalhsOfOZyPFn/ELfvdwjV7XZMRYx6KhfBH/AzIH0BVQVVSxlxr8YYtlp415vX18OijEkY5+mj45BMx4p98Ak88IUY908Y8EJDPOGRIHzbmIIZ80CD5wNFo5vdfUADTpskXdOqpUkbcDfIdUt9gOB3SgzXFMR8/+njePvFtxg4Yy40f38ju03bn6e+fJmbEOn2dzWKj0FnY5azYZrFRH6xPaUw9SVFRW0vC3maT89C/WfENp79yOuF4mH8f8u+MqMolipccFkfKLbgaGqRwMNtxZL8fZs6Ejz8Woz2vVbhh9GixCZMmZTf84fPJ4mZVVc/PQnqNYFAWIWy27NzBPv9csl+GDYNddpEc9ZEj5dGvX0p35IZQIw3hJvKipOWlrxnS0s+58eMb+Xblt4wsHcmVu1/JhBETul1H0RJqYVhJx6mOvUkwKBOyZNIXe12cK1v0pEE3tMGsFbOY/tN0npzzJJX5lTx2+GOMLBvZ7fcKx8KEY2HK88opzStNabU/GBQZzoKC7GRx1NTAc8/BRx/BN9+0rcaPGyeh1/HjxaBnM4MkUZ5fUiLFQDmXdphtIhH5IrTOzh1z+nR48EFYsGBdT72wUAz7lltKJeo220g1agdWJ2pE+a1lCR6rGxUMJJ3x0h6JDl7/+OQf/Nr4KzsP3Jmpk6YmHV9vj2A0iNvu7rGakFQwDDn8Hk/X15Jp0NMgGA2yqGkRvzT8wvSfp/P6z6+zwrcCh9XBASMO4KZ9bqIsLz0PJG7EicQjxLXIqebZ8yjLK0sqZrjOfuISN7fZMpvlFo/De+/B44/DBx/I/0aPFgO+++6w4449txAZjcpNq6pKpqWbLLGYtI6LRLKXwpTQV/7ll7bHzz9LwVJTU9t2Q4eKcd9hB5EjWEv/dWVgFf5oAHdUi+Gv6F6P0ZgR4+kfnubaD65lu/7b8dSRT6V8naxNS6iF6pJqXOmKpWWR5cslc7UrOV0zbTFFVvpW8o+P/8Fz855bY8THV4/nqt2vYv8R+6fVCDpuxAlGg6BED7vIWUSeIw+XzZWWtkri2tM6c8Z8xQp45hnJUFmxQmbcF10kfRYGbli/kXWCQfl8fS6TJR1sNklpXLlSUgOzMSVTSr70fv3kzp1Aazkh5s6VONu8efL7G2/Il3TppWs2LXYU0hxpAZdHvP3Cwm5ZHpvFxknbnkSxq5hzXjuHc14/h4cOeyhtHReHzUF9oL7dgqTeprBQjHVv0+c89PpAPUPvHMpOA3fi8C0P54ARB6RlxBMEo0EMbVDpqcRtd3erai0WkwSFhgbxpLvTaCYWk+vys8/g008lrBKPw157Sd3Jfvv1XjNbn0/swIABud1Qt8dJCNvX16dn0F2uzB3QyZNlCvfJJ3ITaGWJtwZDaxwxA+w2aXOXAR6Z/QhXv381x25zLLcdcFvaMfWWcAvVxbnnpcdi8OuvXa+FmR56ipTllbHk4iWsDqzuVh/DuBEnEA2Q78in0lPZLQmAUEhmvc3NEkNOJz3RMOCHH8SAf/65LHAmlE832wzOOgtOOEFE/HqLRLy8uBgqKzfBeHlXJOQhPZ72xb46Ix4XTztTBv2qq0Qf5vbb4Z//XPPvMlcpNf4VOJyeNdrEhstJ3IgT13EUKq2FyVO3O5W6QB13fHEH5XnlXLXHVWkN22F1UOevY1DRoLReny0S696xWO9KdvQ5gw50K04H4pXHjThV+dLcNh1vIlEJ2dAgKU02m3jk6TgmCxdKyX1iQjN8uGSl7LabJDes5WD1GlrL9d+vnxj0nC/V703yUmt7uIZAQB6ZiGENGyZdlKZNk3zVLbaQodncOCx2vFEfyhJHLV+EdXA1dpsDp9VJKBYiFAul5SH/cdc/sjqwmnu/updyTzl/2OEPKe/DZXNJMVLrImkuUVQkEzDToOcICcndPHse/Yv6p+yVJxYBm5raBKeczvRTEg1DrrebbpL9/OMfcMABIqudS2gts4V+/SSbxSRLlJfL3T1TalAXXyxpUDfcIKvoSHXm4PwBGNrAqqxYfH6UvWJNCXMkHmFR4yLilnjKtRtKKW7a5yYagg38bcbfKHOXceRWR6Y8bKfVuY5sQK7gdqc+8co0pkFH0qwSpfr98/tT6CxM+kSJxSTHu7FRPHGlJDWwu43YlyyR9arPP5fS+1tvzT1DnsDrFVtjGvMsY7dLyKaurvsnGIgM70UXwd//LgUKrTIC6yxaejyygt9a9eqwOqgqqGJZy7K0+oNaLVbuOegeGoONXPL2JRS7itln2D4p7cNpc9ISasEb9uZUj9JE4/bebHqxSUc5E23pfBEfxa5ihpUMo8hVlJIxX7pUKrCVEk88P797Qj1aw2OPwb77wvffS4jzscdy25iXlKRdh2KSKomGqfH29c9T5tRTpar1739v371MWKi1ctwLnAWUuEvwR/xpvaXL5mLapGlsWb4lp79yOq/8+ErK+/A4PKzyr+pQB743SNiA3qwa3SQNesIj90f9FLmKGF4ynApPRUohFsOQ1GLDECOeibWq1aslzfCqq2DsWHj/fSkEzKFZ5Tr4fHICV1bm7hj7HFareOn+9IzpBrhccsLNnQsvvND+Nh6PnJxrSQJUeCqwWWyEY+lZrwJnAf89+r+MrRrLuW+cy79n/Tul11stVjSaxmBjWu+fLfLzxdHrLTYJg661XiNX64v4RDzLWciw4mFpZbAkUnsjkczlWM+fDwcfDF9+KTHzp5/Ofv54KCR2wedr/xEIdOwIJtbm+vc3jXmPU1AghjgSycz+DjtMNJJvuaX9jklKyY2koWHNvyzKwoCCAUTiEQydXuC42FXMk0c9ycEjD+b6D6/nbzP+ltK+8ux51AfricQzdBwygMvVu9dDnzXocR3HF/bhDXsJxoJYlIVCZyH9PP0YXjI87VTERFGQ35+5or///U+yVuJxeOklOOWU7J4UwaDUtzid4uxVVUnO+MCBMvsePFgeJSXilHm9YuDDYfn8iXZwAwaYqYm9QqKIqLNWT6lgscA114iX8tBD7W/jdrctFLXitDnpn98fXyT9ihqXzcWUg6dw+nan8+A3D3LeG+cl7fUn5HVX+1en/f6ZxmrN7L02VfrkoqjT5qS6uBqrsmKz2DKipJigvj5zuuVaw3/+I+HLUaMko6UqS7LPiVZvsZiMvbS06+IGt1ti44nsHa9XbmQ2mxj+TUZkKxdxuyWenqk0xl13lRSqe++F446TVe61Saz2L1u2zolTqDWBYAB/tI68wrK0NB6sFivX7309AwoGcMPHN7Dav5qpk6YmVRDotrvxhr0EooE1vQV6m6Kithl8T9PnKkWzSVOTVG9nonI7EoG//EVK9SdOhLvuSj89uTPWNuRFReJ1d6dKLbFuZnrmOUA0Cr/9lpwqVDIsWCApVSeeKHG/jt5zPZsRN+Is9tZgicVwlLfmrqY5nhfmvcCl71zKyNKRPHXUU1R6Krt8TSQeQWtNdXF1TqQxat25ArHd3r2vy9RDzwBer9x10y0OWpvGRln8fPJJuOAC+Pe/s2PME+GS/HypI+nfv/sqrhaLacxzBrtdplCZWiDdbDPRjXjsMXj55Y7f0+FY52F1uRlQMpiI206kvlbSKtNMyD5q66N4/IjHWdS0iAvevCCpmLrD6iAaj9ISbknrPTNNYjLT0SOb95w+GXLJJOGwGMVE6m93jNlPP8GLL0otR2OjNF8+6qjMjXVt/H4Z65Ah2blZmOQIxcWSUpiOMpTVumG45ppr5ES96CKZiu67b1K7ctlcDC0YTI1aQahxNa5YTNKf0ojL7Tl0T64bfx1XvHsF076dxhk7nNHla9x2N6v8q/A4PGmLf/UFzJBLOyS60SfK9hMLHekY89pacXZeeEEyw6xWEdC6+GJJTcw0CcmBkhIJg5px7k2AeDw9bZiEGP/6eL1wzDEiwfvMM6K5nCRRI8oy/0riAR9uV4FMC9Oohddac8rLp/Dpkk9568S3kupdEIgEKHQVJhWm2ZjZ5PTQ0yUhotXSOnNzOtPPL3/vPXj4YSnAMwzYbjs48kjJZll/vSlTBALys6oqe7LbJn2IJUvk5GyvEq6uDo44QrIAnn9emmQkSdyIszywkqCvmXyHR07INKrtVvlXsc+j+zC4aDCvHvtql1lpWmu8Ye86zdf7ImYMPQnCYTm/E+mI6RYLLVokaYcnnyxrTBdcAB9+CK+/LhpI2TDm8bjchDweUVs0jblJUpSWdpyKUV4uxRB5eSLjuWhR0ru1WqwM9FRRUFiGN+pH19Sk1Vu10lPJLfvdwpzaOdw1864ut1dKkefIY1nLspzKTe9JTIOOrErX1srM0O1Ob9EiGBQV0n32Ef2Va64RqekrrpC1pmygtXjl4bDkkFdV9a7Sm8lGRl6enOwdzdIHDRKjHo3KKn5tbdK7tigL/d2VlBb2wxsPEq1fRTrRgIM3P5ijtjqKu2fezbcrvu1ye5vFhs1iY1nLspySBegpTIOOeLfBYNfto9pDa2n+stdeknp48MHSbOLss7un6dIVkYiEOgsKJIMl202mTfogFovksnZWoDRypCgxJnQp1m5n1wVKKSrcZQwoHozy+vD7GvGFpVI7GA0SM5Krkb9hnxvol9+PC9+6UDqHdYHTJvrtK30r07qJbMxs8gY9GhXHI50wxfLlco7/4Q9SrPPCC3DPPdkV0krojhuGdD7p189c+DTpBoWFXYuPbL+9LAgtXChpjSmmSRa6ChlSNISRlFJdUs2AggEUOgvRWtMSbukyNbHQWcgdE+5gYeNCbvjohqTeM8+Rhy/ioz5Qn9JYN3Y2eYO+apUYxFQzWObPh0MPhVmzpNLzrbek2UQ2CYXEmJeXS6x8k+/VadJ9Eiv/XRn1PfeE+++H774Thcb2NF86w+1GtbTgiGnyHflUeCoYWjyUcnd5Ul737kN258wdzuSR7x7hw0UfJvWW+Y586gJ1tIRyIz+9J9ikDbrPJ2GLVA3jJ59IAgCI9srpp2c3dp3IhXc4JLxSWmoW95hkCKWkOCkZXZiDDoI77pBForPOSr223W6X7Jm1KHQVJi3IdeXvrmRk6UgufftSan1dx/OVUngcHlb4VhCKZUj3JsfZZM1CPC6hllSLbl56SSqjBwyAV1+FbbbJzvhAwkEtLW0FQoMGZTcub7KJ4vF0vDC6PkcdBTffLHm5F1yQmlas2y1e1Fo3D4fVQYGzICmD67a7uXfivbREWjjhxRNoCjV1+RqrxYrL5qKmuYZoPIrWOuXHxsQmmxNRXy9x6GQ9a61lxnnTTaJj9PDDaekQJUUsJjNah0NUDxPJCCYmWSHR8DYcTk4b4sQTJY5+/fVipP/1r+SnjAkvfVBbk+cSVwlLmpck1ad0VOUopk6ayskvnczJL53MM0c/02XOud1qJ2bEWNi4MGWtF6uyMrhoMA7rxuFJbZIGPRiUKtBkM0PicUlDfPRROPxwOX+7q4nSHok0RItFZgCZ0I0xMUmK4mKoqUn+xD7rLDlZb7tNPPwbbkjuZHW52tLKWmOdLptrjdFNpmx/jyF7cP/E+5n82mTOfPVMpk2ahtPW+bjTbSgdjAZpCDTQvyBHW4atxyYXcjEMEdlKVog+GJQslkcfhfPOkyyWbBjzhJBWSUlbGqJpzE16DLe7rd1cslx8MZxzDjzyiExdkw1POJ3rxNKVUpS7y1OKcx808iBu2/82Plz8IRe+dWHWcs5dNhfN4eaNplBpk/LQo1ERxYrFkuuxW1cnC/rffScOyGmnZWdcgYAY76FDzcwVk17CYhEvvakp+YUlpeDqqyX8cv/9kjJ2ww1dT32dzg289HxnPsqvMLSBRSXnZ/5+1O9pDjdz3YfXUego5J/7/zPj8rlKKawWK43BRvrl98vovrPBJmHQE4a8sVGckGRyzhcskJTbVaukicuECZkfV0IErKgobWE6E5PMUVAgi0upoBTceKOkXt19N8ycKT932qnz1zmdUqw0ZAgglaUlrhIaQ414HMkXhUweO5mmUBN3zbyLYlcxV+95dWrjTwK3zU1TqIlSd2laXc56kj4dcolExCAvXCgOQX5+cguMX34pIlp+v+gSZdqYJ9q4hUJtJfumMTfpdZxOeaSqu2KxwOWXiza0UpIJc8stne/H6ZSLIKEoR2opjGtz+W6Xc8qYU7j/6/u578v7Un59V6zx0kO51ZC6Pfqkhx6Py82/uVkMZSqLi6++KqHBgQPhiSckDJIuWkt4JxaT0OTa3X48Hunnma6ao4lJVigtlbZc6ZyYO+4oDXKvvVa89A8/lJ8diRk5nfJerVNmB1DgDxGKN+OyOsX7SmI6rZTihn1uoDnUzE2f3ET//P4ctXVmGw0kvPQSV0lOe+lJeehKqQOVUj8ppRYopa7sZLsdlVJxpdTRmRti6kQiEgpM1iMHMb5Tpsgaz7bbwiuvdM+YJ6o6QWay/frJ7HL4cDm/BwwwjblJDpIwoJFI+494F4uP+fmSBvbgg6K3PmGCaMG0h8Mh3o3fv+ZRErMT9TXL37W1See5W5SFOw68g90G78Yf3/kjny75NIUP3TVKKRQqqdz33qRLg66UsgL3AQcBWwPHKaU2EEdu3e4W4O1MDzIdlEreK4/FZG3nhhvgkENE07+0NP339vnkPB02TG4KlZUimeF2d7+foIlJVrFa2zqjtPcIBpMzshMnSvHRzjvDlVdK4UZ7OBySctb6cHmKcOQVEnO0Bg8SzQmSwGF18NChDzGsZBhnTj+Tn+p+Svq1yZBnz6Mh2JC0qFhvkIyHvhOwQGu9UGsdAZ4BJrWz3QXAC8CqDI4v63i9kr3y6KOikDhlSnqqiyAhlZYWWeQcMsSs6jTZSCktlYq29h79+68T9+6U/v3FO584Ef76V5n2doFSijJHMaF4WDygxoaUYvpFriKeOOIJ3DY3J750Iit9K5N+bTJjsyorTcGmjO0z0yRj0AcCS9f6u6b1f2tQSg0EjgAe6GxHSqnJSqmvlVJfr169OtWxZpxly0ST5cMPpZr5mmvS10iJRGSWOGCAhFdMrRWTPklBgXg84XBy21utUryx887Sp/Sjj7p8Sb7Dg1IKAw0WqyyGpcDAwoE8dsRjNIWaOPmlk/FF0ui32gFuuzunvfRkzE57AYL1KwjuBP6kte40wKa1/o/WepzWelxFRUWSQ8wO338vaolLl0qT85NOSn9fgYB459XVEloxMemzKCUeS7IGHeQGMHWqLB6deSbMmdPp5hZlocRRRDAWktc2N6UsBDaqchT/OeQ//Fj3I2dNP4toPPWOSe2hlEIpRXMotZtMT5GMQa8BBq/19yBg+XrbjAOeUUotAo4G7ldKHZ6JAWaDd94Rz9xmk1ng+PGp7yMaFY/c65V1pKFDs1NBamKSc7jdEldMRUK3qEjSxkpKRAtm4cJONy90FKDRcgOx2lJqrJFg72F7c/N+NzNj8Qz+/N6fMya0lfDSc7EjUjIG/StgpFJqmFLKARwLvLr2BlrrYVrraq11NfA8cK7W+uVMD7a7aC1FQqefDptvDq+9BltumdxrDUPOX69XFj2VksXO6moJFZp55CabFOXlsjiaipHs3x+eekpec8IJUiTSAQ6rA5vFLkbT5QJvS2qzglaOH308F+18EU/98BTTZk9L+fXtkahkbQ7nnpfepUHXWseA85HslfnAs1rruUqps5VSZ2d7gJmgrk4MeWJt5sADpbtQZWVyr08ofhYUiEjciBGy6FlUJF65mbVisslht4tRT7F7ESNGSIxz9Wox6p1ksRQ7CggbraEWq00U9dLg8t0uZ8+he3L7Z7dnLFTitrupD9TnnJee1NKd1voNrfXmWusRWusbW//3gNZ6g0VQrfWpWuvnMz3QVAkGJZxy0kmwww5iyLWWKuX//Cc5zZS1s1aGD5cbgMdjeuMmJoBov1gsXeemr8/220ue+s8/y3S5g+YaeTa3LIyCeOl+f+qdkpC499V7XE1TuIn7v74/5de3h0VZ0OiMLrhmgj6Xi7FsGUyeDLvvDueeCz/+KMVCH3wgbeJOPTW5DJRE1kpVlZm1YmLSLlareDnJpjGuzd57t3U/Ov/8dnPbnVYnFlSbHIDDIWmMaTCqchRHbHkED33zUMZSGV02F/WB+pxqgtHnzJTHA2+/LQVqzz4rWkFXXSUx82QJBsXpGDo0e00sTEz6BAUFEndMtR0dwJFHwnXXwZtvSvHReoZRKUWho4BwQrrW4YBAMC0vHST0Ejfi/Ovzf6X1+vWxWWxEjSiBaBo3tCzR5wx6cTH8+qvIM//ud6l51lq39e4cOjT9AiMTk02GRBpjMj1J2+PMM+HCC+Hpp6UYZD3y7R7iawt2JbTU0/CKhxYP5aRtT+KZH55hQcOC9Ma7Hk6bk9X+3q+pSdDnDDqk17A50Yi5rEwWPrPZ9NnEpE+RSGNMJ/QCcMUVksp4773w73+v85TL6kQp2sIadjtEwqkvxrZy0S4X4bK5+Oen/0xvrOvhsDoIx8MEo+nNGjJNnzToqZBIRbTZxCsvLzezVkxMUqaiok3rJVWUkin1wQdLn9LnnlvzlEVZ8NjyiBhrFQa53ZIlk0qD6lbK88o5e9zZvP7L63y74tvUx9oOdqudhmB6sf1Ms0ka9IQeudcr58bQoSJTYXYLMjFJE5utTcDIl0bmR0IiYPfd4Y9/lOq/VgodBUTXNuiW1jSzNNMYJ4+dTJm7jJs+uSkjC5oumwtfxJcTbeo2KYOe6BDk84nK57Bhor1ixspNTDKA1SqNBAoKxFtK1Vg6naLKOGqUpKbNmgVI2GUD3G4pNkpjRpDvyOeSXS7hs6Wf8eHiD1N+fXtYLdackNbt8wY9YcS9XinXLyuTnPJ+/Uw1RBOTjGOxSEVoWZlcdKk0nQbxtJ54QtIhL7gAfD5sFhsuq3NdLx3A6RLN9FTz4IETtj2BoUVDufHjG9PqkrQ+bpubpmBTr4t29VmDHou1GfHycinRHz5clEHNxhImJllEKbnoqqpkOpyqwS0thbvugiVLJK0RKHIUrhtHBwnzGEZaOi8Oq4PLd7uceavn8cqPXcv6dkVCtKslnLx+ezbokwbdZpOZX8KIl5SYwlkmJj1OUZGkjAWDYtg7erTHTjvBeeeJ9ss77+C2uTDa8/bdbun+nkboZdKWk9imYhv++dk/CcXSTLtceyh2Nw2Bhox4/OmieqvKady4cfrrr79e53/RaJSamhpC6ea0buK4XC4GDRqE3ZyCmOQSkUjHGSmNjZLD3l5GQiQimS+1tfD++yx0BLArK1bLetob0ajE6wcNSrmk+6PFH3HcC8exz7B9ePDQB3HZureg5ov46O/pT6ErezraSqlZWutx7T6XSwb9t99+o6CggLKyMpSZO5gSWmvq6+vxer0MGzast4djYpIcoRAsWtRxI4EffxRVvb32ouH+26kPN+Gx5224nd8voZqSkpSH8MScJ/jTu39i7+q9eeiwh7pl1GNGjFg8xrCSYVmzYZ0Z9JwKuYRCIdOYp4lSirKyMnN2Y7Jx4XJJJ/eOpHG33FJkAd55h4IXXmsT61qfvDyor09LYvfEbU/ktv1vY8aiGZz2ymndKhLqbTmAnDLogGnMu4F57Ew2SsrLOzfEZ54Ju+2G7fobcNasaD9GrZSkra1enXpmDXDc6OO4fcLtfLz4Y055+ZRuGXWH1UF9sD7t13eHnDPoJiYmmxhut2QtdNQM2mKBO+9EWa0M+PM/CEc68H4dDrkx1NamZdR/v83vufPAO/m85nNOeumktL1sp81JMBokHEt9ttBdTIO+Hlarle22245Ro0ZxzDHHEEhXn2Itrr32Wt59990On3/ggQd47LHHuv0+JiYbJYk0x87ChQMHwg034Jg1m8KHn+x4O49HNGVWr05LwOvorY/m7gPvZuaymZz44on4I+lpxlgt1l5JYTQN+nq43W5mz57NDz/8gMPh4IEH1u3hEU+jiOH6669nv/326/D5s88+m5NPPjnl/ZqY9Bk8Hsk37uz6OvJI9CGHUH7vVByfftH5vnw+aXGXhlE/YqsjuHfivXy9/GvOnH5myq+H1kKjUFOPdzTKWU3Biy+G2bMzu8/ttoM770x++z322IM5c+YwY8YMrrvuOqqqqpg9ezbff/89V155JTNmzCAcDnPeeedx1llnAfDPf/6Txx9/HIvFwkEHHcTNN9/MqaeeyiGHHMLRRx/NlVdeyauvvorNZuOAAw7gtttu429/+xv5+flcdtllzJ49m7PPPptAIMCIESOYOnUqJSUljB8/np133pkPPviApqYmHn74YfbYY4/MHiATk97CYhEvvbZWqkXbQynULbcQ/Xk+pedeRv0j9xPdftv2t/V4wOdt22+K60uTtpjEkuYl3PzJzSxqWkR1cXVKr1dKodH4I/6spjCuj+mhd0AsFuPNN99k9OjRAHz55ZfceOONzJs3j4cffpiioiK++uorvvrqKx588EF+++033nzzTV5++WVmzpzJd999xxVXXLHOPhsaGnjppZeYO3cuc+bM4S9/+csG73vyySdzyy23MGfOHEaPHs11rZVyiTF9+eWX3Hnnnev838SkT5CfLwa4s/h3cTH6yaeIlZdS+ocLsf34S8fbevKhpTlt/fTDtzgcgLd/fTvl14KIdtUF63q0o1HOeuipeNKZJBgMst122wHioZ9xxhl89tln7LTTTmvyu9955x3mzJnD889L69Tm5mZ++eUX3n33XU477TTy8iRPtrS0dJ19FxYW4nK5OPPMMzn44IM55JBD1nm+ubmZpqYm9tprLwBOOeUUjjnmmDXPH3nkkQCMHTuWRYsWZfyzm5j0Klar5JLX14uH3QGOAYOIPPMM+sgjKT39XOqfeph49ZD2N04YdYtF9p2Cpz64aDBbV2zN2wve5qyxZ6X6abBZbASjQUKxEG57z0i55qxB7y0SMfT18ax1gmmtueeee5gwYcI627z11ludpg7abDa+/PJL3nvvPZ555hnuvfde3n///aTH5mzVL7BarcTS0II2Mcl5CgvbPOpOriVH9XAiTz2F9ehjKD3lbOqfmYpR1b/9jfM8UpEaiaTcuebAqj258/v/UB+opyyvLKXXgmilN4Yae8ygmyGXNJgwYQJTpkwh2ppm9fPPP+P3+znggAOYOnXqmsyYhvX0mn0+H83NzUycOJE777xzgxtHUVERJSUlfPzxxwA8/vjja7x1E5NNAptNqj2T0GZxbLk1xhOPY/X6KD31HCz1HeijKyUefzQqGTApPCaUjMXQBu8u7DhLrTNcNhfesJdovIOUzAxjeuhpcOaZZ7Jo0SJ22GEHtNZUVFTw8ssvc+CBBzJ79mzGjRuHw+Fg4sSJ3HTTTWte5/V6mTRpEqFQCK01d9xxxwb7fvTRR9csig4fPpxp06b15EczMel9ioqkeUUXXjqAfbsdiD0yDduJJ1Fy+rk0PP4gurBgww0ThUcpsk3Vdgx09+Otn9/g96N+n/LrQboueSNeSt2lXW/cTXJKy2X+/PlstdVWvTKevoJ5DE36BCtXij5Lkm3EYu/9D+vpZxLeZgsaH7oXXZS5zJJrv7yFJxe+wvfnfk+eo+PYfkcY2iAcCzOsZBgW1f2gyEaj5WJiYmICQHFxSj1DbfvuT/z+e3HO+5myE87Esmp1xoZywJC9CRlhPvoxvWwXi7IQM2I90kjaNOgmJia5h8slnWhSMeoHH0r0kYexLV1O+XFnYF1Sk5Gh7Fy5PcWOQt766fW0GlODyAH0hL6LadBNTExyk5KSlNUTHeP3JfDUo6gWL+XHnd55nnqS2C129hmwO/9b+Rmx1bVp7cNhdfSIvotp0E1MTHKT/Py0RLbyd/odjU9Pw7BYKD/xDzhmze72UA4cNJ6maAtfLf48re5IIHnpzeHmbo+lM0yDbmJikpvY7bIoGomk/NLSbXdi5VP/IVZSTOlp5+L88NNuDWV81a44LQ7eWv25aMSkcaNx2Vw0BbOr72IadBMTk9ylpCQtg25RFvqN3I6lT9xLbHg1pedcgvP9j9Iehseex+79d+Lt5R+ho1FoTt3TVkqBkq5G2cI06OuxtnzuoYceSlMaHcU7o7q6mrq6OgDyOxIhMjExEVplNNLRYnFYHVQO2pJFD/+L6BabU3Ll37DUpp/9cuCg8Sz1L2deuAYa6tO60WQb06Cvx9ryuaWlpdx33329PSQTk00Xq1Vi6Wm0lgMocORTUjGYZf/8C4RCFP/5urRuDgD7D9wTheKd5R+B1Za26Fc2yd1K0RzQz911112ZM2cOAL/++ivnnXceq1evJi8vjwcffJAtt9yS2tpazj77bBYuXAjAlClT2G233Tj88MNZunQpoVCIiy66iMmTJ2f2s5iYbCoUF8PSpZLKmAZlrhICIzaj/ooLqLj+NvKefI7Aif+X8n4q3GWMLd+Wt2pmcMnoyaK57vd3LPfbC5geegfE43Hee+89DjvsMAAmT57MPffcw6xZs7jttts499xzAbjwwgvZa6+9+O677/jmm2/YZpttAJg6dSqzZs3i66+/5u6776a+vnd6DJqYbPS4XF3L6naCRVkY4OlH0+8PI7jnbhTdcie2X39La18HDhrPD40/UeNfIQu2dXWdN+XoYXLXQ+8l/dyEfO6iRYsYO3Ys+++/Pz6fj88++2wdKdtw6xTw/fffX9M+zmq1UlRUBMDdd9/NSy+9BMDSpUv55ZdfKCtLXa3NxGSTx2IRfRevN2kpgPWxW+z0z+tHzXWXMfyI0yi+/Brq/jtNMmlSYMKg8dww+y7eqfmQ07c4VkJBTU2QI9e26aGvRyKGvnjxYiKRCPfddx+GYVBcXMzs2bPXPObPn9/hPmbMmMG7777L559/znfffcf2229PqLN+iSYmJp1TWJh2lWaCAkc+hYOGU3vd5Th+mE/B/Q+lvI/hhUMYWTiMt2pmyD/cbmhq7Lwfag9iGvQOKCoq4u677+a2227D7XYzbNgwnnvuOUD00L/77jsA9t13X6ZMmQJImKalpYXm5mZKSkrIy8vjxx9/5IsvOul/aGJi0jVOp3jT3QxvlLtKCR2wL77DJ5I/ZSr2b+ekvI8Jg8bzxapvaAw3i4qj3ZEzC6RJGXSl1IFKqZ+UUguUUle28/wJSqk5rY/PlFJjMj/Unmf77bdnzJgxPPPMMzz55JM8/PDDjBkzhm222YZXXnkFgLvuuosPPviA0aNHM3bsWObOncuBBx5ILBZj22235ZprrmGXXXbp5U9iYrKRo1RaUgDrY7VYGZBXyfIrzyNe1Y+Sy69B+QMp7ePAQeOJ6zjvL28tVnI4IBySkFAv06V8rlLKCvwM7A/UAF8Bx2mt5621zW7AfK11o1LqIOBvWuudO9uvKZ+bHcxjaNJniUTgt9+goB298xRpDDfh/eg9Bp92EYFjDqf5hg37+3aEoQ12fPlgti4eyeN73936zziEwjBkSKddkXwRH0OLhuK0OdMee3flc3cCFmitF2qtI8AzwKS1N9Baf6a1bmz98wtgUNqjNTExMWkPh0NCL9Hud/8pdhShdt2FptOPw/PsSxT+866k92tRFk7Y7AjeX/EpC1uWtP7TKrOIhg66JvUQyRj0gcDStf6uaf1fR5wBvNneE0qpyUqpr5VSX69enTm9YhMTk02E0tKMLEAqpeifV0ndBWfiPfZI8h96jPITJ2NZsTKp15+42ZHYLTam/fxM2z/dbmhpSVu8KxMkY9Db6wHVbpxGKbU3YtD/1N7zWuv/aK3Haa3HVVRUJD9KExMTE2iTAsgAdoudAcWDWXbNRTT860ZsPy+gctLxOD/4uMvXVrrLOXTIAfx34XS8UV/bEy5X2uJdmSAZg14DDF7r70HA8vU3UkptCzwETNJam1U0JiYmmcdmkxh6hrxgjz2PUmcxqyfszuLnHiTSr4Kysy7G9Y/b8Aaa8Eb9HYppnbHFsfhjAZ5dOH3d8cVi4qn3AskY9K+AkUqpYUopB3As8OraGyilhgAvAidprX/O/DBNTExMWikvl58Zyv2udJezWeEwhozeA9trr2OcdCKl055m5BmXU9UYIxhvP7Nmu7JtGFu+LVN/+i+GXssjd7uhvnfEu7o06FrrGHA+8DYwH3hWaz1XKXW2Uurs1s2uBcqA+5VSs5VSX3ewOxMTE5Pu4XBINolSGfPUrRYrVosVW14+lptvgfvvx/LjTxT834m4YxCOt2+cz9j8WBb5lvLB8s/a/mmxiKhYL8h9JJWHrrV+Q2u9udZ6hNb6xtb/PaC1fqD19zO11iVa6+1aH+2m1GwMJORzE49FixZRX1/P3nvvTX5+Pueff35vD9HExMRuh8GDJcQRSC2PPCkmTYIHH0QtX07Vmx8TjodpL8V74pB96O+uYOrai6MgsXS/Xx49iFkpuh6J0v/Eo7q6GpfLxd///nduu+22Hh1LrJulziYmfRqbDQYNklRGn6/r7VNlzz1h222xP/AgJbYCgvENQzx2i52TRh7NjBWfs6B5PcEvtxtWr+5R8a6cFee6+K2Lmb1ydkb3uV3/7bjzwDtTfp3H42H33XdnwYIFnW43d+5cTjvtNCKRCIZh8MILLzBy5Egee+wxbrvtNpRSbLvttjz++OMsXryY008/ndWrV1NRUcG0adMYMmQIp556KqWlpXz77bfssMMOnHvuue3K9pqYmCChjYEDobZWFiIzUHS0BqXgvPPgrLMo/2AmzXuNwtAGFrWuH3ziZkdy1w8PMe3nZ7lxx7US/KxWqWxtbpZ0yx4gZw16b5FQWwQYNmzYGsXEZHjggQe46KKLOOGEE4hEIsTjcebOncuNN97Ip59+Snl5OQ2thQfnn38+J598MqeccgpTp07lwgsv5OWXXwbg559/5t1338VqtbLvvvvywAMPMHLkSGbOnMm5557L+++/n+mPbWKy8WKxQP/+8rOxUYy6ai/bOg0OOgiGDcN6/xQqDniaVaEGCuyedTYpd5UyaegEnv1tOn8acy6FjrVuKm63FBt5PDKTyDI5a9DT8aQzQSLkkg677rorN954IzU1NRx55JGMHDmS999/n6OPPpry1pX50tY79eeff86LL74IwEknncQVV1yxZj/HHHMMVqu1U9leExOTtVAKKivFK66ry5xRt1rh3HPh8sspmvkdjdsPJ2pEsVvWld09fYtjee631/jvwun8Ycvj1x2XwyGhl4Gd1WNmBjOG3g1eeumlNYunX3/9NccffzyvvvoqbrebCRMm8P7776O1luawXbD2Nh6PeACpyvaamGzSKCUpjZWVEn7JVHHPUUdBv35Y7p9C/7wKgrENnaptS7dix4oxTPv5GeLGejHzhHhXNuL862Ea9G5wxBFHrDG048aNY+HChQwfPpwLL7yQww47jDlz5rDvvvvy7LPPrulYlAi57LbbbjzzjKyMP/nkk+y+++4b7L+wsLBD2V4TE5MOKC2FAQPEgGZiQdLphMmT4ZNPyPvhJwrsHoKxDRdIT9/8WBb7lvH+ik833EdigTTLiQ6mQU+S6upqLr30Uh555BEGDRrEvHnzNtjmv//9L6NGjWK77bbjxx9/5OSTT2abbbbh6quvZq+99mLMmDFceumlgHQ0mjZt2ppF0rvuuqvd9+1IttfExKQTiookxOH3Z8aInnCC7PO++6hwlxHTsQ3SGA8avDf93ZU8/NMzG74+Id7V2NT9sXRCl/K52cKUz80O5jE0MVmLQKCtwXSK7eY24Oab4d57YcYM6gaW0BhpxmNbV1vm7rlTueW7+3jrwCcYXbrhdehrWsXQ6u1wVvRPexjdlc81MTEx2TjJy4OhQ6UMv7sJBWecIeGXBx6gxFmMRm/gpZ+42ZFUusr4w8dXUBdqR0o3L0/Eu2prsyLgZRp0ExOTvo3LJVIBhtE9/ZeKCvj97+H557HWriLf5iFsrCsJUOosZuqe/2J1qJ4zP75sQ8kAiwUKC2TRdtmyjMfUc86g91YIqC9gHjsTkw5wOsWoQ/f0X84+W24MDz1EkaOwXSXG7ctH8a9d/sZXq7/j8pk3tH9dejwya1i8OKMNpnPKoLtcLurr603DlAZaa+rr63G5XL09FBOT3MRub2sRl67+y5AhcNhh8PjjuLxBUO07UpOGHsBlo8/ihUWvc++8ae3vy+2WPPfFizMmt5tThUWDBg2ipqYGs5tRerhcLgYNMrv/mZh0SEL/ZflySWvMz099H+eeCy+9hHXqNPLPOZFwPILT6thgs4tH/YEFLYu4+bv7GFFYzcTB+2y4L4dDjPry5eKxJ6SB0ySnDLrdbmfYsGG9PQwTE5O+TEL/ZeVK8HpT13/Zemvx0u+9l+J992LpsNJ2DbpSitt2vpbFvmVc+Nk1DN6/imGFQ9sfT0GBSAQUF3faZLorcirkYmJiYtIjWCxQVSUG1OuVuLjW7T/a48YboawM9yWXYekke8ZtczF1z9spcRZx6oeXUBusa3/DRKV4N+PppkE3MTHZNEnov5SViSENBjd8BALtL6KWlsIdd6B+WUD/Ox7qsAEGSEekR/e6i5aoj3M+uZJArINFWbtdlBm7QU6FXExMTEx6lIT+S0ex63gcamrEsK/foHrPPeGMMyh4+GGafzcO9mknRt7K1iUjuW+3m/jPj090bPwdDqlsjcclDJPOx+mtjBKl1GpgcTd3Uw50MIfZ5DCPRRvmsWjDPBZtpH0snOBQoAxotxpI23Ci6Vo4RmFRMaJAu4bXCpYwRDt6n1aGaq0r2t39xpwiqJT6emNud5dJzGPRhnks2jCPRRubwrEwY+gmJiYmfQTToJuYmJj0ETZ2g/6f3h5ADmEeizbMY9GGeSza6PPHYqOOoZuYmJiYtLGxe+gmJiYmJq2YBt3ExMSkj7BRGHSl1IFKqZ+UUguUUle287xSSt3d+vwcpdQOvTHOniCJY3FC6zGYo5T6TCk1pjfGmW26Og5rbbejUiqulDq6J8fXkyRzLJRS45VSs5VSc5VSH/b0GHuKJK6PIqXUdKXUd63H4rTeGGfW0Frn9AOwAr8CwwEH8B2w9XrbTATeBBSwCzCzt8fdi8diN6Ck9feD+uKxSOY4rLXd+8AbwNG9Pe5ePCeKgXnAkNa/K3t73L14LP4M3NL6ewXQADh6e+yZemwMHvpOwAKt9UKtdQR4Bpi03jaTgMe08AVQrJSq6umB9gBdHgut9Wda68bWP78A+qKebjLnBMAFwAvAqp4cXA+TzLE4HnhRa70EQGvdV49HMsdCAwVKKQXkIwY9s22DepGNwaAPBJau9XdN6/9S3aYvkOrnPAOZufQ1ujwOSqmBwBHAAz04rt4gmXNic6BEKTVDKTVLKXVyj42uZ0nmWNwLbAUsB74HLtJaZ765Zy+xMYhzqXb+t36uZTLb9AWS/pxKqb0Rg757VkfUOyRzHO4E/qS1jivV3uZ9hmSOhQ0YC+wLuIHPlVJfaK1/zvbgephkjsUEYDawDzAC+J9S6mOtdWZaBvUyG4NBrwEGr/X3IOTumuo2fYGkPqdSalvgIeAgrXV9D42tJ0nmOIwDnmk15uXARKVUTGv9co+MsOdI9vqo01r7Ab9S6iNgDNDXDHoyx+I04GYtQfQFSqnfgC2BL3tmiNllYwi5fAWMVEoNU0o5gGOBV9fb5lXg5NZsl12AZq31ip4eaA/Q5bFQSg0BXgRO6oMeWIIuj4PWepjWulprXQ08D5zbB405JHd9vALsoZSyKaXygJ2B+T08zp4gmWOxBJmpoJTqB2wBLOzRUWaRnPfQtdYxpdT5wNvIKvZUrfVcpdTZrc8/gGQxTAQWAAHkLtznSPJYXAuUAfe3eqcx3ccU5pI8DpsEyRwLrfV8pdRbwBxElvUhrfUPvTfq7JDkefF34BGl1PdIiOZPWus+Iy9slv6bmJiY9BE2hpCLiYmJiUkSmAbdxMTEpI9gGnQTExOTPoJp0E1MTEz6CKZBNzExMekjmAbdxMTEpI9gGnQTExOTPsL/A24RPnCugK0SAAAAAElFTkSuQmCC\n",
      "text/plain": [
       "<Figure size 432x288 with 1 Axes>"
      ]
     },
     "metadata": {
      "needs_background": "light"
     },
     "output_type": "display_data"
    }
   ],
   "source": [
    "#Repeated random sampling (iterations: 5)\n",
    "for k in range(5) :\n",
    "    #Split Training set into training and validation sets (5 random sampling - bootstrap)\n",
    "    X_train_t, X_test_t, y_train_t, y_test_t = train_test_split(X_train,y_train,test_size=0.2,random_state=k)\n",
    "    q,w,e,r,t,yh,u,p = Training(hid_layer1 = 5, hid_layer2 = None, alpha = 1.0, function = \"sigmoid\",\n",
    "                                X = X_train_t, y = y_train_t, X_test = X_test_t, y_test = y_test_t, \n",
    "                                Lambda=0.0, Max_iter = 5000, flag=True)\n",
    "    EE, y_pred, F = Accuracy(theta1=w, theta2=e, theta3=r, X=X_test_t, y=y_test_t,function = \"sigmoid\")\n",
    "    \n",
    "    Thresh = np.arange(0.02,1.02,0.02)\n",
    "    exec(f\"Pre_{k}, Rec_{k} = [],[]\")\n",
    "    Rec = []\n",
    "    for j in Thresh:\n",
    "        A = EE.copy()\n",
    "        A = np.where(A>=j,1,0)\n",
    "        tn,fp,fn,tp = confusion_matrix(y_test_t,A).ravel()\n",
    "        precision = tp/(tp + fp)\n",
    "        recall = tp/(tp + fn)\n",
    "        exec(f\"Pre_{k}.append(precision); Rec_{k}.append(recall)\")\n",
    "\n",
    "#Mean Precision and Recall (for different thresholds)\n",
    "Prec = np.array(Pre_0)\n",
    "Reca = np.array(Rec_0)\n",
    "for k in range(4):\n",
    "    exec(f\"AA = np.array(Pre_{k+1}); BB = np.array(Rec_{k+1})\")\n",
    "    Prec = np.vstack([Prec,AA])\n",
    "    Reca = np.vstack([Reca,BB])\n",
    "    \n",
    "#Threshold that maximizes the F1-score\n",
    "Index = np.nanargmax(2*(Reca.T.mean(axis=1)*Prec.T.mean(axis=1))/(Reca.T.mean(axis=1)+Prec.T.mean(axis=1)))\n",
    "print(\"Best threshold: {}\".format(Thresh[Index]))\n",
    "print(\"Largest f1-score: {}\".format((2*(Reca.T.mean(axis=1)*Prec.T.mean(axis=1))/(Reca.T.mean(axis=1)+Prec.T.mean(axis=1)))[Index]))\n",
    "\n",
    "#Precision, Recall, and F1-score plot\n",
    "plt.plot(Thresh, Prec.T.mean(axis=1),'-b')\n",
    "plt.fill_between(Thresh,Prec.T.min(axis=1),Prec.T.max(axis=1),color='blue',alpha=0.1, label=\"_nolegend_\")\n",
    "plt.plot(Thresh, Reca.T.mean(axis=1),'-r')\n",
    "plt.fill_between(Thresh,Reca.T.min(axis=1),Reca.T.max(axis=1),color='red',alpha=0.1, label=\"_nolegend_\")\n",
    "plt.plot(Thresh, 2*(Reca.T.mean(axis=1)*Prec.T.mean(axis=1))/(Reca.T.mean(axis=1)+Prec.T.mean(axis=1)),'-g')\n",
    "plt.fill_between(Thresh, 2*(Reca.T.min(axis=1)*Prec.T.min(axis=1))/(Reca.T.min(axis=1)+Prec.T.min(axis=1)),\n",
    "                 2*(Reca.T.max(axis=1)*Prec.T.max(axis=1))/(Reca.T.max(axis=1)+Prec.T.max(axis=1)), color=\"green\",alpha=0.1)\n",
    "plt.ylim([0.1,1.05])\n",
    "plt.xlim([-0.05,0.95])\n",
    "plt.plot(Thresh[Index], (2*(Reca.T.mean(axis=1)*Prec.T.mean(axis=1))/(Reca.T.mean(axis=1)+Prec.T.mean(axis=1)))[Index],'og',markersize=15)\n",
    "plt.legend([\"Precision\",\"Recall\",\"F1-score\"])"
   ]
  },
  {
   "cell_type": "markdown",
   "id": "9bde4ded-aa41-4c87-8ef8-8fbd5ee97769",
   "metadata": {},
   "source": [
    ".\n",
    "\n",
    "Let's use the model found above with the new threshold."
   ]
  },
  {
   "cell_type": "code",
   "execution_count": 22,
   "id": "b4bb7fea-ad1c-4d9b-b66e-ded6281d3d59",
   "metadata": {},
   "outputs": [
    {
     "name": "stdout",
     "output_type": "stream",
     "text": [
      "Accuracy:  0.7489177489177489\n",
      "\n",
      "Precision:  0.5975609756097561\n",
      "Recall:  0.6621621621621622\n",
      "F1-score:  0.6282051282051282\n",
      "\n",
      "\n",
      "          Predicted 0  Predicted 1\n",
      "Actual 0          124           33\n",
      "Actual 1           25           49\n"
     ]
    },
    {
     "data": {
      "text/plain": [
       "<matplotlib.legend.Legend at 0x7f7d64d456d8>"
      ]
     },
     "execution_count": 22,
     "metadata": {},
     "output_type": "execute_result"
    },
    {
     "data": {
      "image/png": "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\n",
      "text/plain": [
       "<Figure size 432x288 with 1 Axes>"
      ]
     },
     "metadata": {
      "needs_background": "light"
     },
     "output_type": "display_data"
    }
   ],
   "source": [
    "#Model + new threshold\n",
    "q,w,e,r,t,yh,u,p = Training(hid_layer1 = 5, hid_layer2 = None, alpha = 1.0, function = \"sigmoid\",\n",
    "                                X = X_train, y = y_train, X_test = X_test, y_test = y_test, \n",
    "                                Lambda=0.0, Max_iter = 5000, flag=True)\n",
    "EE, y_pred, F = Accuracy(theta1=w, theta2=e, theta3=r, X=X_test, y=y_test,function = \"sigmoid\")\n",
    "    \n",
    "\n",
    "#New prediction (based on the new threshold)\n",
    "Newpred = EE.copy()\n",
    "Newpred = np.where(Newpred>=Thresh[Index],1,0)\n",
    "    \n",
    "    \n",
    "#Confusion matrix\n",
    "Conf_matrix = pd.DataFrame(confusion_matrix(y_test, Newpred))\n",
    "Conf_matrix.index=[\"Actual 0\", \"Actual 1\"]\n",
    "Conf_matrix.columns=[\"Predicted 0\", \"Predicted 1\"]\n",
    "print(\"Accuracy: \", accuracy_score(y_test, Newpred))\n",
    "print(\"\\nPrecision: \", precision_score(y_test, Newpred))\n",
    "print(\"Recall: \", recall_score(y_test, Newpred))\n",
    "print(\"F1-score: \", f1_score(y_test, Newpred))\n",
    "print(\"\\n\")\n",
    "print(Conf_matrix)\n",
    "\n",
    "\n",
    "#ROC curves\n",
    "EE1, y_pred2, F = Accuracy(theta1=w, theta2=e, X=X_train, y=y_train, function = \"sigmoid\")\n",
    "fpr1, tpr1, thresholds1 = roc_curve(y_train,EE1)\n",
    "fpr2, tpr2, thresholds2 = roc_curve(y_test,EE)\n",
    "plt.plot(fpr1, tpr1,'blue',lw=2)\n",
    "plt.plot(fpr2, tpr2,'red',lw=2)\n",
    "plt.plot([0,1],[0,1],'--b')\n",
    "plt.xlabel(\"False positive rate\")\n",
    "plt.ylabel(\"True positive rate\")\n",
    "plt.legend([\"Training set (AUC: {:.2f})\".format(roc_auc_score(y_train,EE1)),\"Test set (AUC: {:.2f})\".format(roc_auc_score(y_test,EE))], loc=\"lower right\")"
   ]
  },
  {
   "cell_type": "code",
   "execution_count": 23,
   "id": "c8697443-f8b2-4c75-bb98-5f7fa5b4f4e4",
   "metadata": {},
   "outputs": [
    {
     "name": "stdout",
     "output_type": "stream",
     "text": [
      "Accuracy:  0.7792207792207793\n",
      "\n",
      "Precision:  0.7017543859649122\n",
      "Recall:  0.5405405405405406\n",
      "F1-score:  0.6106870229007634\n",
      "\n",
      "\n",
      "          Predicted 0  Predicted 1\n",
      "Actual 0          140           17\n",
      "Actual 1           34           40\n"
     ]
    },
    {
     "data": {
      "text/plain": [
       "<matplotlib.legend.Legend at 0x7f7d64cbbf28>"
      ]
     },
     "execution_count": 23,
     "metadata": {},
     "output_type": "execute_result"
    },
    {
     "data": {
      "image/png": "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\n",
      "text/plain": [
       "<Figure size 432x288 with 1 Axes>"
      ]
     },
     "metadata": {
      "needs_background": "light"
     },
     "output_type": "display_data"
    }
   ],
   "source": [
    "#Confusion matrix (no threshold modification)\n",
    "Conf_matrix = pd.DataFrame(confusion_matrix(y_test, y_pred))\n",
    "Conf_matrix.index=[\"Actual 0\", \"Actual 1\"]\n",
    "Conf_matrix.columns=[\"Predicted 0\", \"Predicted 1\"]\n",
    "print(\"Accuracy: \", accuracy_score(y_test, y_pred))\n",
    "print(\"\\nPrecision: \", precision_score(y_test, y_pred))\n",
    "print(\"Recall: \", recall_score(y_test, y_pred))\n",
    "print(\"F1-score: \", f1_score(y_test, y_pred))\n",
    "print(\"\\n\")\n",
    "print(Conf_matrix)\n",
    "\n",
    "#ROC curves (no threshold modification)\n",
    "EE1, y_pred2, F = Accuracy(theta1=w, theta2=e, X=X_train, y=y_train, function = \"tanh\")\n",
    "fpr1, tpr1, thresholds1 = roc_curve(y_train,EE1)\n",
    "fpr2, tpr2, thresholds2 = roc_curve(y_test,EE)\n",
    "plt.plot(fpr1, tpr1,'blue',lw=2)\n",
    "plt.plot(fpr2, tpr2,'red',lw=2)\n",
    "plt.plot([0,1],[0,1],'--b')\n",
    "plt.xlabel(\"False positive rate\")\n",
    "plt.ylabel(\"True positive rate\")\n",
    "plt.legend([\"Training set (AUC: {:.2f})\".format(roc_auc_score(y_train,EE1)),\"Test set (AUC: {:.2f})\".format(roc_auc_score(y_test,EE))], loc=\"lower right\")"
   ]
  },
  {
   "cell_type": "markdown",
   "id": "ea3607c1-7d19-4915-9a6e-5b15ce6b99a3",
   "metadata": {},
   "source": [
    ".\n",
    "\n",
    "Without the threshold modification, the accuracy on the test set is higher. However, the number of true positives is lower.\n",
    "\n",
    ".\n",
    "\n",
    "For comparison, let's use the Logistic regression model (no threshold modification)."
   ]
  },
  {
   "cell_type": "code",
   "execution_count": 24,
   "id": "3255a880-cfed-46c7-bb05-8c989d991828",
   "metadata": {},
   "outputs": [
    {
     "name": "stdout",
     "output_type": "stream",
     "text": [
      "\n",
      "\n",
      "Logistic training accuracy:  0.7653631284916201\n",
      "Logistic test accuracy:  0.7792207792207793\n",
      "\n",
      "Precision:  0.7090909090909091\n",
      "Recall:  0.527027027027027\n",
      "F1-score:  0.6046511627906976\n",
      "\n",
      "\n"
     ]
    },
    {
     "data": {
      "text/plain": [
       "<matplotlib.legend.Legend at 0x7f7d64c3ef60>"
      ]
     },
     "execution_count": 24,
     "metadata": {},
     "output_type": "execute_result"
    },
    {
     "data": {
      "image/png": "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\n",
      "text/plain": [
       "<Figure size 432x288 with 1 Axes>"
      ]
     },
     "metadata": {
      "needs_background": "light"
     },
     "output_type": "display_data"
    }
   ],
   "source": [
    "#Logistic regression\n",
    "Model_log = LogisticRegression(penalty=\"none\").fit(X_train,y_train)\n",
    "print(\"\\n\\nLogistic training accuracy: \", Model_log.score(X_train,y_train))\n",
    "print(\"Logistic test accuracy: \", Model_log.score(X_test,y_test))\n",
    "y_pred_log = Model_log.predict(X_test)\n",
    "\n",
    "#Confusion matrix\n",
    "Conf_matrix_log = pd.DataFrame(confusion_matrix(y_test, y_pred_log))\n",
    "Conf_matrix_log.index=[\"Actual 0\", \"Actual 1\"]\n",
    "Conf_matrix_log.columns=[\"Predicted 0\", \"Predicted 1\"]\n",
    "print(\"\\nPrecision: \", precision_score(y_test, y_pred_log))\n",
    "print(\"Recall: \", recall_score(y_test, y_pred_log))\n",
    "print(\"F1-score: \", f1_score(y_test, y_pred_log))\n",
    "print(\"\\n\")\n",
    "Conf_matrix_log\n",
    "\n",
    "#ROC curves\n",
    "fpr1, tpr1, thresholds1 = roc_curve(y_train,Model_log.predict_proba(X_train)[:,1])\n",
    "fpr2, tpr2, thresholds2 = roc_curve(y_test,Model_log.predict_proba(X_test)[:,1])\n",
    "plt.plot(fpr1, tpr1,'blue',lw=2)\n",
    "plt.plot(fpr2, tpr2,'red',lw=2)\n",
    "plt.plot([0,1],[0,1],'--b')\n",
    "plt.xlabel(\"False positive rate\")\n",
    "plt.ylabel(\"True positive rate\")\n",
    "plt.legend([\"Training set (AUC: {:.2f})\".format(roc_auc_score(y_train,Model_log.predict_proba(X_train)[:,1])),\n",
    "            \"Test set (AUC: {:.2f})\".format(roc_auc_score(y_test,Model_log.predict_proba(X_test)[:,1]))], loc=\"lower right\")"
   ]
  },
  {
   "cell_type": "markdown",
   "id": "cc6f0fca-781c-4f68-843b-5ecd7c28b7a7",
   "metadata": {},
   "source": [
    ".\n",
    "\n",
    ".\n",
    "\n",
    ".\n",
    "\n",
    "# **Neural Network with KERAS***\n",
    "\n",
    "Now, let's try to use Keras to build different Neural Networks."
   ]
  },
  {
   "cell_type": "code",
   "execution_count": 25,
   "id": "19c583cd-73b0-4af6-bf1b-f380c881a03e",
   "metadata": {},
   "outputs": [
    {
     "name": "stderr",
     "output_type": "stream",
     "text": [
      "2022-04-19 12:21:37.695698: W tensorflow/stream_executor/platform/default/dso_loader.cc:64] Could not load dynamic library 'libcuda.so.1'; dlerror: libcuda.so.1: cannot open shared object file: No such file or directory\n",
      "2022-04-19 12:21:37.695754: W tensorflow/stream_executor/cuda/cuda_driver.cc:269] failed call to cuInit: UNKNOWN ERROR (303)\n",
      "2022-04-19 12:21:37.695814: I tensorflow/stream_executor/cuda/cuda_diagnostics.cc:156] kernel driver does not appear to be running on this host (samuele-300E5EV-300E4EV-270E5EV-270E4EV): /proc/driver/nvidia/version does not exist\n"
     ]
    },
    {
     "name": "stdout",
     "output_type": "stream",
     "text": [
      "Model: \"sequential\"\n",
      "_________________________________________________________________\n",
      " Layer (type)                Output Shape              Param #   \n",
      "=================================================================\n",
      " dense (Dense)               (None, 3)                 27        \n",
      "                                                                 \n",
      " activation (Activation)     (None, 3)                 0         \n",
      "                                                                 \n",
      " dense_1 (Dense)             (None, 1)                 4         \n",
      "                                                                 \n",
      "=================================================================\n",
      "Total params: 31\n",
      "Trainable params: 31\n",
      "Non-trainable params: 0\n",
      "_________________________________________________________________\n",
      "\n",
      "Last iteration:  270\n",
      "Training accuracy:  0.745920717716217\n",
      "Validation accuracy:  0.7592592835426331\n"
     ]
    },
    {
     "data": {
      "text/plain": [
       "<matplotlib.legend.Legend at 0x7f7d5c2ad828>"
      ]
     },
     "execution_count": 25,
     "metadata": {},
     "output_type": "execute_result"
    },
    {
     "data": {
      "image/png": "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\n",
      "text/plain": [
       "<Figure size 576x360 with 1 Axes>"
      ]
     },
     "metadata": {
      "needs_background": "light"
     },
     "output_type": "display_data"
    }
   ],
   "source": [
    "#Creation of X and y (from the unbalanced dataset)\n",
    "X = data.drop([\"Class\"],axis=1)\n",
    "y = data.Class\n",
    "X = np.array(X)\n",
    "y = np.array(y)\n",
    "\n",
    "#Training and test set (70-30%)\n",
    "X_train, X_test, y_train, y_test = train_test_split(X,y,test_size=0.3,random_state=0)\n",
    "\n",
    "#Feature scaling\n",
    "scaler = MinMaxScaler()\n",
    "scaler.fit(X_train)\n",
    "X_train = scaler.transform(X_train)\n",
    "X_test = scaler.transform(X_test)\n",
    "\n",
    "\n",
    "#EXAMPLE\n",
    "#Neural Network model with one hidden layer (of 3 units)\n",
    "Model = Sequential()\n",
    "Model.add(Dense(units=3, input_shape=X_train.shape[1:]))\n",
    "Model.add(Activation(\"sigmoid\"))\n",
    "Model.add(Dense(units=1, activation=\"sigmoid\"))             #One output (0 or 1)\n",
    "Model.summary()\n",
    "\n",
    "#Training\n",
    "callback = keras.callbacks.EarlyStopping(monitor='loss', patience=5)          #Early stopping\n",
    "Epochs = 500\n",
    "Model.compile(optimizer=keras.optimizers.SGD(lr=0.1),loss=\"binary_crossentropy\",metrics=[\"accuracy\"])\n",
    "Run = Model.fit(X_train, y_train, validation_split=0.2, epochs=Epochs, verbose=0, callbacks=[callback],shuffle=True)\n",
    "\n",
    "#Results\n",
    "print(\"\\nLast iteration: \", len(Run.history[\"loss\"]))\n",
    "print(\"Training accuracy: \", Run.history[\"accuracy\"][-1])\n",
    "print(\"Validation accuracy: \", Run.history[\"val_accuracy\"][-1])\n",
    "\n",
    "#Plot: accuracy curves\n",
    "plt.figure(figsize=(8,5))\n",
    "plt.plot(Run.history[\"loss\"],'-r')\n",
    "plt.plot(Run.history[\"val_loss\"],\"-b\")\n",
    "plt.plot(Run.history[\"accuracy\"],'--r')\n",
    "plt.plot(Run.history[\"val_accuracy\"],\"--b\")\n",
    "plt.xlim([50,400])\n",
    "plt.ylim([0.45,0.80])\n",
    "plt.xlabel(\"Epoch\")\n",
    "plt.ylabel(\"Cost function / Accuracy\")\n",
    "plt.legend([\"Training cost function\",\"Validation cost function\",\"Training accuracy\",\"Validation accuracy\"])"
   ]
  },
  {
   "cell_type": "markdown",
   "id": "0fabadb0-363e-42b0-837f-142586fa53f0",
   "metadata": {},
   "source": [
    ".\n",
    "\n",
    "Let's search for the best set of hyperparameters with a grid search. The output will be:\n",
    " - Number of units in the hidden layer(s)\n",
    " - Learning rate\n",
    " - Activation function\n",
    " - Mean accuracy on the training set (standard deviation)\n",
    " - Mean accuracy on the test set (standard deviation)\n",
    " - Mean precision\n",
    " - Mean recall\n",
    " - Mean F1-score\n",
    " - Mean training AUC\n",
    " - Mean test AUC"
   ]
  },
  {
   "cell_type": "code",
   "execution_count": 26,
   "id": "d3d20ae1-236e-416c-bddc-3f4fac21a22c",
   "metadata": {},
   "outputs": [
    {
     "name": "stdout",
     "output_type": "stream",
     "text": [
      "2 - None - 0.5 - sigmoid ----- 0.766 (0.006) - 0.780 (0.011) --- 0.757 - 0.506 - 0.606 --- 0.838 - 0.831\n",
      "2 - None - 0.5 - tanh ----- 0.761 (0.018) - 0.780 (0.027) --- 0.790 - 0.478 - 0.595 --- 0.823 - 0.824\n",
      "2 - None - 0.5 - relu ----- 0.750 (0.016) - 0.770 (0.012) --- 0.731 - 0.506 - 0.598 --- 0.809 - 0.815\n",
      "2 - None - 0.8 - sigmoid ----- 0.763 (0.005) - 0.787 (0.012) --- 0.730 - 0.572 - 0.642 --- 0.831 - 0.827\n",
      "2 - None - 0.8 - tanh ----- 0.765 (0.012) - 0.778 (0.019) --- 0.829 - 0.444 - 0.579 --- 0.834 - 0.830\n",
      "2 - None - 0.8 - relu ----- 0.632 (0.000) - 0.667 (0.000) --- 0.000 - 0.000 - nan --- 0.452 - 0.500\n",
      "2 - None - 1.0 - sigmoid ----- 0.758 (0.008) - 0.772 (0.024) --- 0.777 - 0.478 - 0.592 --- 0.833 - 0.833\n",
      "2 - None - 1.0 - tanh ----- 0.761 (0.007) - 0.780 (0.019) --- 0.781 - 0.489 - 0.601 --- 0.828 - 0.831\n",
      "2 - None - 1.0 - relu ----- 0.632 (0.000) - 0.667 (0.000) --- 0.000 - 0.000 - nan --- 0.478 - 0.500\n",
      "2 - 2 - 0.5 - sigmoid ----- 0.632 (0.000) - 0.667 (0.000) --- 0.000 - 0.000 - nan --- 0.522 - 0.632\n",
      "2 - 2 - 0.5 - tanh ----- 0.761 (0.020) - 0.744 (0.022) --- 0.758 - 0.472 - 0.582 --- 0.819 - 0.817\n",
      "2 - 2 - 0.5 - relu ----- 0.632 (0.000) - 0.667 (0.000) --- 0.000 - 0.000 - nan --- 0.475 - 0.500\n",
      "2 - 2 - 0.8 - sigmoid ----- 0.678 (0.058) - 0.706 (0.048) --- 0.269 - 0.233 - 0.250 --- 0.643 - 0.710\n",
      "2 - 2 - 0.8 - tanh ----- 0.753 (0.006) - 0.754 (0.031) --- 0.706 - 0.578 - 0.635 --- 0.823 - 0.830\n",
      "2 - 2 - 0.8 - relu ----- 0.744 (0.027) - 0.733 (0.049) --- 0.654 - 0.600 - 0.626 --- 0.780 - 0.799\n",
      "2 - 2 - 1.0 - sigmoid ----- 0.741 (0.055) - 0.748 (0.043) --- 0.588 - 0.417 - 0.488 --- 0.764 - 0.791\n",
      "2 - 2 - 1.0 - tanh ----- 0.748 (0.011) - 0.752 (0.038) --- 0.714 - 0.567 - 0.632 --- 0.818 - 0.819\n",
      "2 - 2 - 1.0 - relu ----- 0.632 (0.000) - 0.667 (0.000) --- 0.000 - 0.000 - nan --- 0.482 - 0.500\n",
      "2 - 5 - 0.5 - sigmoid ----- 0.686 (0.066) - 0.706 (0.048) --- 0.315 - 0.161 - 0.213 --- 0.618 - 0.700\n",
      "2 - 5 - 0.5 - tanh ----- 0.758 (0.008) - 0.744 (0.033) --- 0.799 - 0.422 - 0.552 --- 0.834 - 0.824\n",
      "2 - 5 - 0.5 - relu ----- 0.742 (0.015) - 0.754 (0.018) --- 0.687 - 0.578 - 0.628 --- 0.806 - 0.823\n",
      "2 - 5 - 0.8 - sigmoid ----- 0.703 (0.058) - 0.717 (0.042) --- 0.458 - 0.222 - 0.299 --- 0.703 - 0.783\n",
      "2 - 5 - 0.8 - tanh ----- 0.752 (0.016) - 0.757 (0.011) --- 0.684 - 0.544 - 0.606 --- 0.803 - 0.810\n",
      "2 - 5 - 0.8 - relu ----- 0.745 (0.012) - 0.750 (0.026) --- 0.853 - 0.311 - 0.456 --- 0.815 - 0.823\n",
      "2 - 5 - 1.0 - sigmoid ----- 0.754 (0.008) - 0.765 (0.021) --- 0.761 - 0.456 - 0.570 --- 0.819 - 0.824\n",
      "2 - 5 - 1.0 - tanh ----- 0.756 (0.007) - 0.765 (0.043) --- 0.774 - 0.489 - 0.599 --- 0.826 - 0.831\n",
      "2 - 5 - 1.0 - relu ----- 0.674 (0.042) - 0.689 (0.036) --- 0.362 - 0.083 - 0.136 --- 0.617 - 0.637\n",
      "3 - None - 0.5 - sigmoid ----- 0.760 (0.004) - 0.778 (0.014) --- 0.730 - 0.528 - 0.613 --- 0.833 - 0.833\n",
      "3 - None - 0.5 - tanh ----- 0.764 (0.012) - 0.776 (0.027) --- 0.718 - 0.589 - 0.647 --- 0.829 - 0.831\n",
      "3 - None - 0.5 - relu ----- 0.756 (0.009) - 0.776 (0.014) --- 0.814 - 0.444 - 0.575 --- 0.815 - 0.825\n",
      "3 - None - 0.8 - sigmoid ----- 0.756 (0.004) - 0.774 (0.027) --- 0.803 - 0.472 - 0.595 --- 0.827 - 0.829\n",
      "3 - None - 0.8 - tanh ----- 0.754 (0.008) - 0.767 (0.022) --- 0.769 - 0.472 - 0.585 --- 0.829 - 0.835\n",
      "3 - None - 0.8 - relu ----- 0.751 (0.009) - 0.774 (0.040) --- 0.790 - 0.494 - 0.608 --- 0.821 - 0.823\n",
      "3 - None - 1.0 - sigmoid ----- 0.760 (0.009) - 0.770 (0.026) --- 0.794 - 0.456 - 0.579 --- 0.830 - 0.828\n",
      "3 - None - 1.0 - tanh ----- 0.758 (0.018) - 0.769 (0.031) --- 0.733 - 0.550 - 0.628 --- 0.827 - 0.814\n",
      "3 - None - 1.0 - relu ----- 0.749 (0.015) - 0.741 (0.029) --- 0.761 - 0.494 - 0.599 --- 0.812 - 0.815\n",
      "3 - 2 - 0.5 - sigmoid ----- 0.632 (0.000) - 0.667 (0.000) --- 0.000 - 0.000 - nan --- 0.454 - 0.508\n",
      "3 - 2 - 0.5 - tanh ----- 0.747 (0.020) - 0.730 (0.028) --- 0.657 - 0.578 - 0.615 --- 0.806 - 0.822\n",
      "3 - 2 - 0.5 - relu ----- 0.731 (0.013) - 0.754 (0.040) --- 0.800 - 0.400 - 0.533 --- 0.797 - 0.805\n",
      "3 - 2 - 0.8 - sigmoid ----- 0.632 (0.000) - 0.667 (0.000) --- 0.000 - 0.000 - nan --- 0.518 - 0.655\n",
      "3 - 2 - 0.8 - tanh ----- 0.748 (0.024) - 0.752 (0.011) --- 0.662 - 0.550 - 0.601 --- 0.792 - 0.814\n",
      "3 - 2 - 0.8 - relu ----- 0.693 (0.051) - 0.717 (0.044) --- 0.383 - 0.378 - 0.380 --- 0.655 - 0.691\n",
      "3 - 2 - 1.0 - sigmoid ----- 0.697 (0.054) - 0.704 (0.041) --- 0.369 - 0.422 - 0.394 --- 0.686 - 0.772\n",
      "3 - 2 - 1.0 - tanh ----- 0.768 (0.015) - 0.776 (0.016) --- 0.803 - 0.450 - 0.577 --- 0.836 - 0.814\n",
      "3 - 2 - 1.0 - relu ----- 0.702 (0.058) - 0.726 (0.050) --- 0.393 - 0.383 - 0.388 --- 0.669 - 0.687\n",
      "3 - 5 - 0.5 - sigmoid ----- 0.656 (0.048) - 0.685 (0.037) --- 0.138 - 0.100 - 0.116 --- 0.576 - 0.670\n",
      "3 - 5 - 0.5 - tanh ----- 0.761 (0.009) - 0.750 (0.044) --- 0.616 - 0.367 - 0.460 --- 0.833 - 0.825\n",
      "3 - 5 - 0.5 - relu ----- 0.749 (0.012) - 0.769 (0.015) --- 0.793 - 0.417 - 0.546 --- 0.807 - 0.812\n",
      "3 - 5 - 0.8 - sigmoid ----- 0.753 (0.012) - 0.778 (0.015) --- 0.749 - 0.506 - 0.604 --- 0.817 - 0.826\n",
      "3 - 5 - 0.8 - tanh ----- 0.759 (0.010) - 0.756 (0.042) --- 0.655 - 0.639 - 0.647 --- 0.827 - 0.822\n",
      "3 - 5 - 0.8 - relu ----- 0.725 (0.023) - 0.746 (0.032) --- 0.720 - 0.500 - 0.590 --- 0.790 - 0.819\n",
      "3 - 5 - 1.0 - sigmoid ----- 0.730 (0.050) - 0.748 (0.041) --- 0.544 - 0.467 - 0.503 --- 0.756 - 0.810\n",
      "3 - 5 - 1.0 - tanh ----- 0.769 (0.013) - 0.757 (0.032) --- 0.805 - 0.450 - 0.577 --- 0.834 - 0.824\n",
      "3 - 5 - 1.0 - relu ----- 0.749 (0.015) - 0.735 (0.022) --- 0.611 - 0.639 - 0.624 --- 0.785 - 0.784\n",
      "5 - None - 0.5 - sigmoid ----- 0.756 (0.006) - 0.778 (0.013) --- 0.712 - 0.589 - 0.645 --- 0.829 - 0.826\n",
      "5 - None - 0.5 - tanh ----- 0.760 (0.007) - 0.750 (0.029) --- 0.700 - 0.539 - 0.609 --- 0.821 - 0.825\n",
      "5 - None - 0.5 - relu ----- 0.764 (0.010) - 0.769 (0.022) --- 0.879 - 0.361 - 0.512 --- 0.829 - 0.840\n",
      "5 - None - 0.8 - sigmoid ----- 0.756 (0.008) - 0.756 (0.027) --- 0.747 - 0.500 - 0.599 --- 0.826 - 0.828\n",
      "5 - None - 0.8 - tanh ----- 0.765 (0.020) - 0.769 (0.023) --- 0.818 - 0.411 - 0.547 --- 0.831 - 0.823\n",
      "5 - None - 0.8 - relu ----- 0.760 (0.006) - 0.772 (0.015) --- 0.759 - 0.494 - 0.599 --- 0.814 - 0.830\n",
      "5 - None - 1.0 - sigmoid ----- 0.753 (0.007) - 0.746 (0.043) --- 0.670 - 0.611 - 0.639 --- 0.828 - 0.828\n",
      "5 - None - 1.0 - tanh ----- 0.755 (0.021) - 0.748 (0.037) --- 0.712 - 0.572 - 0.635 --- 0.826 - 0.834\n",
      "5 - None - 1.0 - relu ----- 0.765 (0.003) - 0.772 (0.009) --- 0.771 - 0.478 - 0.590 --- 0.835 - 0.824\n",
      "5 - 2 - 0.5 - sigmoid ----- 0.752 (0.005) - 0.769 (0.026) --- 0.766 - 0.456 - 0.571 --- 0.819 - 0.824\n",
      "5 - 2 - 0.5 - tanh ----- 0.763 (0.017) - 0.778 (0.014) --- 0.774 - 0.522 - 0.624 --- 0.830 - 0.833\n",
      "5 - 2 - 0.5 - relu ----- 0.744 (0.006) - 0.778 (0.024) --- 0.715 - 0.583 - 0.642 --- 0.809 - 0.830\n",
      "5 - 2 - 0.8 - sigmoid ----- 0.733 (0.051) - 0.746 (0.045) --- 0.599 - 0.372 - 0.459 --- 0.757 - 0.802\n",
      "5 - 2 - 0.8 - tanh ----- 0.759 (0.012) - 0.767 (0.028) --- 0.699 - 0.583 - 0.636 --- 0.822 - 0.823\n",
      "5 - 2 - 0.8 - relu ----- 0.632 (0.000) - 0.667 (0.000) --- 0.000 - 0.000 - nan --- 0.465 - 0.500\n",
      "5 - 2 - 1.0 - sigmoid ----- 0.657 (0.051) - 0.685 (0.037) --- 0.138 - 0.100 - 0.116 --- 0.541 - 0.604\n",
      "5 - 2 - 1.0 - tanh ----- 0.763 (0.006) - 0.685 (0.134) --- 0.617 - 0.644 - 0.630 --- 0.833 - 0.817\n",
      "5 - 2 - 1.0 - relu ----- 0.738 (0.011) - 0.761 (0.016) --- 0.725 - 0.483 - 0.580 --- 0.773 - 0.773\n",
      "5 - 5 - 0.5 - sigmoid ----- 0.709 (0.063) - 0.731 (0.055) --- 0.461 - 0.283 - 0.351 --- 0.695 - 0.743\n",
      "5 - 5 - 0.5 - tanh ----- 0.759 (0.024) - 0.757 (0.043) --- 0.801 - 0.422 - 0.553 --- 0.830 - 0.812\n",
      "5 - 5 - 0.5 - relu ----- 0.697 (0.055) - 0.731 (0.053) --- 0.547 - 0.306 - 0.392 --- 0.684 - 0.702\n",
      "5 - 5 - 0.8 - sigmoid ----- 0.752 (0.013) - 0.761 (0.028) --- 0.671 - 0.617 - 0.642 --- 0.818 - 0.823\n",
      "5 - 5 - 0.8 - tanh ----- 0.764 (0.017) - 0.737 (0.014) --- 0.762 - 0.422 - 0.543 --- 0.838 - 0.807\n",
      "5 - 5 - 0.8 - relu ----- 0.763 (0.013) - 0.748 (0.033) --- 0.724 - 0.489 - 0.584 --- 0.824 - 0.826\n",
      "5 - 5 - 1.0 - sigmoid ----- 0.706 (0.061) - 0.722 (0.050) --- 0.403 - 0.356 - 0.378 --- 0.682 - 0.692\n",
      "5 - 5 - 1.0 - tanh ----- 0.733 (0.036) - 0.752 (0.032) --- 0.684 - 0.594 - 0.636 --- 0.810 - 0.827\n",
      "5 - 5 - 1.0 - relu ----- 0.726 (0.050) - 0.691 (0.121) --- 0.531 - 0.500 - 0.515 --- 0.761 - 0.751\n"
     ]
    }
   ],
   "source": [
    "#Grid search\n",
    "hid_layer1 = [2,3,5]\n",
    "hid_layer2 = [None, 2,5]\n",
    "learning_rate = [0.5,0.8,1.0]\n",
    "functions = [\"sigmoid\",\"tanh\",\"relu\"]\n",
    "#Last, Acc, Acc_va = [], [], []\n",
    "for i in hid_layer1 :\n",
    "    for j in hid_layer2 :\n",
    "        for a in learning_rate :\n",
    "            for f in functions :\n",
    "            #Model structure\n",
    "                if j == None :\n",
    "                    Model = Sequential()\n",
    "                    Model.add(Dense(units=i, input_shape=X_train.shape[1:]))\n",
    "                    Model.add(Activation(f))\n",
    "                    Model.add(Dense(units=1, activation=\"sigmoid\"))             #One output (0 or 1)\n",
    "                else :\n",
    "                    Model = Sequential()\n",
    "                    Model.add(Dense(units=i, input_shape=X_train.shape[1:]))\n",
    "                    Model.add(Activation(f))\n",
    "                    Model.add(Dense(units=j))\n",
    "                    Model.add(Activation(f))\n",
    "                    Model.add(Dense(units=1, activation=\"sigmoid\"))             #One output (0 or 1)\n",
    "                #Training\n",
    "                callback = keras.callbacks.EarlyStopping(monitor='loss', patience=5)       #Early stopping\n",
    "                Epochs = 1000\n",
    "                Model.compile(optimizer=keras.optimizers.SGD(lr=a),loss=\"binary_crossentropy\",metrics=[\"accuracy\", keras.metrics.Precision(), keras.metrics.Recall(),keras.metrics.AUC()])\n",
    "                acc, acc_te, pre, rec, auc, auc_te = [], [], [], [], [], []\n",
    "                for k in range(5) :\n",
    "                    Run = Model.fit(X_train, y_train, validation_split=0.2, epochs=Epochs, verbose=0, callbacks=[callback], shuffle = True)\n",
    "                    acc.append(Run.history[\"accuracy\"][-1]), acc_te.append(Run.history[\"val_accuracy\"][-1])\n",
    "                    pre.append(Run.history[list(Run.history)[7]][-1]),rec.append(Run.history[list(Run.history)[8]][-1])\n",
    "                    auc.append(Run.history[list(Run.history)[4]][-1])\n",
    "                    auc_te.append(Run.history[list(Run.history)[9]][-1])\n",
    "                    \n",
    "                print(\"{} - {} - {} - {} ----- {:.3f} ({:.3f}) - {:.3f} ({:.3f}) --- {:.3f} - {:.3f} - {:.3f} --- {:.3f} - {:.3f}\".format(i,j,a,f,\n",
    "                                                                                                    np.mean(acc),np.std(acc),np.mean(acc_te),np.std(acc_te),\n",
    "                                                                                                    np.mean(pre), np.mean(rec),\n",
    "                                                                                                    2*(np.mean(pre)*np.mean(rec))/(np.mean(pre)+np.mean(rec)),\n",
    "                                                                                                    np.mean(auc), np.mean(auc_te)))"
   ]
  },
  {
   "cell_type": "markdown",
   "id": "99be3f53-4da6-415b-b4dc-faf15806ccc7",
   "metadata": {},
   "source": [
    ".\n",
    "\n",
    "The best model (i.e. high validation AUC, high validation accuracy, high f1-score, precision and recall, small std on accuracies) is\n",
    "- Number of units in the first hidden layer: 2\n",
    "- Number of units in the second hidden layer: None\n",
    "- Learning rate: 1.0\n",
    "- Activation function: Sigmoid\n",
    "\n",
    ".\n",
    "\n",
    "Let's take a look at the performance on the Test set"
   ]
  },
  {
   "cell_type": "code",
   "execution_count": 27,
   "id": "7fc45c25-b07a-48a9-8b30-25054aeebb0e",
   "metadata": {},
   "outputs": [
    {
     "name": "stdout",
     "output_type": "stream",
     "text": [
      "\n",
      "Last iteration:  64\n",
      "Training accuracy:  0.7635009288787842\n",
      "Test accuracy:  0.7792207598686218\n",
      "\n",
      "Test precision:  0.7446808218955994\n",
      "Test recall:  0.47297295928001404\n",
      "Test f1-score:  0.5785123776497146\n",
      "\n",
      "           Predicted 0  Predicted 1\n",
      "Actual 0          145           12\n",
      "Actual 1           39           35\n"
     ]
    },
    {
     "data": {
      "text/plain": [
       "<matplotlib.legend.Legend at 0x7f7d43764898>"
      ]
     },
     "execution_count": 27,
     "metadata": {},
     "output_type": "execute_result"
    },
    {
     "data": {
      "image/png": "iVBORw0KGgoAAAANSUhEUgAAAYIAAAEGCAYAAABo25JHAAAAOXRFWHRTb2Z0d2FyZQBNYXRwbG90bGliIHZlcnNpb24zLjUuMSwgaHR0cHM6Ly9tYXRwbG90bGliLm9yZy/YYfK9AAAACXBIWXMAAAsTAAALEwEAmpwYAAA3jUlEQVR4nO3de5zU8/7A8de7m6KULjrpootIW2vTVu6VRLUhiZNyKVHOQeT8KM5JHZJwjhLiEDpOFOVSFCLXItrY0lVJaRXd79fdff/++Mxus9vs7uzufGd2Zt7Px2MeZr7znZn3tzLv+dzeH1FVjDHGxK8ykQ7AGGNMZFkiMMaYOGeJwBhj4pwlAmOMiXOWCIwxJs6Vi3QARVWzZk1t2LBhpMMwxpiosmjRoq2qWivQc1GXCBo2bEhqamqkwzDGmKgiIuvze866howxJs5ZIjDGmDhnicAYY+KcJQJjjIlzlgiMMSbOeZYIRORlEdksIkvzeV5EZLyIrBGRJSJytlexGGOMyZ+XLYJJQJcCnu8KNPXdBgLPeRiLMcaYfHiWCFT1S2B7AadcCbyqzgKgmojU8SoeY0wpl5ICInYLcDsi5flJTnePPRDJMYK6wAa/x+m+Y8cQkYEikioiqVu2bAlLcMaYMJs9O9IRlEo/kERbvqMjn7GP4z35jEgmgkCpLeAuOar6gqomq2pyrVoBV0gbY2KFatC3lG6KENu31vIDm2q34um36nKC7vPkjzySiSAdqO/3uB6wMUKxGGMKEo5um2J8XLQ3Irp1yz/PXXaZO6dfP1ixAnr29C6OSNYamgncISJTgXbALlXdFMF4jDH5CdM37iy60b2I3eDdusGsWd7EE2579kD58lCxIgwbBn/7G3Tu7P3nepYIRGQK0AGoKSLpwAigPICqPg/MBroBa4D9QH+vYjHGhIYE7r31RCx9wQfjo49g4EC4/np45BHo0CF8n+1ZIlDV6wp5XoHbvfp8Y+JZSkrxfsS/TwopFPzCePuC9tr27XDPPfDf/0KzZu7vLtyirgy1MfGsuF/wQb9/AUlgYa1u6GbvPjsezZ0LffvCtm3w97/DP/7huoXCzRKBMVHEPwkE8+u92PTYLqA23nxSXDv5ZGjUCD78EJKSIheH1RoyphQpbLZMNtWCf72XSLdu3ryvQRUmTYLBg93jli3h668jmwTAWgTGRFxRu3uO+Z4O8OvdlD6//AKDBsHHH8OFF8KBA1CpkmeLhYvEWgTGhEs+P/dnzS7aEqNZs4+dd29Kr8xMGD8eWrSAb76BCRPg889dEigtrEVgTLh4Mcpr3Til3tat8OCD0L49PP88NGgQ6YiOZYnAmDDLOxffenZiz5Ej8NprcOONULs2fP+9GxQurQ056xoysa00VbQMwH7Qx55FiyA5Gfr3d+MBAI0bl94kANYiMLGulBWjmUU3awHEqAMH4J//hH/9y00Lfeedo/WCSjtrEZjoV9Cv/mxFqGgZqlugypgTutmS3FjVowc89phrCSxf7h5HC2sRmOhX2K/+EPa/FGdlr5VkiF27d0OFCm418AMPwH33QadOkY6q6CwRmNjhQZ9LSUs6WBKIXbNnw223uSJxo0e7WUHRyrqGTPTJ2xXk4ccESgIF1ZDPe7MkEHu2boUbbnD/PqpUgSuuiHREJWctAhN98vt2DlJxVvLaF7oBNwuob1/YscOtDXjgATjuuEhHVXKWCEz0KkZXkCUBUxJ16sDpp8Nzz7k6QbHCEoGJSYV94dsXvAmGKrz0EvzwAzz7rCsT8dVXpXtNQHHYGIGJeoFmj1oSMCW1di1ccgncequbDnrggDsea0kALBGY0ijIWsyFfennN6hrScAUJDMTxo51v/4XLoT//MdtIFOaisSFmnUNmdIniE78WeQeHLZf+SZUtm51K4Q7dXJjAfXqRToi71mLwJRe+azOFZTuzMr1i9+SgCmJw4fh5ZchK8sViUtLg5kz4yMJgCUCU8rlbRzYl78JtYULoXVrGDAAPvnEHWvYMDbHAvJjXUMmKlihNhNq+/e7tQBjx7ppoTNnwqWXRjqqyLAWgSlVUlKO3o+nX2Qm/K68Ev79b7jlFli2DC6/PNIRRY4lAhN5frOEZs0+9tvfavabUNm1Cw4edPeHD4dPP3WzgqpWjWxckWaJwESE/wzR/EpG2FiACaX334eEBDcjCOCii6Bjx8jGVFpYIjBhl73q931SUPzWBfhmBKV0s29/EzpbtkCfPq7rp3p16Nkz0hGVPjZYbMIiUMmHFPwOdOuG2ne/CbE5c1yRuF27XEtg2DC3f4DJzRKB8VRBpZxz8oBNCTIeqVsXzjzTLQxLSIh0NKWXdQ0Zz+RNArYGwHgtKwteeAH+8hf3OCEBvvzSkkBhLBGYEsuvNFB2EshOAPblb7y0Zo0rCzFoEKxadbRInCmcJQJTIlbu2URaZqZbD5CYCN9/Dy++GPtF4kLN00QgIl1EZJWIrBGRYQGeryoi74nIYhFZJiL9vYzHhF7eX/1W6dOE29atMGoUdO7sykXfcostRiwqzxKBiJQFngW6As2B60SkeZ7TbgeWq+pZQAfg3yJiY/pRwn8VsH3hm3A6dMj98vcvEvfuu25w2BSdly2CtsAaVV2rqoeBqcCVec5RoIqICFAZ2A5keBiTCYHsMQH/1kC+JwWxr4AxRfHtt65I3MCBR4vEnXqq/ZMqCS8TQV1gg9/jdN8xf88AZwIbgR+Bu1Q1K+8bichAEUkVkdQtW7Z4Fa8JUt6ZQAFbA8FuDGz1I0yQ9u2De+6Bc8916wJmzYrfInGh5uU6gkD5Oe+E8cuANOBioAnwsYh8paq7c71I9QXgBYDk5GSbdB4heQeGg5r+b2sETIj06OFaAH/5C4wZAyeeGOmIYoeXLYJ0oL7f43q4X/7++gNvq7MG+AVo5mFMppgCrQk45gTr9jEhtnPn0WmgDz4IX3wBEyZYEgg1LxPBQqCpiDTyDQD3BmbmOedXoBOAiNQGzgDWehiTKaJA4wEBZwPlu3zYmOKZOTN3kbgLL3SF4kzoedY1pKoZInIH8BFQFnhZVZeJyG2+558HHgYmiciPuK6koaq61auYTHAKKgtR6Owg6woyJbR5MwweDG+84dYG9OoV6Yhin6e1hlR1NjA7z7Hn/e5vBGy4J4IKWxAGtijMhM+HH7oicXv3wsMPw9ChUL58pKOKfVZ0Lk7ZimBTGtWvDy1bunGA5nlXHRnPWImJOJVfMbigVwTb4LAJgawsVxl00CD3OCEBPv/ckkC4WYsgzhW7S98Gh00J/fSTKwfx1VeuPMTBg1CxYqSjik+WCOKQf2mIErPBYVNEGRmuSNyIEa4w3CuvwE03WcMykiwRxIECN4cxJsy2bYPHHnP//p59FurUiXRExsYIYpR/F36xp4IaEyKHDsF//nO0SNzixfD225YESgtLBDEq75d/3gFhSwImXL75Blq1gttug08/dcfq1y/4NSa8LBHEOPviN5Gydy/cfTecf74rGPfhh3DJJZGOygRiiSCG+HcHGRNpPXrAU0/B7bfD0qVw2WWRjsjkxxJBDAnUHRRy2dnGmAB27DhaJG7kSDc19OmnoUqViIZlCmGJIAZ52h1UYAlSE8/eftstBBs50j2+4AJ3M6VfUNNHRaQS0EBVV3kcj4kWtn7A+Pz+O9xxB7z1FiQlQe/ekY7IFFWhLQIRuRy3ecyHvsdJIpK3nLSJFYVtMWmMnw8+cK2A99+H0aPhu+/cDCETXYJpEYzE7T/8OYCqpolIQ+9CMsURstXCwWwxaV1CxufUU90X/7PPQjPbUipqBZMIMlR1l9ivwVKtwI3ki8O6fkwAWVmuMujixfDii641MHdupKMyJRXMYPFSEekDlBWRpiLyNPC1x3GZIvBvDdh6AeOVVavcDmF33gkbNrgicSY2BJMI7gQSgEPA68Au4C4vgzJFE/LWgDF+jhyBRx+Fs86C5cth0iQ3NmCVQmOHaCFdACJyjapOK+xYuCQnJ2tqamokPrrUyu61C0lvTkjfzMSCzZtd/3+nTm5NwJ/+FOmITHGIyCJVTQ70XDAtgvuDPGYiIKQlpY3xOXjQjQVkZcHJJ8OSJTBtmiWBWJXvYLGIdAW6AXVFZLzfUycCGV4HZoJj3UIm1ObNgwED3MYxp5/u6gPVqxfpqIyXCmoRbARSgYPAIr/bTMCqhpQCJRokzm+9gIlbe/a4hWEXXgiHD8OcOVYkLl7k2yJQ1cXAYhF5XVWPhDEmE6QStQYK27nexJ0ePeCzz+Cuu2DUKKhcOdIRmXAJZh1BQxF5FGgO5MwTUNXGnkVliqREU0ZtUDiubd/uZv8cfzw8/LBrFJ57bqSjMuEWzGDxK8BzuHGBjsCrwP+8DMoUzgaJTUlNnw5nnnm0SNx551kSiFfBJIJKqjoXN9V0vaqOBC72NixTGBskNsW1aRP07AnXXON2CuvbN9IRmUgLJhEcFJEywGoRuUNErgJO9jguE6RiDxKbuDRrlisL8cEHbgP5BQvcQjET34JJBHcDxwODgdbA9cBNHsZkvGT7CcS1xo2hTRtXK+i++6BcUIXoTawr8J+BiJQFrlXVe4G9QP+wRGUKFJLxARskjguZmfDMM25B2EsvuTGBOXMiHZUpbQpsEahqJtBarPRoqZGSUoTxgUBrBUzcWL7crQm4+263eYwViTP5CaZh+AMwQ0SmAfuyD6rq255FZfLlnwQKHR/Ib62AdQnFtMOH4fHH3XTQKlVg8mTo08d+B5j8BZMIqgPbyD1TSIFCE4GIdAGeAsoCE1V1TIBzOgDjgPLAVlVtH0RMcanYK4mtGyiu7NwJY8fCVVfB+PGuVpAxBSk0EahqscYFfOMLzwKdgXRgoYjMVNXlfudUAyYAXVT1VxGxf7IB+HcHgf2gN8c6cMCNAfz1r+6L/8cf4ZRTIh2ViRbBzBoqrrbAGlVdq6qHganAlXnO6QO8raq/AqjqZg/jiVp5k4BtPmP8ffmlmwJ6552uRARYEjBF42UiqAts8Huc7jvm73TgJBH5XEQWiciNgd5IRAaKSKqIpG7ZssWjcEs/VUsC5qjdu10LoH17yMiATz5xewYYU1ReziIONDSVt7O6HG5tQiegEvCNiCxQ1Z9yvUj1BeAFcBvTeBCrMVGnRw/4/HMYMsQNDJ9wQqQjMtGq0EQgIrWB0cApqtpVRJoD56rqS4W8NB2o7/e4Hq60dd5ztqrqPmCfiHwJnAX8RJzJOw5gTCBbt7oCcccfD4884mYCnXNOpKMy0S6YrqFJwEdAdq/jT7jVxoVZCDQVkUYiUgHojdvLwN8M4EIRKScixwPtgBVBvHdMCSYJ2ABxfFOFqVPdgrARI9yxc8+1JGBCI5hEUFNV3wSyAFQ1A8gs7EW+8+7AJZEVwJuqukxEbhOR23znrAA+BJYA3+GmmC4t1pVEqbwLxFQD32xsIH799pvrBrruOmjUCG4MOJJmTPEFM0awT0Rq4OvfF5FzgF3BvLmqzgZm5zn2fJ7HTwBPBBVtDCrSAjETd95/31UHPXIE/vUvt0q4bNlIR2ViTTCJ4G+4Lp0mIjIfqAX08jSqODRrFjZQYI5x2mlun4Cnn3b3jfFCMAvKFolIe+AM3EygVbZ1ZckF/M73IgnY4EJUycx0q4EXL4ZJk6BZM1cy2hgvFTpGICKLgfuAg6q61JJAyeVNAt/VyrNHQH4DBcW5WX9T1Fi2DM4/H+65x80OsiJxJlyCGSy+ArdN5ZsislBE/k9EGngcV8wKNDjcZovVj4hnhw/DQw9Bq1bw88/w+uvw3ntuL2FjwqHQRODbnvJxVW2NKwmRCPzieWQxKG8SOObHuv2Cj0s7d7ruoGuucaWjr7vOKoWa8AqqxISINBSR+3D1gprhuopMER2TBGzbyLi1fz889ZQbE8guEvfaa1CrVqQjM/EomJXF3+JKRE8DrlHVtZ5HFYMClpC2kqJx6bPP4JZbYO1aaNHC1QeqUyfSUZl4Fsz00ZtUdaXnkcSwQncVs/0C4sKuXW6f4BdegCZNXELo0CHSURlTQCIQketVdTLQTUSO+fpS1Sc9jSyGBOwSsvUCcadHD1cy+t57YeRIVy/ImNKgoBZBdi3DKgGes5+wxWBdQvFnyxZXFfT44+HRR92q4DZtIh2VMbnlmwhU9T++u5+o6nz/50TkfE+jigEBf/TnPWhdQjFLFaZMgcGDoX9/eOIJKxBnSq9gZg09HeQx4ydvEujWDWsJxIn0dLjiClcj6LTToF+/SEdkTMEKGiM4FzgPqCUi9/g9dSJuM3oTQIE/+iXQQRNLZs6E669300LHjnXbR1qROFPaFdQiqABUxiWLKn633VjRuXxlJ4H3SUERt04g+2Zi3umnwwUXuHUBVinURIuCxgi+AL4QkUmquj6MMUUt/7UCKeQzK8i6hGJKRgaMGwdLlsCrr7oicTYhzESbgrqGxqnq3cAzInJMX4aqXuFlYNEkb3eQGw/wPbBuoJi1ZAkMGACpqXDlla5InNUHMtGooOmj//P991/hCCSa5a0k2sZ+Esa0Q4dg9Gh3q14d3nwTevWy3j8TvQrqGlrk++8X2cdE5CSgvqouCUNsUUcVEJsZFOt274YJE1xxuLFjoUaNSEdkTMkEU2voc1wp6nJAGrBFRL5Q1XsKel28eZ+U3EnAuoRiyr59rjTE4MGuMNzSpVC7dqSjMiY0gllHUFVVdwM9gVd85agv8Tas6JNrcNhaAjFl7lxo2dJtGPOFr31sScDEkmASQTkRqQNcC7zvcTzRz/YUiBk7d7oqoZdcAuXKuSRw8cWRjsqY0AsmETwEfAT8rKoLRaQxsNrbsIyJvKuucvsGDx3q9hC+6KJIR2SMN4LZvH4abi+C7Mdrgau9DMqYSPnjD6hc2RWKGzPGtQRat450VMZ4K5jN6+uJyDsisllE/hCRt0SkXjiCMyZcVOF//4PmzWHECHesXTtLAiY+BNM19AowEzgFqAu85ztmTEz49Ve3KPDGG+GMM9wiMWPiSTCJoJaqvqKqGb7bJMB2VvXxLythos+MGZCQ4DaMGT8evvoKzjwz0lEZE17BJIKtInK9iJT13a4HtnkdWLSwRcTRKXuZR7NmbrvIpUutUqiJX8EkgptxU0d/9916+Y4ZE3UyMuCxx+CGG9zjM86A996Dhg0jGpYxERXMrKFfcSuLjYlqixfDzTfD99+7qaFWJM4YJ5hZQ41F5D0R2eKbOTTDt5bAmKhw8CD84x+QnAy//QbTp8Pbb1sSMCZbMF1DrwNvAnVwM4emAVO8DCoapKRYtclosWcP/Oc/buvI5cvhalsFY0wuwSQCUdX/+c0amgwEVVFNRLqIyCoRWSMiwwo4r42IZIpI1Ox8ZtsPl25798K//uW2jKxVyyWASZNc2WhjTG7BJILPRGSYiDQUkVNF5D5glohUF5F8/7cSkbLAs0BXoDlwnYg0z+e8x3BlLKKOdkth1mxrGpQmc+ZAixZw331uWii4ZGCMCazQwWLgz77/Dspz/GZcyyC/8YK2wBpfSQpEZCpwJbA8z3l3Am8BbYIJuNSxpkGpsX07/O1v7pf/GWe4NQHnnx/pqIwp/YKZNdSomO9dF9jg9zgdaOd/gojUBa4CLqaARCAiA4GBAA0aNChmOCHi25cywN6dkYjG+LnqKpg/Hx54AIYPt8FgY4IVTIuguAL1l+T9thwHDFXVTClg5FVVXwBeAEhOTo7sN26gFWTWEoiY33+HKlVckbgnnoAKFSApKdJRGRNdghkjKK50oL7f43rAxjznJANTRWQdbqHaBBHp4WFMISMoKd3U9h+IEFXXBdS8OTz4oDvWtq0lAWOKw8tEsBBoKiKNRKQC0BtXvC6HqjZS1Yaq2hCYDvxVVd/1MKbiCzBf1L7/I2PdOujSBfr3d3WCBg6MdETGRLdgFpSJr9bQg77HDUSkbWGvU9UM4A7cbKAVwJuqukxEbhOR20oaeNj5dQnNopv1BkXIO++4GUFffw3PPON2DTvjjEhHZUx0C2aMYAKQhRvQfQjYQ5CzfFR1NjA7z7Hn8zm3XxCxRJz4hjnUWgNhpeoaZAkJbuvIp56CU0+NdFTGxIZguobaqertwEEAVd0BVPA0qtIguyso+2Yi4sgRGD3arQoGOP10ePddSwLGhFIwieCIb9GXAohILVwLIbYFmB00C9cfZN1C4fH9924A+O9/dyuEDx2KdETGxKZgEsF44B3gZBF5BJgHjPY0qtJENefWHdcfZIPE3jpwAO6/3yWB33934wJvvAHHHRfpyIyJTcEsKHtNRBYBnXBrA3qo6grPIytlbCey8Nm3D156CW66ydULOumkSEdkTGwrNBGISANgP26v4pxjvn0K4kZ2T5F1C3ljzx547jlXIqJmTVckrmbNSEdlTHwIZtbQLNz4gAAVgUbAKiDBw7hKFf/WgHULhd6HH8KgQbBhg+sO6tDBkoAx4VToGIGqtlTVRN9/m+KKyc3zPrTSw1oD3ti2zXX/dO3qSkTMn++SgDEmvIpca0hVvxeR6KwUWgzWGvBOz55uYdjw4W5mkA0GGxMZwYwR3OP3sAxwNrDFs4hKGWsNhNamTa5IXOXKbiC4QgU466xIR2VMfAtm+mgVv9txuDGDK70MqrTp1s1aAyWlCi+/DGeeebRIXJs2lgSMKQ0KbBH4FpJVVtV7wxRP5Pn2G/BnSaBk1q51g8GffAIXXQS3RV+lKWNiWr6JQETKqWqGiJwdzoAiLk9xOVMyb78NN9wAZcu66aEDB0IZL2veGmOKrKAWwXe48YA0EZkJTAP2ZT+pqm97HFtkqdLdSgwVW3aRuJYtXcnoceOgfv1CX2aMiYBgfptVB7bhqo92By73/Te2BNhvwBTd4cMwahT06eOSQdOm8NZblgSMKc0KahGc7JsxtJSjC8qyxd4GvbYJfYmlpsKAAbBkCfTu7ZKCTQk1pvQrqEVQFqjsu1Xxu599i0kp3RSZPcsaB0Vw4ADcdx+0awdbt8KMGTBliiUBY6JFQS2CTar6UNgiiZQ8s4TyVp+2xkHh9u1z+wcPGACPPw7VqkU6ImNMURSUCOLjN3HeLiHfQ429zq+Q2r0bJkyAe+91dYFWrIAaNSIdlTGmOApKBJ3CFkVpkP3NHx/pr0RmzXJrATZuhHPOcfWBLAkYE73yHSNQ1e3hDMSUflu2uC0ju3eHqlVdnSArEmdM9Cty0TkTv66+GhYsgJEj3Q5iFWJ/52pj4oIlAlOg335zv/4rV4axY91MoBYtIh2VMSaUbLG/CUgVXnwRmjc/WiSudWtLAsbEIksE5hg//wydOrm6QK1bw+23RzoiY4yXLBH4sQ3qYfp0Vx9o0SJ44QWYOxeaNIl0VMYYL9kYgZ943oQmu0jcWWe5hDh2LNSrF+mojDHhYC2CAOJp/4HDh+Gf/3S1gbKLxE2bZknAmHhiicAnHruFvvvOjQGMHAnlyrmkYIyJP5YIfOKpW2j/fvi//4Nzz4UdO+C99+C116xInDHxyhJBHvHQLXTgAEye7GYFLV/uVgobY+KXp4lARLqIyCoRWSMiwwI831dElvhuX4tIRLcyj+XWwK5d8MgjkJHh6gKtWOG2jjzxxEhHZoyJNM8SgW/j+2eBrkBz4DoRaZ7ntF+A9qqaCDwMvOBVPMGI1dbAe+8dXRg2b547dtJJkY3JGFN6eNkiaAusUdW1qnoYmApc6X+Cqn6tqjt8DxcANlclhLZsgeuugyuucK2Ab7+1InHGmGN5mQjqAhv8Hqf7juVnAPBBoCdEZKCIpIpI6pYtW0IY4lGx2C109dVuv+CHHnLbSCYnRzoiY0xp5OWCskCV/QNu9yIiHXGJ4IJAz6vqC/i6jZKTkz3ZMiZWuoXS090OYZUrw7hxbiZQQkKkozLGlGZetgjSgfp+j+sBG/OeJCKJwETgSlXd5mE8uaWkEEsbE2dlwX/+48YChg93x84+25KAMaZwXiaChUBTEWkkIhWA3sBM/xNEpAHwNnCDqv7kYSzH8tuichbR3S+0ejVcfLHbNaxtW7jzzkhHZIyJJp51DalqhojcAXwElAVeVtVlInKb7/nngQeBGsAEcb/OM1Q1rD3Z4uutitYtiqdNgxtvdF1AL70E/fvHVEPHGBMGnhadU9XZ5GwHn3Pseb/7twC3eBlDrMouEteqFVx5JTz5JJxySqSjMsZEI1tZTHTNGDp0yK0HuPZalwxOOw2mTrUkYIwpPksERM+MoQUL3ADwww9DpUpWJM4YExqWCKLAvn0wZAicdx7s2ePGuV991YrEGWNCI+4TQTR0Cx086Lp//vpXWLYMunaNdETGmFgS9zuUldZuoZ074emn4f77jxaJq1Yt0lEZY2JR3LcISqN333ULw/75T/j6a3fMkoAxxitx3yIoTf74wy0GmzbN7R383ntuBzETG44cOUJ6ejoHDx6MdCgmhlWsWJF69epRvnz5oF8Tl4kgJQVKY49Qr15u+8hRo+C++6AIf48mCqSnp1OlShUaNmyI2Ko/4wFVZdu2baSnp9OoUaOgXxeXiWD27MLPCZdff3V7A1SpAuPHu5lAzfPu2mBiwsGDBy0JGE+JCDVq1KCoVZptjCBCsrLg2WddUbgHH3THWrWyJBDrLAkYrxXn35glgghYtQrat4c77nAbyN91V6QjMsbEM0sEYfbmm24geOlSeOUV+OgjaNgw0lGZeLBt2zaSkpJISkriT3/6E3Xr1s15fLiQZeqpqakMHjy40M8477zzQhVukYwePTrf51SViy++mN27d+cce+eddxARVq5cmXPs888/p3v37rle269fP6ZPnw64wf5hw4bRtGlTWrRoQdu2bfngg4B7aeU4dOgQf/7znznttNNo164d69atC3jelClTaNmyJYmJiXTp0oWtW7fmen769OmICKmpqQBs2bKFLl26FPjZRRF/iSAlBQ24Z4631FfetHVr6NnTrQvo188qhZrwqVGjBmlpaaSlpXHbbbcxZMiQnMcVKlQgIyMj39cmJyczfvz4Qj/j6+z5zmFWUCKYPXs2Z511FieeeGLOsSlTpnDBBRcwderUoD9j+PDhbNq0iaVLl7J06VLee+899uzZU+BrXnrpJU466STWrFnDkCFDGDp06DHnZGRkcNddd/HZZ5+xZMkSEhMTeeaZZ3Ke37NnD+PHj6ddu3Y5x2rVqkWdOnWYP39+0PEXJP4Sgf9IcRiWFR88CH//u5sRpApNmsDrr8Of/uT5R5tSTMSbW1H169ePe+65h44dOzJ06FC+++47zjvvPFq1asV5553HqlWrgNy/lkeOHMnNN99Mhw4daNy4ca4EUbly5ZzzO3ToQK9evWjWrBl9+/ZFfb+GZs+eTbNmzbjgggsYPHjwMb/CAZYtW0bbtm1JSkoiMTGR1atXAzB58uSc44MGDSIzM5Nhw4Zx4MABkpKS6Nu37zHv9dprr3HllUe3S9+7dy/z58/npZdeCjoR7N+/nxdffJGnn36a43y1XWrXrs21115b4OtmzJjBTTfdBECvXr2YO3duzp9DNlVFVdm3bx+qyu7duznFr4rk8OHDue+++6hYsWKu1/Xo0YPXXnstqPgLE3+JwEdQz5cVf/21GwAePdrNCrIicaY0+umnn/jkk0/497//TbNmzfjyyy/54YcfeOihh3jggQcCvmblypV89NFHfPfdd/zzn//kyJEjx5zzww8/MG7cOJYvX87atWuZP38+Bw8eZNCgQXzwwQfMmzcv39ktzz//PHfddRdpaWmkpqZSr149VqxYwRtvvMH8+fNJS0ujbNmyvPbaa4wZM4ZKlSqRlpYW8Itx/vz5tPZbkPPuu+/SpUsXTj/9dKpXr873339f6J/RmjVraNCgQa5Whb9bbrklp9vG32+//Ub9+m6jxnLlylG1alW2bcu9EWP58uV57rnnaNmyJaeccgrLly9nwIABOX+GGzZsCJgsk5OT+eqrrwqNPRhxmwi8tHcvDB4MF1wA+/fDhx/CpElWJM4cperNrTiuueYaypYtC8CuXbu45ppraNGiBUOGDGHZsmUBX5OSksJxxx1HzZo1Ofnkk/njjz+OOadt27bUq1ePMmXKkJSUxLp161i5ciWNGzfOmeN+3XXXBXz/c889l9GjR/PYY4+xfv16KlWqxNy5c1m0aBFt2rQhKSmJuXPnsnbt2kKvb/v27VSpUiXn8ZQpU+jduzcAvXv3ZsqUKUD+s22CmYUzceJEkpOP3VMr76//QO935MgRnnvuOX744Qc2btxIYmIijz76KFlZWQwZMoR///vfAT/z5JNPZuPGY3b/LZa4XEfgtcOHYfp0uP32o60BY0qrE044Ief+8OHD6dixI++88w7r1q2jQ4cOAV9znN+vmrJlywYcXwh0TqAvxkD69OlDu3btmDVrFpdddhkTJ05EVbnpppt49NFHg7wyp1y5cmRlZVGmTBm2bdvGp59+ytKlSxERMjMzEREef/xxatSowY4dO3K9dvv27dSsWZPTTjuNX3/9lT179uRKKoWpV68eGzZsoF69emRkZLBr1y6qV6+e65y0tDQAmjRpAsC1117LmDFj2LNnD0uXLs35O/j999+54oormDlzJsnJyRw8eJBKlSoV6c8iP9YiCJHt22HkSMjIgOrV3WDw009bEjDRZdeuXdStWxeASZMmhfz9mzVrxtq1a3Nmz7zxxhsBz1u7di2NGzdm8ODBXHHFFSxZsoROnToxffp0Nm/eDLgv6fXr1wOueyVQ9xTAGWeckdNymD59OjfeeCPr169n3bp1bNiwgUaNGjFv3jyaNm3Kxo0bWbFiBQDr169n8eLFJCUlcfzxxzNgwAAGDx6cM8Nq06ZNTJ48ucDrveKKK/jvf/+b89kXX3zxMS2CunXrsnz58pxuso8//pgzzzyTqlWrsnXrVtatW8e6des455xzcpIAuC69Fi1aFPj5wbJEEAJvveUWgo0adbRIXNWqkY3JmOK47777uP/++zn//PPJzMwM+ftXqlSJCRMm0KVLFy644AJq165N1QD/s7zxxhu0aNGCpKQkVq5cyY033kjz5s0ZNWoUl156KYmJiXTu3JlNmzYBMHDgQBITEwMOFqekpPD5558DrlvoqquuyvX81Vdfzeuvv85xxx3H5MmT6d+/P0lJSfTq1YuJEyfmxDdq1Chq1apF8+bNadGiBT169KBWrVpA/mMEAwYMYNu2bZx22mk8+eSTjBkzJue5pKQkAE455RRGjBjBRRddRGJiImlpafmOzfj77LPPSElJKfS8oGSPWEfLrXXr1loivu5UKNnbqKpu3Kjas6d7y1atVH/4oeTvaWLX8uXLIx1CqbBnzx5VVc3KytK//OUv+uSTT3r6eRs3btRLLrnE08+IhAsvvFC3b98e8LlA/9aAVM3ne9VaBCVw7bVu4tGYMa5YnC/BG2MK8OKLL5KUlERCQgK7du1i0KBBnn5enTp1uPXWW3MtKIt2W7Zs4Z577uGkk04KyfuJFneqQYQkJydroCZY0Hz9c4IWa5bF+vVuDKBKFUhLc3sHn3FG8cMx8WPFihWceeaZkQ7DxIFA/9ZEZJGqHju1CRsjCFpWlhv8TUiA4cPdsaQkSwLGmOhn00eDsHIl3HILzJ8PXbq4jeSNMSZWWIugEFOnuiJxK1bAq6+6ChWnnhrpqIwxJnQsEeQjK8v9t00buOYaWL4cbrjBisQZY2KPJYI8DhyAYcPg6quPFombPBlq1450ZMaUTEnKUIMrJBeK6qI7d+5kwoQJ+T5/4MAB2rdvn2sdw9ixY6lYsSK7du3KOTZp0iTuuOOOXK/t0KFDznz+vXv3MmjQIJo0aUJCQgIXXXQR3377bYGxbd++nc6dO9O0aVM6d+58zEpj/3gSEhJo0aIF1113Xc4+1MOHDycxMZGkpCQuvfTSnBIQP/74I/369SvwsyMpbhNBoMKjX33lBoAfewxq1IB8FioaE5UKK0NdmHAlgpdffpmePXvm1D8CtxCsTZs2vPPOO0F/zi233EL16tVZvXo1y5YtY9KkScfU+c9rzJgxdOrUidWrV9OpU6dcC8Cy/fbbb4wfP57U1FSWLl1KZmZmThXTe++9lyVLlpCWlkb37t156KGHAGjZsiXp6en8+uuvQccfTnGbCPwLj+7Z4+oCXXSR+/L/+GOYOBGC+H/DmOIpJXWoFy1aRPv27WndujWXXXZZzkrd8ePH07x5cxITE+nduzfr1q3j+eefZ+zYsSQlJR1T9fKLL77IaV20atUqp07/E088QZs2bUhMTGTEiBEADBs2jJ9//pmkpCTuvffeY2LKWzb6559/Zu/evYwaNSqnQFxhfv75Z7799ltGjRpFmTLua65x48aFrsT1Lxt900038e677wY8LyMjgwMHDpCRkcH+/ftzykb7Vyfdt29frnISl19+eZH2Pwir/FaaldZbqFYW+9u2TfWUU1Tvvlt1796Svb0x+cm12tOrAqRBGjFihD7++ON67rnn6ubNm1VVderUqdq/f39VVa1Tp44ePHhQVVV37NiR85onnngi4Pt1795d582bp6pu5fCRI0f0o48+0ltvvVWzsrI0MzNTU1JS9IsvvtBffvlFExISAr7PoUOHtHbt2rmOPfzww/rQQw9pZmamnnrqqfrHH3+oquorr7yit99+e65z27dvrwsXLtQZM2Zojx498r3+rl276m+//XbM8apVq+Z6XK1atYCvHzdunJ5wwglas2ZN7dOnT67nHnjgAa1Xr54mJCTk/Nmqqs6bN0+7d++eb0yhZCuL85OSkusX07ZtbtP47CJxK1fC2LHgV4jRGO94lQqK4NChQyxdupTOnTuTlJTEqFGjSE9PB8ip2zN58mTKlSt8lvn555/PPffcw/jx49m5cyflypVjzpw5zJkzh1atWnH22WezcuXKnA1m8rN161aqVauW69jUqVPp3bs3ZcqUoWfPnkybNg0oWdno2bNn59r8pSh27NjBjBkz+OWXX9i4cSP79u3LVXzukUceYcOGDfTt2zfXTmOhLBsdap4mAhHpIiKrRGSNiAwL8LyIyHjf80tE5GzPgvHtTKbAoyeOpnlzePRR+OYb97RVCTXxRlVJSEjIGSf48ccfmTNnDgCzZs3i9ttvZ9GiRbRu3brAbSzBdfdMnDiRAwcOcM4557By5UpUlfvvvz/n/desWZOz4Up+KlWqlDPwCrBkyRJWr15N586dadiwIVOnTs3pHiqobHRCQgKLFy8mK3v6X5Bq166d0z22adMmTj755GPO+eSTT2jUqBG1atWifPny9OzZM+DYSZ8+fXjrrbdyHoeybHSoeZYIRKQs8CzQFWgOXCcizfOc1hVo6rsNBJ7zKh6AjdShDMoDu++nfn1ITYULL/TyE40pvY477ji2bNnCN75fQ0eOHGHZsmVkZWWxYcMGOnbsyOOPP87OnTvZu3cvVapUyXeP3p9//pmWLVsydOhQkpOTWblyJZdddhkvv/wye/fuBdwg6+bNmwt8n5NOOonMzMycZDBlyhRGjhyZU4p548aN/Pbbb6xfv542bdowf/58fv/9dwBSU1M5dOgQ9evXp0mTJiQnJzNixAjU11JavXo1M2bMKPDPxL9s9H//+99cYxXZGjRowIIFC9i/fz+qyty5c3PKOfi3eGbOnEmzZs1yHoeybHSoedkiaAusUdW1qnoYmArk/VO9EnjV14W1AKgmInW8Cuha3qRMGXj8cViwwC0UMyZelSlThunTpzN06FDOOusskpKS+Prrr8nMzOT666+nZcuWtGrViiFDhlCtWjUuv/xy3nnnnYCDxePGjaNFixacddZZVKpUia5du3LppZfSp08fzj33XFq2bEmvXr3Ys2cPNWrU4Pzzz6dFixYBB4svvfRS5s2bB7huobxlo6+66iqmTp1K7dq1eeqpp+jWrRtJSUncfffdTJkyJWdweOLEifz++++cdtpptGzZkltvvTWnO6hbt24Bu2mGDRvGxx9/TNOmTfn4448ZNsx1ZGzcuJFuvqmG7dq1o1evXpx99tm0bNmSrKwsBg4cmPP6Fi1akJiYyJw5c3jqqady3jukZaNDLb/Bg5LegF7ARL/HNwDP5DnnfeACv8dzgeQA7zUQSAVSGzRoULzRE9A0EnXVquK93JiSsjLUwfn+++/1+uuvj3QYIXXw4EFt166dHjlyJCyfV9TBYi9rDQUasck7mhXMOajqC8AL4KqPFisaVawBYEzp16pVKzp27EhmZmautQTR7Ndff2XMmDFBDbxHgpdRpQP1/R7XA/K2xYI5xxgTZ26++eZIhxBSTZs2pWnTppEOI19ejhEsBJqKSCMRqQD0BmbmOWcmcKNv9tA5wC5V3eRhTMZElBZxiqcxRVWcf2OetQhUNUNE7gA+AsoCL6vqMhG5zff888BsoBuwBtgP9PcqHmMirWLFimzbto0aNWoENdfdmKJSVbZt20bFihWL9Lr426HMmAg5cuQI6enpuebJGxNqFStWpF69epQvXz7X8YJ2KCudIxfGxKDy5cvTqFGjSIdhzDHip8SEMcaYgCwRGGNMnLNEYIwxcS7qBotFZAuwvpgvrwkUvDNF7LFrjg92zfGhJNd8qqrWCvRE1CWCkhCR1PxGzWOVXXN8sGuOD15ds3UNGWNMnLNEYIwxcS7eEsELkQ4gAuya44Ndc3zw5JrjaozAGGPMseKtRWCMMSYPSwTGGBPnYjIRiEgXEVklImtEZFiA50VExvueXyIiZ0cizlAK4pr7+q51iYh8LSJRv09PYdfsd14bEckUkV7hjM8LwVyziHQQkTQRWSYiX4Q7xlAL4t92VRF5T0QW+645qqsYi8jLIrJZRJbm83zov7/y27osWm+4ktc/A42BCsBioHmec7oBH+B2SDsH+DbScYfhms8DTvLd7xoP1+x33qe4kue9Ih13GP6eqwHLgQa+xydHOu4wXPMDwGO++7WA7UCFSMdegmu+CDgbWJrP8yH//orFFkFbYI2qrlXVw8BU4Mo851wJvKrOAqCaiNQJd6AhVOg1q+rXqrrD93ABbje4aBbM3zPAncBbwOZwBueRYK65D/C2qv4KoKrRft3BXLMCVcRt8lAZlwgywhtm6Kjql7hryE/Iv79iMRHUBTb4PU73HSvqOdGkqNczAPeLIpoVes0iUhe4Cng+jHF5KZi/59OBk0TkcxFZJCI3hi06bwRzzc8AZ+K2uf0RuEtVs8ITXkSE/PsrFvcjCLT1U945ssGcE02Cvh4R6YhLBBd4GpH3grnmccBQVc2MkR3BgrnmckBroBNQCfhGRBao6k9eB+eRYK75MiANuBhoAnwsIl+p6m6PY4uUkH9/xWIiSAfq+z2uh/ulUNRzoklQ1yMiicBEoKuqbgtTbF4J5pqTgam+JFAT6CYiGar6blgiDL1g/21vVdV9wD4R+RI4C4jWRBDMNfcHxqjrQF8jIr8AzYDvwhNi2IX8+ysWu4YWAk1FpJGIVAB6AzPznDMTuNE3+n4OsEtVN4U70BAq9JpFpAHwNnBDFP869FfoNatqI1VtqKoNgenAX6M4CUBw/7ZnABeKSDkROR5oB6wIc5yhFMw1/4prASEitYEzgLVhjTK8Qv79FXMtAlXNEJE7gI9wMw5eVtVlInKb7/nncTNIugFrgP24XxRRK8hrfhCoAUzw/ULO0Ciu3BjkNceUYK5ZVVeIyIfAEiALmKiqAachRoMg/54fBiaJyI+4bpOhqhq15alFZArQAagpIunACKA8ePf9ZSUmjDEmzsVi15AxxpgisERgjDFxzhKBMcbEOUsExhgT5ywRGGNMnLNEYEotX8XQNL9bwwLO3RvG0PIlIqeIyHTf/SQR6eb33BUFVUn1IJaGItInXJ9nopdNHzWllojsVdXKoT43XESkH5Csqnd4+BnlVDVggTUR6QD8n6p29+rzTWywFoGJGiJSWUTmisj3IvKjiBxTbVRE6ojIl74WxFIRudB3/FIR+cb32mkickzS8BVqGyduv4alItLWd7y6iLzrq/2+wFeqAxFp79da+UFEqvh+hS/1rYJ9CPiz7/k/i0g/EXlGXP38dSJSxvc+x4vIBhEpLyJNRORDX8G4r0SkWYA4R4rICyIyB3jV95lf+a7texE5z3fqGNwq4zQRGSIiZUXkCRFZ6LuWQSH6qzHRLtK1t+1mt/xuQCaumFga8A5uJfyJvudq4lZWZrdq9/r++zfg7777ZYEqvnO/BE7wHR8KPBjg8z4HXvTdvwhfPXjgaWCE7/7FQJrv/nvA+b77lX3xNfR7XT/gGb/3z3mMKwXR0Xf/z7gVwABzgaa+++2ATwPEORJYBFTyPT4eqOi73xRI9d3vALzv97qBwD98948DUoFGkf57tlvkbzFXYsLElAOqmpT9QETKA6NF5CJc+YS6QG3gd7/XLARe9p37rqqmiUh7oDkw31deowLwTT6fOQVcTXgROVFEquEqtV7tO/6piNQQkarAfOBJEXkNtwdAugRf5fQNXAL4DFc/Z4KvlXIeMM3vfY7L5/UzVfWA73554BkRScIlz9Pzec2lQKIc3amtKi5x/BJs0CY2WSIw0aQvbgeq1qp6RETWARX9T/B9gV8EpAD/E5EngB3Ax6p6XRCfkXfQTMmn7K+qjhGRWbi6LwtE5BLgYJDXMhN4VESq48pGfwqcAOz0T34F2Od3fwjwB67KaJkCYhDgTlX9KMgYTZywMQITTaoCm31JoCNwat4TRORU3zkvAi/htvxbAJwvIqf5zjleRPL71fxn3zkX4Ko67sJ1K/X1He+AK/O8W0SaqOqPqvoYrpslb3/+HlzX1DFUdS+uTPJTuO6bTHX1838RkWt8nyUS3N7SVYFN6jZjuQHXJRbo8z8C/uJrLSEip4vICUG8v4lx1iIw0eQ14D0RScWNG6wMcE4H4F4ROQLsBW5U1S2+GTxTRCS7q+UfBK7Rv0NEvgZOBG72HRsJvCIiS3DVHm/yHb/bl5AycfsEfwD4bxn4GTBMRNKARwN81hvANF/M2foCz4nIP3BdPlNx+/QWZALwli+BfMbR1sISIENEFgOTcEmnIfC9uL6nLUCPQt7bxAGbPmqMj4h8jptumRrpWIwJJ+saMsaYOGctAmOMiXPWIjDGmDhnicAYY+KcJQJjjIlzlgiMMSbOWSIwxpg49//7V9fcW0vMYAAAAABJRU5ErkJggg==\n",
      "text/plain": [
       "<Figure size 432x288 with 1 Axes>"
      ]
     },
     "metadata": {
      "needs_background": "light"
     },
     "output_type": "display_data"
    }
   ],
   "source": [
    "#Best model\n",
    "Model1 = Sequential()\n",
    "Model1.add(Dense(units=2, input_shape=X_train.shape[1:]))\n",
    "Model1.add(Activation(\"sigmoid\"))\n",
    "Model1.add(Dense(units=1, activation=\"sigmoid\"))             #One output (0 or 1)\n",
    "\n",
    "#Training\n",
    "Model1.compile(optimizer=keras.optimizers.SGD(lr=0.5),loss=\"binary_crossentropy\",metrics=[\"accuracy\", keras.metrics.Precision(), keras.metrics.Recall()])\n",
    "Run = Model1.fit(X_train, y_train, validation_data=(X_test,y_test), epochs=Epochs, verbose=0, callbacks=[callback])\n",
    "\n",
    "#Results\n",
    "print(\"\\nLast iteration: \", len(Run.history[\"loss\"]))\n",
    "print(\"Training accuracy: \", Run.history[\"accuracy\"][-1])\n",
    "print(\"Test accuracy: \", Run.history[\"val_accuracy\"][-1])\n",
    "print(\"\\nTest precision: \", Run.history[list(Run.history)[6]][-1])\n",
    "print(\"Test recall: \", Run.history[list(Run.history)[7]][-1])\n",
    "print(\"Test f1-score: \", 2*((Run.history[list(Run.history)[6]][-1])*(Run.history[list(Run.history)[7]][-1]))/((Run.history[list(Run.history)[6]][-1])+(Run.history[list(Run.history)[7]][-1])))\n",
    "\n",
    "#Confusion matrix (the function \"predict_classes\" does not exist anymore)\n",
    "Pred = Model1.predict(X_test)\n",
    "Newpred = Pred.copy()\n",
    "Newpred = np.where(Newpred>=0.5,1,0)    \n",
    "Conf_matrix = pd.DataFrame(confusion_matrix(y_test, Newpred))\n",
    "Conf_matrix.index=[\"Actual 0\", \"Actual 1\"]\n",
    "Conf_matrix.columns=[\"Predicted 0\", \"Predicted 1\"]\n",
    "print(\"\\n\",Conf_matrix)\n",
    "\n",
    "#ROC curves\n",
    "fpr1, tpr1, thresholds1 = roc_curve(y_train,Model1.predict(X_train))\n",
    "fpr2, tpr2, thresholds2 = roc_curve(y_test,Model1.predict(X_test))\n",
    "plt.plot(fpr1, tpr1,'blue',lw=2)\n",
    "plt.plot(fpr2, tpr2,'red',lw=2)\n",
    "plt.plot([0,1],[0,1],'--b')\n",
    "plt.xlabel(\"False positive rate\")\n",
    "plt.ylabel(\"True positive rate\")\n",
    "plt.legend([\"Training set (AUC: {:.2f})\".format(roc_auc_score(y_train,Model1.predict(X_train))),\"Test set (AUC: {:.2f})\".format(roc_auc_score(y_test,Model1.predict(X_test)))], loc=\"lower right\")"
   ]
  }
 ],
 "metadata": {
  "kernelspec": {
   "display_name": "Python 3 (ipykernel)",
   "language": "python",
   "name": "python3"
  },
  "language_info": {
   "codemirror_mode": {
    "name": "ipython",
    "version": 3
   },
   "file_extension": ".py",
   "mimetype": "text/x-python",
   "name": "python",
   "nbconvert_exporter": "python",
   "pygments_lexer": "ipython3",
   "version": "3.7.3"
  }
 },
 "nbformat": 4,
 "nbformat_minor": 5
}
